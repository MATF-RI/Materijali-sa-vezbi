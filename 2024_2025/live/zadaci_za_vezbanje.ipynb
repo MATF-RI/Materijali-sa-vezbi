{
 "cells": [
  {
   "cell_type": "markdown",
   "metadata": {},
   "source": [
    "1. Rešiti problem trgovačkog putnika korišćenjem simuliranog kaljenja.\n",
    "2. Rešiti problem trgovačkog putnika korišćenjem metode promenljivih okolina.\n",
    "3. Rešiti problem trgovačkog putnika korišćenjem genetskog algoritma.\n",
    "4. Rešiti problem trgovačkog putnika korišćenjem celobrojnog linearnog programiranja (CPLEX).\n",
    "5. Rešiti problem trgovačkog putnika korišćenjem optimizacije kolonijom mrava.\n",
    "6. Rešiti problem bojenja grafa korišćenjem simuliranog kaljenja.\n",
    "7. Rešiti problem bojenja grafa korišćenjem metode promenljivih okolina.\n",
    "8. Rešiti problem bojenja grafa korišćenjem genetskog algoritma.\n",
    "9. Rešiti problem bojenja grafa korišćenjem celobrojnog linearnog programiranja (CPLEX).\n",
    "10. Rešiti problem ranca korišćenjem simuliranog kaljenja.\n",
    "11. Rešiti problem ranca korišćenjem metode promenljivih okolina.\n",
    "12. Rešiti problem ranca korišćenjem genetskog algoritma.\n",
    "13. Rešiti problem ranca korišćenjem celobrojnog linearnog programiranja (CPLEX).\n",
    "14. Potpuno povezana neuronska mreža za klasifikaciju na skupu podataka CIFAR10.\n",
    "15. Konvolutivna neuronska mreža za klasifikaciju na skupu podataka CIFAR10.\n",
    "16. Potpuno povezana neuronska mreža za regresiju na skupu podataka California housing.\n",
    "17. Potpuno povezani autoenkoder na skupu fashion mnist.\n",
    "18. Konvolutivni autoenkoder na skupu fashion mnist.\n",
    "19. Fazi logika - drugi zadatak iz [materijala](../../2020_2021/materials/02_fuzzy_logic.html).\n",
    "20. Linearna regresija na skupu podataka California housing.\n",
    "21. PSO za minimizaciju [Rozenbrokove funkcije](https://en.wikipedia.org/wiki/Rosenbrock_function).\n",
    "22. ACO za [minimum traveling repairman](https://www.csc.kth.se/~viggo/wwwcompendium/node117.html#5486).\n",
    "23. (_teže od ispitnog zadatka_) Korišćenjem genetskog programiranja pronaći logički izraz (korišćenjem operatora $\\land, \\lor, \\lnot$) koji zadovoljava datu istinitosnu tablicu.\n",
    "\n",
    "| X₁ | X₂ | X₁ ⊕ X₂ |\n",
    "|----|----|---------|\n",
    "|  0 |  0 |    0    |\n",
    "|  0 |  1 |    1    |\n",
    "|  1 |  0 |    1    |\n",
    "|  1 |  1 |    0    |\n"
   ]
  },
  {
   "cell_type": "markdown",
   "metadata": {},
   "source": []
  }
 ],
 "metadata": {
  "kernelspec": {
   "display_name": "venv",
   "language": "python",
   "name": "python3"
  },
  "language_info": {
   "codemirror_mode": {
    "name": "ipython",
    "version": 3
   },
   "file_extension": ".py",
   "mimetype": "text/x-python",
   "name": "python",
   "nbconvert_exporter": "python",
   "pygments_lexer": "ipython3",
   "version": "3.10.0"
  }
 },
 "nbformat": 4,
 "nbformat_minor": 2
}
