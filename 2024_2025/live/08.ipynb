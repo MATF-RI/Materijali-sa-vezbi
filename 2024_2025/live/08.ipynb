{
 "cells": [
  {
   "cell_type": "markdown",
   "metadata": {},
   "source": [
    "# Optimizacija rojem čestica (Particle Swarm Optimization, PSO)\n",
    "\n",
    "Optimizacije rojem čestica je primer algoritma iz oblasti inteligencija grupa (swarm intelligence).\n",
    "Ovi algoritmi su obično inspirisani prirodom i počivaju na sledećoj ideji.\n",
    "Svaka pojedinačna jedinka je jednostavna, ali čitava grupa kolektivno se ponaša na neki način \"inteligentno\".\n",
    "\n",
    "Kod PSO algoritma jedinke traže minimum funkcije kretanjem kroz prostor $R^n$.\n",
    "Pritom svaka jedinka zna najbolje rešenje do koga je stigla, kao i najbolje rešenje do kog je čitav roj stigao.\n",
    "Brzina, tj. vektor pomeraja čestice se u svakoj iteraciji računa sabiranjem tri komponente:\n",
    "- inercija, odnosno prethodna brzina,\n",
    "- kognitivna brzina - vektor od trenutne pozicije čestice do pozicije najboljeg rešenja do kog je ona stigla,\n",
    "- socijalna brzina - vektor od trenutne pozicije čestice do pozicije najboljeg rešenja do kog je čitav roj stigao.\n",
    "\n",
    "Parametrima $c_{inertia}$, $c_{social}$ i $c_{cognitive}$ množimo inerciju, socijalnu, odnosno kognitivnu brzinu i na taj način kontrolišemo šta nam je od ta tri bitnije.\n",
    "U toku rada algoritma bismo mogli i da menjamo vrednosti ovih parametra. Da li biste smanjivali ili povećavali vrednost $c_{social}$? A $c_{cognitive}$?\n",
    "Šta bi se desilo ako bi vrednost $c_{social}$ bila nula?\n",
    "A šta ako bi $c_{cognitive}$ bio nula?"
   ]
  },
  {
   "cell_type": "code",
   "execution_count": 2,
   "metadata": {},
   "outputs": [],
   "source": [
    "import numpy as np"
   ]
  },
  {
   "cell_type": "markdown",
   "metadata": {},
   "source": [
    "[Rastriginova funkcija](https://en.wikipedia.org/wiki/Rastrigin_function) je primer neprekidne funkcije kod koje je teško pronaći globalni minimum usled postojanja velikog broja lokalnih minimuma.\n",
    "\n",
    "Globalni minimum se nalazi u nuli i vrednost funkcije u toj tački je nula."
   ]
  },
  {
   "cell_type": "code",
   "execution_count": 3,
   "metadata": {},
   "outputs": [],
   "source": [
    "def rastrigin(x: np.ndarray) -> float:\n",
    "    A = 10\n",
    "    n = len(x)\n",
    "    return A*n + sum(x[i]**2 - A*np.cos(2*np.pi*x[i]) for i in range(n))"
   ]
  },
  {
   "cell_type": "code",
   "execution_count": 8,
   "metadata": {},
   "outputs": [],
   "source": [
    "num_dimensions = 2\n",
    "bounds = np.array([(-5.12, 5.12) for _ in range(num_dimensions)])"
   ]
  },
  {
   "cell_type": "code",
   "execution_count": 27,
   "metadata": {},
   "outputs": [],
   "source": [
    "class Particle:\n",
    "    swarm_best_position = None\n",
    "    swarm_best_value = float('inf')\n",
    "\n",
    "    def __init__(self, bounds: np.ndarray, f: callable, c_inertia: float, c_social: float, c_cognitive: float):\n",
    "        self.c_inertia = c_inertia\n",
    "        self.c_social = c_social\n",
    "        self.c_cognitive = c_cognitive\n",
    "        self.f = f\n",
    "\n",
    "        self.lower_bounds = bounds[:,0]\n",
    "        self.upper_bounds = bounds[:,1]\n",
    "\n",
    "        self.position = self.initialize_position()\n",
    "        self.velocity = self.initialize_velocity(len(bounds))\n",
    "\n",
    "        self.value = f(self.position)\n",
    "\n",
    "        self.personal_best_position = self.position.copy()\n",
    "        self.personal_best_value = self.value\n",
    "\n",
    "        if Particle.swarm_best_position is None or Particle.swarm_best_value > self.value:\n",
    "            Particle.swarm_best_value = self.value\n",
    "            Particle.swarm_best_position = self.position.copy()\n",
    "\n",
    "    def initialize_position(self) -> np.ndarray:\n",
    "        return np.random.uniform(self.lower_bounds, self.upper_bounds)\n",
    "    \n",
    "    def initialize_velocity(self, num_dimensions: int):\n",
    "        return np.random.uniform(-1, 1, size=num_dimensions)\n",
    "    \n",
    "    def update_velocity(self):\n",
    "        r_s = np.random.random(len(self.position))\n",
    "        r_c = np.random.random(len(self.position))\n",
    "        assert self.swarm_best_position is not None\n",
    "        social_velocity = self.c_social * r_s * (self.swarm_best_position - self.position)\n",
    "        cognitive_velocity = self.c_cognitive * r_c * (self.personal_best_position - self.position)\n",
    "        self.velocity = self.c_inertia * self.velocity + social_velocity + cognitive_velocity\n",
    "\n",
    "    def move(self):\n",
    "        self.update_velocity()\n",
    "        self.position = np.clip(self.position + self.velocity, self.lower_bounds, self.upper_bounds)\n",
    "        self.value = self.f(self.position)\n",
    "        if self.value < self.personal_best_value:\n",
    "            self.personal_best_position = self.position.copy()\n",
    "            self.personal_best_value = self.value\n",
    "            if self.value < Particle.swarm_best_value:\n",
    "                Particle.swarm_best_position = self.position.copy()\n",
    "                Particle.swarm_best_value = self.value"
   ]
  },
  {
   "cell_type": "code",
   "execution_count": 28,
   "metadata": {},
   "outputs": [],
   "source": [
    "def pso(num_iters: int, swarm_size: int, bounds: np.ndarray, f: callable, c_inertia: float, c_social: float, c_cognitive: float):\n",
    "    swarm = [Particle(bounds, f, c_inertia, c_social, c_cognitive) for _ in range(swarm_size)]\n",
    "    for _ in range(num_iters):\n",
    "        for p in swarm:\n",
    "            p.move()\n",
    "    return Particle.swarm_best_position, Particle.swarm_best_value"
   ]
  },
  {
   "cell_type": "code",
   "execution_count": 29,
   "metadata": {},
   "outputs": [
    {
     "data": {
      "text/plain": [
       "(array([-3.40731713e-09, -4.69669696e-10]), np.float64(0.0))"
      ]
     },
     "execution_count": 29,
     "metadata": {},
     "output_type": "execute_result"
    }
   ],
   "source": [
    "pso(swarm_size=20, num_iters=100, bounds=bounds, f=rastrigin, c_inertia=0.5, c_social=1, c_cognitive=1)"
   ]
  }
 ],
 "metadata": {
  "kernelspec": {
   "display_name": "test",
   "language": "python",
   "name": "python3"
  },
  "language_info": {
   "codemirror_mode": {
    "name": "ipython",
    "version": 3
   },
   "file_extension": ".py",
   "mimetype": "text/x-python",
   "name": "python",
   "nbconvert_exporter": "python",
   "pygments_lexer": "ipython3",
   "version": "3.11.11"
  }
 },
 "nbformat": 4,
 "nbformat_minor": 2
}
