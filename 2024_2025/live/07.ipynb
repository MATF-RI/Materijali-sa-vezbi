{
 "cells": [
  {
   "cell_type": "markdown",
   "metadata": {},
   "source": [
    "# Genetsko programiranje"
   ]
  },
  {
   "cell_type": "markdown",
   "metadata": {},
   "source": [
    "Genetsko programiranje je nastalo sa ciljem evoluiranja programa.\n",
    "Jedinka je u ovom slučaju program, a najprirodnija reprezentacija je apstraktno sintaksno stablo.\n",
    "Potrebno je osmisliti adekvatne operatore ukrštanja i mutacije, a ostalo je otprilike isto kao i kod običnog genetskog algoritma.\n",
    "Jedan od načina kako se mogu realizovati ukrštanje i mutacija nad stablima:\n",
    "- ukrštanje - zamena dva podstabla iz dva roditelja,\n",
    "- mutacija - zamena slučajno odabrang podstabla novogenerisanim podstablom.\n",
    "\n",
    "Ne očekujemo preveliki uspeh genetskog programiranja uopšteno u programiranju, ali postoje domeni u kojima može da bude uspešno (uspešnije od ljudi).\n",
    "Oblast primene ne moraju da budu programi, već bilo šta što možemo da predstavimo u obliku stabla.\n",
    "\n",
    "U primeru ispod rešavamo problem donekle sličan igri Moj broj iz Slagalice.\n",
    "Dat nam je ciljni broj i treba da dođemo do njega uz korišćenje osnovnih aritmetičkih operacija i brojeva iz opsega od -10 do 10.\n",
    "Dodatno ograničenje je da naše rešenje treba da bude izraz oblika $(a \\star b) \\circ (c \\diamond d)$, gde su $a, b, c, d \\in [-10, 10]$, a $\\star, \\circ, \\diamond \\in \\{+,-,*,/\\}$.\n",
    "\n",
    "Za vežbu implementirati genetsko programiranje za igru Moj broj bez ovih dodatnih ograničenja."
   ]
  },
  {
   "cell_type": "markdown",
   "metadata": {},
   "source": [
    "Zbog ograničenja izraza na ovakve $(a \\star b) \\circ (c \\diamond d)$, znamo da je naše stablo potpuno i lako možemo da iskoristimo listu da sačuvamo elemente stabla.\n",
    "Koren je na poziciji $0$, a potomoci čvora na indeksu $i$ su na indeksima $2*i+1$ i $2*i+2$.\n",
    "\n",
    "Iskoristićemo ugrađenu funkciju $eval$ koja za datu stringovsku reprezentaciju izraza izračunava njegovu vrednost."
   ]
  },
  {
   "cell_type": "code",
   "execution_count": 1,
   "metadata": {},
   "outputs": [
    {
     "data": {
      "text/plain": [
       "10"
      ]
     },
     "execution_count": 1,
     "metadata": {},
     "output_type": "execute_result"
    }
   ],
   "source": [
    "eval(\"3+7\")"
   ]
  },
  {
   "cell_type": "code",
   "execution_count": 80,
   "metadata": {},
   "outputs": [],
   "source": [
    "import random\n",
    "\n",
    "\n",
    "class Individual:\n",
    "    \"\"\"\n",
    "    Individual of genetic programming\n",
    "    code - represents one solution\n",
    "    fitness - quality of the solution\n",
    "    \"\"\"\n",
    "    def __init__(self, goal: int):\n",
    "        self.code = [self.random_operation() for _ in range(3)]\n",
    "        self.code += [self.random_operand() for _ in range(4)]\n",
    "        self.goal = goal\n",
    "        self.calc_fitness()\n",
    "\n",
    "    def random_operation(self):\n",
    "        # deljenje smo izbacili da ne bismo morali da brinemo o deljivosti brojeva i deljenju nulom, ali nije suštinski teško dodati ga\n",
    "        return random.choice(['+', '-', '*']) #, '//'])\n",
    "    \n",
    "    def random_operand(self):\n",
    "        return random.randint(-10, 10)\n",
    "\n",
    "    def eval_tree(self, idx: int):\n",
    "        if isinstance(self.code[idx], int):\n",
    "            return self.code[idx]\n",
    "        try:\n",
    "            return eval(f'( {self.eval_tree(2 * idx + 1)} ) {self.code[idx]} ( {self.eval_tree(2 * idx + 2)} )')\n",
    "        except:\n",
    "            return float('inf')\n",
    "\n",
    "    def calc_fitness(self):\n",
    "        # fitnes je apsolutna vrednost razlike između vrednosti izraza i ciljne vrednosti\n",
    "        value = self.eval_tree(idx=0)\n",
    "        self.fitness = abs(value - self.goal)\n",
    "\n",
    "    def __lt__(self, other: \"Individual\"):\n",
    "        # overload-ujemo operator < da bismo mogli da koristimo funkcije kao sto je sort bez parametra key\n",
    "        return self.fitness < other.fitness"
   ]
  },
  {
   "cell_type": "code",
   "execution_count": 81,
   "metadata": {},
   "outputs": [
    {
     "data": {
      "text/plain": [
       "['+', '-', '-', 6, -4, 3, 4]"
      ]
     },
     "execution_count": 81,
     "metadata": {},
     "output_type": "execute_result"
    }
   ],
   "source": [
    "i = Individual(goal=123)\n",
    "i.code"
   ]
  },
  {
   "cell_type": "code",
   "execution_count": 82,
   "metadata": {},
   "outputs": [
    {
     "data": {
      "text/plain": [
       "114"
      ]
     },
     "execution_count": 82,
     "metadata": {},
     "output_type": "execute_result"
    }
   ],
   "source": [
    "i.fitness"
   ]
  },
  {
   "cell_type": "code",
   "execution_count": 83,
   "metadata": {},
   "outputs": [
    {
     "data": {
      "text/plain": [
       "False"
      ]
     },
     "execution_count": 83,
     "metadata": {},
     "output_type": "execute_result"
    }
   ],
   "source": [
    "i < i"
   ]
  },
  {
   "cell_type": "code",
   "execution_count": 84,
   "metadata": {},
   "outputs": [],
   "source": [
    "def selection(population, k):\n",
    "    return max(random.sample(population, k))"
   ]
  },
  {
   "cell_type": "code",
   "execution_count": 85,
   "metadata": {},
   "outputs": [],
   "source": [
    "def swap_subtrees(child1: Individual, child2: Individual, idx: int):\n",
    "    child1.code[idx], child2.code[idx] = child2.code[idx], child1.code[idx]\n",
    "    if isinstance(child1.code[idx], int):\n",
    "        return\n",
    "    swap_subtrees(child1, child2, idx=2 * idx + 1)\n",
    "    swap_subtrees(child1, child2, idx=2 * idx + 2)"
   ]
  },
  {
   "cell_type": "code",
   "execution_count": 86,
   "metadata": {},
   "outputs": [],
   "source": [
    "from copy import deepcopy\n",
    "\n",
    "\n",
    "def crossover(parent1: Individual, parent2: Individual, child1: Individual, child2: Individual):\n",
    "    \"\"\"\n",
    "    Crossover two parents to produce two children - swap random subtrees.\n",
    "    \"\"\"\n",
    "    idx = random.randrange(1, len(parent1.code))\n",
    "    \n",
    "    # normalno zameniti dva podstabla ciji je koren na indeksu idx\n",
    "    child1.code = deepcopy(parent1.code)\n",
    "    child2.code = deepcopy(parent2.code)\n",
    "    swap_subtrees(child1, child2, idx)"
   ]
  },
  {
   "cell_type": "code",
   "execution_count": 87,
   "metadata": {},
   "outputs": [],
   "source": [
    "def mutation(child: Individual, p: float):\n",
    "    \"\"\"\n",
    "    Every node has a p probability of being mutated.\n",
    "    Operand is replaced with another random operand.\n",
    "    Operation is replaced with another random operation.\n",
    "    The tree structure is not changed.\n",
    "    \"\"\"\n",
    "    for i in range(len(child.code)):\n",
    "        if random.random() < p:\n",
    "            if isinstance(child.code[i], int):\n",
    "                child.code[i] = child.random_operand()\n",
    "            else:\n",
    "                child.code[i] = child.random_operation()"
   ]
  },
  {
   "cell_type": "markdown",
   "metadata": {},
   "source": [
    "Glavni deo koda je praktično isti kao i na prethodnom času."
   ]
  },
  {
   "cell_type": "code",
   "execution_count": 90,
   "metadata": {},
   "outputs": [],
   "source": [
    "from copy import deepcopy\n",
    "from matplotlib import pyplot as plt\n",
    "import numpy as np\n",
    "\n",
    "\n",
    "def ga(goal, population_size, num_generations, tournament_size, mutation_prob, elitism_size):\n",
    "    \"\"\"\n",
    "    Genetic Algorithm for ...\n",
    "    \n",
    "    population_size - number of individuals in a generation\n",
    "    num_generations - number of iterations of algorithm\n",
    "    elitism_size - number of best individuals that will be copied to next generation\n",
    "                 - to avoid losing them due to unlucky crossovers and mutations\n",
    "    \"\"\"\n",
    "    assert population_size >= 2\n",
    "    population = [Individual(goal) for _ in range(population_size)]\n",
    "    new_population = [Individual(goal) for _ in range(population_size)]\n",
    "\n",
    "    # parity of elitism_size and population_size must be the same\n",
    "    # since we are going two by two in the inner loop\n",
    "    if elitism_size % 2 != population_size % 2:\n",
    "        elitism_size += 1\n",
    "\n",
    "    best_fitnesses = []\n",
    "    for it in range(num_generations):\n",
    "        population.sort()\n",
    "        best_fitnesses.append(population[0].fitness)\n",
    "        # print(population[0].fitness)\n",
    "        new_population[:elitism_size] = population[:elitism_size]\n",
    "        for i in range(elitism_size, population_size, 2):\n",
    "            # we should fill new_pop[i] and new_pop[i+1]\n",
    "            parent1 = selection(population, tournament_size)\n",
    "            # HACK: to avoid choosing parent1 again, we temporarily set its fitness to inf\n",
    "            # what if tournament_size is 1?\n",
    "            tmp, parent1.fitness = parent1.fitness, float('-inf')\n",
    "            parent2 = selection(population, tournament_size)\n",
    "            # revert change\n",
    "            parent1.fitness = tmp\n",
    "\n",
    "            # option 2 - probabilistic\n",
    "            # TODO: calculate the probability based on tournament_size\n",
    "            # what if tournament_size == population_size?\n",
    "            # parent2 = parent1\n",
    "            # while parent1 == parent2:\n",
    "            #     parent2 = selection(population, tournament_size)\n",
    "            \n",
    "            crossover(parent1, parent2, new_population[i], new_population[i+1])\n",
    "\n",
    "            mutation(new_population[i], mutation_prob)\n",
    "            mutation(new_population[i+1], mutation_prob)\n",
    "\n",
    "            new_population[i].calc_fitness()\n",
    "            new_population[i+1].calc_fitness()\n",
    "        \n",
    "        population = deepcopy(new_population)\n",
    "\n",
    "    best_individual = min(population)\n",
    "    # print(f'best fitness: {best_individual.fitness}, best code: {best_individual.code}')\n",
    "    # print(np.unique(best_fitnesses))\n",
    "    plt.plot(best_fitnesses)\n",
    "    return best_individual"
   ]
  },
  {
   "cell_type": "markdown",
   "metadata": {},
   "source": [
    "Brojimo koliko puta nismo uspeli da dođemo do tačnog rešenja u 100 pokretanja algoritma."
   ]
  },
  {
   "cell_type": "code",
   "execution_count": 91,
   "metadata": {},
   "outputs": [
    {
     "data": {
      "image/png": "[encoded data removed]",
      "text/plain": [
       "<Figure size 640x480 with 1 Axes>"
      ]
     },
     "metadata": {},
     "output_type": "display_data"
    }
   ],
   "source": [
    "num_not_correct = 0\n",
    "for i in range(100):\n",
    "    x = ga(goal=84, population_size=100, num_generations=100, tournament_size=10, mutation_prob=0.3, elitism_size=5)\n",
    "    if x.fitness != 0:\n",
    "        num_not_correct += 1"
   ]
  },
  {
   "cell_type": "code",
   "execution_count": 92,
   "metadata": {},
   "outputs": [
    {
     "data": {
      "text/plain": [
       "0"
      ]
     },
     "execution_count": 92,
     "metadata": {},
     "output_type": "execute_result"
    }
   ],
   "source": [
    "num_not_correct"
   ]
  },
  {
   "cell_type": "code",
   "execution_count": null,
   "metadata": {},
   "outputs": [],
   "source": []
  }
 ],
 "metadata": {
  "kernelspec": {
   "display_name": "test",
   "language": "python",
   "name": "python3"
  },
  "language_info": {
   "codemirror_mode": {
    "name": "ipython",
    "version": 3
   },
   "file_extension": ".py",
   "mimetype": "text/x-python",
   "name": "python",
   "nbconvert_exporter": "python",
   "pygments_lexer": "ipython3",
   "version": "3.11.11"
  }
 },
 "nbformat": 4,
 "nbformat_minor": 2
}
