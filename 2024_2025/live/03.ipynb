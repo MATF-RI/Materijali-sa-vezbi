{
 "cells": [
  {
   "cell_type": "code",
   "execution_count": 36,
   "metadata": {},
   "outputs": [],
   "source": [
    "import random"
   ]
  },
  {
   "cell_type": "code",
   "execution_count": 37,
   "metadata": {},
   "outputs": [],
   "source": [
    "from typing import List, Tuple\n",
    "\n",
    "\n",
    "def read_line_of_ints(line: str) -> List[int]:\n",
    "    return [int(x) for x in line.split()]\n",
    "\n",
    "def read_data(file_path: str) -> Tuple[List[List[int]], List[int]]:\n",
    "    \"\"\"\n",
    "    Read data from file in the following format:\n",
    "    num_users, num_resources\n",
    "    num_users x num_resources cost matrix of assigning user i to resource j\n",
    "    num_resources cost array of building resource j\n",
    "    \"\"\"\n",
    "    with open(file_path, 'r') as f:\n",
    "        user_resource_cost = []\n",
    "        for i, line in enumerate(f):\n",
    "            if i == 0:\n",
    "                num_users, num_resources = read_line_of_ints(line)\n",
    "            elif i <= num_users:\n",
    "                user_resource_cost.append(read_line_of_ints(line))\n",
    "            else:\n",
    "                resource_cost = read_line_of_ints(line)\n",
    "        \n",
    "        return user_resource_cost, resource_cost\n"
   ]
  },
  {
   "cell_type": "code",
   "execution_count": 38,
   "metadata": {},
   "outputs": [],
   "source": [
    "user_resource_cost, resource_cost = read_data('../uflp1.txt')"
   ]
  },
  {
   "cell_type": "code",
   "execution_count": 39,
   "metadata": {},
   "outputs": [],
   "source": [
    "# mozemo da napravimo alijas za tip, ali, naravno, ne moramo\n",
    "Solution = List[bool]"
   ]
  },
  {
   "attachments": {},
   "cell_type": "markdown",
   "metadata": {},
   "source": [
    "Fitnes generalno predstavlja prilagođenost, tako da bi bilo prirodno da želimo što veći fitnes.\n",
    "Verovatno bi bilo ispravnije da ovo zovemo vrednost funkcije cilja..."
   ]
  },
  {
   "cell_type": "code",
   "execution_count": 40,
   "metadata": {},
   "outputs": [],
   "source": [
    "def calc_fitness(solution: Solution, user_resource_cost: List[List[int]], resource_cost: List[int]) -> int:\n",
    "    \"\"\"Calculate fitness of the given solution\"\"\"\n",
    "\n",
    "    # TODO optimizacija - nekakvo stablo da bi slozenost bila logM\n",
    "\n",
    "    # ne raditi ovo uvek, ako ima vise nedopustivih resenja moze da se zaglavi lako\n",
    "    # jer bi tada sva nedopustiva resenja imala isti fitnes (inf)\n",
    "    if not any(solution):\n",
    "        return float('inf')\n",
    "    built_resources_cost = sum(c for i, c in enumerate(resource_cost) if solution[i])\n",
    "    user_cost = sum(min(x for i, x in enumerate(c) if solution[i]) for c in user_resource_cost)\n",
    "    return built_resources_cost + user_cost"
   ]
  },
  {
   "cell_type": "code",
   "execution_count": 81,
   "metadata": {},
   "outputs": [],
   "source": [
    "def local_search_invert_first_improvement(solution: List[bool], fitness: int, user_resource_cost, resource_cost):\n",
    "    \"\"\"\n",
    "    Finds a local minimum starting from the given solution using `invert` operator (flipping bit by bit).\n",
    "    At each step chooses the FIRST possible improvement from the neighborhood.\n",
    "\n",
    "    Returns new fitness; solution is changed in place.\n",
    "    \"\"\"\n",
    "    improved = True\n",
    "    while improved:\n",
    "        improved = False\n",
    "        indices = list(range(len(solution)))\n",
    "        # ako ne bismo shuffle-ovali, postojala bi pristranost prema nizim indeksima\n",
    "        random.shuffle(indices)\n",
    "        for i in indices:\n",
    "            solution[i] = not solution[i]\n",
    "            # recalc_fitness treba da bude posebna funkcija u kojoj ne pravimo od nule stablo\n",
    "            # vec parcijalno racnamo fitnes na osnovu trenutne vrednosti i male promene koju smo napravili\n",
    "            new_fitness = calc_fitness(solution, user_resource_cost, resource_cost)\n",
    "            if new_fitness < fitness:\n",
    "                improved = True\n",
    "                fitness = new_fitness\n",
    "                break\n",
    "            else:\n",
    "                solution[i] = not solution[i]\n",
    "    return fitness"
   ]
  },
  {
   "cell_type": "code",
   "execution_count": 86,
   "metadata": {},
   "outputs": [],
   "source": [
    "def local_search_invert_best_improvement(solution: List[bool], fitness: int, user_resource_cost, resource_cost):\n",
    "    \"\"\"\n",
    "    Finds a local minimum starting from the given solution using `invert` operator (flipping bit by bit).\n",
    "    At each step chooses the BEST possible improvement from the neighborhood.\n",
    "\n",
    "    Returns new fitness; solution is changed in place.\n",
    "    \"\"\"\n",
    "    improved = True\n",
    "    while improved:\n",
    "        improved = False\n",
    "        best_fitness = fitness\n",
    "        best_idx = -1\n",
    "        for i in range(len(solution)):\n",
    "            # invert temporarily\n",
    "            solution[i] = not solution[i]\n",
    "            \n",
    "            # recalc_fitness treba da bude posebna funkcija u kojoj ne pravimo od nule stablo\n",
    "            # vec parcijalno racnamo fitnes na osnovu trenutne vrednosti i male promene koju smo napravili\n",
    "            new_fitness = calc_fitness(solution, user_resource_cost, resource_cost)\n",
    "            if new_fitness < best_fitness:\n",
    "                best_fitness = new_fitness\n",
    "                best_idx = i\n",
    "            \n",
    "            # revert to previous solution\n",
    "            solution[i] = not solution[i]\n",
    "\n",
    "        if best_idx != -1:\n",
    "            # actually invert\n",
    "            solution[best_idx] = not solution[best_idx]\n",
    "            improved = True\n",
    "\n",
    "    return fitness"
   ]
  },
  {
   "cell_type": "code",
   "execution_count": null,
   "metadata": {},
   "outputs": [],
   "source": [
    "local_search_invert_best_improvement([False, True, True], )"
   ]
  },
  {
   "cell_type": "code",
   "execution_count": 84,
   "metadata": {},
   "outputs": [],
   "source": [
    "def local_search_swap_first_improvement():\n",
    "    pass"
   ]
  },
  {
   "cell_type": "code",
   "execution_count": 85,
   "metadata": {},
   "outputs": [],
   "source": [
    "def local_search_swap_best_improvement():\n",
    "    pass"
   ]
  },
  {
   "cell_type": "code",
   "execution_count": 87,
   "metadata": {},
   "outputs": [
    {
     "data": {
      "text/plain": [
       "41"
      ]
     },
     "execution_count": 87,
     "metadata": {},
     "output_type": "execute_result"
    }
   ],
   "source": [
    "solution = [False, True, True]\n",
    "fitness = calc_fitness(solution, user_resource_cost, resource_cost)\n",
    "local_search_invert_first_improvement(solution, fitness, user_resource_cost, resource_cost)"
   ]
  },
  {
   "cell_type": "code",
   "execution_count": 89,
   "metadata": {},
   "outputs": [
    {
     "data": {
      "text/plain": [
       "41"
      ]
     },
     "execution_count": 89,
     "metadata": {},
     "output_type": "execute_result"
    }
   ],
   "source": [
    "solution = [False, True, True]\n",
    "fitness = calc_fitness(solution, user_resource_cost, resource_cost)\n",
    "local_search_invert_best_improvement(solution, fitness, user_resource_cost, resource_cost)"
   ]
  },
  {
   "cell_type": "code",
   "execution_count": 90,
   "metadata": {},
   "outputs": [],
   "source": [
    "import itertools"
   ]
  },
  {
   "cell_type": "code",
   "execution_count": 92,
   "metadata": {},
   "outputs": [
    {
     "name": "stdout",
     "output_type": "stream",
     "text": [
      "(True, True, True)\n",
      "(True, True, False)\n",
      "(True, False, True)\n",
      "(True, False, False)\n",
      "(False, True, True)\n",
      "(False, True, False)\n",
      "(False, False, True)\n",
      "(False, False, False)\n"
     ]
    }
   ],
   "source": [
    "for x in itertools.product([True, False], repeat=3):\n",
    "    print(x)\n",
    "    # probati LS za svaki moguci ulaz jer mozemo na ovako malom primeru"
   ]
  },
  {
   "attachments": {},
   "cell_type": "markdown",
   "metadata": {},
   "source": [
    "# Simulirano kaljenje"
   ]
  },
  {
   "cell_type": "code",
   "execution_count": 45,
   "metadata": {},
   "outputs": [],
   "source": [
    "def initialize(num_resources: int):\n",
    "    \"\"\"Construct random initial solution\"\"\"\n",
    "    # NOTE: za razlicite probleme koristimo razlicito kodiranje resenja (ne moze uvek niz bitova)\n",
    "    # i razlicitu verovatnocu\n",
    "    \n",
    "    # return [random.random() < 0.5 for i in range(num_resources)]\n",
    "    return random.choices([True, False], k=num_resources)"
   ]
  },
  {
   "cell_type": "code",
   "execution_count": 63,
   "metadata": {},
   "outputs": [],
   "source": [
    "from copy import deepcopy\n",
    "\n",
    "\n",
    "def simulated_annealing(num_iters: int, user_resource_cost: List[List[int]], resource_cost: List[int]):\n",
    "    \"\"\"\n",
    "    Simulated annealing for Uncapacitated Facility Location Problem.\n",
    "    Stop condition is the given number of iterations.\n",
    "    \"\"\"\n",
    "    solution = initialize(len(resource_cost))\n",
    "    fitness = calc_fitness(solution, user_resource_cost, resource_cost)\n",
    "    best_solution = deepcopy(solution)\n",
    "    best_fitness = fitness\n",
    "    for it in range(2, num_iters + 2):\n",
    "        for i in range(len(solution)):\n",
    "            solution[i] = not solution[i]\n",
    "            # recalc_fitness treba da bude posebna funkcija u kojoj ne pravimo od nule stablo\n",
    "            # vec parcijalno racnamo fitnes na osnovu trenutne vrednosti i male promene koju smo napravili\n",
    "            new_fitness = calc_fitness(solution, user_resource_cost, resource_cost)\n",
    "            if new_fitness < fitness:\n",
    "                fitness = new_fitness\n",
    "                if new_fitness < best_fitness:\n",
    "                    best_fitness = new_fitness\n",
    "                    # TODO probati optimizaciju da ne kopiramo uvek\n",
    "                    best_solution = deepcopy(solution)\n",
    "                break\n",
    "            else:\n",
    "                p = random.random()\n",
    "                q = 1 / it\n",
    "                if p < q:\n",
    "                    fitness = new_fitness\n",
    "                else:\n",
    "                    solution[i] = not solution[i]\n",
    "    return best_solution, best_fitness"
   ]
  },
  {
   "cell_type": "code",
   "execution_count": 80,
   "metadata": {},
   "outputs": [
    {
     "data": {
      "text/plain": [
       "([True, False, False], 34)"
      ]
     },
     "execution_count": 80,
     "metadata": {},
     "output_type": "execute_result"
    }
   ],
   "source": [
    "simulated_annealing(10, user_resource_cost, resource_cost)"
   ]
  },
  {
   "attachments": {},
   "cell_type": "markdown",
   "metadata": {},
   "source": [
    "### Vizuelizacija nekih od opadajućih funkcija koje možemo da koristimo u simuliranom kaljenju"
   ]
  },
  {
   "cell_type": "code",
   "execution_count": 31,
   "metadata": {},
   "outputs": [],
   "source": [
    "from matplotlib import pyplot as plt"
   ]
  },
  {
   "cell_type": "code",
   "execution_count": 33,
   "metadata": {},
   "outputs": [
    {
     "data": {
      "text/plain": [
       "[<matplotlib.lines.Line2D at 0x7f47de2a69d0>]"
      ]
     },
     "execution_count": 33,
     "metadata": {},
     "output_type": "execute_result"
    },
    {
     "data": {
      "image/png": "[encoded data removed]",
      "text/plain": [
       "<Figure size 432x288 with 1 Axes>"
      ]
     },
     "metadata": {
      "needs_background": "light"
     },
     "output_type": "display_data"
    }
   ],
   "source": [
    "import numpy as np\n",
    "xs = np.linspace(1, 100, 1000)\n",
    "plt.plot(xs, 1 / xs)\n",
    "plt.plot(xs, 1 / np.sqrt(xs))"
   ]
  },
  {
   "attachments": {},
   "cell_type": "markdown",
   "metadata": {},
   "source": [
    "# Metoda promenljivih okolina (Variable Neighborhood Search)"
   ]
  },
  {
   "cell_type": "markdown",
   "metadata": {},
   "source": []
  }
 ],
 "metadata": {
  "kernelspec": {
   "display_name": "base",
   "language": "python",
   "name": "python3"
  },
  "language_info": {
   "codemirror_mode": {
    "name": "ipython",
    "version": 3
   },
   "file_extension": ".py",
   "mimetype": "text/x-python",
   "name": "python",
   "nbconvert_exporter": "python",
   "pygments_lexer": "ipython3",
   "version": "3.7.6"
  },
  "orig_nbformat": 4
 },
 "nbformat": 4,
 "nbformat_minor": 2
}
