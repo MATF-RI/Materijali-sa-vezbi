{
 "cells": [
  {
   "cell_type": "markdown",
   "metadata": {},
   "source": [
    "# S metaheuristike (single solution metaheuristics)\n",
    "Kod s metaheuristika imamo jedno rešenje koje menjamo i poboljšavamo kroz iteracije, za razliku od p metaheuristika gde imamo čitavu populaciju rešenja.\n",
    "Neki primeri s metaheuristika su:\n",
    "- simulirano kaljenje (Simulated Annealing),\n",
    "- metoda promenljivih okolina (Variable Neighborhood Search, VNS),\n",
    "- iterirana lokalna pretraga (Iterated Local Search),\n",
    "- tabu pretraga (Tabu Search).\n",
    "\n",
    "Prve dve će biti obrađene u nastavku sa primenom na prost lokacijski problem (UFLP)."
   ]
  },
  {
   "cell_type": "markdown",
   "metadata": {},
   "source": [
    "### Prost lokacijski problem (Uncapacitated Facility Location Problem - UFLP)\n",
    "Zadato je $N$ potencijalnih lokacija objekata (ustanova), npr. škola ili bolnica. Za svaku lokaciju $j$ postoji cena izgradnje objekta $f_j$.\n",
    "Postoji $M$ korisnika i za svakog korisnika $i$ i svaki objekat $j$ zadata je cena pridruživanja korisnika resursu $c_{ij}$.\n",
    "Svaki korisnik mora da bude dodeljen tačno jednom objektu.\n",
    "Cilj je odrediti koje objekte treba izgraditi tako da ukupna cena (zbir cena izgrađenih objekata i cena pridruživanja korisnika resursima) bude minimalna."
   ]
  },
  {
   "cell_type": "code",
   "execution_count": 23,
   "metadata": {},
   "outputs": [],
   "source": [
    "import random"
   ]
  },
  {
   "cell_type": "code",
   "execution_count": 24,
   "metadata": {},
   "outputs": [],
   "source": [
    "from typing import List, Tuple\n",
    "\n",
    "\n",
    "def read_line_of_ints(line: str) -> List[int]:\n",
    "    return [int(x) for x in line.split()]\n",
    "\n",
    "def read_data(file_path: str) -> Tuple[List[List[int]], List[int]]:\n",
    "    \"\"\"\n",
    "    Read data from file in the following format:\n",
    "    num_users, num_resources\n",
    "    num_users x num_resources cost matrix of assigning user i to resource j\n",
    "    num_resources cost array of building resource j\n",
    "    \"\"\"\n",
    "    with open(file_path, 'r') as f:\n",
    "        user_resource_cost = []\n",
    "        for i, line in enumerate(f):\n",
    "            if i == 0:\n",
    "                num_users, num_resources = read_line_of_ints(line)\n",
    "            elif i <= num_users:\n",
    "                user_resource_cost.append(read_line_of_ints(line))\n",
    "            else:\n",
    "                resource_cost = read_line_of_ints(line)\n",
    "        \n",
    "        return user_resource_cost, resource_cost\n"
   ]
  },
  {
   "cell_type": "code",
   "execution_count": 25,
   "metadata": {},
   "outputs": [],
   "source": [
    "user_resource_cost, resource_cost = read_data('../../2023_2024/live/03_s_metaheuristics/uflp1.txt')"
   ]
  },
  {
   "cell_type": "code",
   "execution_count": 26,
   "metadata": {},
   "outputs": [],
   "source": [
    "# mozemo da napravimo alijas za tip, ali, naravno, ne moramo\n",
    "Solution = List[bool]"
   ]
  },
  {
   "attachments": {},
   "cell_type": "markdown",
   "metadata": {},
   "source": [
    "Fitnes generalno predstavlja prilagođenost, tako da bi bilo prirodno da želimo što veći fitnes.\n",
    "Verovatno bi bilo ispravnije da ovo zovemo vrednost funkcije cilja..."
   ]
  },
  {
   "cell_type": "code",
   "execution_count": 27,
   "metadata": {},
   "outputs": [],
   "source": [
    "def calc_fitness(solution: Solution, user_resource_cost: List[List[int]], resource_cost: List[int]) -> int:\n",
    "    \"\"\"Calculate fitness of the given solution\"\"\"\n",
    "\n",
    "    # TODO optimizacija - nekakvo stablo da bi slozenost bila logM\n",
    "\n",
    "    # ne raditi ovo uvek, ako ima vise nedopustivih resenja moze da se zaglavi lako\n",
    "    # jer bi tada sva nedopustiva resenja imala isti fitnes (inf)\n",
    "    if not any(solution):\n",
    "        return float('inf')\n",
    "    built_resources_cost = sum(c for i, c in enumerate(resource_cost) if solution[i])\n",
    "    user_cost = sum(min(x for i, x in enumerate(c) if solution[i]) for c in user_resource_cost)\n",
    "    return built_resources_cost + user_cost"
   ]
  },
  {
   "cell_type": "markdown",
   "metadata": {},
   "source": [
    "Kod nediferencijabilnih funkcija, kakva je i funkcija cilja UFLP-a, ne možemo da koristimo gradijent da odredimo pravac u kome funkcija opada.\n",
    "U ovakvim situacijama koristimo lokalnu pretragu za pronalazak lokalnog minimuma u okolini trenutnog rešenja.\n",
    "\n",
    "Lokalna pretraga nije metaheuristika za sebe, već se koristi kao gradivni element, zaslužan za intenzifikaciju, različitih metaheuristika.\n",
    "\n",
    "U nastavku su implementirane dve vrste lokalne pretrage:\n",
    "- jedna zasnovana na prvom poboljšanju (first improvement) - prihvatamo prvo susedno rešenje koje je bolje od trenutnog;\n",
    "- druga zasnovana na najboljem poboljšanju (best improvement) - prolazimo kroz sva susedna rešenja i prihvatamo najbolje od njih.\n",
    "\n",
    "Obe su sistematične - prolazimo kroz sva susedna rešenja. Lokalna pretraga može da bude i stohastička ako ne idemo redom kroz susedna rešenja, već ih na neki način nasumično biramo."
   ]
  },
  {
   "cell_type": "code",
   "execution_count": 28,
   "metadata": {},
   "outputs": [],
   "source": [
    "def local_search_invert_first_improvement(solution: List[bool], fitness: int, user_resource_cost, resource_cost):\n",
    "    \"\"\"\n",
    "    Finds a local minimum starting from the given solution using `invert` operator (flipping bit by bit).\n",
    "    At each step chooses the FIRST possible improvement from the neighborhood.\n",
    "\n",
    "    Returns new fitness; solution is changed in place.\n",
    "    \"\"\"\n",
    "    improved = True\n",
    "    while improved:\n",
    "        improved = False\n",
    "        indices = list(range(len(solution)))\n",
    "        # ako ne bismo shuffle-ovali, postojala bi pristranost prema nizim indeksima\n",
    "        random.shuffle(indices)\n",
    "        for i in indices:\n",
    "            solution[i] = not solution[i]\n",
    "            # recalc_fitness treba da bude posebna funkcija u kojoj ne pravimo od nule stablo\n",
    "            # vec parcijalno racunamo fitnes na osnovu trenutne vrednosti i male promene koju smo napravili\n",
    "            new_fitness = calc_fitness(solution, user_resource_cost, resource_cost)\n",
    "            if new_fitness < fitness:\n",
    "                improved = True\n",
    "                fitness = new_fitness\n",
    "                break\n",
    "            else:\n",
    "                solution[i] = not solution[i]\n",
    "    return fitness"
   ]
  },
  {
   "cell_type": "code",
   "execution_count": 29,
   "metadata": {},
   "outputs": [],
   "source": [
    "def local_search_invert_best_improvement(solution: List[bool], fitness: int, user_resource_cost, resource_cost):\n",
    "    \"\"\"\n",
    "    Finds a local minimum starting from the given solution using `invert` operator (flipping bit by bit).\n",
    "    At each step chooses the BEST possible improvement from the neighborhood.\n",
    "\n",
    "    Returns new fitness; solution is changed in place.\n",
    "    \"\"\"\n",
    "    improved = True\n",
    "    while improved:\n",
    "        improved = False\n",
    "        best_fitness = fitness\n",
    "        best_idx = -1\n",
    "        for i in range(len(solution)):\n",
    "            # invert temporarily\n",
    "            solution[i] = not solution[i]\n",
    "            \n",
    "            # recalc_fitness treba da bude posebna funkcija u kojoj ne pravimo od nule stablo\n",
    "            # vec parcijalno racunamo fitnes na osnovu trenutne vrednosti i male promene koju smo napravili\n",
    "            new_fitness = calc_fitness(solution, user_resource_cost, resource_cost)\n",
    "            if new_fitness < best_fitness:\n",
    "                best_fitness = new_fitness\n",
    "                best_idx = i\n",
    "            \n",
    "            # revert to previous solution\n",
    "            solution[i] = not solution[i]\n",
    "\n",
    "        if best_idx != -1:\n",
    "            # actually invert\n",
    "            solution[best_idx] = not solution[best_idx]\n",
    "            improved = True\n",
    "\n",
    "    return fitness"
   ]
  },
  {
   "cell_type": "code",
   "execution_count": 30,
   "metadata": {},
   "outputs": [],
   "source": [
    "# TODO za domaci\n",
    "# swap - zameni dva bita od kojih je jedan 1, a drugi 0\n",
    "def local_search_swap_first_improvement():\n",
    "    pass"
   ]
  },
  {
   "cell_type": "code",
   "execution_count": 31,
   "metadata": {},
   "outputs": [],
   "source": [
    "def local_search_swap_best_improvement():\n",
    "    pass"
   ]
  },
  {
   "cell_type": "code",
   "execution_count": 32,
   "metadata": {},
   "outputs": [
    {
     "data": {
      "text/plain": [
       "41"
      ]
     },
     "execution_count": 32,
     "metadata": {},
     "output_type": "execute_result"
    }
   ],
   "source": [
    "solution = [False, True, True]\n",
    "fitness = calc_fitness(solution, user_resource_cost, resource_cost)\n",
    "local_search_invert_first_improvement(solution, fitness, user_resource_cost, resource_cost)"
   ]
  },
  {
   "cell_type": "code",
   "execution_count": 33,
   "metadata": {},
   "outputs": [
    {
     "data": {
      "text/plain": [
       "41"
      ]
     },
     "execution_count": 33,
     "metadata": {},
     "output_type": "execute_result"
    }
   ],
   "source": [
    "solution = [False, True, True]\n",
    "fitness = calc_fitness(solution, user_resource_cost, resource_cost)\n",
    "local_search_invert_best_improvement(solution, fitness, user_resource_cost, resource_cost)"
   ]
  },
  {
   "cell_type": "code",
   "execution_count": 34,
   "metadata": {},
   "outputs": [],
   "source": [
    "import itertools"
   ]
  },
  {
   "cell_type": "code",
   "execution_count": 35,
   "metadata": {},
   "outputs": [
    {
     "name": "stdout",
     "output_type": "stream",
     "text": [
      "(True, True, True)\n",
      "(True, True, False)\n",
      "(True, False, True)\n",
      "(True, False, False)\n",
      "(False, True, True)\n",
      "(False, True, False)\n",
      "(False, False, True)\n",
      "(False, False, False)\n"
     ]
    }
   ],
   "source": [
    "for x in itertools.product([True, False], repeat=3):\n",
    "    print(x)\n",
    "    # probati LS za svaki moguci ulaz jer mozemo na ovako malom primeru"
   ]
  },
  {
   "attachments": {},
   "cell_type": "markdown",
   "metadata": {},
   "source": [
    "# Simulirano kaljenje"
   ]
  },
  {
   "cell_type": "markdown",
   "metadata": {},
   "source": [
    "Ideja algoritma simuliranog kaljenja (ustaljeni prevod, iako bi možda adekvatniji bio žarenje) dolazi iz kaljenja čelika gde se čelik zagreva na određenu temperaturu i onda postepeno hladi sa ciljem poboljšanja njegovih fizičkih osobina.\n",
    "\n",
    "Kao kod lokalne pretrage, kada u okolini trenutnog rešenja pronađemo bolje, prelazimo u njega.\n",
    "Sa druge strane, da se ne bismo uvek zaglavljivali u lokalnom minimumu, imamo i diverzifikaciju - sa određenom verovatnoćom prihvatamo i lošije rešenje.\n",
    "Ta verovatnoća opada kroz iteracije (slično kao temperatura u realnom kaljenju).\n",
    "Ideja je da na početku rada algoritma nemamo još uvek neko jako dobro rešenje i želimo da imamo jaču diverzifikaciju da bismo obišli veći deo prostora pretrage, a kasnije u toku rada algoritma smo verovatno pronašli neko dobro rešenje i želimo da ne odemo predaleko, već da bolje istražimo njegovu okolinu.\n",
    "\n",
    "Uslov zaustavljanja algoritma (slično važi i za ostale algoritme) može da bude neki od sledećih: broj iteracija, broj sekundi, pronađeno dovoljno dobro rešenje, broj iteracija bez poboljšanja; ili njihova kombinacija."
   ]
  },
  {
   "cell_type": "code",
   "execution_count": 36,
   "metadata": {},
   "outputs": [],
   "source": [
    "def initialize(num_resources: int):\n",
    "    \"\"\"Construct random initial solution\"\"\"\n",
    "    # NOTE: za razlicite probleme koristimo razlicito kodiranje resenja (ne moze uvek niz bitova)\n",
    "    # i razlicitu verovatnocu\n",
    "    \n",
    "    # return [random.random() < 0.5 for i in range(num_resources)]\n",
    "    return random.choices([True, False], k=num_resources)"
   ]
  },
  {
   "cell_type": "code",
   "execution_count": null,
   "metadata": {},
   "outputs": [],
   "source": [
    "from copy import deepcopy\n",
    "\n",
    "\n",
    "def simulated_annealing(num_iters: int, user_resource_cost: List[List[int]], resource_cost: List[int]):\n",
    "    \"\"\"\n",
    "    Simulated annealing for Uncapacitated Facility Location Problem.\n",
    "    Stop condition is the given number of iterations.\n",
    "    \"\"\"\n",
    "    solution = initialize(len(resource_cost))\n",
    "    fitness = calc_fitness(solution, user_resource_cost, resource_cost)\n",
    "    # cuvamo najbolje resenje jer resenje iz poslednje iteracije ne mora da bude najbolje do koga smo dosli\n",
    "    # zato sto nekad prihvatamo i losija resenja\n",
    "    best_solution = deepcopy(solution)\n",
    "    best_fitness = fitness\n",
    "    for it in range(2, num_iters + 2):\n",
    "        for i in range(len(solution)):\n",
    "            solution[i] = not solution[i]\n",
    "            # recalc_fitness treba da bude posebna funkcija u kojoj ne pravimo od nule stablo\n",
    "            # vec parcijalno racunamo fitnes na osnovu trenutne vrednosti i male promene koju smo napravili\n",
    "            new_fitness = calc_fitness(solution, user_resource_cost, resource_cost)\n",
    "            if new_fitness < fitness:\n",
    "                fitness = new_fitness\n",
    "                if new_fitness < best_fitness:\n",
    "                    best_fitness = new_fitness\n",
    "                    # TODO probati optimizaciju da ne kopiramo uvek\n",
    "                    best_solution = deepcopy(solution)\n",
    "                break\n",
    "            else:\n",
    "                p = random.random()\n",
    "                q = 1 / it\n",
    "                if p < q:\n",
    "                    fitness = new_fitness\n",
    "                else:\n",
    "                    solution[i] = not solution[i]\n",
    "    return best_solution, best_fitness"
   ]
  },
  {
   "cell_type": "code",
   "execution_count": 38,
   "metadata": {},
   "outputs": [
    {
     "data": {
      "text/plain": [
       "([True, False, False], 34)"
      ]
     },
     "execution_count": 38,
     "metadata": {},
     "output_type": "execute_result"
    }
   ],
   "source": [
    "simulated_annealing(10, user_resource_cost, resource_cost)"
   ]
  },
  {
   "attachments": {},
   "cell_type": "markdown",
   "metadata": {},
   "source": [
    "### Vizuelizacija nekih od opadajućih funkcija koje možemo da koristimo u simuliranom kaljenju"
   ]
  },
  {
   "cell_type": "code",
   "execution_count": 39,
   "metadata": {},
   "outputs": [],
   "source": [
    "from matplotlib import pyplot as plt"
   ]
  },
  {
   "cell_type": "code",
   "execution_count": 40,
   "metadata": {},
   "outputs": [
    {
     "data": {
      "text/plain": [
       "[<matplotlib.lines.Line2D at 0x793b8058e3a0>]"
      ]
     },
     "execution_count": 40,
     "metadata": {},
     "output_type": "execute_result"
    },
    {
     "data": {
      "image/png": "[encoded data removed]",
      "text/plain": [
       "<Figure size 640x480 with 1 Axes>"
      ]
     },
     "metadata": {},
     "output_type": "display_data"
    }
   ],
   "source": [
    "import numpy as np\n",
    "xs = np.linspace(1, 100, 1000)\n",
    "plt.plot(xs, 1 / xs, c='red')\n",
    "plt.plot(xs, 1 / np.sqrt(xs), c='green')\n",
    "plt.plot(xs, np.log(2) / np.log(xs + 1), c='blue')"
   ]
  },
  {
   "attachments": {},
   "cell_type": "markdown",
   "metadata": {},
   "source": [
    "# Metoda promenljivih okolina (Variable Neighborhood Search)"
   ]
  },
  {
   "cell_type": "markdown",
   "metadata": {},
   "source": [
    "VNS se sastoji od dva glavna dela:\n",
    "- razmrdavanje (shaking) - zadužen za diverzifikaciju, bira nasumičnog suseda iz $k$-te okoline;\n",
    "- lokalna pretraga - zadužena za intenzifikaciju, odnosno poboljšanje trenutnog rešenja.\n",
    "\n",
    "Definišemo više okolina od kojih je svaka sledeća šira od prethodne.\n",
    "Prvo pokušavamo da nađemo bolje rešenje u prvoj okolini, pa ako ne možemo, prelazimo u sledeću.\n",
    "Kada nađemo bolje rešenje prelazimo u njega i ponavljamo postupak ponovo počevši od prve okoline.\n",
    "U slučaju da nađemo rešenje istog kvaliteta kao što je trenutno, prihvatamo ga sa verovatnoćom $move\\_prob$.\n",
    "\n",
    "Postoje različite varijacije ovog algoritma, među kojima su i:\n",
    "- redukovani VNS - gde nemamo lokalnu pretragu, već samo shaking;\n",
    "- opšti VNS - gde koristimo VNS umesto lokalne pretrage."
   ]
  },
  {
   "attachments": {
    "vns.png": {
     "image/png": "[encoded data removed]"
    }
   },
   "cell_type": "markdown",
   "metadata": {},
   "source": [
    "### Vizuelizacija rada VNS-a\n",
    "\n",
    "![vns.png](attachment:vns.png)"
   ]
  },
  {
   "cell_type": "code",
   "execution_count": 41,
   "metadata": {},
   "outputs": [],
   "source": [
    "def shaking(solution: List[bool], k: int):\n",
    "    \"\"\"\n",
    "    Return a random neighbor from kth neighborhood (k bit flips away).\n",
    "    \"\"\"\n",
    "    # NOTE: okolinu mozemo da definisemo na razlicite nacine - ne mora da bude isti operator kao u lokalnoj pretrazi\n",
    "    # npr. shaking moze da bude samo remove, a lokalna pretraga swap\n",
    "    assert len(solution) >= k, f\"cannot flip more than {len(solution)} bits\"\n",
    "    indices = random.sample(range(len(solution)), k)\n",
    "    # [not a if b in indices else a for a, b in enumerate(solution)]\n",
    "    new_solution = deepcopy(solution)\n",
    "    for i in indices:\n",
    "        new_solution[i] = not new_solution[i]\n",
    "    return new_solution"
   ]
  },
  {
   "cell_type": "code",
   "execution_count": 42,
   "metadata": {},
   "outputs": [
    {
     "data": {
      "text/plain": [
       "[True, False, False]"
      ]
     },
     "execution_count": 42,
     "metadata": {},
     "output_type": "execute_result"
    }
   ],
   "source": [
    "solution = [False, True, False]\n",
    "shaking(solution, k=2)"
   ]
  },
  {
   "cell_type": "code",
   "execution_count": null,
   "metadata": {},
   "outputs": [],
   "source": [
    "from typing import Callable\n",
    "from matplotlib import pyplot as plt\n",
    "\n",
    "def vns(\n",
    "        user_resource_costs: List[List[int]],\n",
    "        resource_costs: List[int],\n",
    "        num_iters: int,\n",
    "        local_search: Callable[[List[bool], int, List[List[int]], List[int]], int],\n",
    "        neighborhoods: List[int],\n",
    "        move_prob: float,\n",
    "    ):\n",
    "    \"\"\"\n",
    "    Variable Neighborhood Search for Uncapacitated Facility Location Problem.\n",
    "    Stop condition is the given number of iterations.\n",
    "    Plots the fitness over iterations.\n",
    "    \"\"\"\n",
    "    # NOTE: ne moramo da saljemo lokalnu pretragu kao argument\n",
    "    # umesto liste za okoline (argument neighborhoods), mozemo da prosledimo k_min i k_max\n",
    "    solution = initialize(len(resource_costs))\n",
    "    fitness = calc_fitness(solution, user_resource_costs, resource_costs)\n",
    "    fitnesses = []\n",
    "    for it in range(num_iters):\n",
    "        for k in neighborhoods:\n",
    "            new_solution = shaking(solution, k)\n",
    "            # i ovde bismo mogli da koristimo parcijalno racunanje fitnesa\n",
    "            new_fitness = calc_fitness(new_solution, user_resource_costs, resource_costs)\n",
    "            new_fitness = local_search(new_solution, new_fitness, user_resource_costs, resource_costs)\n",
    "            if new_fitness < fitness or (new_fitness == fitness and random.random() < move_prob):\n",
    "                fitness = new_fitness\n",
    "                solution = deepcopy(new_solution)\n",
    "                break\n",
    "        fitnesses.append(fitness)\n",
    "\n",
    "    plt.plot(fitnesses)\n",
    "    plt.show()\n",
    "    return solution, fitness"
   ]
  },
  {
   "cell_type": "code",
   "execution_count": 48,
   "metadata": {},
   "outputs": [
    {
     "data": {
      "image/png": "[encoded data removed]",
      "text/plain": [
       "<Figure size 640x480 with 1 Axes>"
      ]
     },
     "metadata": {},
     "output_type": "display_data"
    },
    {
     "data": {
      "text/plain": [
       "([True, False, False], 34)"
      ]
     },
     "execution_count": 48,
     "metadata": {},
     "output_type": "execute_result"
    }
   ],
   "source": [
    "vns(\n",
    "    user_resource_cost,\n",
    "    resource_cost,\n",
    "    num_iters=10,\n",
    "    local_search=local_search_invert_first_improvement,\n",
    "    neighborhoods=range(1, 3),\n",
    "    move_prob=0.5,\n",
    ")"
   ]
  },
  {
   "cell_type": "code",
   "execution_count": 49,
   "metadata": {},
   "outputs": [],
   "source": [
    "def read_data_bk(file_path: str):\n",
    "    resource_costs = []\n",
    "    user_resource_costs = []\n",
    "    with open(file_path) as f:\n",
    "        for i, line in enumerate(f):\n",
    "            if i == 0:\n",
    "                continue\n",
    "            elif i == 1:\n",
    "                num_resources, num_users, _ = read_line_of_ints(line)\n",
    "            else:\n",
    "                xs = read_line_of_ints(line)\n",
    "                resource_costs.append(xs[1])\n",
    "                user_resource_costs.append(xs[2:])\n",
    "\n",
    "    user_resource_costs = np.array(user_resource_costs).T.tolist()\n",
    "    \n",
    "    return user_resource_costs, resource_costs"
   ]
  },
  {
   "cell_type": "code",
   "execution_count": 50,
   "metadata": {},
   "outputs": [],
   "source": [
    "user_resource_costs, resource_costs = read_data_bk('../../2023_2024/live/03_s_metaheuristics/BildeKrarup/B/B1.1')"
   ]
  },
  {
   "cell_type": "code",
   "execution_count": 52,
   "metadata": {},
   "outputs": [
    {
     "data": {
      "image/png": "[encoded data removed]",
      "text/plain": [
       "<Figure size 640x480 with 1 Axes>"
      ]
     },
     "metadata": {},
     "output_type": "display_data"
    },
    {
     "data": {
      "text/plain": [
       "([False,\n",
       "  False,\n",
       "  False,\n",
       "  False,\n",
       "  False,\n",
       "  False,\n",
       "  False,\n",
       "  False,\n",
       "  False,\n",
       "  False,\n",
       "  True,\n",
       "  False,\n",
       "  False,\n",
       "  True,\n",
       "  True,\n",
       "  False,\n",
       "  False,\n",
       "  False,\n",
       "  False,\n",
       "  False,\n",
       "  False,\n",
       "  False,\n",
       "  False,\n",
       "  False,\n",
       "  False,\n",
       "  False,\n",
       "  False,\n",
       "  False,\n",
       "  False,\n",
       "  False,\n",
       "  False,\n",
       "  False,\n",
       "  True,\n",
       "  False,\n",
       "  False,\n",
       "  False,\n",
       "  False,\n",
       "  False,\n",
       "  False,\n",
       "  False,\n",
       "  False,\n",
       "  False,\n",
       "  False,\n",
       "  True,\n",
       "  False,\n",
       "  False,\n",
       "  False,\n",
       "  False,\n",
       "  False,\n",
       "  False],\n",
       " 23468)"
      ]
     },
     "execution_count": 52,
     "metadata": {},
     "output_type": "execute_result"
    }
   ],
   "source": [
    "vns(user_resource_costs,\n",
    "    resource_costs,\n",
    "    num_iters=100,\n",
    "    local_search=local_search_invert_first_improvement,\n",
    "    neighborhoods=range(1, 7), # range(1, 10, 2)\n",
    "    move_prob=0.5,\n",
    "    )"
   ]
  },
  {
   "cell_type": "code",
   "execution_count": null,
   "metadata": {},
   "outputs": [],
   "source": []
  }
 ],
 "metadata": {
  "kernelspec": {
   "display_name": "ri",
   "language": "python",
   "name": "python3"
  },
  "language_info": {
   "codemirror_mode": {
    "name": "ipython",
    "version": 3
   },
   "file_extension": ".py",
   "mimetype": "text/x-python",
   "name": "python",
   "nbconvert_exporter": "python",
   "pygments_lexer": "ipython3",
   "version": "3.8.18"
  },
  "orig_nbformat": 4
 },
 "nbformat": 4,
 "nbformat_minor": 2
}
