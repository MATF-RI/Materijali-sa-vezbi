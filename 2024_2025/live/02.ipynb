{
 "cells": [
  {
   "cell_type": "markdown",
   "metadata": {},
   "source": [
    "# Fazi logika\n",
    "\n",
    "Pogledati [materijale](../../2020_2021/materials/02_fuzzy_logic.html)"
   ]
  },
  {
   "cell_type": "code",
   "execution_count": 23,
   "metadata": {},
   "outputs": [],
   "source": [
    "from typing import List"
   ]
  },
  {
   "cell_type": "code",
   "execution_count": 24,
   "metadata": {},
   "outputs": [],
   "source": [
    "class FuzzyInput:\n",
    "    \"\"\"Represents one fuzzy input set\"\"\"\n",
    "\n",
    "    def __init__(self, name: str, xs: List[float], ys: List[float], x0: float):\n",
    "        self.name = name\n",
    "        self.xs = xs\n",
    "        self.ys = ys\n",
    "\n",
    "        self.mu = self.calc_mu(x0)\n",
    "\n",
    "    def calc_mu(self, x0: float):\n",
    "        \"\"\"Calculates the degree of membership to the fuzzy set\"\"\"\n",
    "        if x0 <= self.xs[0]:\n",
    "            return self.ys[0]\n",
    "        elif x0 >= self.xs[-1]:\n",
    "            return self.ys[-1]\n",
    "        \n",
    "        for x1, x2, y1, y2 in zip(self.xs[:-1], self.xs[1:], self.ys[:-1], self.ys[1:]):\n",
    "            if x0 >= x1 and x0 <= x2:\n",
    "                return y1 + (y2 - y1) / (x2 - x1) * (x0 - x1)\n"
   ]
  },
  {
   "cell_type": "code",
   "execution_count": 25,
   "metadata": {},
   "outputs": [],
   "source": [
    "class FuzzyOutput:\n",
    "    \"\"\"Represents one fuzzy output set\"\"\"\n",
    "    \n",
    "    def __init__(self, name: str, xs: List[float], ys: List[float]):\n",
    "        self.name = name\n",
    "        self.xs = xs\n",
    "        self.ys = ys\n",
    "\n",
    "        # ovo treba da popune FuzzyRule-ovi\n",
    "        self.mu = 0\n",
    "        \n",
    "        # c je reprezentativni predstavnik fazi skupa\n",
    "        xs_where_y_1 = [x for x, y in zip(xs, ys) if y == 1]\n",
    "        self.c = sum(xs_where_y_1) / len(xs_where_y_1)"
   ]
  },
  {
   "cell_type": "code",
   "execution_count": 26,
   "metadata": {},
   "outputs": [],
   "source": [
    "import enum\n",
    "\n",
    "class LogicOperator(enum.Enum):\n",
    "    AND = enum.auto()\n",
    "    OR = enum.auto()\n",
    "    # TODO za domaci dodati i negaciju"
   ]
  },
  {
   "cell_type": "code",
   "execution_count": 27,
   "metadata": {},
   "outputs": [
    {
     "data": {
      "text/plain": [
       "False"
      ]
     },
     "execution_count": 27,
     "metadata": {},
     "output_type": "execute_result"
    }
   ],
   "source": [
    "LogicOperator.AND == LogicOperator.OR"
   ]
  },
  {
   "cell_type": "code",
   "execution_count": 28,
   "metadata": {},
   "outputs": [],
   "source": [
    "class FuzzyRule:\n",
    "    \"\"\"Fuzzy rule that given two FuzzyInputs and a logic operator calculates degree of membership in FuzzyOutput\"\"\"\n",
    "    def __init__(self, input1: FuzzyInput, input2: FuzzyInput, operator: LogicOperator, output: FuzzyOutput):\n",
    "        if operator == LogicOperator.AND:\n",
    "            new_value = min(input1.mu, input2.mu)\n",
    "        elif operator == LogicOperator.OR:\n",
    "            new_value = max(input1.mu, input2.mu)\n",
    "        else:\n",
    "            raise ValueError(f\"Invalid operator: {operator}\")\n",
    "        \n",
    "        output.mu = max(output.mu, new_value)"
   ]
  },
  {
   "cell_type": "code",
   "execution_count": 29,
   "metadata": {},
   "outputs": [
    {
     "data": {
      "text/plain": [
       "[(1, 4), (2, 5), (3, 6)]"
      ]
     },
     "execution_count": 29,
     "metadata": {},
     "output_type": "execute_result"
    }
   ],
   "source": [
    "list(zip([1,2,3], [4,5,6]))"
   ]
  },
  {
   "cell_type": "code",
   "execution_count": 31,
   "metadata": {},
   "outputs": [],
   "source": [
    "consumption = []\n",
    "consumption.append(FuzzyInput('mala', [3,10],[1,0],9))\n",
    "consumption.append(FuzzyInput('srednja', [7,10,12,15],[0,1,1,0],9))\n",
    "consumption.append(FuzzyInput('velika', [12,15],[0,1],9))\n",
    "\n",
    "reliability = []\n",
    "reliability.append(FuzzyInput('visoka', [5,10],[1,0], 8))\n",
    "reliability.append(FuzzyInput('niska', [8,15],[0,1], 8))\n",
    "\n",
    "value = []\n",
    "value.append(FuzzyOutput('mala', [7,15],[1,0]))\n",
    "value.append(FuzzyOutput('srednja', [7,15,25,40],[0,1,1,0]))\n",
    "value.append(FuzzyOutput('velika', [25,40],[0,1]))\n",
    "\n",
    "rules = []\n",
    "rules.append(FuzzyRule(consumption[0], reliability[0], LogicOperator.AND, value[2]))\n",
    "rules.append(FuzzyRule(consumption[0], reliability[1], LogicOperator.AND, value[1]))\n",
    "rules.append(FuzzyRule(consumption[1], reliability[0], LogicOperator.AND, value[1]))\n",
    "rules.append(FuzzyRule(consumption[1], reliability[1], LogicOperator.AND, value[1]))\n",
    "rules.append(FuzzyRule(consumption[2], reliability[0], LogicOperator.AND, value[1]))\n",
    "rules.append(FuzzyRule(consumption[2], reliability[1], LogicOperator.AND, value[0]))"
   ]
  },
  {
   "cell_type": "code",
   "execution_count": 33,
   "metadata": {},
   "outputs": [
    {
     "name": "stdout",
     "output_type": "stream",
     "text": [
      "mu(mala) = 0\n",
      "mu(srednja) = 0.3999999999999999\n",
      "mu(velika) = 0.1428571428571429\n"
     ]
    }
   ],
   "source": [
    "# provera da li FuzzyRule radi ono sto treba\n",
    "for v in value:\n",
    "    print(f\"mu({v.name}) = {v.mu}\")"
   ]
  },
  {
   "cell_type": "code",
   "execution_count": 35,
   "metadata": {},
   "outputs": [],
   "source": [
    "def defuzzify(outputs: List[FuzzyOutput]):\n",
    "    \"\"\"Defuzzification - using weighted average\"\"\"\n",
    "    numerator = sum(o.mu * o.c for o in outputs)\n",
    "    denominator = sum(o.mu for o in outputs)\n",
    "    return numerator / denominator"
   ]
  },
  {
   "cell_type": "code",
   "execution_count": 36,
   "metadata": {},
   "outputs": [
    {
     "data": {
      "text/plain": [
       "25.263157894736846"
      ]
     },
     "execution_count": 36,
     "metadata": {},
     "output_type": "execute_result"
    }
   ],
   "source": [
    "defuzzify(value)"
   ]
  },
  {
   "cell_type": "code",
   "execution_count": null,
   "metadata": {},
   "outputs": [],
   "source": []
  }
 ],
 "metadata": {
  "kernelspec": {
   "display_name": "base",
   "language": "python",
   "name": "python3"
  },
  "language_info": {
   "codemirror_mode": {
    "name": "ipython",
    "version": 3
   },
   "file_extension": ".py",
   "mimetype": "text/x-python",
   "name": "python",
   "nbconvert_exporter": "python",
   "pygments_lexer": "ipython3",
   "version": "3.7.6"
  },
  "orig_nbformat": 4
 },
 "nbformat": 4,
 "nbformat_minor": 2
}
