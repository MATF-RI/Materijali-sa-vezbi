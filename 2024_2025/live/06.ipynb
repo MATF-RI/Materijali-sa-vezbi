{
 "cells": [
  {
   "cell_type": "markdown",
   "metadata": {},
   "source": [
    "Genetski algoritam je primer p metaheuristike, kod kojih imamo populaciju rešenja za razliku od s metaheuristika, gde smo imali samo jedno rešenje.\n",
    "Genetski algoritam je osmišljen po ugledu na biološku evoluciju.\n",
    "Sada evoluiramo rešenja nekog optimizacionog problema.\n",
    "Svaka jedinka predstavlja jedno rešenje i ima svoj kod, paralela bi bila npr. DNK, kao i funkciju prilagođenosti (fitness).\n",
    "I ovde je ideja da najprilagođenije jedinke opstaju.\n",
    "Formiramo populaciju jedinki koje evoluiramo kroz određeni broj generacija, odnosno iteracija.\n",
    "Postoje i druge opcije, ali ovde smo se odlučili da u novoj generaciji formiramo novu populaciju i da ona zameni postojeću.\n",
    "Tri glavne komponente genetskog algoritma su:\n",
    "1. selekcija - odabir jedinki za ukrštanje na osnovu njihove prilagođenosti. Dve osnovne varijante selekcije su:\n",
    "    - turnirska - odabir k slučajnih jedinki iz populacije i \"turnirsko takmičenje\" gde pobeđuje najprilagođenija od izabranih jedniki.\n",
    "    Razmisliti šta se dešava kada je k = 1, a šta kada je k = veličini populacije.\n",
    "    - ruletska - raspoređivanje svih jedinki na pristrasan ruletski točak gde je veličina isečka koji jedinka zauzima proporcionalna njenom fitnesu. Dakle, bolje prilagođene jedinke imaju veću verovatnoću da budu izabrane.\n",
    "    Razmisliti o situaciji gde je npr. jedna jedinka ubedljivo bolja od ostalih. Kako biste rešili ovakav problem?\n",
    "2. ukrštanje - formiranje novih jedinki na osnovu postojećih - u ovom slučaju formiramo dva potomka od dva roditelja. Nekoliko osnovnih varijanti ukrštanja su:\n",
    "    - jednopoziciono ukrštanje - odabir jedne slučajne tačke prekida u kodu roditeljskih jedinki i unakrsno ukrštanje kodova\n",
    "    - višepoziciono ukrštanje - analogno\n",
    "    - uniformno ukrštanje - za svaki \"gen\", u ovom slučaju bit u rešenju, bacamo novčić i na osnovu toga biramo iz kog roditelja ćemo kopirati trenutni \"gen\" u dete\n",
    "3. mutacija - sa određenom (malom) verovatnoćom na slučajan način unosimo promenu u gene deteta - u ovom slučaju negiramo bit"
   ]
  },
  {
   "cell_type": "code",
   "execution_count": 8,
   "metadata": {},
   "outputs": [],
   "source": [
    "import random\n",
    "\n",
    "\n",
    "class Individual:\n",
    "    \"\"\"\n",
    "    Individual of genetic algorithm\n",
    "    code - represents one solution\n",
    "    fitness - quality of the solution\n",
    "    \"\"\"\n",
    "    def __init__(self, facility_cost, user_facility_cost):\n",
    "        self.code = [random.random() < 0.5 for _ in range(len(facility_cost))]\n",
    "        self.facility_cost = facility_cost\n",
    "        self.user_facility_cost = user_facility_cost\n",
    "        self.calc_fitness()\n",
    "\n",
    "    def calc_fitness(self):\n",
    "        \"\"\"UFLP cost - negative because we want to minimize cost, but maximize fitness\"\"\"\n",
    "        if not any(self.code):\n",
    "            self.fitness = -float('inf')\n",
    "        built_schools = sum(x for i, x in enumerate(self.facility_cost) if self.code[i])\n",
    "        user_to_nearest_school = sum(min(cost for i, cost in enumerate(user) if self.code[i]) for user in self.user_facility_cost)\n",
    "        self.fitness = -(built_schools + user_to_nearest_school)"
   ]
  },
  {
   "cell_type": "code",
   "execution_count": 9,
   "metadata": {},
   "outputs": [],
   "source": [
    "def selection(population: list[Individual], k: int):\n",
    "    \"\"\"\n",
    "    Tournament selection\n",
    "    1. Choose random k individuals from the population\n",
    "    2. The best of those k wins the tournament and is selected for crossover\n",
    "\n",
    "    TODO: roulette (rang) selection\n",
    "    \"\"\"\n",
    "    # return random.choices(population, weights=[p.fitness for p in population])[0]\n",
    "    k = min(len(population), k)\n",
    "    participants = random.sample(population, k)\n",
    "    return max(participants, key=lambda x: x.fitness)"
   ]
  },
  {
   "cell_type": "code",
   "execution_count": 10,
   "metadata": {},
   "outputs": [],
   "source": [
    "def crossover(parent1, parent2, child1, child2):\n",
    "    \"\"\"\n",
    "    Single point crossover - changes children in place\n",
    "    \n",
    "    TODO:\n",
    "    1. n-point crossover - self-explanatory\n",
    "    2. uniform - for each bit flip a coin\n",
    "    \"\"\"\n",
    "    breakpoint = random.randrange(1, len(parent1.code))\n",
    "    child1.code[:breakpoint] = parent1.code[:breakpoint]\n",
    "    child1.code[breakpoint:] = parent2.code[breakpoint:]\n",
    "\n",
    "    child2.code[:breakpoint] = parent2.code[:breakpoint]\n",
    "    child2.code[breakpoint:] = parent1.code[breakpoint:]"
   ]
  },
  {
   "cell_type": "code",
   "execution_count": 11,
   "metadata": {},
   "outputs": [],
   "source": [
    "def mutation(child: Individual, p: float):\n",
    "    \"\"\"\n",
    "    With probability p flip each bit\n",
    "    \"\"\"\n",
    "    # child.code = [not x if random.random() < p else x for x in child.code]\n",
    "    for i in range(len(child.code)):\n",
    "        if random.random() < p:\n",
    "            child.code[i] = not child.code[i]"
   ]
  },
  {
   "cell_type": "code",
   "execution_count": 12,
   "metadata": {},
   "outputs": [
    {
     "data": {
      "text/plain": [
       "array([0.00314962, 0.01216343])"
      ]
     },
     "execution_count": 12,
     "metadata": {},
     "output_type": "execute_result"
    }
   ],
   "source": [
    "import numpy as np\n",
    "noise = np.random.normal(0, 0.01, size=2)\n",
    "noise"
   ]
  },
  {
   "cell_type": "code",
   "execution_count": 13,
   "metadata": {},
   "outputs": [],
   "source": [
    "from copy import deepcopy\n",
    "from matplotlib import pyplot as plt\n",
    "import numpy as np\n",
    "\n",
    "\n",
    "def ga(facility_cost, user_facility_cost, population_size, num_generations, tournament_size, mutation_prob, elitism_size):\n",
    "    \"\"\"\n",
    "    Genetic Algorithm for UFLP\n",
    "    \n",
    "    population_size - number of individuals in a generation\n",
    "    num_generations - number of iterations of algorithm\n",
    "    elitism_size - number of best individuals that will be copied to next generation\n",
    "                 - to avoid losing them due to unlucky crossovers and mutations\n",
    "    \"\"\"\n",
    "    assert population_size >= 2\n",
    "    population = [Individual(facility_cost, user_facility_cost) for _ in range(population_size)]\n",
    "    new_population = [Individual(facility_cost, user_facility_cost) for _ in range(population_size)]\n",
    "\n",
    "    # parity of elitism_size and population_size must be the same\n",
    "    # since we are going two by two in the inner loop\n",
    "    if elitism_size % 2 != population_size % 2:\n",
    "        elitism_size += 1\n",
    "\n",
    "    best_fitnesses = []\n",
    "    for it in range(num_generations):\n",
    "        population.sort(key=lambda x: x.fitness, reverse=True)\n",
    "        best_fitnesses.append(population[0].fitness)\n",
    "        # print(population[0].fitness)\n",
    "        new_population[:elitism_size] = population[:elitism_size]\n",
    "        for i in range(elitism_size, population_size, 2):\n",
    "            # we should fill new_pop[i] and new_pop[i+1]\n",
    "            parent1 = selection(population, tournament_size)\n",
    "            # HACK: to avoid choosing parent1 again, we temporarily set its fitness to inf\n",
    "            # what if tournament_size is 1?\n",
    "            tmp, parent1.fitness = parent1.fitness, float('-inf')\n",
    "            parent2 = selection(population, tournament_size)\n",
    "            # revert change\n",
    "            parent1.fitness = tmp\n",
    "\n",
    "            # option 2 - probabilistic\n",
    "            # TODO: calculate the probability based on tournament_size\n",
    "            # what if tournament_size == population_size?\n",
    "            # parent2 = parent1\n",
    "            # while parent1 == parent2:\n",
    "            #     parent2 = selection(population, tournament_size)\n",
    "            \n",
    "            crossover(parent1, parent2, new_population[i], new_population[i+1])\n",
    "\n",
    "            mutation(new_population[i], mutation_prob)\n",
    "            mutation(new_population[i+1], mutation_prob)\n",
    "\n",
    "            new_population[i].calc_fitness()\n",
    "            new_population[i+1].calc_fitness()\n",
    "        \n",
    "        population = deepcopy(new_population)\n",
    "\n",
    "    best_individual = max(population, key=lambda x: x.fitness)\n",
    "    print(f'best fitness: {best_individual.fitness}, best code: {best_individual.code}')\n",
    "    print(np.unique(best_fitnesses))\n",
    "    plt.plot(best_fitnesses)"
   ]
  },
  {
   "cell_type": "code",
   "execution_count": 14,
   "metadata": {},
   "outputs": [
    {
     "data": {
      "text/plain": [
       "(3, 2)"
      ]
     },
     "execution_count": 14,
     "metadata": {},
     "output_type": "execute_result"
    }
   ],
   "source": [
    "x = 2\n",
    "x, tmp = 3, x\n",
    "x, tmp"
   ]
  },
  {
   "cell_type": "code",
   "execution_count": 15,
   "metadata": {},
   "outputs": [],
   "source": [
    "def read_line_of_ints(f):\n",
    "    return [int(x) for x in f.readline().split()]"
   ]
  },
  {
   "cell_type": "code",
   "execution_count": 16,
   "metadata": {},
   "outputs": [],
   "source": [
    "def read_instance(file_path: str):\n",
    "    with open(file_path, 'r') as f:\n",
    "        m, n = read_line_of_ints(f)\n",
    "        cost = [read_line_of_ints(f) for _ in range(m)]\n",
    "        facility_cost = read_line_of_ints(f)\n",
    "        return cost, facility_cost"
   ]
  },
  {
   "cell_type": "code",
   "execution_count": 17,
   "metadata": {},
   "outputs": [],
   "source": [
    "import numpy as np\n",
    "\n",
    "def read_bk_instance(file_path: str = 'BildeKrarup/B/B1.1'):\n",
    "    with open(file_path, 'r') as f:\n",
    "        f.readline()\n",
    "        num_resources, num_users, _ = read_line_of_ints(f)\n",
    "        cost = [[None for _ in range(num_users)] for _ in range(num_resources)]\n",
    "        facility_cost = [None for _ in range(num_resources)]\n",
    "        for i in range(num_resources):\n",
    "            ints = read_line_of_ints(f)\n",
    "            cost[i] = ints[2:]\n",
    "            facility_cost[i] = ints[1]\n",
    "    return np.array(cost).transpose(), facility_cost"
   ]
  },
  {
   "cell_type": "code",
   "execution_count": 18,
   "metadata": {},
   "outputs": [],
   "source": [
    "# cost, facility_cost = read_instance('..\\\\Downloads\\\\uflp1.txt')\n",
    "cost, facility_cost = read_bk_instance('..\\\\Downloads\\\\B1.1')"
   ]
  },
  {
   "cell_type": "code",
   "execution_count": 19,
   "metadata": {},
   "outputs": [
    {
     "name": "stdout",
     "output_type": "stream",
     "text": [
      "best fitness: -23468, best code: [False, False, False, False, False, False, False, False, False, False, True, False, False, True, True, False, False, False, False, False, False, False, False, False, False, False, False, False, False, False, False, False, True, False, False, False, False, False, False, False, False, False, False, True, False, False, False, False, False, False]\n",
      "[-91558 -75483 -68638 -58023 -52806 -39649 -39494 -38220 -30075 -26922\n",
      " -26278 -24183 -23919 -23897 -23468]\n"
     ]
    },
    {
     "data": {
      "image/png": "[encoded data removed]",
      "text/plain": [
       "<Figure size 640x480 with 1 Axes>"
      ]
     },
     "metadata": {},
     "output_type": "display_data"
    }
   ],
   "source": [
    "ga(facility_cost=facility_cost,\n",
    "   user_facility_cost=cost,\n",
    "   population_size=100,\n",
    "   num_generations=100,\n",
    "   tournament_size=10,\n",
    "   mutation_prob=0.05,\n",
    "   elitism_size=10,\n",
    ")"
   ]
  },
  {
   "cell_type": "code",
   "execution_count": null,
   "metadata": {},
   "outputs": [],
   "source": []
  }
 ],
 "metadata": {
  "kernelspec": {
   "display_name": "venv",
   "language": "python",
   "name": "python3"
  },
  "language_info": {
   "codemirror_mode": {
    "name": "ipython",
    "version": 3
   },
   "file_extension": ".py",
   "mimetype": "text/x-python",
   "name": "python",
   "nbconvert_exporter": "python",
   "pygments_lexer": "ipython3",
   "version": "3.10.0"
  }
 },
 "nbformat": 4,
 "nbformat_minor": 2
}
