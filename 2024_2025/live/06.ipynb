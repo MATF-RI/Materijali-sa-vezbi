{
 "cells": [
  {
   "cell_type": "markdown",
   "metadata": {},
   "source": [
    "Genetski algoritam je primer p metaheuristike, kod kojih imamo populaciju rešenja za razliku od s metaheuristika, gde smo imali samo jedno rešenje.\n",
    "Genetski algoritam je osmišljen po ugledu na biološku evoluciju.\n",
    "Sada evoluiramo rešenja nekog optimizacionog problema.\n",
    "Svaka jedinka predstavlja jedno rešenje i ima svoj kod, paralela bi bila npr. DNK, kao i funkciju prilagođenosti (fitness).\n",
    "I ovde je ideja da najprilagođenije jedinke opstaju.\n",
    "Formiramo populaciju jedinki koje evoluiramo kroz određeni broj generacija, odnosno iteracija.\n",
    "Postoje i druge opcije, ali ovde smo se odlučili da u novoj generaciji formiramo novu populaciju i da ona zameni postojeću.\n",
    "Tri glavne komponente genetskog algoritma su:\n",
    "1. selekcija - odabir jedinki za ukrštanje na osnovu njihove prilagođenosti. Dve osnovne varijante selekcije su:\n",
    "    - turnirska - odabir k slučajnih jedinki iz populacije i \"turnirsko takmičenje\" gde pobeđuje najprilagođenija od izabranih jedniki.\n",
    "    Razmisliti šta se dešava kada je k = 1, a šta kada je k = veličini populacije.\n",
    "    - ruletska - raspoređivanje svih jedinki na pristrasan ruletski točak gde je veličina isečka koji jedinka zauzima proporcionalna njenom fitnesu. Dakle, bolje prilagođene jedinke imaju veću verovatnoću da budu izabrane.\n",
    "    Razmisliti o situaciji gde je npr. jedna jedinka ubedljivo bolja od ostalih. Kako biste rešili ovakav problem?\n",
    "2. ukrštanje - formiranje novih jedinki na osnovu postojećih - u ovom slučaju formiramo dva potomka od dva roditelja. Nekoliko osnovnih varijanti ukrštanja su:\n",
    "    - jednopoziciono ukrštanje - odabir jedne slučajne tačke prekida u kodu roditeljskih jedinki i unakrsno ukrštanje kodova\n",
    "    - višepoziciono ukrštanje - analogno\n",
    "    - uniformno ukrštanje - za svaki \"gen\", u ovom slučaju bit u rešenju, bacamo novčić i na osnovu toga biramo iz kog roditelja ćemo kopirati trenutni \"gen\" u dete\n",
    "3. mutacija - sa određenom (malom) verovatnoćom na slučajan način unosimo promenu u gene deteta - u ovom slučaju negiramo bit"
   ]
  },
  {
   "cell_type": "code",
   "execution_count": null,
   "metadata": {},
   "outputs": [],
   "source": [
    "import random\n",
    "\n",
    "\n",
    "class Individual:\n",
    "    \"\"\"\n",
    "    Individual of genetic algorithm\n",
    "    code - represents one solution\n",
    "    fitness - quality of the solution\n",
    "    \"\"\"\n",
    "    def __init__(self, facility_cost, user_facility_cost):\n",
    "        self.code = [random.random() < 0.5 for _ in range(len(facility_cost))]\n",
    "        self.facility_cost = facility_cost\n",
    "        self.user_facility_cost = user_facility_cost\n",
    "\n",
    "    def calc_fitness(self):\n",
    "        \"\"\"UFLP cost - negative because we want to minimize cost, but maximize fitness\"\"\"\n",
    "        if not any(self.code):\n",
    "            return -float('inf')\n",
    "        built_schools = sum(x for i, x in enumerate(self.facility_cost) if self.code[i])\n",
    "        user_to_nearest_school = sum(min(cost for i, cost in enumerate(user) if self.code[i]) for user in self.user_facility_cost)\n",
    "        self.fitness = -(built_schools + user_to_nearest_school)"
   ]
  },
  {
   "cell_type": "code",
   "execution_count": null,
   "metadata": {},
   "outputs": [],
   "source": [
    "def selection(population: list[Individual], k: int):\n",
    "    \"\"\"\n",
    "    Tournament selection\n",
    "    1. Choose random k individuals from the population\n",
    "    2. The best of those k wins the tournament and is selected for crossover\n",
    "\n",
    "    TODO: roulette (rang) selection\n",
    "    \"\"\"\n",
    "    participants = random.sample(population, k)\n",
    "    return max(participants, key=lambda x: x.fitness)"
   ]
  },
  {
   "cell_type": "code",
   "execution_count": null,
   "metadata": {},
   "outputs": [],
   "source": [
    "def crossover(parent1, parent2, child1, child2):\n",
    "    \"\"\"\n",
    "    Single point crossover - changes children in place\n",
    "    \n",
    "    TODO:\n",
    "    1. n-point crossover - self-explanatory\n",
    "    2. uniform - for each bit flip a coin\n",
    "    \"\"\"\n",
    "    breakpoint = random.randrange(1, len(parent1.code))\n",
    "    child1.code[:breakpoint] = parent1.code[:breakpoint]\n",
    "    child1.code[breakpoint:] = parent2.code[breakpoint:]\n",
    "\n",
    "    child2.code[:breakpoint] = parent2.code[:breakpoint]\n",
    "    child2.code[breakpoint:] = parent1.code[breakpoint:]"
   ]
  },
  {
   "cell_type": "code",
   "execution_count": null,
   "metadata": {},
   "outputs": [],
   "source": [
    "def mutation(child: Individual, p: float):\n",
    "    \"\"\"\n",
    "    With probability p flip each bit\n",
    "    \"\"\"\n",
    "    # child.code = [not x if random.random() < p else x for x in child.code]\n",
    "    for i in range(len(child.code)):\n",
    "        if random.random() < p:\n",
    "            child.code[i] = not child.code[i]"
   ]
  },
  {
   "cell_type": "code",
   "execution_count": null,
   "metadata": {},
   "outputs": [],
   "source": [
    "from copy import deepcopy\n",
    "\n",
    "\n",
    "def ga(facility_cost, user_facility_cost, population_size, num_generations, tournament_size, mutation_prob, elitism_size):\n",
    "    \"\"\"\n",
    "    Genetic Algorithm for UFLP\n",
    "    \n",
    "    population_size - number of individuals in a generation\n",
    "    num_generations - number of iterations of algorithm\n",
    "    elitism_size - number of best individuals that will be copied to next generation\n",
    "                 - to avoid losing them due to unlucky crossovers and mutations\n",
    "    \"\"\"\n",
    "    population = [Individual(facility_cost, user_facility_cost) for _ in range(population_size)]\n",
    "    new_population = [Individual(facility_cost, user_facility_cost) for _ in range(population_size)]\n",
    "\n",
    "    # parity of elitism_size and population_size must be the same\n",
    "    # since we are going two by two in the inner loop\n",
    "    if elitism_size % 2 != population_size % 2:\n",
    "        elitism_size += 1\n",
    "\n",
    "    for it in range(num_generations):\n",
    "        population.sort(key=lambda x: x.fitness)\n",
    "        new_population[:elitism_size] = population[:elitism_size]\n",
    "        for i in range(elitism_size, population_size, step=2):\n",
    "            # we should fill new_pop[i] and new_pop[i+1]\n",
    "            parent1 = selection(population, tournament_size)\n",
    "            # TODO think about repetitions\n",
    "            parent2 = selection(population, tournament_size)\n",
    "            \n",
    "            crossover(parent1, parent2, new_population[i], new_population[i+1])\n",
    "\n",
    "            mutation(new_population[i], mutation_prob)\n",
    "            mutation(new_population[i+1], mutation_prob)\n",
    "\n",
    "            new_population[i].calc_fitness()\n",
    "            new_population[i+1].calc_fitness()\n",
    "        \n",
    "        population = deepcopy(new_population)\n",
    "\n",
    "    return max(population, key=lambda x: x.fitness)"
   ]
  },
  {
   "cell_type": "code",
   "execution_count": null,
   "metadata": {},
   "outputs": [],
   "source": [
    "# TODO test"
   ]
  }
 ],
 "metadata": {
  "kernelspec": {
   "display_name": "venv",
   "language": "python",
   "name": "python3"
  },
  "language_info": {
   "codemirror_mode": {
    "name": "ipython",
    "version": 3
   },
   "file_extension": ".py",
   "mimetype": "text/x-python",
   "name": "python",
   "nbconvert_exporter": "python",
   "pygments_lexer": "ipython3",
   "version": "3.10.0"
  }
 },
 "nbformat": 4,
 "nbformat_minor": 2
}
