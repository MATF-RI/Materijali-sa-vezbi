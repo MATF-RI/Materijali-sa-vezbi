{
 "cells": [
  {
   "cell_type": "code",
   "execution_count": 53,
   "metadata": {},
   "outputs": [],
   "source": [
    "import random\n",
    "from copy import deepcopy"
   ]
  },
  {
   "cell_type": "code",
   "execution_count": 54,
   "metadata": {},
   "outputs": [
    {
     "data": {
      "text/plain": [
       "14"
      ]
     },
     "execution_count": 54,
     "metadata": {},
     "output_type": "execute_result"
    }
   ],
   "source": [
    "eval('2+3*4')"
   ]
  },
  {
   "cell_type": "code",
   "execution_count": 55,
   "metadata": {},
   "outputs": [],
   "source": [
    "class Individual:\n",
    "    def __init__(self, num_operators, num_operands, lb, ub, goal):\n",
    "#                     0    1    2   3  4  5  6\n",
    "# 2k+1, 2k+2\n",
    "#         self.code = [op1, op2, op3, a, b, c, d]\n",
    "# PLUS -> +\n",
    "        self.num_operators = num_operators\n",
    "        self.goal = goal\n",
    "        self.code = []\n",
    "        for i in range(num_operators):\n",
    "            self.code.append(self.random_operator())\n",
    "        for i in range(num_operands):\n",
    "            self.code.append(self.random_terminal(lb, ub))\n",
    "        self.fitness = self.calc_fitness()\n",
    "        \n",
    "    def random_operator(self):\n",
    "        return random.choice(['+', '-', '*'])\n",
    "    \n",
    "    def random_terminal(self, lb, ub):\n",
    "        return random.randint(lb, ub)\n",
    "    \n",
    "    def __str__(self):\n",
    "        return f'({self.code[3]} {self.code[1]} {self.code[4]}) {self.code[0]} ({self.code[5]} {self.code[2]} {self.code[6]})'\n",
    "        \n",
    "    def __lt__(self, other):\n",
    "        return self.fitness < other.fitness\n",
    "    \n",
    "    def calc_fitness(self):\n",
    "        value = eval(str(self))\n",
    "        return -abs(value - self.goal)"
   ]
  },
  {
   "cell_type": "code",
   "execution_count": 56,
   "metadata": {},
   "outputs": [
    {
     "name": "stdout",
     "output_type": "stream",
     "text": [
      "(2 - -6) - (1 * -2)\n",
      "-127\n"
     ]
    }
   ],
   "source": [
    "i = Individual(3, 4, -10, 10, 137)\n",
    "print(i)\n",
    "print(i.fitness)"
   ]
  },
  {
   "cell_type": "code",
   "execution_count": 57,
   "metadata": {},
   "outputs": [],
   "source": [
    "def selection(population, tournament_size):\n",
    "    participants = random.sample(population, tournament_size)\n",
    "    winner = max(participants)\n",
    "    return winner"
   ]
  },
  {
   "cell_type": "code",
   "execution_count": 58,
   "metadata": {},
   "outputs": [],
   "source": [
    "def get_subtree(root_index, subtree_indices, num_nodes):\n",
    "    if root_index < num_nodes:\n",
    "        subtree_indices.append(root_index)\n",
    "        get_subtree(2 * root_index + 1, subtree_indices, num_nodes)\n",
    "        get_subtree(2 * root_index + 2, subtree_indices, num_nodes)"
   ]
  },
  {
   "cell_type": "code",
   "execution_count": 59,
   "metadata": {},
   "outputs": [],
   "source": [
    "def crossover(parent1, parent2, child1, child2):\n",
    "    root_index = random.randrange(len(parent1.code))\n",
    "#     subtree_indices = [2*i+1 for i in range(root_index, )]\n",
    "    subtree_indices = []\n",
    "    get_subtree(root_index, subtree_indices, num_nodes=len(parent1.code))\n",
    "    for i in range(len(parent1.code)):\n",
    "        if i in subtree_indices:\n",
    "            child1.code[i] = parent2.code[i]\n",
    "            child2.code[i] = parent1.code[i]\n",
    "        else:\n",
    "            child1.code[i] = parent1.code[i]\n",
    "            child2.code[i] = parent2.code[i]"
   ]
  },
  {
   "cell_type": "code",
   "execution_count": 71,
   "metadata": {},
   "outputs": [],
   "source": [
    "def mutation(child, prob):\n",
    "    for i in range(len(child.code)):\n",
    "        if random.random() < prob:\n",
    "            if i < child.num_operators:\n",
    "                child.code[i] = child.random_operator()\n",
    "            else:\n",
    "                child.code[i] += child.random_terminal(-10, 10)"
   ]
  },
  {
   "cell_type": "code",
   "execution_count": 72,
   "metadata": {},
   "outputs": [],
   "source": [
    "def gp(pop_size, num_iters, elitism_size, mutation_prob, goal, tournament_size):\n",
    "    if (pop_size - elitism_size) % 2 == 1:\n",
    "        elitism_size -= 1\n",
    "    \n",
    "    population = [Individual(num_operators=3, num_operands=4, lb=-10, ub=10, goal=goal) for _ in range(pop_size)]\n",
    "    new_population = [Individual(num_operators=3, num_operands=4, lb=-10, ub=10, goal=goal) for _ in range(pop_size)]\n",
    "    \n",
    "    for it in range(num_iters):\n",
    "        population.sort(reverse=True)\n",
    "        if population[0].fitness == 0:\n",
    "            break\n",
    "        new_population[:elitism_size] = population[:elitism_size]\n",
    "        \n",
    "        for i in range(elitism_size, pop_size, 2):\n",
    "            parent1 = selection(population, tournament_size)\n",
    "            parent2 = selection(population, tournament_size)\n",
    "            \n",
    "            crossover(parent1, parent2, new_population[i], new_population[i+1])\n",
    "            \n",
    "            mutation(new_population[i], mutation_prob)\n",
    "            mutation(new_population[i+1], mutation_prob)\n",
    "            \n",
    "            new_population[i].fitness = new_population[i].calc_fitness()\n",
    "            new_population[i+1].fitness = new_population[i+1].calc_fitness()\n",
    "            \n",
    "        population = deepcopy(new_population)\n",
    "        \n",
    "    best = max(population)\n",
    "    print(best)\n",
    "    print(best.fitness)"
   ]
  },
  {
   "cell_type": "code",
   "execution_count": 73,
   "metadata": {},
   "outputs": [
    {
     "name": "stdout",
     "output_type": "stream",
     "text": [
      "(-9 * -53) * (14 - -7)\n",
      "-16\n"
     ]
    }
   ],
   "source": [
    "gp(50, 2000, 10, 0.1, goal=10001, tournament_size=5)"
   ]
  },
  {
   "cell_type": "code",
   "execution_count": null,
   "metadata": {},
   "outputs": [],
   "source": []
  },
  {
   "cell_type": "code",
   "execution_count": null,
   "metadata": {},
   "outputs": [],
   "source": []
  },
  {
   "cell_type": "code",
   "execution_count": null,
   "metadata": {},
   "outputs": [],
   "source": []
  }
 ],
 "metadata": {
  "kernelspec": {
   "display_name": "Python 3",
   "language": "python",
   "name": "python3"
  },
  "language_info": {
   "codemirror_mode": {
    "name": "ipython",
    "version": 3
   },
   "file_extension": ".py",
   "mimetype": "text/x-python",
   "name": "python",
   "nbconvert_exporter": "python",
   "pygments_lexer": "ipython3",
   "version": "3.7.6"
  }
 },
 "nbformat": 4,
 "nbformat_minor": 4
}
