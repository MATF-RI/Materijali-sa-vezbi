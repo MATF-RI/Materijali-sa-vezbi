{
 "cells": [
  {
   "cell_type": "code",
   "execution_count": 20,
   "metadata": {},
   "outputs": [],
   "source": [
    "class Indivudal:\n",
    "    def __init__(self, cost, fixed_cost):\n",
    "        self.code = [random.random() < 0.25 for _ in range(len(fixed_cost))]\n",
    "        self.fitness = self.calc_fitness(cost, fixed_cost)\n",
    "        \n",
    "#     def __lt__(self, other):\n",
    "#         return self.fitness < other.fitness\n",
    "    \n",
    "    def calc_fitness(self, cost, fixed_cost):\n",
    "        if sum(self.code) == 0:\n",
    "            return 0\n",
    "        \n",
    "        fitness = 0\n",
    "        num_users = len(cost)\n",
    "        num_resources = len(fixed_cost)\n",
    "        for i in range(num_users):\n",
    "#             min_cost = float('inf')\n",
    "#             for j in range(num_resources):\n",
    "#                 if self.code[j] and cost[i][j] < min_cost:\n",
    "#                     min_cost = cost[i][j]\n",
    "#             fitness += min_cost\n",
    "            fitness += min(map(lambda pair: pair[1],\n",
    "                            filter(lambda pair: self.code[pair[0]],\n",
    "                                   enumerate(cost[i])\n",
    "                                  )\n",
    "                              )\n",
    "                          )\n",
    "\n",
    "#         for j in range(num_resources):\n",
    "#             if self.code[j]:\n",
    "#                 fitness += fixed_cost[j]\n",
    "        fitness += sum(\n",
    "                        map(\n",
    "                            lambda pair: pair[1],\n",
    "                            filter(\n",
    "                                lambda pair: self.code[pair[0]],\n",
    "                                enumerate(fixed_cost)\n",
    "                                  )\n",
    "                              )\n",
    "                      )\n",
    "\n",
    "        return 1 / fitness\n",
    "        \n",
    "#         drugi nacin\n",
    "#         najgori slucaj - saberemo sve iz cost i fixed_cost\n",
    "#         return -fitness"
   ]
  },
  {
   "cell_type": "code",
   "execution_count": 21,
   "metadata": {},
   "outputs": [],
   "source": [
    "def read_instance(file_path):\n",
    "    with open(file_path, 'r') as f:\n",
    "        num_users, num_resources = [int(x) for x in f.readline().split()]\n",
    "        cost = [[int(x) for x in f.readline().split()] for i in range(num_users)]\n",
    "        fixed_cost = [int(x) for x in f.readline().split()]\n",
    "        return cost, fixed_cost"
   ]
  },
  {
   "cell_type": "code",
   "execution_count": 22,
   "metadata": {},
   "outputs": [],
   "source": [
    "import random"
   ]
  },
  {
   "cell_type": "code",
   "execution_count": 23,
   "metadata": {},
   "outputs": [],
   "source": [
    "cost, fixed_cost = read_instance('../03/uflp1.txt')"
   ]
  },
  {
   "cell_type": "code",
   "execution_count": 24,
   "metadata": {},
   "outputs": [],
   "source": [
    "def selection(population, tournament_size, forbidden):\n",
    "    allowed = list(set(population).difference({forbidden}))\n",
    "    chosen = random.sample(allowed, tournament_size)\n",
    "    max_fitness = float('-inf')\n",
    "    best_idx = -1\n",
    "    for idx, i in enumerate(chosen):\n",
    "        if i.fitness > max_fitness:\n",
    "            max_fitness = i.fitness\n",
    "            best_idx = idx\n",
    "    return best_idx"
   ]
  },
  {
   "cell_type": "code",
   "execution_count": 33,
   "metadata": {},
   "outputs": [],
   "source": [
    "def mutation(child, mutation_prob):\n",
    "    for i in range(len(child.code)):\n",
    "        if random.random() < mutation_prob:\n",
    "            child.code[i] = not child.code[i]"
   ]
  },
  {
   "cell_type": "code",
   "execution_count": 30,
   "metadata": {},
   "outputs": [],
   "source": [
    "def crossover(parent1, parent2, child1, child2):\n",
    "    pos = random.randrange(1, len(parent1.code))\n",
    "    \n",
    "    child1.code[:pos] = parent1.code[:pos]\n",
    "    child1.code[pos:] = parent2.code[pos:]\n",
    "    \n",
    "    child2.code[:pos] = parent2.code[:pos]\n",
    "    child2.code[pos:] = parent1.code[pos:]"
   ]
  },
  {
   "cell_type": "code",
   "execution_count": 41,
   "metadata": {},
   "outputs": [],
   "source": [
    "def ga(pop_size, num_iters, tournament_size, mutation_prob, use_elitism, elitism_size):\n",
    "    if (pop_size - elitism_size) % 2 == 1:\n",
    "        elitism_size += 1\n",
    "    \n",
    "    population = [Indivudal(cost, fixed_cost) for _ in range(pop_size)]\n",
    "    new_population = [Indivudal(cost, fixed_cost) for _ in range(pop_size)]\n",
    "    for _ in range(num_iters):\n",
    "        if use_elitism:\n",
    "            population.sort(key=lambda x: x.fitness, reverse=True)\n",
    "            \n",
    "            new_population[:elitism_size] = population[:elitism_size]\n",
    "            \n",
    "        for i in range(elitism_size, pop_size, 2):\n",
    "            parent1_idx = selection(population, tournament_size, None)\n",
    "            parent2_idx = selection(population, tournament_size, parent1_idx)\n",
    "            \n",
    "            crossover(population[parent1_idx],\n",
    "                      population[parent2_idx],\n",
    "                      new_population[i],\n",
    "                      new_population[i+1])\n",
    "            \n",
    "            mutation(new_population[i], mutation_prob)\n",
    "            mutation(new_population[i+1], mutation_prob)\n",
    "            \n",
    "            \n",
    "        \n",
    "        population[:] = new_population[:]\n",
    "    \n",
    "    best_individual = max(population, key=lambda x: x.fitness)\n",
    "    print(best_individual.code)\n",
    "    print(best_individual.fitness)\n",
    "    print(1 / best_individual.fitness)"
   ]
  },
  {
   "cell_type": "code",
   "execution_count": 42,
   "metadata": {},
   "outputs": [
    {
     "name": "stdout",
     "output_type": "stream",
     "text": [
      "[True, False, False]\n",
      "0.029411764705882353\n",
      "34.0\n"
     ]
    }
   ],
   "source": [
    "ga(100, 10, 5, 0.05, True, 19)"
   ]
  },
  {
   "cell_type": "code",
   "execution_count": null,
   "metadata": {},
   "outputs": [],
   "source": []
  }
 ],
 "metadata": {
  "kernelspec": {
   "display_name": "Python 3",
   "language": "python",
   "name": "python3"
  },
  "language_info": {
   "codemirror_mode": {
    "name": "ipython",
    "version": 3
   },
   "file_extension": ".py",
   "mimetype": "text/x-python",
   "name": "python",
   "nbconvert_exporter": "python",
   "pygments_lexer": "ipython3",
   "version": "3.7.6"
  }
 },
 "nbformat": 4,
 "nbformat_minor": 4
}
