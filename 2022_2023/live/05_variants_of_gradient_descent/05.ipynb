{
 "cells": [
  {
   "cell_type": "code",
   "execution_count": 35,
   "metadata": {},
   "outputs": [],
   "source": [
    "import numpy as np"
   ]
  },
  {
   "cell_type": "code",
   "execution_count": 36,
   "metadata": {},
   "outputs": [],
   "source": [
    "# def alpha(i):\n",
    "#     return 1 / i"
   ]
  },
  {
   "cell_type": "code",
   "execution_count": 37,
   "metadata": {},
   "outputs": [],
   "source": [
    "def gradient_descent(f, x0, alpha, num_iters, eps):\n",
    "    result = {}\n",
    "    \n",
    "    x = x0\n",
    "    \n",
    "    for i in range(num_iters):\n",
    "        x_new = x - alpha*gradient(x)\n",
    "        \n",
    "        if abs(f(x_new) - f(x)) < eps:\n",
    "            result['converged'] = True\n",
    "            break\n",
    "        \n",
    "        x = x_new\n",
    "    else:\n",
    "        result['converged'] = False\n",
    "    result['iter'] = i\n",
    "    result['x'] = x\n",
    "    return result"
   ]
  },
  {
   "cell_type": "code",
   "execution_count": 38,
   "metadata": {},
   "outputs": [],
   "source": [
    "def f(x):\n",
    "    return 0.5*(x[0]**2 + 10*x[1]**2)"
   ]
  },
  {
   "cell_type": "code",
   "execution_count": 39,
   "metadata": {},
   "outputs": [],
   "source": [
    "def gradient(x):\n",
    "    return np.array([x[0], 10*x[1]])"
   ]
  },
  {
   "cell_type": "code",
   "execution_count": 40,
   "metadata": {},
   "outputs": [],
   "source": [
    "x0 = np.array([2,5])\n",
    "alpha = 0.1\n",
    "num_iters = 1000\n",
    "eps = 0.0001"
   ]
  },
  {
   "cell_type": "code",
   "execution_count": 41,
   "metadata": {},
   "outputs": [
    {
     "data": {
      "text/plain": [
       "{'converged': True, 'iter': 40, 'x': array([0.02956177, 0.        ])}"
      ]
     },
     "execution_count": 41,
     "metadata": {},
     "output_type": "execute_result"
    }
   ],
   "source": [
    "gradient_descent(f, x0, alpha, num_iters, eps)"
   ]
  },
  {
   "cell_type": "code",
   "execution_count": null,
   "metadata": {},
   "outputs": [],
   "source": []
  },
  {
   "cell_type": "code",
   "execution_count": 42,
   "metadata": {},
   "outputs": [],
   "source": [
    "def momentum(f, x0, alpha, num_iters, eps, beta):\n",
    "    x = x0\n",
    "    result = {}\n",
    "    \n",
    "    d = 0\n",
    "    \n",
    "    for i in range(num_iters):\n",
    "        d = beta * d - alpha * gradient(x)\n",
    "        x_new = x + d\n",
    "        \n",
    "        if abs(f(x_new) - f(x)) < eps:\n",
    "            result['converged'] = True\n",
    "            break\n",
    "        \n",
    "        x = x_new\n",
    "    else:\n",
    "        result['converged'] = False\n",
    "    result['iter'] = i\n",
    "    result['x'] = x\n",
    "    return result"
   ]
  },
  {
   "cell_type": "code",
   "execution_count": 43,
   "metadata": {},
   "outputs": [
    {
     "data": {
      "text/plain": [
       "{'converged': True, 'iter': 19, 'x': array([-0.00011178, -0.00162125])}"
      ]
     },
     "execution_count": 43,
     "metadata": {},
     "output_type": "execute_result"
    }
   ],
   "source": [
    "momentum(f, x0, alpha, num_iters, eps, beta=0.5)"
   ]
  },
  {
   "cell_type": "code",
   "execution_count": 44,
   "metadata": {},
   "outputs": [],
   "source": [
    "def nesterov(f, x0, alpha, num_iters, eps, beta):\n",
    "    x = x0\n",
    "    result = {}\n",
    "    \n",
    "    d = 0\n",
    "    \n",
    "    for i in range(num_iters):\n",
    "        d = beta * d\n",
    "        d = d - alpha * gradient(x + d)\n",
    "        x_new = x + d\n",
    "        \n",
    "        if abs(f(x_new) - f(x)) < eps:\n",
    "            result['converged'] = True\n",
    "            break\n",
    "        \n",
    "        x = x_new\n",
    "    else:\n",
    "        result['converged'] = False\n",
    "    result['iter'] = i\n",
    "    result['x'] = x\n",
    "    return result"
   ]
  },
  {
   "cell_type": "code",
   "execution_count": 45,
   "metadata": {},
   "outputs": [
    {
     "data": {
      "text/plain": [
       "{'converged': True, 'iter': 19, 'x': array([0.01679126, 0.        ])}"
      ]
     },
     "execution_count": 45,
     "metadata": {},
     "output_type": "execute_result"
    }
   ],
   "source": [
    "nesterov(f, x0, alpha, num_iters, eps, beta=0.5)"
   ]
  },
  {
   "cell_type": "code",
   "execution_count": 48,
   "metadata": {},
   "outputs": [],
   "source": [
    "def adam(f, x0, alpha, num_iters, eps, beta1, beta2, delta):\n",
    "    x = x0\n",
    "    result = {}\n",
    "    \n",
    "    m = 0\n",
    "    v = 0\n",
    "    for i in range(1, num_iters+1):\n",
    "        grad = gradient(x)\n",
    "        m = beta1 * m + (1 - beta1) * grad \n",
    "        v = beta2 * v + (1 - beta2) * grad**2\n",
    "\n",
    "        m_hat = m / (1 - beta1**i)\n",
    "        v_hat = v / (1 - beta2**i)\n",
    "        \n",
    "        x_new = x - m_hat / (np.sqrt(v_hat) + delta)\n",
    "        \n",
    "        if abs(f(x_new) - f(x)) < eps:\n",
    "            result['converged'] = True\n",
    "            break\n",
    "        \n",
    "        x = x_new\n",
    "    else:\n",
    "        result['converged'] = False\n",
    "    result['iter'] = i\n",
    "    result['x'] = x\n",
    "    return result"
   ]
  },
  {
   "cell_type": "code",
   "execution_count": 49,
   "metadata": {},
   "outputs": [
    {
     "data": {
      "text/plain": [
       "{'converged': True, 'iter': 100, 'x': array([-0.00662001, -0.02229997])}"
      ]
     },
     "execution_count": 49,
     "metadata": {},
     "output_type": "execute_result"
    }
   ],
   "source": [
    "adam(f, x0, alpha, num_iters, eps, beta1=0.9, beta2=0.999, delta=1e-6)"
   ]
  },
  {
   "cell_type": "code",
   "execution_count": null,
   "metadata": {},
   "outputs": [],
   "source": []
  }
 ],
 "metadata": {
  "kernelspec": {
   "display_name": "Python 3",
   "language": "python",
   "name": "python3"
  },
  "language_info": {
   "codemirror_mode": {
    "name": "ipython",
    "version": 3
   },
   "file_extension": ".py",
   "mimetype": "text/x-python",
   "name": "python",
   "nbconvert_exporter": "python",
   "pygments_lexer": "ipython3",
   "version": "3.7.6"
  }
 },
 "nbformat": 4,
 "nbformat_minor": 4
}
