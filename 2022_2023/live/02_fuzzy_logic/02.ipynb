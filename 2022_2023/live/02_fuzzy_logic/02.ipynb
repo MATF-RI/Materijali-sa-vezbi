{
 "cells": [
  {
   "cell_type": "code",
   "execution_count": 7,
   "metadata": {},
   "outputs": [],
   "source": [
    "from collections import namedtuple"
   ]
  },
  {
   "cell_type": "code",
   "execution_count": 16,
   "metadata": {},
   "outputs": [],
   "source": [
    "Point = namedtuple(\"Point\", ['x', 'y'])"
   ]
  },
  {
   "cell_type": "code",
   "execution_count": null,
   "metadata": {},
   "outputs": [],
   "source": []
  },
  {
   "cell_type": "code",
   "execution_count": 22,
   "metadata": {},
   "outputs": [],
   "source": [
    "class FuzzyInput:\n",
    "    def __init__(self, name, points, x_test):\n",
    "        self.name = name\n",
    "        self.points = points\n",
    "        self.x_test = x_test\n",
    "        self.mu = self.calcMu()\n",
    "        \n",
    "    def calcMu(self):\n",
    "        if self.x_test <= self.points[0].x:\n",
    "            return self.points[0].y\n",
    "        elif self.x_test >= self.points[-1].x:\n",
    "            return self.points[-1].y\n",
    "        \n",
    "        for p1, p2 in zip(self.points, self.points[1:]):\n",
    "            if self.x_test >= p1.x and self.x_test <= p2.x:\n",
    "                return FuzzyInput.line_through_two_points(p1, p2)(self.x_test)\n",
    "        \n",
    "    @staticmethod\n",
    "    def line_through_two_points(a, b):\n",
    "        c = (b.x - a.x) / (b.y - a.y)\n",
    "        return lambda x_test: (x_test - a.x) / c + a.y"
   ]
  },
  {
   "cell_type": "code",
   "execution_count": 23,
   "metadata": {},
   "outputs": [],
   "source": [
    "x = FuzzyInput('mala', [Point(3,1), Point(10,0)], 9)"
   ]
  },
  {
   "cell_type": "code",
   "execution_count": 27,
   "metadata": {},
   "outputs": [
    {
     "data": {
      "text/plain": [
       "0.1428571428571429"
      ]
     },
     "execution_count": 27,
     "metadata": {},
     "output_type": "execute_result"
    }
   ],
   "source": [
    "x.mu"
   ]
  },
  {
   "cell_type": "code",
   "execution_count": 28,
   "metadata": {},
   "outputs": [],
   "source": [
    "from statistics import mean"
   ]
  },
  {
   "cell_type": "code",
   "execution_count": 37,
   "metadata": {},
   "outputs": [],
   "source": [
    "class FuzzyOutput:\n",
    "    def __init__(self, name, points):\n",
    "        self.name = name\n",
    "        self.points = points\n",
    "        self.mu = 0\n",
    "        self.c = self.calcC()\n",
    "        \n",
    "    def calcC(self):\n",
    "        return mean([p.x for p in self.points if p.y == 1])\n",
    "#         return mean(map(lambda p: p.x, filter(lambda p: p.y == 1, self.points)))"
   ]
  },
  {
   "cell_type": "code",
   "execution_count": 38,
   "metadata": {},
   "outputs": [],
   "source": [
    "y = FuzzyOutput('asjaskl', [Point(7,0), Point(15,1), Point(25,1), Point(40,0)])"
   ]
  },
  {
   "cell_type": "code",
   "execution_count": 45,
   "metadata": {},
   "outputs": [
    {
     "data": {
      "text/plain": [
       "20"
      ]
     },
     "execution_count": 45,
     "metadata": {},
     "output_type": "execute_result"
    }
   ],
   "source": [
    "y.c"
   ]
  },
  {
   "cell_type": "code",
   "execution_count": 73,
   "metadata": {},
   "outputs": [],
   "source": [
    "from enum import Enum, unique, auto\n",
    "\n",
    "# @unique\n",
    "class LogicOp(Enum):\n",
    "    AND = auto()\n",
    "    OR = auto()\n",
    "    XOR = auto()"
   ]
  },
  {
   "cell_type": "code",
   "execution_count": 71,
   "metadata": {},
   "outputs": [
    {
     "data": {
      "text/plain": [
       "<LogicOp.XOR: 3>"
      ]
     },
     "execution_count": 71,
     "metadata": {},
     "output_type": "execute_result"
    }
   ],
   "source": [
    "LogicOp.XOR"
   ]
  },
  {
   "cell_type": "code",
   "execution_count": 49,
   "metadata": {},
   "outputs": [
    {
     "data": {
      "text/plain": [
       "<LogicOp.AND: 0>"
      ]
     },
     "execution_count": 49,
     "metadata": {},
     "output_type": "execute_result"
    }
   ],
   "source": [
    "LogicOp.AND"
   ]
  },
  {
   "cell_type": "code",
   "execution_count": 55,
   "metadata": {},
   "outputs": [],
   "source": [
    "class Rule:\n",
    "    def __init__(self, input1, input2, output, operator):\n",
    "        if operator == LogicOp.AND:\n",
    "            output.mu = max(output.mu, min(input1.mu, input2.mu))\n",
    "        else:\n",
    "            output.mu = max(output.mu, max(input1.mu, input2.mu))"
   ]
  },
  {
   "cell_type": "code",
   "execution_count": null,
   "metadata": {},
   "outputs": [],
   "source": []
  },
  {
   "cell_type": "code",
   "execution_count": null,
   "metadata": {},
   "outputs": [],
   "source": []
  },
  {
   "cell_type": "code",
   "execution_count": null,
   "metadata": {},
   "outputs": [],
   "source": []
  },
  {
   "cell_type": "code",
   "execution_count": 56,
   "metadata": {},
   "outputs": [],
   "source": [
    "potrosnja = []\n",
    "potrosnja.append(FuzzyInput('mala', [Point(3,1), Point(10, 0)],9))\n",
    "potrosnja.append(FuzzyInput('srednja', [Point(7,0), Point(10, 1), \n",
    "                                        Point(12,1), Point(15,0)],9))\n",
    "potrosnja.append(FuzzyInput('velika', [Point(12,1), Point(15, 0)],9))\n",
    "\n",
    "pouzdanost = []\n",
    "pouzdanost.append(FuzzyInput('visoka', [Point(5,1),Point(10,0)], 8))\n",
    "pouzdanost.append(FuzzyInput('niska', [Point(8,0),Point(15,1)], 8))\n",
    "\n",
    "vrednost = []\n",
    "vrednost.append(FuzzyOutput('mala', [Point(7,1),Point(15,0)]))\n",
    "vrednost.append(FuzzyOutput('srednja', [Point(7,0),Point(15,1),\n",
    "                                        Point(25,1), Point(40,0)]))\n",
    "vrednost.append(FuzzyOutput('velika', [Point(25,0),Point(40,1)]))\n",
    "\n",
    "rules = []\n",
    "rules.append(Rule(potrosnja[0], pouzdanost[0], vrednost[2], LogicOp.AND))\n",
    "rules.append(Rule(potrosnja[0], pouzdanost[1], vrednost[1], LogicOp.AND))\n",
    "rules.append(Rule(potrosnja[1], pouzdanost[0], vrednost[1], LogicOp.AND))\n",
    "rules.append(Rule(potrosnja[1], pouzdanost[1], vrednost[1], LogicOp.AND))\n",
    "rules.append(Rule(potrosnja[2], pouzdanost[0], vrednost[1], LogicOp.AND))\n",
    "rules.append(Rule(potrosnja[2], pouzdanost[1], vrednost[0], LogicOp.AND))\n"
   ]
  },
  {
   "cell_type": "code",
   "execution_count": 57,
   "metadata": {},
   "outputs": [],
   "source": [
    "def defuzzify(ys):\n",
    "    a = 0\n",
    "    b = 0\n",
    "    for y in ys:\n",
    "        a += y.mu * y.c\n",
    "        b += y.mu\n",
    "    return a / b"
   ]
  },
  {
   "cell_type": "code",
   "execution_count": 58,
   "metadata": {},
   "outputs": [
    {
     "data": {
      "text/plain": [
       "25.263157894736842"
      ]
     },
     "execution_count": 58,
     "metadata": {},
     "output_type": "execute_result"
    }
   ],
   "source": [
    "defuzzify(vrednost)"
   ]
  },
  {
   "cell_type": "code",
   "execution_count": null,
   "metadata": {},
   "outputs": [],
   "source": []
  }
 ],
 "metadata": {
  "kernelspec": {
   "display_name": "Python 3",
   "language": "python",
   "name": "python3"
  },
  "language_info": {
   "codemirror_mode": {
    "name": "ipython",
    "version": 3
   },
   "file_extension": ".py",
   "mimetype": "text/x-python",
   "name": "python",
   "nbconvert_exporter": "python",
   "pygments_lexer": "ipython3",
   "version": "3.7.6"
  }
 },
 "nbformat": 4,
 "nbformat_minor": 4
}
