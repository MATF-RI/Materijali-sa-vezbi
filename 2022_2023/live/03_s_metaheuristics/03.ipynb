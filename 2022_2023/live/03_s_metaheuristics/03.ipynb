{
 "cells": [
  {
   "cell_type": "code",
   "execution_count": 53,
   "metadata": {},
   "outputs": [],
   "source": [
    "import random\n",
    "from copy import deepcopy"
   ]
  },
  {
   "cell_type": "code",
   "execution_count": 54,
   "metadata": {},
   "outputs": [],
   "source": [
    "def is_feasible(solution):\n",
    "    return any(solution)"
   ]
  },
  {
   "cell_type": "code",
   "execution_count": 55,
   "metadata": {},
   "outputs": [],
   "source": [
    "def initialize(num_resources):\n",
    "# True, False, False, False, True\n",
    "    solution = [random.random() < 0.25 for _ in range(num_resources)]\n",
    "    if not is_feasible(solution):\n",
    "        random_resource = random.randrange(0, num_resources)\n",
    "        solution[random_resource] = True\n",
    "    return solution"
   ]
  },
  {
   "cell_type": "code",
   "execution_count": 56,
   "metadata": {},
   "outputs": [],
   "source": [
    "def calc_solution_value(solution, cost, fixed_cost):\n",
    "#     cost.shape = (num_users, num_resources)\n",
    "# fixed_cost.shape = (num_resources, )\n",
    "    num_users = len(cost)\n",
    "    num_resources = len(fixed_cost)\n",
    "    value = 0\n",
    "    used_resources = [False for _ in range(num_resources)]\n",
    "    for i in range(num_users):\n",
    "        min_cost = float('inf')\n",
    "        used_resource = -1\n",
    "        for j in range(num_resources):\n",
    "            if solution[j] and cost[i][j] < min_cost:\n",
    "                min_cost = cost[i][j]\n",
    "                used_resource = j\n",
    "        value += min_cost\n",
    "        used_resources[used_resource] = True\n",
    "        \n",
    "    for j, resource in enumerate(used_resources):\n",
    "        if resource:\n",
    "            value += fixed_cost[j]\n",
    "            solution[j] = True\n",
    "        else:\n",
    "            solution[j] = False\n",
    "    \n",
    "    return value"
   ]
  },
  {
   "cell_type": "code",
   "execution_count": 70,
   "metadata": {},
   "outputs": [],
   "source": [
    "def make_small_change(solution):\n",
    "    new_solution = deepcopy(solution)\n",
    "    random_resource = random.randrange(0, len(new_solution))\n",
    "    new_solution[random_resource] = not new_solution[random_resource]\n",
    "    if is_feasible(new_solution):\n",
    "        return new_solution\n",
    "    else:\n",
    "#         random_resource - jedini True\n",
    "        allowed_resources = set(range(0, len(new_solution))).difference({random_resource})\n",
    "        new_random_resource = random.choice(list(allowed_resources))\n",
    "        new_solution[new_random_resource] = not new_solution[new_random_resource]\n",
    "        new_solution[random_resource] = not new_solution[random_resource]\n",
    "        return new_solution"
   ]
  },
  {
   "cell_type": "code",
   "execution_count": 71,
   "metadata": {},
   "outputs": [],
   "source": [
    "def local_search(cost, fixed_cost, max_iters):\n",
    "    solution = initialize(len(fixed_cost))\n",
    "    value = calc_solution_value(solution, cost, fixed_cost)\n",
    "    \n",
    "    for i in range(max_iters):\n",
    "        new_solution = make_small_change(solution)\n",
    "        new_value = calc_solution_value(new_solution, cost, fixed_cost)\n",
    "        \n",
    "        if new_value < value:\n",
    "            value = new_value\n",
    "            solution = deepcopy(new_solution)\n",
    "    \n",
    "    return solution, value"
   ]
  },
  {
   "cell_type": "code",
   "execution_count": 72,
   "metadata": {},
   "outputs": [],
   "source": [
    "def read_instance(file_path):\n",
    "    with open(file_path, 'r') as f:\n",
    "        num_users, num_resources = [int(x) for x in f.readline().split()]\n",
    "        cost = [[int(x) for x in f.readline().split()] for _ in range(num_users)]\n",
    "        fixed_cost = [int(x) for x in f.readline().split()]\n",
    "        return cost, fixed_cost"
   ]
  },
  {
   "cell_type": "code",
   "execution_count": 79,
   "metadata": {},
   "outputs": [
    {
     "data": {
      "text/plain": [
       "([True, False, False], 34)"
      ]
     },
     "execution_count": 79,
     "metadata": {},
     "output_type": "execute_result"
    }
   ],
   "source": [
    "cost, fixed_cost = read_instance('uflp1.txt')\n",
    "local_search(cost, fixed_cost, max_iters=100)"
   ]
  },
  {
   "cell_type": "code",
   "execution_count": 90,
   "metadata": {},
   "outputs": [],
   "source": [
    "def simulated_annealing(cost, fixed_cost, max_iters):\n",
    "    solution = initialize(len(fixed_cost))\n",
    "    value = calc_solution_value(solution, cost, fixed_cost)\n",
    "    best_solution = deepcopy(solution)\n",
    "    best_value = value\n",
    "    \n",
    "    for i in range(1, max_iters):\n",
    "        new_solution = make_small_change(solution)\n",
    "        new_value = calc_solution_value(new_solution, cost, fixed_cost)\n",
    "        \n",
    "        if new_value < value:\n",
    "            value = new_value\n",
    "            solution = deepcopy(new_solution)\n",
    "            if new_value < best_value:\n",
    "                best_value = new_value\n",
    "                best_solution = deepcopy(new_solution)\n",
    "        else:\n",
    "            p = 1 / i ** 0.5\n",
    "            q = random.random()\n",
    "            if q < p:\n",
    "                value = new_value\n",
    "                solution = deepcopy(new_solution)\n",
    "                \n",
    "    return best_solution, best_value"
   ]
  },
  {
   "cell_type": "code",
   "execution_count": 98,
   "metadata": {},
   "outputs": [
    {
     "data": {
      "text/plain": [
       "([True, False, False], 34)"
      ]
     },
     "execution_count": 98,
     "metadata": {},
     "output_type": "execute_result"
    }
   ],
   "source": [
    "simulated_annealing(cost, fixed_cost, max_iters=100)"
   ]
  },
  {
   "cell_type": "code",
   "execution_count": 99,
   "metadata": {},
   "outputs": [],
   "source": [
    "def shaking(solution, k):\n",
    "    chosen_resources = random.sample(range(len(solution)), k)\n",
    "    new_solution = deepcopy(solution)\n",
    "    for resource in chosen_resources:\n",
    "        new_solution[resource] = not new_solution[resource]\n",
    "    if not is_feasible(new_solution):\n",
    "        random_resource = random.randrange(len(solution))\n",
    "        new_solution[random_resource] = True\n",
    "    return new_solution"
   ]
  },
  {
   "cell_type": "code",
   "execution_count": 130,
   "metadata": {},
   "outputs": [],
   "source": [
    "def vns(cost, fixed_cost, max_iters, k_max, move_prob):\n",
    "    solution = initialize(len(fixed_cost))\n",
    "    value = calc_solution_value(solution, cost, fixed_cost)\n",
    "    \n",
    "    for i in range(max_iters):\n",
    "        for k in range(1, k_max):\n",
    "            new_solution = shaking(solution, k)\n",
    "#             new_solution = LS(new_solution)\n",
    "            new_value = calc_solution_value(new_solution, cost, fixed_cost)\n",
    "            \n",
    "            if new_value < value or (new_value == value and random.random() < move_prob):\n",
    "                value = new_value\n",
    "                solution = deepcopy(new_solution)\n",
    "                break\n",
    "    \n",
    "    return solution, value"
   ]
  },
  {
   "cell_type": "code",
   "execution_count": 131,
   "metadata": {},
   "outputs": [
    {
     "data": {
      "text/plain": [
       "([True, False, False], 34)"
      ]
     },
     "execution_count": 131,
     "metadata": {},
     "output_type": "execute_result"
    }
   ],
   "source": [
    "vns(cost, fixed_cost, max_iters=10, k_max=2, move_prob=0.5)"
   ]
  },
  {
   "cell_type": "code",
   "execution_count": null,
   "metadata": {},
   "outputs": [],
   "source": []
  }
 ],
 "metadata": {
  "kernelspec": {
   "display_name": "Python 3",
   "language": "python",
   "name": "python3"
  },
  "language_info": {
   "codemirror_mode": {
    "name": "ipython",
    "version": 3
   },
   "file_extension": ".py",
   "mimetype": "text/x-python",
   "name": "python",
   "nbconvert_exporter": "python",
   "pygments_lexer": "ipython3",
   "version": "3.7.6"
  }
 },
 "nbformat": 4,
 "nbformat_minor": 4
}
