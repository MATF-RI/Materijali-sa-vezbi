{
 "cells": [
  {
   "cell_type": "code",
   "execution_count": 1,
   "metadata": {},
   "outputs": [],
   "source": [
    "from sklearn.datasets import load_breast_cancer"
   ]
  },
  {
   "cell_type": "code",
   "execution_count": 2,
   "metadata": {},
   "outputs": [],
   "source": [
    "data = load_breast_cancer()"
   ]
  },
  {
   "cell_type": "code",
   "execution_count": 4,
   "metadata": {},
   "outputs": [],
   "source": [
    "X = data['data']"
   ]
  },
  {
   "cell_type": "code",
   "execution_count": 5,
   "metadata": {},
   "outputs": [],
   "source": [
    "y = data['target']"
   ]
  },
  {
   "cell_type": "code",
   "execution_count": 6,
   "metadata": {},
   "outputs": [
    {
     "data": {
      "text/plain": [
       "(569, 30)"
      ]
     },
     "execution_count": 6,
     "metadata": {},
     "output_type": "execute_result"
    }
   ],
   "source": [
    "X.shape"
   ]
  },
  {
   "cell_type": "code",
   "execution_count": 7,
   "metadata": {},
   "outputs": [
    {
     "data": {
      "text/plain": [
       "(569,)"
      ]
     },
     "execution_count": 7,
     "metadata": {},
     "output_type": "execute_result"
    }
   ],
   "source": [
    "y.shape"
   ]
  },
  {
   "cell_type": "code",
   "execution_count": 8,
   "metadata": {},
   "outputs": [],
   "source": [
    "from sklearn.model_selection import train_test_split"
   ]
  },
  {
   "cell_type": "code",
   "execution_count": 9,
   "metadata": {},
   "outputs": [],
   "source": [
    "X_train, X_test, y_train, y_test = train_test_split(X, y, train_size=0.7, random_state=456, stratify=y)"
   ]
  },
  {
   "cell_type": "code",
   "execution_count": 10,
   "metadata": {},
   "outputs": [
    {
     "data": {
      "text/plain": [
       "(398, 30)"
      ]
     },
     "execution_count": 10,
     "metadata": {},
     "output_type": "execute_result"
    }
   ],
   "source": [
    "X_train.shape"
   ]
  },
  {
   "cell_type": "code",
   "execution_count": 11,
   "metadata": {},
   "outputs": [
    {
     "data": {
      "text/plain": [
       "(171,)"
      ]
     },
     "execution_count": 11,
     "metadata": {},
     "output_type": "execute_result"
    }
   ],
   "source": [
    "y_test.shape"
   ]
  },
  {
   "cell_type": "code",
   "execution_count": 12,
   "metadata": {},
   "outputs": [
    {
     "data": {
      "text/plain": [
       "array([1.613e+01, 1.788e+01, 1.070e+02, 8.072e+02, 1.040e-01, 1.559e-01,\n",
       "       1.354e-01, 7.752e-02, 1.998e-01, 6.515e-02, 3.340e-01, 6.857e-01,\n",
       "       2.183e+00, 3.503e+01, 4.185e-03, 2.868e-02, 2.664e-02, 9.067e-03,\n",
       "       1.703e-02, 3.817e-03, 2.021e+01, 2.726e+01, 1.327e+02, 1.261e+03,\n",
       "       1.446e-01, 5.804e-01, 5.274e-01, 1.864e-01, 4.270e-01, 1.233e-01])"
      ]
     },
     "execution_count": 12,
     "metadata": {},
     "output_type": "execute_result"
    }
   ],
   "source": [
    "X_train[0]"
   ]
  },
  {
   "cell_type": "code",
   "execution_count": 13,
   "metadata": {},
   "outputs": [],
   "source": [
    "from sklearn.preprocessing import StandardScaler"
   ]
  },
  {
   "cell_type": "code",
   "execution_count": 15,
   "metadata": {},
   "outputs": [],
   "source": [
    "scaler = StandardScaler()\n",
    "scaler.fit(X_train)\n",
    "X_train = scaler.transform(X_train)"
   ]
  },
  {
   "cell_type": "code",
   "execution_count": 16,
   "metadata": {},
   "outputs": [],
   "source": [
    "X_test = scaler.transform(X_test)"
   ]
  },
  {
   "cell_type": "code",
   "execution_count": 19,
   "metadata": {},
   "outputs": [],
   "source": [
    "from tensorflow.keras.layers import Dense\n",
    "from tensorflow.keras.models import Sequential"
   ]
  },
  {
   "cell_type": "code",
   "execution_count": 20,
   "metadata": {},
   "outputs": [
    {
     "data": {
      "text/plain": [
       "(398, 30)"
      ]
     },
     "execution_count": 20,
     "metadata": {},
     "output_type": "execute_result"
    }
   ],
   "source": [
    "X_train.shape"
   ]
  },
  {
   "cell_type": "code",
   "execution_count": 32,
   "metadata": {},
   "outputs": [
    {
     "name": "stdout",
     "output_type": "stream",
     "text": [
      "Model: \"sequential_3\"\n",
      "_________________________________________________________________\n",
      "Layer (type)                 Output Shape              Param #   \n",
      "=================================================================\n",
      "dense_4 (Dense)              (None, 50)                1550      \n",
      "_________________________________________________________________\n",
      "dense_5 (Dense)              (None, 1)                 51        \n",
      "=================================================================\n",
      "Total params: 1,601\n",
      "Trainable params: 1,601\n",
      "Non-trainable params: 0\n",
      "_________________________________________________________________\n"
     ]
    }
   ],
   "source": [
    "model = Sequential()\n",
    "model.add(Dense(units=50, input_dim=X_train.shape[1], activation='relu'))\n",
    "model.add(Dense(units=1, activation='sigmoid'))\n",
    "model.summary()"
   ]
  },
  {
   "cell_type": "code",
   "execution_count": 33,
   "metadata": {},
   "outputs": [],
   "source": [
    "model.compile(optimizer='adam', loss='binary_crossentropy', metrics=['accuracy'])"
   ]
  },
  {
   "cell_type": "code",
   "execution_count": 34,
   "metadata": {},
   "outputs": [
    {
     "name": "stdout",
     "output_type": "stream",
     "text": [
      "Epoch 1/100\n",
      "5/5 [==============================] - 0s 36ms/step - loss: 0.9490 - accuracy: 0.2138 - val_loss: 0.8302 - val_accuracy: 0.3500\n",
      "Epoch 2/100\n",
      "5/5 [==============================] - 0s 8ms/step - loss: 0.7484 - accuracy: 0.4591 - val_loss: 0.6829 - val_accuracy: 0.5500\n",
      "Epoch 3/100\n",
      "5/5 [==============================] - 0s 8ms/step - loss: 0.5957 - accuracy: 0.6792 - val_loss: 0.5713 - val_accuracy: 0.7125\n",
      "Epoch 4/100\n",
      "5/5 [==============================] - 0s 7ms/step - loss: 0.4899 - accuracy: 0.8019 - val_loss: 0.4874 - val_accuracy: 0.8375\n",
      "Epoch 5/100\n",
      "5/5 [==============================] - 0s 9ms/step - loss: 0.4133 - accuracy: 0.8648 - val_loss: 0.4250 - val_accuracy: 0.8875\n",
      "Epoch 6/100\n",
      "5/5 [==============================] - 0s 8ms/step - loss: 0.3579 - accuracy: 0.9025 - val_loss: 0.3772 - val_accuracy: 0.9000\n",
      "Epoch 7/100\n",
      "5/5 [==============================] - 0s 8ms/step - loss: 0.3146 - accuracy: 0.9119 - val_loss: 0.3411 - val_accuracy: 0.9000\n",
      "Epoch 8/100\n",
      "5/5 [==============================] - 0s 8ms/step - loss: 0.2830 - accuracy: 0.9277 - val_loss: 0.3123 - val_accuracy: 0.9000\n",
      "Epoch 9/100\n",
      "5/5 [==============================] - 0s 7ms/step - loss: 0.2574 - accuracy: 0.9371 - val_loss: 0.2896 - val_accuracy: 0.9000\n",
      "Epoch 10/100\n",
      "5/5 [==============================] - 0s 7ms/step - loss: 0.2367 - accuracy: 0.9371 - val_loss: 0.2709 - val_accuracy: 0.9125\n",
      "Epoch 11/100\n",
      "5/5 [==============================] - 0s 9ms/step - loss: 0.2203 - accuracy: 0.9434 - val_loss: 0.2555 - val_accuracy: 0.9125\n",
      "Epoch 12/100\n",
      "5/5 [==============================] - 0s 8ms/step - loss: 0.2060 - accuracy: 0.9528 - val_loss: 0.2431 - val_accuracy: 0.9125\n",
      "Epoch 13/100\n",
      "5/5 [==============================] - 0s 8ms/step - loss: 0.1938 - accuracy: 0.9528 - val_loss: 0.2320 - val_accuracy: 0.9125\n",
      "Epoch 14/100\n",
      "5/5 [==============================] - 0s 8ms/step - loss: 0.1835 - accuracy: 0.9654 - val_loss: 0.2226 - val_accuracy: 0.9125\n",
      "Epoch 15/100\n",
      "5/5 [==============================] - 0s 9ms/step - loss: 0.1744 - accuracy: 0.9654 - val_loss: 0.2145 - val_accuracy: 0.9125\n",
      "Epoch 16/100\n",
      "5/5 [==============================] - 0s 8ms/step - loss: 0.1662 - accuracy: 0.9686 - val_loss: 0.2071 - val_accuracy: 0.9125\n",
      "Epoch 17/100\n",
      "5/5 [==============================] - 0s 9ms/step - loss: 0.1591 - accuracy: 0.9686 - val_loss: 0.2004 - val_accuracy: 0.9125\n",
      "Epoch 18/100\n",
      "5/5 [==============================] - 0s 8ms/step - loss: 0.1525 - accuracy: 0.9686 - val_loss: 0.1944 - val_accuracy: 0.9250\n",
      "Epoch 19/100\n",
      "5/5 [==============================] - 0s 7ms/step - loss: 0.1468 - accuracy: 0.9686 - val_loss: 0.1888 - val_accuracy: 0.9250\n",
      "Epoch 20/100\n",
      "5/5 [==============================] - 0s 8ms/step - loss: 0.1415 - accuracy: 0.9654 - val_loss: 0.1836 - val_accuracy: 0.9250\n",
      "Epoch 21/100\n",
      "5/5 [==============================] - 0s 8ms/step - loss: 0.1366 - accuracy: 0.9654 - val_loss: 0.1787 - val_accuracy: 0.9375\n",
      "Epoch 22/100\n",
      "5/5 [==============================] - 0s 8ms/step - loss: 0.1322 - accuracy: 0.9686 - val_loss: 0.1745 - val_accuracy: 0.9500\n",
      "Epoch 23/100\n",
      "5/5 [==============================] - 0s 7ms/step - loss: 0.1281 - accuracy: 0.9686 - val_loss: 0.1704 - val_accuracy: 0.9500\n",
      "Epoch 24/100\n",
      "5/5 [==============================] - 0s 7ms/step - loss: 0.1242 - accuracy: 0.9686 - val_loss: 0.1669 - val_accuracy: 0.9500\n",
      "Epoch 25/100\n",
      "5/5 [==============================] - 0s 7ms/step - loss: 0.1208 - accuracy: 0.9686 - val_loss: 0.1634 - val_accuracy: 0.9500\n",
      "Epoch 26/100\n",
      "5/5 [==============================] - 0s 7ms/step - loss: 0.1176 - accuracy: 0.9748 - val_loss: 0.1602 - val_accuracy: 0.9500\n",
      "Epoch 27/100\n",
      "5/5 [==============================] - 0s 8ms/step - loss: 0.1144 - accuracy: 0.9748 - val_loss: 0.1575 - val_accuracy: 0.9500\n",
      "Epoch 28/100\n",
      "5/5 [==============================] - 0s 7ms/step - loss: 0.1115 - accuracy: 0.9780 - val_loss: 0.1548 - val_accuracy: 0.9500\n",
      "Epoch 29/100\n",
      "5/5 [==============================] - 0s 9ms/step - loss: 0.1089 - accuracy: 0.9780 - val_loss: 0.1518 - val_accuracy: 0.9500\n",
      "Epoch 30/100\n",
      "5/5 [==============================] - 0s 9ms/step - loss: 0.1065 - accuracy: 0.9780 - val_loss: 0.1494 - val_accuracy: 0.9500\n",
      "Epoch 31/100\n",
      "5/5 [==============================] - 0s 8ms/step - loss: 0.1041 - accuracy: 0.9780 - val_loss: 0.1471 - val_accuracy: 0.9625\n",
      "Epoch 32/100\n",
      "5/5 [==============================] - 0s 8ms/step - loss: 0.1019 - accuracy: 0.9780 - val_loss: 0.1451 - val_accuracy: 0.9625\n",
      "Epoch 33/100\n",
      "5/5 [==============================] - 0s 8ms/step - loss: 0.0998 - accuracy: 0.9780 - val_loss: 0.1434 - val_accuracy: 0.9625\n",
      "Epoch 34/100\n",
      "5/5 [==============================] - 0s 8ms/step - loss: 0.0980 - accuracy: 0.9811 - val_loss: 0.1413 - val_accuracy: 0.9625\n",
      "Epoch 35/100\n",
      "5/5 [==============================] - 0s 7ms/step - loss: 0.0961 - accuracy: 0.9811 - val_loss: 0.1396 - val_accuracy: 0.9625\n",
      "Epoch 36/100\n",
      "5/5 [==============================] - 0s 7ms/step - loss: 0.0943 - accuracy: 0.9811 - val_loss: 0.1378 - val_accuracy: 0.9625\n",
      "Epoch 37/100\n",
      "5/5 [==============================] - 0s 8ms/step - loss: 0.0927 - accuracy: 0.9811 - val_loss: 0.1364 - val_accuracy: 0.9625\n",
      "Epoch 38/100\n",
      "5/5 [==============================] - 0s 7ms/step - loss: 0.0912 - accuracy: 0.9811 - val_loss: 0.1351 - val_accuracy: 0.9625\n",
      "Epoch 39/100\n",
      "5/5 [==============================] - 0s 7ms/step - loss: 0.0898 - accuracy: 0.9811 - val_loss: 0.1340 - val_accuracy: 0.9625\n",
      "Epoch 40/100\n",
      "5/5 [==============================] - 0s 7ms/step - loss: 0.0883 - accuracy: 0.9811 - val_loss: 0.1325 - val_accuracy: 0.9625\n",
      "Epoch 41/100\n",
      "5/5 [==============================] - 0s 8ms/step - loss: 0.0870 - accuracy: 0.9811 - val_loss: 0.1314 - val_accuracy: 0.9625\n",
      "Epoch 42/100\n",
      "5/5 [==============================] - 0s 7ms/step - loss: 0.0857 - accuracy: 0.9811 - val_loss: 0.1301 - val_accuracy: 0.9625\n",
      "Epoch 43/100\n",
      "5/5 [==============================] - 0s 8ms/step - loss: 0.0845 - accuracy: 0.9811 - val_loss: 0.1294 - val_accuracy: 0.9625\n",
      "Epoch 44/100\n",
      "5/5 [==============================] - 0s 8ms/step - loss: 0.0831 - accuracy: 0.9811 - val_loss: 0.1282 - val_accuracy: 0.9625\n",
      "Epoch 45/100\n",
      "5/5 [==============================] - 0s 6ms/step - loss: 0.0821 - accuracy: 0.9811 - val_loss: 0.1273 - val_accuracy: 0.9625\n",
      "Epoch 46/100\n",
      "5/5 [==============================] - 0s 7ms/step - loss: 0.0810 - accuracy: 0.9811 - val_loss: 0.1259 - val_accuracy: 0.9625\n",
      "Epoch 47/100\n",
      "5/5 [==============================] - 0s 7ms/step - loss: 0.0800 - accuracy: 0.9811 - val_loss: 0.1252 - val_accuracy: 0.9625\n",
      "Epoch 48/100\n",
      "5/5 [==============================] - 0s 7ms/step - loss: 0.0790 - accuracy: 0.9811 - val_loss: 0.1246 - val_accuracy: 0.9625\n",
      "Epoch 49/100\n",
      "5/5 [==============================] - 0s 8ms/step - loss: 0.0781 - accuracy: 0.9811 - val_loss: 0.1236 - val_accuracy: 0.9625\n",
      "Epoch 50/100\n",
      "5/5 [==============================] - 0s 7ms/step - loss: 0.0771 - accuracy: 0.9811 - val_loss: 0.1229 - val_accuracy: 0.9625\n",
      "Epoch 51/100\n",
      "5/5 [==============================] - 0s 7ms/step - loss: 0.0762 - accuracy: 0.9811 - val_loss: 0.1222 - val_accuracy: 0.9625\n",
      "Epoch 52/100\n",
      "5/5 [==============================] - 0s 7ms/step - loss: 0.0754 - accuracy: 0.9811 - val_loss: 0.1214 - val_accuracy: 0.9625\n",
      "Epoch 53/100\n",
      "5/5 [==============================] - 0s 8ms/step - loss: 0.0745 - accuracy: 0.9811 - val_loss: 0.1214 - val_accuracy: 0.9625\n",
      "Epoch 54/100\n",
      "5/5 [==============================] - 0s 7ms/step - loss: 0.0737 - accuracy: 0.9811 - val_loss: 0.1214 - val_accuracy: 0.9625\n",
      "Epoch 55/100\n",
      "5/5 [==============================] - 0s 7ms/step - loss: 0.0729 - accuracy: 0.9811 - val_loss: 0.1206 - val_accuracy: 0.9625\n",
      "Epoch 56/100\n",
      "5/5 [==============================] - 0s 8ms/step - loss: 0.0723 - accuracy: 0.9811 - val_loss: 0.1207 - val_accuracy: 0.9625\n",
      "Epoch 57/100\n",
      "5/5 [==============================] - 0s 8ms/step - loss: 0.0715 - accuracy: 0.9811 - val_loss: 0.1204 - val_accuracy: 0.9625\n",
      "Epoch 58/100\n",
      "5/5 [==============================] - 0s 8ms/step - loss: 0.0708 - accuracy: 0.9811 - val_loss: 0.1203 - val_accuracy: 0.9625\n",
      "Epoch 59/100\n"
     ]
    },
    {
     "name": "stdout",
     "output_type": "stream",
     "text": [
      "5/5 [==============================] - 0s 7ms/step - loss: 0.0700 - accuracy: 0.9811 - val_loss: 0.1197 - val_accuracy: 0.9625\n",
      "Epoch 60/100\n",
      "5/5 [==============================] - 0s 8ms/step - loss: 0.0694 - accuracy: 0.9811 - val_loss: 0.1195 - val_accuracy: 0.9625\n",
      "Epoch 61/100\n",
      "5/5 [==============================] - 0s 8ms/step - loss: 0.0687 - accuracy: 0.9811 - val_loss: 0.1195 - val_accuracy: 0.9625\n",
      "Epoch 62/100\n",
      "5/5 [==============================] - 0s 7ms/step - loss: 0.0680 - accuracy: 0.9811 - val_loss: 0.1190 - val_accuracy: 0.9625\n",
      "Epoch 63/100\n",
      "5/5 [==============================] - 0s 8ms/step - loss: 0.0674 - accuracy: 0.9811 - val_loss: 0.1188 - val_accuracy: 0.9625\n",
      "Epoch 64/100\n",
      "5/5 [==============================] - 0s 7ms/step - loss: 0.0668 - accuracy: 0.9811 - val_loss: 0.1188 - val_accuracy: 0.9625\n",
      "Epoch 65/100\n",
      "5/5 [==============================] - 0s 7ms/step - loss: 0.0661 - accuracy: 0.9811 - val_loss: 0.1186 - val_accuracy: 0.9625\n",
      "Epoch 66/100\n",
      "5/5 [==============================] - 0s 7ms/step - loss: 0.0656 - accuracy: 0.9811 - val_loss: 0.1181 - val_accuracy: 0.9625\n",
      "Epoch 67/100\n",
      "5/5 [==============================] - 0s 7ms/step - loss: 0.0650 - accuracy: 0.9811 - val_loss: 0.1182 - val_accuracy: 0.9625\n",
      "Epoch 68/100\n",
      "5/5 [==============================] - 0s 7ms/step - loss: 0.0644 - accuracy: 0.9811 - val_loss: 0.1185 - val_accuracy: 0.9625\n",
      "Epoch 69/100\n",
      "5/5 [==============================] - 0s 8ms/step - loss: 0.0638 - accuracy: 0.9811 - val_loss: 0.1181 - val_accuracy: 0.9625\n",
      "Epoch 70/100\n",
      "5/5 [==============================] - 0s 7ms/step - loss: 0.0632 - accuracy: 0.9811 - val_loss: 0.1180 - val_accuracy: 0.9625\n",
      "Epoch 71/100\n",
      "5/5 [==============================] - 0s 7ms/step - loss: 0.0626 - accuracy: 0.9811 - val_loss: 0.1178 - val_accuracy: 0.9625\n",
      "Epoch 72/100\n",
      "5/5 [==============================] - 0s 7ms/step - loss: 0.0622 - accuracy: 0.9811 - val_loss: 0.1173 - val_accuracy: 0.9625\n",
      "Epoch 73/100\n",
      "5/5 [==============================] - 0s 8ms/step - loss: 0.0616 - accuracy: 0.9811 - val_loss: 0.1177 - val_accuracy: 0.9625\n",
      "Epoch 74/100\n",
      "5/5 [==============================] - 0s 7ms/step - loss: 0.0611 - accuracy: 0.9811 - val_loss: 0.1181 - val_accuracy: 0.9625\n",
      "Epoch 75/100\n",
      "5/5 [==============================] - 0s 7ms/step - loss: 0.0605 - accuracy: 0.9811 - val_loss: 0.1184 - val_accuracy: 0.9625\n",
      "Epoch 76/100\n",
      "5/5 [==============================] - 0s 8ms/step - loss: 0.0600 - accuracy: 0.9811 - val_loss: 0.1184 - val_accuracy: 0.9625\n",
      "Epoch 77/100\n",
      "5/5 [==============================] - 0s 6ms/step - loss: 0.0596 - accuracy: 0.9811 - val_loss: 0.1182 - val_accuracy: 0.9625\n",
      "Epoch 78/100\n",
      "5/5 [==============================] - 0s 7ms/step - loss: 0.0591 - accuracy: 0.9811 - val_loss: 0.1187 - val_accuracy: 0.9625\n",
      "Epoch 79/100\n",
      "5/5 [==============================] - 0s 8ms/step - loss: 0.0586 - accuracy: 0.9843 - val_loss: 0.1184 - val_accuracy: 0.9625\n",
      "Epoch 80/100\n",
      "5/5 [==============================] - 0s 7ms/step - loss: 0.0581 - accuracy: 0.9843 - val_loss: 0.1187 - val_accuracy: 0.9625\n",
      "Epoch 81/100\n",
      "5/5 [==============================] - 0s 7ms/step - loss: 0.0576 - accuracy: 0.9843 - val_loss: 0.1190 - val_accuracy: 0.9625\n",
      "Epoch 82/100\n",
      "5/5 [==============================] - 0s 7ms/step - loss: 0.0572 - accuracy: 0.9843 - val_loss: 0.1191 - val_accuracy: 0.9625\n",
      "Epoch 83/100\n",
      "5/5 [==============================] - 0s 7ms/step - loss: 0.0567 - accuracy: 0.9843 - val_loss: 0.1187 - val_accuracy: 0.9625\n",
      "Epoch 84/100\n",
      "5/5 [==============================] - 0s 9ms/step - loss: 0.0563 - accuracy: 0.9843 - val_loss: 0.1183 - val_accuracy: 0.9625\n",
      "Epoch 85/100\n",
      "5/5 [==============================] - 0s 7ms/step - loss: 0.0559 - accuracy: 0.9843 - val_loss: 0.1187 - val_accuracy: 0.9625\n",
      "Epoch 86/100\n",
      "5/5 [==============================] - 0s 8ms/step - loss: 0.0555 - accuracy: 0.9843 - val_loss: 0.1192 - val_accuracy: 0.9625\n",
      "Epoch 87/100\n",
      "5/5 [==============================] - 0s 7ms/step - loss: 0.0550 - accuracy: 0.9843 - val_loss: 0.1194 - val_accuracy: 0.9625\n",
      "Epoch 88/100\n",
      "5/5 [==============================] - 0s 7ms/step - loss: 0.0546 - accuracy: 0.9843 - val_loss: 0.1192 - val_accuracy: 0.9625\n",
      "Epoch 89/100\n",
      "5/5 [==============================] - 0s 7ms/step - loss: 0.0542 - accuracy: 0.9811 - val_loss: 0.1195 - val_accuracy: 0.9625\n",
      "Epoch 90/100\n",
      "5/5 [==============================] - 0s 8ms/step - loss: 0.0538 - accuracy: 0.9811 - val_loss: 0.1196 - val_accuracy: 0.9625\n",
      "Epoch 91/100\n",
      "5/5 [==============================] - 0s 8ms/step - loss: 0.0533 - accuracy: 0.9811 - val_loss: 0.1198 - val_accuracy: 0.9625\n",
      "Epoch 92/100\n",
      "5/5 [==============================] - 0s 7ms/step - loss: 0.0531 - accuracy: 0.9811 - val_loss: 0.1196 - val_accuracy: 0.9625\n",
      "Epoch 93/100\n",
      "5/5 [==============================] - 0s 8ms/step - loss: 0.0526 - accuracy: 0.9811 - val_loss: 0.1204 - val_accuracy: 0.9625\n",
      "Epoch 94/100\n",
      "5/5 [==============================] - 0s 8ms/step - loss: 0.0521 - accuracy: 0.9811 - val_loss: 0.1208 - val_accuracy: 0.9625\n",
      "Epoch 95/100\n",
      "5/5 [==============================] - 0s 7ms/step - loss: 0.0518 - accuracy: 0.9811 - val_loss: 0.1209 - val_accuracy: 0.9625\n",
      "Epoch 96/100\n",
      "5/5 [==============================] - 0s 8ms/step - loss: 0.0514 - accuracy: 0.9811 - val_loss: 0.1210 - val_accuracy: 0.9625\n",
      "Epoch 97/100\n",
      "5/5 [==============================] - 0s 9ms/step - loss: 0.0510 - accuracy: 0.9811 - val_loss: 0.1212 - val_accuracy: 0.9625\n",
      "Epoch 98/100\n",
      "5/5 [==============================] - 0s 8ms/step - loss: 0.0507 - accuracy: 0.9811 - val_loss: 0.1219 - val_accuracy: 0.9625\n",
      "Epoch 99/100\n",
      "5/5 [==============================] - 0s 8ms/step - loss: 0.0503 - accuracy: 0.9811 - val_loss: 0.1227 - val_accuracy: 0.9625\n",
      "Epoch 100/100\n",
      "5/5 [==============================] - 0s 7ms/step - loss: 0.0500 - accuracy: 0.9811 - val_loss: 0.1233 - val_accuracy: 0.9625\n"
     ]
    }
   ],
   "source": [
    "history = model.fit(X_train, y_train, batch_size=64, epochs=100, validation_split=0.2)"
   ]
  },
  {
   "cell_type": "code",
   "execution_count": 35,
   "metadata": {},
   "outputs": [],
   "source": [
    "from matplotlib import pyplot as plt"
   ]
  },
  {
   "cell_type": "code",
   "execution_count": 36,
   "metadata": {},
   "outputs": [
    {
     "data": {
      "text/plain": [
       "[<matplotlib.lines.Line2D at 0x7fe710e65b50>]"
      ]
     },
     "execution_count": 36,
     "metadata": {},
     "output_type": "execute_result"
    },
    {
     "data": {
      "image/png": "[encoded data removed]",
      "text/plain": [
       "<Figure size 432x288 with 1 Axes>"
      ]
     },
     "metadata": {
      "needs_background": "light"
     },
     "output_type": "display_data"
    }
   ],
   "source": [
    "plt.plot(history.epoch, history.history['loss'])\n",
    "plt.plot(history.epoch, history.history['val_loss'])"
   ]
  },
  {
   "cell_type": "code",
   "execution_count": 37,
   "metadata": {},
   "outputs": [
    {
     "data": {
      "text/plain": [
       "[<matplotlib.lines.Line2D at 0x7fe710ecac90>]"
      ]
     },
     "execution_count": 37,
     "metadata": {},
     "output_type": "execute_result"
    },
    {
     "data": {
      "image/png": "[encoded data removed]",
      "text/plain": [
       "<Figure size 432x288 with 1 Axes>"
      ]
     },
     "metadata": {
      "needs_background": "light"
     },
     "output_type": "display_data"
    }
   ],
   "source": [
    "plt.plot(history.epoch, history.history['accuracy'])\n",
    "plt.plot(history.epoch, history.history['val_accuracy'])"
   ]
  },
  {
   "cell_type": "code",
   "execution_count": 38,
   "metadata": {},
   "outputs": [
    {
     "name": "stdout",
     "output_type": "stream",
     "text": [
      "6/6 [==============================] - 0s 2ms/step - loss: 0.0621 - accuracy: 0.9825\n"
     ]
    },
    {
     "data": {
      "text/plain": [
       "[0.06205352395772934, 0.9824561476707458]"
      ]
     },
     "execution_count": 38,
     "metadata": {},
     "output_type": "execute_result"
    }
   ],
   "source": [
    "model.evaluate(X_test, y_test)"
   ]
  },
  {
   "cell_type": "code",
   "execution_count": 40,
   "metadata": {},
   "outputs": [],
   "source": [
    "y_pred = model.predict(X_test)"
   ]
  },
  {
   "cell_type": "code",
   "execution_count": 41,
   "metadata": {},
   "outputs": [
    {
     "data": {
      "text/plain": [
       "(171, 1)"
      ]
     },
     "execution_count": 41,
     "metadata": {},
     "output_type": "execute_result"
    }
   ],
   "source": [
    "y_pred.shape"
   ]
  },
  {
   "cell_type": "code",
   "execution_count": 43,
   "metadata": {},
   "outputs": [
    {
     "data": {
      "text/plain": [
       "array([False])"
      ]
     },
     "execution_count": 43,
     "metadata": {},
     "output_type": "execute_result"
    }
   ],
   "source": [
    "y_pred[0] < 0.5"
   ]
  },
  {
   "cell_type": "code",
   "execution_count": null,
   "metadata": {},
   "outputs": [],
   "source": []
  },
  {
   "cell_type": "code",
   "execution_count": 60,
   "metadata": {},
   "outputs": [],
   "source": [
    "from tensorflow.keras.datasets import boston_housing"
   ]
  },
  {
   "cell_type": "code",
   "execution_count": 61,
   "metadata": {},
   "outputs": [],
   "source": [
    "(X_train, y_train), (X_test, y_test) = boston_housing.load_data()"
   ]
  },
  {
   "cell_type": "code",
   "execution_count": 62,
   "metadata": {},
   "outputs": [
    {
     "data": {
      "text/plain": [
       "(404, 13)"
      ]
     },
     "execution_count": 62,
     "metadata": {},
     "output_type": "execute_result"
    }
   ],
   "source": [
    "X_train.shape"
   ]
  },
  {
   "cell_type": "code",
   "execution_count": 63,
   "metadata": {},
   "outputs": [
    {
     "data": {
      "text/plain": [
       "(102,)"
      ]
     },
     "execution_count": 63,
     "metadata": {},
     "output_type": "execute_result"
    }
   ],
   "source": [
    "y_test.shape"
   ]
  },
  {
   "cell_type": "code",
   "execution_count": 64,
   "metadata": {},
   "outputs": [
    {
     "data": {
      "text/plain": [
       "18.8"
      ]
     },
     "execution_count": 64,
     "metadata": {},
     "output_type": "execute_result"
    }
   ],
   "source": [
    "y_test[1]"
   ]
  },
  {
   "cell_type": "code",
   "execution_count": 65,
   "metadata": {},
   "outputs": [
    {
     "data": {
      "text/plain": [
       "array([  1.23247,   0.     ,   8.14   ,   0.     ,   0.538  ,   6.142  ,\n",
       "        91.7    ,   3.9769 ,   4.     , 307.     ,  21.     , 396.9    ,\n",
       "        18.72   ])"
      ]
     },
     "execution_count": 65,
     "metadata": {},
     "output_type": "execute_result"
    }
   ],
   "source": [
    "X_train[0]"
   ]
  },
  {
   "cell_type": "code",
   "execution_count": 66,
   "metadata": {},
   "outputs": [],
   "source": [
    "scaler = StandardScaler()\n",
    "scaler.fit(X_train)\n",
    "X_train = scaler.transform(X_train)\n",
    "X_test = scaler.transform(X_test)"
   ]
  },
  {
   "cell_type": "code",
   "execution_count": 73,
   "metadata": {},
   "outputs": [
    {
     "name": "stdout",
     "output_type": "stream",
     "text": [
      "Model: \"sequential_8\"\n",
      "_________________________________________________________________\n",
      "Layer (type)                 Output Shape              Param #   \n",
      "=================================================================\n",
      "dense_15 (Dense)             (None, 40)                560       \n",
      "_________________________________________________________________\n",
      "dense_16 (Dense)             (None, 20)                820       \n",
      "_________________________________________________________________\n",
      "dense_17 (Dense)             (None, 1)                 21        \n",
      "=================================================================\n",
      "Total params: 1,401\n",
      "Trainable params: 1,401\n",
      "Non-trainable params: 0\n",
      "_________________________________________________________________\n"
     ]
    }
   ],
   "source": [
    "model = Sequential()\n",
    "model.add(Dense(input_dim=X_train.shape[1], units=40, activation='relu'))\n",
    "model.add(Dense(units=20, activation='relu'))\n",
    "model.add(Dense(units=1))\n",
    "model.summary()"
   ]
  },
  {
   "cell_type": "code",
   "execution_count": 74,
   "metadata": {},
   "outputs": [],
   "source": [
    "model.compile(optimizer='adam', loss='mse', metrics=['mae'])"
   ]
  },
  {
   "cell_type": "code",
   "execution_count": 75,
   "metadata": {},
   "outputs": [
    {
     "name": "stdout",
     "output_type": "stream",
     "text": [
      "Epoch 1/20\n",
      "11/11 [==============================] - 0s 15ms/step - loss: 582.1371 - mae: 22.3320 - val_loss: 670.1546 - val_mae: 24.0235\n",
      "Epoch 2/20\n",
      "11/11 [==============================] - 0s 4ms/step - loss: 562.3610 - mae: 21.9167 - val_loss: 649.9862 - val_mae: 23.6199\n",
      "Epoch 3/20\n",
      "11/11 [==============================] - 0s 4ms/step - loss: 544.3282 - mae: 21.5286 - val_loss: 630.7130 - val_mae: 23.2201\n",
      "Epoch 4/20\n",
      "11/11 [==============================] - 0s 4ms/step - loss: 526.3600 - mae: 21.1324 - val_loss: 609.7944 - val_mae: 22.7761\n",
      "Epoch 5/20\n",
      "11/11 [==============================] - 0s 4ms/step - loss: 505.7888 - mae: 20.6612 - val_loss: 584.2818 - val_mae: 22.2268\n",
      "Epoch 6/20\n",
      "11/11 [==============================] - 0s 4ms/step - loss: 480.0320 - mae: 20.0680 - val_loss: 552.2945 - val_mae: 21.5172\n",
      "Epoch 7/20\n",
      "11/11 [==============================] - 0s 4ms/step - loss: 447.8817 - mae: 19.2822 - val_loss: 511.6627 - val_mae: 20.5839\n",
      "Epoch 8/20\n",
      "11/11 [==============================] - 0s 4ms/step - loss: 407.0521 - mae: 18.2821 - val_loss: 463.6726 - val_mae: 19.4115\n",
      "Epoch 9/20\n",
      "11/11 [==============================] - 0s 5ms/step - loss: 361.4151 - mae: 17.0477 - val_loss: 406.8978 - val_mae: 17.9542\n",
      "Epoch 10/20\n",
      "11/11 [==============================] - 0s 5ms/step - loss: 308.1835 - mae: 15.5139 - val_loss: 346.9108 - val_mae: 16.2535\n",
      "Epoch 11/20\n",
      "11/11 [==============================] - 0s 5ms/step - loss: 254.4962 - mae: 13.7744 - val_loss: 285.3748 - val_mae: 14.2518\n",
      "Epoch 12/20\n",
      "11/11 [==============================] - 0s 4ms/step - loss: 201.4535 - mae: 11.9090 - val_loss: 230.0537 - val_mae: 12.1920\n",
      "Epoch 13/20\n",
      "11/11 [==============================] - 0s 4ms/step - loss: 156.5851 - mae: 10.1877 - val_loss: 184.0808 - val_mae: 10.5655\n",
      "Epoch 14/20\n",
      "11/11 [==============================] - 0s 4ms/step - loss: 121.5926 - mae: 8.7553 - val_loss: 150.0380 - val_mae: 9.3911\n",
      "Epoch 15/20\n",
      "11/11 [==============================] - 0s 4ms/step - loss: 97.8361 - mae: 7.7165 - val_loss: 125.3837 - val_mae: 8.4830\n",
      "Epoch 16/20\n",
      "11/11 [==============================] - 0s 4ms/step - loss: 80.5785 - mae: 6.9406 - val_loss: 107.3765 - val_mae: 7.7694\n",
      "Epoch 17/20\n",
      "11/11 [==============================] - 0s 5ms/step - loss: 68.8159 - mae: 6.3473 - val_loss: 92.1200 - val_mae: 7.1425\n",
      "Epoch 18/20\n",
      "11/11 [==============================] - 0s 4ms/step - loss: 58.5852 - mae: 5.8227 - val_loss: 79.3141 - val_mae: 6.5543\n",
      "Epoch 19/20\n",
      "11/11 [==============================] - 0s 4ms/step - loss: 50.4365 - mae: 5.3496 - val_loss: 68.5695 - val_mae: 6.0121\n",
      "Epoch 20/20\n",
      "11/11 [==============================] - 0s 5ms/step - loss: 43.6566 - mae: 4.9236 - val_loss: 60.2130 - val_mae: 5.5493\n"
     ]
    }
   ],
   "source": [
    "history = model.fit(X_train, y_train, batch_size=32, epochs=20, validation_split=0.15)"
   ]
  },
  {
   "cell_type": "code",
   "execution_count": 76,
   "metadata": {},
   "outputs": [
    {
     "data": {
      "text/plain": [
       "[<matplotlib.lines.Line2D at 0x7fe710114e90>]"
      ]
     },
     "execution_count": 76,
     "metadata": {},
     "output_type": "execute_result"
    },
    {
     "data": {
      "image/png": "[encoded data removed]",
      "text/plain": [
       "<Figure size 432x288 with 1 Axes>"
      ]
     },
     "metadata": {
      "needs_background": "light"
     },
     "output_type": "display_data"
    }
   ],
   "source": [
    "plt.plot(history.epoch, history.history['loss'])\n",
    "plt.plot(history.epoch, history.history['val_loss'])"
   ]
  },
  {
   "cell_type": "code",
   "execution_count": null,
   "metadata": {},
   "outputs": [],
   "source": []
  },
  {
   "cell_type": "code",
   "execution_count": 113,
   "metadata": {},
   "outputs": [],
   "source": [
    "from tensorflow.keras.datasets import mnist"
   ]
  },
  {
   "cell_type": "code",
   "execution_count": 114,
   "metadata": {},
   "outputs": [],
   "source": [
    "(X_train, y_train), (X_test, y_test) = mnist.load_data()"
   ]
  },
  {
   "cell_type": "code",
   "execution_count": 115,
   "metadata": {},
   "outputs": [
    {
     "data": {
      "text/plain": [
       "(60000, 28, 28)"
      ]
     },
     "execution_count": 115,
     "metadata": {},
     "output_type": "execute_result"
    }
   ],
   "source": [
    "X_train.shape"
   ]
  },
  {
   "cell_type": "code",
   "execution_count": 116,
   "metadata": {},
   "outputs": [
    {
     "data": {
      "text/plain": [
       "(10000,)"
      ]
     },
     "execution_count": 116,
     "metadata": {},
     "output_type": "execute_result"
    }
   ],
   "source": [
    "y_test.shape"
   ]
  },
  {
   "cell_type": "code",
   "execution_count": 117,
   "metadata": {},
   "outputs": [
    {
     "data": {
      "text/plain": [
       "<matplotlib.image.AxesImage at 0x7fe6d58cc950>"
      ]
     },
     "execution_count": 117,
     "metadata": {},
     "output_type": "execute_result"
    },
    {
     "data": {
      "image/png": "[encoded data removed]",
      "text/plain": [
       "<Figure size 432x288 with 1 Axes>"
      ]
     },
     "metadata": {
      "needs_background": "light"
     },
     "output_type": "display_data"
    }
   ],
   "source": [
    "plt.imshow(X_train[0], cmap='gray')"
   ]
  },
  {
   "cell_type": "code",
   "execution_count": 118,
   "metadata": {},
   "outputs": [
    {
     "data": {
      "text/plain": [
       "5"
      ]
     },
     "execution_count": 118,
     "metadata": {},
     "output_type": "execute_result"
    }
   ],
   "source": [
    "y_train[0]"
   ]
  },
  {
   "cell_type": "code",
   "execution_count": 119,
   "metadata": {},
   "outputs": [],
   "source": [
    "# [0,1]\n",
    "X_train = X_train / 255"
   ]
  },
  {
   "cell_type": "code",
   "execution_count": 120,
   "metadata": {},
   "outputs": [],
   "source": [
    "X_test = X_test / 255"
   ]
  },
  {
   "cell_type": "code",
   "execution_count": 121,
   "metadata": {},
   "outputs": [
    {
     "data": {
      "text/plain": [
       "(60000, 28, 28)"
      ]
     },
     "execution_count": 121,
     "metadata": {},
     "output_type": "execute_result"
    }
   ],
   "source": [
    "X_train.shape"
   ]
  },
  {
   "cell_type": "code",
   "execution_count": 122,
   "metadata": {},
   "outputs": [],
   "source": [
    "img_size = X_train.shape[1]"
   ]
  },
  {
   "cell_type": "code",
   "execution_count": 123,
   "metadata": {},
   "outputs": [],
   "source": [
    "X_train = X_train.reshape((X_train.shape[0], img_size * img_size))"
   ]
  },
  {
   "cell_type": "code",
   "execution_count": 124,
   "metadata": {},
   "outputs": [],
   "source": [
    "X_test = X_test.reshape((X_test.shape[0], img_size * img_size))"
   ]
  },
  {
   "cell_type": "code",
   "execution_count": 125,
   "metadata": {},
   "outputs": [],
   "source": [
    "from tensorflow.keras.utils import to_categorical"
   ]
  },
  {
   "cell_type": "code",
   "execution_count": 126,
   "metadata": {},
   "outputs": [],
   "source": [
    "y_train = to_categorical(y_train)"
   ]
  },
  {
   "cell_type": "code",
   "execution_count": 127,
   "metadata": {},
   "outputs": [],
   "source": [
    "y_test = to_categorical(y_test)"
   ]
  },
  {
   "cell_type": "code",
   "execution_count": 128,
   "metadata": {},
   "outputs": [],
   "source": [
    "num_classes = 10"
   ]
  },
  {
   "cell_type": "code",
   "execution_count": 129,
   "metadata": {},
   "outputs": [
    {
     "name": "stdout",
     "output_type": "stream",
     "text": [
      "Model: \"sequential_11\"\n",
      "_________________________________________________________________\n",
      "Layer (type)                 Output Shape              Param #   \n",
      "=================================================================\n",
      "dense_24 (Dense)             (None, 32)                25120     \n",
      "_________________________________________________________________\n",
      "dense_25 (Dense)             (None, 64)                2112      \n",
      "_________________________________________________________________\n",
      "dense_26 (Dense)             (None, 10)                650       \n",
      "=================================================================\n",
      "Total params: 27,882\n",
      "Trainable params: 27,882\n",
      "Non-trainable params: 0\n",
      "_________________________________________________________________\n"
     ]
    }
   ],
   "source": [
    "model = Sequential()\n",
    "model.add(Dense(input_dim=X_train.shape[1], units=32, activation='relu'))\n",
    "model.add(Dense(units=64, activation='relu'))\n",
    "model.add(Dense(units=num_classes, activation='softmax'))\n",
    "model.summary()"
   ]
  },
  {
   "cell_type": "code",
   "execution_count": 130,
   "metadata": {},
   "outputs": [],
   "source": [
    "model.compile(optimizer='adam', loss='categorical_crossentropy', metrics=['accuracy'])"
   ]
  },
  {
   "cell_type": "code",
   "execution_count": 131,
   "metadata": {},
   "outputs": [
    {
     "name": "stdout",
     "output_type": "stream",
     "text": [
      "Epoch 1/10\n",
      "1500/1500 [==============================] - 5s 3ms/step - loss: 0.3448 - accuracy: 0.9016 - val_loss: 0.2004 - val_accuracy: 0.9408\n",
      "Epoch 2/10\n",
      "1500/1500 [==============================] - 4s 2ms/step - loss: 0.1624 - accuracy: 0.9518 - val_loss: 0.1459 - val_accuracy: 0.9592\n",
      "Epoch 3/10\n",
      "1500/1500 [==============================] - 4s 2ms/step - loss: 0.1253 - accuracy: 0.9623 - val_loss: 0.1318 - val_accuracy: 0.9617\n",
      "Epoch 4/10\n",
      "1500/1500 [==============================] - 4s 2ms/step - loss: 0.1034 - accuracy: 0.9682 - val_loss: 0.1167 - val_accuracy: 0.9645\n",
      "Epoch 5/10\n",
      "1500/1500 [==============================] - 4s 3ms/step - loss: 0.0869 - accuracy: 0.9729 - val_loss: 0.1156 - val_accuracy: 0.9662\n",
      "Epoch 6/10\n",
      "1500/1500 [==============================] - 4s 3ms/step - loss: 0.0773 - accuracy: 0.9755 - val_loss: 0.1082 - val_accuracy: 0.9695\n",
      "Epoch 7/10\n",
      "1500/1500 [==============================] - 4s 2ms/step - loss: 0.0675 - accuracy: 0.9789 - val_loss: 0.1135 - val_accuracy: 0.9667\n",
      "Epoch 8/10\n",
      "1500/1500 [==============================] - 4s 3ms/step - loss: 0.0595 - accuracy: 0.9818 - val_loss: 0.1128 - val_accuracy: 0.9680\n",
      "Epoch 9/10\n",
      "1500/1500 [==============================] - 4s 3ms/step - loss: 0.0537 - accuracy: 0.9833 - val_loss: 0.1060 - val_accuracy: 0.9701\n",
      "Epoch 10/10\n",
      "1500/1500 [==============================] - 4s 3ms/step - loss: 0.0474 - accuracy: 0.9853 - val_loss: 0.1109 - val_accuracy: 0.9686\n"
     ]
    }
   ],
   "source": [
    "history = model.fit(X_train, y_train, batch_size=32, epochs=10, validation_split=0.2)"
   ]
  },
  {
   "cell_type": "code",
   "execution_count": 132,
   "metadata": {},
   "outputs": [
    {
     "data": {
      "text/plain": [
       "[<matplotlib.lines.Line2D at 0x7fe6d57480d0>]"
      ]
     },
     "execution_count": 132,
     "metadata": {},
     "output_type": "execute_result"
    },
    {
     "data": {
      "image/png": "[encoded data removed]",
      "text/plain": [
       "<Figure size 432x288 with 1 Axes>"
      ]
     },
     "metadata": {
      "needs_background": "light"
     },
     "output_type": "display_data"
    }
   ],
   "source": [
    "plt.plot(history.epoch, history.history['loss'])\n",
    "plt.plot(history.epoch, history.history['val_loss'])"
   ]
  },
  {
   "cell_type": "code",
   "execution_count": 133,
   "metadata": {},
   "outputs": [
    {
     "data": {
      "text/plain": [
       "[<matplotlib.lines.Line2D at 0x7fe6d5687090>]"
      ]
     },
     "execution_count": 133,
     "metadata": {},
     "output_type": "execute_result"
    },
    {
     "data": {
      "image/png": "[encoded data removed]",
      "text/plain": [
       "<Figure size 432x288 with 1 Axes>"
      ]
     },
     "metadata": {
      "needs_background": "light"
     },
     "output_type": "display_data"
    }
   ],
   "source": [
    "plt.plot(history.epoch, history.history['accuracy'])\n",
    "plt.plot(history.epoch, history.history['val_accuracy'])"
   ]
  },
  {
   "cell_type": "code",
   "execution_count": 134,
   "metadata": {},
   "outputs": [
    {
     "name": "stdout",
     "output_type": "stream",
     "text": [
      "313/313 [==============================] - 1s 2ms/step - loss: 0.1062 - accuracy: 0.9708\n"
     ]
    },
    {
     "data": {
      "text/plain": [
       "[0.10616441816091537, 0.97079998254776]"
      ]
     },
     "execution_count": 134,
     "metadata": {},
     "output_type": "execute_result"
    }
   ],
   "source": [
    "model.evaluate(X_test, y_test, batch_size=32)"
   ]
  },
  {
   "cell_type": "code",
   "execution_count": null,
   "metadata": {},
   "outputs": [],
   "source": []
  }
 ],
 "metadata": {
  "kernelspec": {
   "display_name": "Python 3",
   "language": "python",
   "name": "python3"
  },
  "language_info": {
   "codemirror_mode": {
    "name": "ipython",
    "version": 3
   },
   "file_extension": ".py",
   "mimetype": "text/x-python",
   "name": "python",
   "nbconvert_exporter": "python",
   "pygments_lexer": "ipython3",
   "version": "3.7.6"
  }
 },
 "nbformat": 4,
 "nbformat_minor": 4
}
