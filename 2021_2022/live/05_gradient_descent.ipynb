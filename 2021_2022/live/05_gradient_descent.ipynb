{
 "cells": [
  {
   "cell_type": "code",
   "execution_count": 21,
   "metadata": {},
   "outputs": [],
   "source": [
    "import numpy as np"
   ]
  },
  {
   "cell_type": "code",
   "execution_count": 22,
   "metadata": {},
   "outputs": [],
   "source": [
    "def gradient_descent(f, gradient, x0, alpha, eps, iters):\n",
    "    result = {}\n",
    "    \n",
    "    x = x0\n",
    "    for i in range(iters):\n",
    "        x_new = x - alpha * gradient(x)\n",
    "\n",
    "        if abs(f(x_new) - f(x)) < eps:\n",
    "            result['converged'] = True\n",
    "            break\n",
    "\n",
    "        x = x_new\n",
    "    else: # https://stackoverflow.com/questions/9979970/why-does-python-use-else-after-for-and-while-loops\n",
    "        result['converged'] = False\n",
    "    \n",
    "#     result['converged'] = i != iters\n",
    "# greska sa casa, ovaj uslov je uvek ispunjen posto python ne poveca i posle poslednje iteracije\n",
    "# naravno, problem moze da se resi i bez else posle for-a\n",
    "    result['num_iters'] = i\n",
    "    result['x'] = x_new\n",
    "    \n",
    "    return result"
   ]
  },
  {
   "cell_type": "code",
   "execution_count": 23,
   "metadata": {},
   "outputs": [],
   "source": [
    "def f(x):\n",
    "    return 0.5 * (x[0]**2 + 10*x[1]**2)"
   ]
  },
  {
   "cell_type": "code",
   "execution_count": 24,
   "metadata": {},
   "outputs": [],
   "source": [
    "def gradient(x):\n",
    "    return np.array([x[0], 10*x[1]])"
   ]
  },
  {
   "cell_type": "code",
   "execution_count": 25,
   "metadata": {},
   "outputs": [
    {
     "data": {
      "text/plain": [
       "{'converged': False, 'num_iters': 9, 'x': array([1.04603532, 0.        ])}"
      ]
     },
     "execution_count": 25,
     "metadata": {},
     "output_type": "execute_result"
    }
   ],
   "source": [
    "x0 = np.array([3,5])\n",
    "eps = 0.00001\n",
    "iters = 10\n",
    "alpha = 0.1\n",
    "\n",
    "gradient_descent(f, gradient, x0, alpha, eps, iters)"
   ]
  },
  {
   "cell_type": "code",
   "execution_count": 26,
   "metadata": {},
   "outputs": [],
   "source": [
    "def momentum(f, gradient, x0, alpha, eps, iters, beta):\n",
    "    result = {}\n",
    "    \n",
    "    x = x0\n",
    "    d = 0\n",
    "    \n",
    "    for i in range(iters):\n",
    "        d = beta * d + alpha * gradient(x)\n",
    "        x_new = x - d\n",
    "        \n",
    "        if abs(f(x_new) - f(x)) < eps:\n",
    "            result['converged'] = True\n",
    "            break\n",
    "        x = x_new\n",
    "    else:\n",
    "        result['converged'] = False\n",
    "    result['num_iters'] = i\n",
    "    result['x'] = x_new\n",
    "    \n",
    "    return result    "
   ]
  },
  {
   "cell_type": "code",
   "execution_count": 27,
   "metadata": {},
   "outputs": [
    {
     "data": {
      "text/plain": [
       "{'converged': False, 'num_iters': 9, 'x': array([0.19952216, 0.16601562])}"
      ]
     },
     "execution_count": 27,
     "metadata": {},
     "output_type": "execute_result"
    }
   ],
   "source": [
    "momentum(f, gradient, x0, alpha, eps, iters, beta=0.5)"
   ]
  },
  {
   "cell_type": "code",
   "execution_count": 28,
   "metadata": {},
   "outputs": [],
   "source": [
    "def nesterov(f, gradient, x0, alpha, eps, iters, beta):\n",
    "    result = {}\n",
    "    \n",
    "    x = x0\n",
    "    d = 0\n",
    "    \n",
    "    for i in range(iters):\n",
    "        d = beta * d + alpha * gradient(x - beta*d)\n",
    "        x_new = x - d\n",
    "        \n",
    "        if abs(f(x_new) - f(x)) < eps:\n",
    "            result['converged'] = True\n",
    "            break\n",
    "        x = x_new\n",
    "    else:\n",
    "        result['converged'] = False\n",
    "        \n",
    "    result['num_iters'] = i\n",
    "    result['x'] = x_new\n",
    "    \n",
    "    return result    "
   ]
  },
  {
   "cell_type": "code",
   "execution_count": 29,
   "metadata": {},
   "outputs": [
    {
     "data": {
      "text/plain": [
       "{'converged': False, 'num_iters': 9, 'x': array([0.31974124, 0.        ])}"
      ]
     },
     "execution_count": 29,
     "metadata": {},
     "output_type": "execute_result"
    }
   ],
   "source": [
    "nesterov(f, gradient, x0, alpha, eps, iters, beta=0.5)"
   ]
  },
  {
   "cell_type": "code",
   "execution_count": 30,
   "metadata": {},
   "outputs": [],
   "source": [
    "def adam(f, gradient, x0, alpha, eps, iters, beta1, beta2, delta):\n",
    "    result = {}\n",
    "    \n",
    "    x = x0\n",
    "    m = 0\n",
    "    v = 0\n",
    "    \n",
    "    for i in range(1, iters+1):\n",
    "        grad = gradient(x)\n",
    "        m = beta1 * m + (1 - beta1) * grad\n",
    "        v = beta2 * v + (1 - beta2) * grad**2\n",
    "        \n",
    "        m_hat = m / (1 - beta1**i)\n",
    "        v_hat = v / (1 - beta2**i)\n",
    "        \n",
    "        x_new = x - alpha * m_hat / (np.sqrt(v_hat) + delta)\n",
    "        \n",
    "        if abs(f(x_new) - f(x)) < eps:\n",
    "            result['converged'] = True\n",
    "            break\n",
    "            \n",
    "        x = x_new\n",
    "    else:\n",
    "        result['converged'] = False\n",
    "        \n",
    "    result['num_iters'] = i\n",
    "    result['x'] = x_new\n",
    "    \n",
    "    return result    "
   ]
  },
  {
   "cell_type": "code",
   "execution_count": 31,
   "metadata": {},
   "outputs": [
    {
     "data": {
      "text/plain": [
       "{'converged': False, 'num_iters': 10, 'x': array([2.01418844, 4.00760162])}"
      ]
     },
     "execution_count": 31,
     "metadata": {},
     "output_type": "execute_result"
    }
   ],
   "source": [
    "adam(f, gradient, x0, alpha, eps, iters, 0.9, 0.999, 1e-7)"
   ]
  },
  {
   "cell_type": "code",
   "execution_count": null,
   "metadata": {},
   "outputs": [],
   "source": []
  },
  {
   "cell_type": "code",
   "execution_count": null,
   "metadata": {},
   "outputs": [],
   "source": []
  }
 ],
 "metadata": {
  "kernelspec": {
   "display_name": "Python 3",
   "language": "python",
   "name": "python3"
  },
  "language_info": {
   "codemirror_mode": {
    "name": "ipython",
    "version": 3
   },
   "file_extension": ".py",
   "mimetype": "text/x-python",
   "name": "python",
   "nbconvert_exporter": "python",
   "pygments_lexer": "ipython3",
   "version": "3.7.6"
  }
 },
 "nbformat": 4,
 "nbformat_minor": 4
}
