{
 "cells": [
  {
   "cell_type": "code",
   "execution_count": 2,
   "metadata": {},
   "outputs": [],
   "source": [
    "import numpy as np"
   ]
  },
  {
   "cell_type": "code",
   "execution_count": 3,
   "metadata": {},
   "outputs": [],
   "source": [
    "def gradient_descent(f, gradient, x0, alpha, eps, iters):\n",
    "    x = x0\n",
    "    for i in range(iters):\n",
    "        x_new = x - alpha * gradient(x)\n",
    "\n",
    "        if abs(f(x_new) - f(x)) < eps:\n",
    "            break\n",
    "\n",
    "        x = x_new\n",
    "    \n",
    "    result = {}\n",
    "    result['converged'] = i != iters\n",
    "    result['num_iters'] = i\n",
    "    result['x'] = x_new\n",
    "    \n",
    "    return result"
   ]
  },
  {
   "cell_type": "code",
   "execution_count": 4,
   "metadata": {},
   "outputs": [],
   "source": [
    "def f(x):\n",
    "    return 0.5 * (x[0]**2 + 10*x[1]**2)"
   ]
  },
  {
   "cell_type": "code",
   "execution_count": 5,
   "metadata": {},
   "outputs": [],
   "source": [
    "def gradient(x):\n",
    "    return np.array([x[0], 10*x[1]])"
   ]
  },
  {
   "cell_type": "code",
   "execution_count": 6,
   "metadata": {},
   "outputs": [
    {
     "data": {
      "text/plain": [
       "{'converged': True, 'num_iters': 54, 'x': array([0.00912976, 0.        ])}"
      ]
     },
     "execution_count": 6,
     "metadata": {},
     "output_type": "execute_result"
    }
   ],
   "source": [
    "x0 = np.array([3,5])\n",
    "eps = 0.00001\n",
    "iters = 1000\n",
    "alpha = 0.1\n",
    "\n",
    "gradient_descent(f, gradient, x0, alpha, eps, iters)"
   ]
  },
  {
   "cell_type": "code",
   "execution_count": 7,
   "metadata": {},
   "outputs": [],
   "source": [
    "def momentum(f, gradient, x0, alpha, eps, iters, beta):\n",
    "    x = x0\n",
    "    d = 0\n",
    "    \n",
    "    for i in range(iters):\n",
    "        d = beta * d + alpha * gradient(x)\n",
    "        x_new = x - d\n",
    "        \n",
    "        if abs(f(x_new) - f(x)) < eps:\n",
    "            break\n",
    "        x = x_new\n",
    "        \n",
    "    result = {}\n",
    "    result['converged'] = i != iters\n",
    "    result['num_iters'] = i\n",
    "    result['x'] = x_new\n",
    "    \n",
    "    return result    "
   ]
  },
  {
   "cell_type": "code",
   "execution_count": 8,
   "metadata": {},
   "outputs": [
    {
     "data": {
      "text/plain": [
       "{'converged': True, 'num_iters': 24, 'x': array([-0.00088475,  0.00063032])}"
      ]
     },
     "execution_count": 8,
     "metadata": {},
     "output_type": "execute_result"
    }
   ],
   "source": [
    "momentum(f, gradient, x0, alpha, eps, iters, beta=0.5)"
   ]
  },
  {
   "cell_type": "code",
   "execution_count": 9,
   "metadata": {},
   "outputs": [],
   "source": [
    "def nesterov(f, gradient, x0, alpha, eps, iters, beta):\n",
    "    x = x0\n",
    "    d = 0\n",
    "    \n",
    "    for i in range(iters):\n",
    "        d = beta * d + alpha * gradient(x - beta*d)\n",
    "        x_new = x - d\n",
    "        \n",
    "        if abs(f(x_new) - f(x)) < eps:\n",
    "            break\n",
    "        x = x_new\n",
    "        \n",
    "    result = {}\n",
    "    result['converged'] = i != iters\n",
    "    result['num_iters'] = i\n",
    "    result['x'] = x_new\n",
    "    \n",
    "    return result    "
   ]
  },
  {
   "cell_type": "code",
   "execution_count": 10,
   "metadata": {},
   "outputs": [
    {
     "data": {
      "text/plain": [
       "{'converged': True, 'num_iters': 24, 'x': array([0.00450673, 0.        ])}"
      ]
     },
     "execution_count": 10,
     "metadata": {},
     "output_type": "execute_result"
    }
   ],
   "source": [
    "nesterov(f, gradient, x0, alpha, eps, iters, beta=0.5)"
   ]
  },
  {
   "cell_type": "code",
   "execution_count": 16,
   "metadata": {},
   "outputs": [],
   "source": [
    "def adam(f, gradient, x0, alpha, eps, iters, beta1, beta2, delta):\n",
    "    x = x0\n",
    "    m = 0\n",
    "    v = 0\n",
    "    \n",
    "    for i in range(1, iters+1):\n",
    "        grad = gradient(x)\n",
    "        m = beta1 * m + (1 - beta1) * grad\n",
    "        v = beta2 * v + (1 - beta2) * grad**2\n",
    "        \n",
    "        m_hat = m / (1 - beta1**i)\n",
    "        v_hat = v / (1 - beta2**i)\n",
    "        \n",
    "        x_new = x - alpha * m_hat / (np.sqrt(v_hat) + delta)\n",
    "        \n",
    "        if abs(f(x_new) - f(x)) < eps:\n",
    "            break\n",
    "            \n",
    "        x = x_new\n",
    "        \n",
    "    result = {}\n",
    "    result['converged'] = i != iters\n",
    "    result['num_iters'] = i\n",
    "    result['x'] = x_new\n",
    "    \n",
    "    return result    "
   ]
  },
  {
   "cell_type": "code",
   "execution_count": 17,
   "metadata": {},
   "outputs": [
    {
     "data": {
      "text/plain": [
       "{'converged': True, 'num_iters': 142, 'x': array([-0.00108211, -0.00152502])}"
      ]
     },
     "execution_count": 17,
     "metadata": {},
     "output_type": "execute_result"
    }
   ],
   "source": [
    "adam(f, gradient, x0, alpha, eps, iters, 0.9, 0.999, 1e-7)"
   ]
  },
  {
   "cell_type": "code",
   "execution_count": null,
   "metadata": {},
   "outputs": [],
   "source": []
  }
 ],
 "metadata": {
  "kernelspec": {
   "display_name": "Python 3",
   "language": "python",
   "name": "python3"
  },
  "language_info": {
   "codemirror_mode": {
    "name": "ipython",
    "version": 3
   },
   "file_extension": ".py",
   "mimetype": "text/x-python",
   "name": "python",
   "nbconvert_exporter": "python",
   "pygments_lexer": "ipython3",
   "version": "3.7.6"
  }
 },
 "nbformat": 4,
 "nbformat_minor": 4
}
