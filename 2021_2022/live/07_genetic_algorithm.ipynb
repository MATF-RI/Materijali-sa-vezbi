{
 "cells": [
  {
   "cell_type": "code",
   "execution_count": 1,
   "metadata": {},
   "outputs": [],
   "source": [
    "# s - single\n",
    "# p - population\n",
    "\n",
    "# intenzifikacija\n",
    "# diverzifikacija\n"
   ]
  },
  {
   "cell_type": "code",
   "execution_count": 3,
   "metadata": {},
   "outputs": [],
   "source": [
    "# jedinka: resenje - kodiranje: 110010101011\n",
    "\n",
    "# roditelj1 - 110010101011\n",
    "# roditelj2 - 001011011100\n",
    "\n",
    "# dete1 - 110010101100\n",
    "# dete2 - 001011011011\n",
    "        \n",
    "# population = [jedinka...]\n",
    "# while not stop_condition():\n",
    "#     if elitism:\n",
    "#         u novu populaciju iskopiraj nekoliko najboljih jedinki\n",
    "#     izaberi jedinke za reprodukciju\n",
    "#     ukrstamo\n",
    "#     mutacija\n",
    "#     dobili smo novu populaciju"
   ]
  },
  {
   "cell_type": "code",
   "execution_count": 1,
   "metadata": {},
   "outputs": [],
   "source": [
    "# UFLP"
   ]
  },
  {
   "cell_type": "code",
   "execution_count": 2,
   "metadata": {},
   "outputs": [],
   "source": [
    "import random"
   ]
  },
  {
   "cell_type": "code",
   "execution_count": 63,
   "metadata": {},
   "outputs": [],
   "source": [
    "class Individual:\n",
    "    def __init__(self, cost, fixedCost):\n",
    "        numResources = len(fixedCost)\n",
    "        self.code = [random.random() < 0.25 for _ in range(numResources)]\n",
    "        self.correctNonFeasible()\n",
    "        \n",
    "        self.fitness = self.calcFitness(cost, fixedCost)\n",
    "        \n",
    "    def __lt__(self, other):\n",
    "        return self.fitness < other.fitness\n",
    "    \n",
    "    def isFeasible(self):\n",
    "        for c in self.code:\n",
    "            if c:\n",
    "                return True\n",
    "        return False\n",
    "    \n",
    "    def invert(self):\n",
    "        # 100 -> 000 -> 010\n",
    "        randomResource = random.randrange(len(self.code))\n",
    "        self.code[randomResource] = not self.code[randomResource]\n",
    "        if self.isFeasible():\n",
    "            return randomResource\n",
    "        else:\n",
    "            return -1\n",
    "    \n",
    "    def correctNonFeasible(self):\n",
    "        for c in self.code:\n",
    "            if c:\n",
    "                return\n",
    "        randomResource = random.randrange(len(self.code))\n",
    "        self.code[randomResource] = True\n",
    "        \n",
    "    def calcFitness(self, cost, fixedCost):\n",
    "        numUsers = len(cost)\n",
    "        numResources = len(fixedCost)\n",
    "        usedResources = [False for _ in range(numResources)]\n",
    "        totalCost = 0\n",
    "        for i in range(numUsers):\n",
    "            minCost = float('inf')\n",
    "            resourceUsed = -1\n",
    "            for j in range(numResources):\n",
    "                if cost[i][j] < minCost and self.code[j]:\n",
    "                    minCost = cost[i][j]\n",
    "                    resourceUsed = j\n",
    "            totalCost += minCost\n",
    "            usedResources[resourceUsed] = True\n",
    "        # True, False, True -> True, False, False\n",
    "        \n",
    "        self.code = usedResources\n",
    "        \n",
    "        for j, resource in enumerate(self.code):\n",
    "            if resource:\n",
    "                totalCost += fixedCost[j]\n",
    "        \n",
    "        fitness = 1 / totalCost\n",
    "        return fitness"
   ]
  },
  {
   "cell_type": "code",
   "execution_count": 64,
   "metadata": {},
   "outputs": [],
   "source": [
    "def readInput(filename):\n",
    "    with open(filename, 'r') as f:\n",
    "        numUsers, numResources = [int(x) for x in f.readline().split()]\n",
    "        cost = [[int(x) for x in f.readline().split()] for i in range(numUsers)]\n",
    "        fixedCost = [int(x) for x in f.readline().split()]\n",
    "        return cost, fixedCost"
   ]
  },
  {
   "cell_type": "code",
   "execution_count": 65,
   "metadata": {},
   "outputs": [
    {
     "data": {
      "text/plain": [
       "([[1, 12, 3], [2, 7, 41], [19, 21, 7]], [12, 11, 13])"
      ]
     },
     "execution_count": 65,
     "metadata": {},
     "output_type": "execute_result"
    }
   ],
   "source": [
    "cost, fixedCost = readInput('../03/uflp1.txt')\n",
    "cost, fixedCost"
   ]
  },
  {
   "cell_type": "code",
   "execution_count": 66,
   "metadata": {},
   "outputs": [],
   "source": [
    "def selection(population):\n",
    "    TOURNAMENT_SIZE = 5\n",
    "#     bestIndividual = max(random.sample(population, TOURNAMENT_SIZE))\n",
    "    bestFitness = float('-inf')\n",
    "    index = -1\n",
    "    for i in range(TOURNAMENT_SIZE):\n",
    "        randomIndividual = random.randrange(len(population))\n",
    "        if population[randomIndividual].fitness > bestFitness:\n",
    "            bestFitness = population[randomIndividual].fitness\n",
    "            index = randomIndividual\n",
    "    return index "
   ]
  },
  {
   "cell_type": "code",
   "execution_count": 67,
   "metadata": {},
   "outputs": [],
   "source": [
    "def crossover(parent1, parent2, child1, child2):\n",
    "    breakpoint = random.randrange(len(parent1.code))\n",
    "    \n",
    "    child1.code[:breakpoint] = parent1.code[:breakpoint]\n",
    "    child2.code[:breakpoint] = parent2.code[:breakpoint]\n",
    "    \n",
    "    child1.code[breakpoint:] = parent2.code[breakpoint:]\n",
    "    child2.code[breakpoint:] = parent1.code[breakpoint:]\n",
    "    \n",
    "    child1.correctNonFeasible()\n",
    "    child2.correctNonFeasible()"
   ]
  },
  {
   "cell_type": "code",
   "execution_count": 68,
   "metadata": {},
   "outputs": [],
   "source": [
    "def mutation(individual):\n",
    "    MUTATION_PROB = 0.05\n",
    "    for i in range(len(individual.code)):\n",
    "        if random.random() < MUTATION_PROB:\n",
    "            individual.code[i] = not individual.code[i]\n",
    "    individual.correctNonFeasible()"
   ]
  },
  {
   "cell_type": "code",
   "execution_count": 69,
   "metadata": {},
   "outputs": [
    {
     "name": "stdout",
     "output_type": "stream",
     "text": [
      "[True, False, False] 0.029411764705882353\n",
      "[True, False, True] 0.02857142857142857\n",
      "[True, False, False]\n",
      "[True, False, False]\n",
      "solution: [True, False, False], fitness: 0.029411764705882353, cost: 34.0\n"
     ]
    }
   ],
   "source": [
    "POPULATION_SIZE = 2\n",
    "NUM_GENERATIONS = 1\n",
    "ELITISIM_SIZE = POPULATION_SIZE // 5\n",
    "\n",
    "population = [Individual(cost, fixedCost) for _ in range(POPULATION_SIZE)]\n",
    "newPopulation = [Individual(cost, fixedCost) for _ in range(POPULATION_SIZE)]\n",
    "\n",
    "for i in range(NUM_GENERATIONS):\n",
    "    population.sort(reverse=True) # <\n",
    "    for p in population:\n",
    "        print(p.code, p.fitness)\n",
    "    newPopulation[:ELITISIM_SIZE] = population[:ELITISIM_SIZE]\n",
    "    for j in range(ELITISIM_SIZE, POPULATION_SIZE, 2):\n",
    "        parent1Index = selection(population)\n",
    "        parent2Index = selection(population)\n",
    "        \n",
    "        crossover(population[parent1Index], population[parent2Index], newPopulation[j], newPopulation[j+1])\n",
    "        \n",
    "        mutation(newPopulation[j])\n",
    "        mutation(newPopulation[j+1])\n",
    "        \n",
    "        newPopulation[j].fitness = newPopulation[j].calcFitness(cost, fixedCost)\n",
    "        newPopulation[j+1].fitness = newPopulation[j+1].calcFitness(cost, fixedCost)\n",
    "        \n",
    "    population = newPopulation\n",
    "for p in population:\n",
    "    print(p.code)\n",
    "\n",
    "\n",
    "bestIndividual = max(population)\n",
    "print(f'solution: {bestIndividual.code}, fitness: {bestIndividual.fitness}, cost: {1 / bestIndividual.fitness}')"
   ]
  },
  {
   "cell_type": "code",
   "execution_count": 70,
   "metadata": {},
   "outputs": [],
   "source": [
    "def simulatedAnnealing(individual, cost, fixedCost, iters):\n",
    "    for i in range(1, iters+1):\n",
    "        # promeni malo individual\n",
    "        resourceInverted = individual.invert()\n",
    "        if resourceInverted < 0:\n",
    "            continue\n",
    "        newFitness = individual.calcFitness(cost, fixedCost)\n",
    "        if newFitness > individual.fitness:\n",
    "            individual.fitness = newFitness\n",
    "        else:\n",
    "            p = 1.0 / i ** 0.5\n",
    "            q = random.uniform(0, 1)\n",
    "            if p > q:\n",
    "                individual.fitness = newFitness\n",
    "            else:                \n",
    "                # vrati se na prethodno i nastavi odatle\n",
    "                individual.code[resourceInverted] = not individual.code[resourceInverted]"
   ]
  },
  {
   "cell_type": "code",
   "execution_count": 72,
   "metadata": {},
   "outputs": [
    {
     "name": "stdout",
     "output_type": "stream",
     "text": [
      "solution: [True, False, False], fitness: 0.029411764705882353, cost: 34.0\n"
     ]
    }
   ],
   "source": [
    "POPULATION_SIZE = 20\n",
    "NUM_GENERATIONS = 10\n",
    "ELITISIM_SIZE = POPULATION_SIZE // 5\n",
    "\n",
    "population = [Individual(cost, fixedCost) for _ in range(POPULATION_SIZE)]\n",
    "newPopulation = [Individual(cost, fixedCost) for _ in range(POPULATION_SIZE)]\n",
    "\n",
    "for i in range(NUM_GENERATIONS):\n",
    "    population.sort(reverse=True) # <\n",
    "#     for p in population:\n",
    "#         print(p.code, p.fitness)\n",
    "    newPopulation[:ELITISIM_SIZE] = population[:ELITISIM_SIZE]\n",
    "    for j in range(ELITISIM_SIZE, POPULATION_SIZE, 2):\n",
    "        parent1Index = selection(population)\n",
    "        parent2Index = selection(population)\n",
    "        \n",
    "        crossover(population[parent1Index], population[parent2Index], newPopulation[j], newPopulation[j+1])\n",
    "        \n",
    "        mutation(newPopulation[j])\n",
    "        mutation(newPopulation[j+1])\n",
    "        \n",
    "        newPopulation[j].fitness = newPopulation[j].calcFitness(cost, fixedCost)\n",
    "        newPopulation[j+1].fitness = newPopulation[j+1].calcFitness(cost, fixedCost)\n",
    "    \n",
    "    simulatedAnnealing(max(newPopulation), cost, fixedCost, iters=10)\n",
    "    population = newPopulation\n",
    "# for p in population:\n",
    "#     print(p.code)\n",
    "\n",
    "\n",
    "bestIndividual = max(population)\n",
    "print(f'solution: {bestIndividual.code}, fitness: {bestIndividual.fitness}, cost: {1 / bestIndividual.fitness}')"
   ]
  },
  {
   "cell_type": "code",
   "execution_count": null,
   "metadata": {},
   "outputs": [],
   "source": []
  }
 ],
 "metadata": {
  "kernelspec": {
   "display_name": "Python 3",
   "language": "python",
   "name": "python3"
  },
  "language_info": {
   "codemirror_mode": {
    "name": "ipython",
    "version": 3
   },
   "file_extension": ".py",
   "mimetype": "text/x-python",
   "name": "python",
   "nbconvert_exporter": "python",
   "pygments_lexer": "ipython3",
   "version": "3.7.6"
  }
 },
 "nbformat": 4,
 "nbformat_minor": 4
}
