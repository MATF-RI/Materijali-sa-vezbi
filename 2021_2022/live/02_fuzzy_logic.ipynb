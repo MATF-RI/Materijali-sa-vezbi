{
 "cells": [
  {
   "cell_type": "code",
   "execution_count": 1,
   "metadata": {},
   "outputs": [],
   "source": [
    "class FuzzyInput():\n",
    "    def __init__(self, name, xs, ys, x0):\n",
    "        self.name = name\n",
    "        self.points = list(zip(xs, ys))\n",
    "        self.mu = self.calcMu(x0)\n",
    "        \n",
    "    def calcMu(self, x0):\n",
    "        if x0 < self.points[0][0]:\n",
    "            return self.points[0][1]\n",
    "        elif x0 > self.points[-1][0]:\n",
    "            return self.points[-1][1]\n",
    "        for i in range(len(self.points) - 1):\n",
    "            x1 = self.points[i][0]\n",
    "            x2 = self.points[i+1][0]\n",
    "            if x0 >= x1 and x0 < x2:\n",
    "                y1 = self.points[i][1]\n",
    "                y2 = self.points[i+1][1]\n",
    "                if y1 == y2:\n",
    "                    return y2\n",
    "                elif y1 < y2:\n",
    "                    return (x0 - x1) / (x2 - x1)\n",
    "                else:\n",
    "                    return (x2 - x0) / (x2 - x1)"
   ]
  },
  {
   "cell_type": "code",
   "execution_count": 2,
   "metadata": {},
   "outputs": [],
   "source": [
    "x = FuzzyInput('ime', [3,10],[1,0], 9)"
   ]
  },
  {
   "cell_type": "code",
   "execution_count": 3,
   "metadata": {},
   "outputs": [
    {
     "data": {
      "text/plain": [
       "0.14285714285714285"
      ]
     },
     "execution_count": 3,
     "metadata": {},
     "output_type": "execute_result"
    }
   ],
   "source": [
    "x.mu"
   ]
  },
  {
   "cell_type": "code",
   "execution_count": 6,
   "metadata": {},
   "outputs": [],
   "source": [
    "class FuzzyOutput:\n",
    "    def __init__(self, name, xs, ys):\n",
    "        self.name = name\n",
    "        self.xs = xs\n",
    "        self.ys = ys\n",
    "        self.mu = 0\n",
    "        self.c = 0\n",
    "        n = 0\n",
    "        for x, y in zip(xs, ys):\n",
    "            if y == 1:\n",
    "                self.c += x\n",
    "                n += 1\n",
    "        self.c /= n"
   ]
  },
  {
   "cell_type": "code",
   "execution_count": 7,
   "metadata": {},
   "outputs": [
    {
     "data": {
      "text/plain": [
       "7.0"
      ]
     },
     "execution_count": 7,
     "metadata": {},
     "output_type": "execute_result"
    }
   ],
   "source": [
    "x = FuzzyOutput('iz', [7,15],[1,0])\n",
    "x.c"
   ]
  },
  {
   "cell_type": "code",
   "execution_count": 8,
   "metadata": {},
   "outputs": [],
   "source": [
    "from enum import Enum, unique\n",
    "\n",
    "@unique\n",
    "class LogicOp(Enum):\n",
    "    AND = 0\n",
    "    OR = 1\n",
    "\n",
    "class Rule:\n",
    "    def __init__(self, input1, input2, output, operator):\n",
    "        self.input1 = input1\n",
    "        self.input2 = input2\n",
    "        self.output = output\n",
    "        \n",
    "        if operator == LogicOp.AND:\n",
    "            self.output.mu = max(self.output.mu, min(self.input1.mu, self.input2.mu))\n",
    "        else:\n",
    "            self.output.mu = max(self.output.mu, max(self.input1.mu, self.input2.mu))"
   ]
  },
  {
   "cell_type": "code",
   "execution_count": 10,
   "metadata": {},
   "outputs": [
    {
     "data": {
      "text/plain": [
       "25.26315789473684"
      ]
     },
     "execution_count": 10,
     "metadata": {},
     "output_type": "execute_result"
    }
   ],
   "source": [
    "potrosnja = []\n",
    "potrosnja.append(FuzzyInput('mala', [3,10],[1,0],9))\n",
    "potrosnja.append(FuzzyInput('srednja', [7,10,12,15],[0,1,1,0],9))\n",
    "potrosnja.append(FuzzyInput('velika', [12,15],[0,1],9))\n",
    "\n",
    "pouzdanost = []\n",
    "pouzdanost.append(FuzzyInput('visoka', [5,10],[1,0], 8))\n",
    "pouzdanost.append(FuzzyInput('niska', [8,15],[0,1], 8))\n",
    "\n",
    "vrednost = []\n",
    "vrednost.append(FuzzyOutput('mala', [7,15],[1,0]))\n",
    "vrednost.append(FuzzyOutput('srednja', [7,15,25,40],[0,1,1,0]))\n",
    "vrednost.append(FuzzyOutput('velika', [25,40],[0,1]))\n",
    "\n",
    "rules = []\n",
    "rules.append(Rule(potrosnja[0], pouzdanost[0], vrednost[2], LogicOp.AND))\n",
    "rules.append(Rule(potrosnja[0], pouzdanost[1], vrednost[1], LogicOp.AND))\n",
    "rules.append(Rule(potrosnja[1], pouzdanost[0], vrednost[1], LogicOp.AND))\n",
    "rules.append(Rule(potrosnja[1], pouzdanost[1], vrednost[1], LogicOp.AND))\n",
    "rules.append(Rule(potrosnja[2], pouzdanost[0], vrednost[1], LogicOp.AND))\n",
    "rules.append(Rule(potrosnja[2], pouzdanost[1], vrednost[0], LogicOp.AND))\n",
    "\n",
    "# for v in vrednost:\n",
    "#     print(v.mu)\n",
    "\n",
    "iznad = 0\n",
    "ispod = 0\n",
    "for v in vrednost:\n",
    "    iznad += v.c * v.mu\n",
    "    ispod += v.mu\n",
    "iznad/ispod"
   ]
  },
  {
   "cell_type": "code",
   "execution_count": null,
   "metadata": {},
   "outputs": [],
   "source": []
  },
  {
   "cell_type": "code",
   "execution_count": null,
   "metadata": {},
   "outputs": [],
   "source": []
  }
 ],
 "metadata": {
  "kernelspec": {
   "display_name": "Python 3",
   "language": "python",
   "name": "python3"
  },
  "language_info": {
   "codemirror_mode": {
    "name": "ipython",
    "version": 3
   },
   "file_extension": ".py",
   "mimetype": "text/x-python",
   "name": "python",
   "nbconvert_exporter": "python",
   "pygments_lexer": "ipython3",
   "version": "3.7.6"
  }
 },
 "nbformat": 4,
 "nbformat_minor": 4
}
