{
 "cells": [
  {
   "cell_type": "code",
   "execution_count": 2,
   "metadata": {},
   "outputs": [],
   "source": [
    "# kod: 1101010100\n",
    "#      0101010011\n",
    "# fitnes: ...\n",
    "    \n",
    "# kod: niska\n",
    "# kod: [l1,l2,l3,...]\n",
    "# kod: AST - stablo\n",
    "    \n",
    "# '''fact2 = 1\n",
    "# for i in range(1, n):\n",
    "#     if i % 2 == 0:\n",
    "#         fact2 *= i\n",
    "# return fact2'''\n",
    "\n",
    "# '''\n",
    "# if uslov:\n",
    "#     f()\n",
    "# else:\n",
    "#     g()\n",
    "# '''\n",
    "\n",
    "# # resenje1 = rec|rec2|rec3\n",
    "# # resenje2 = r.*\n",
    "# # resenje3 = s\n",
    "# # najkraci regex koji je tacan za sve iz grupe DA, a netacan za sve iz grupe NE\n",
    "# # da:     ne:\n",
    "# # rec     rec4\n",
    "# # rec2    nerec\n",
    "# # rec3    nerec2\n",
    "\n",
    "# selekcija\n",
    "# ukrstanje\n",
    "# mutacija"
   ]
  },
  {
   "cell_type": "code",
   "execution_count": 3,
   "metadata": {},
   "outputs": [],
   "source": [
    "import random"
   ]
  },
  {
   "cell_type": "code",
   "execution_count": 7,
   "metadata": {},
   "outputs": [
    {
     "data": {
      "text/plain": [
       "15"
      ]
     },
     "execution_count": 7,
     "metadata": {},
     "output_type": "execute_result"
    }
   ],
   "source": [
    "eval('(2+3)*(4-1)')"
   ]
  },
  {
   "cell_type": "code",
   "execution_count": null,
   "metadata": {},
   "outputs": [],
   "source": []
  },
  {
   "cell_type": "code",
   "execution_count": 78,
   "metadata": {},
   "outputs": [],
   "source": [
    "class Individual:\n",
    "    \n",
    "    def __init__(self, goal=100, num_operators=3, num_terminals=4):\n",
    "#         self.code = [op1, op2, op3, a, b, c, d]\n",
    "        self.code = []\n",
    "        self.goal = goal\n",
    "        self.num_operators = num_operators\n",
    "        for i in range(num_operators):\n",
    "            self.code.append(self.randomOperator())\n",
    "        for i in range(num_terminals):\n",
    "            self.code.append(self.randomTerminal())\n",
    "            \n",
    "        self.fitness = self.calcFitness()\n",
    "        \n",
    "    def __lt__(self, other):\n",
    "        return self.fitness < other.fitness\n",
    "        \n",
    "    def __str__(self):\n",
    "#         (a op2 b) op1 (c op3) d\n",
    "        a = str(self.code[3])\n",
    "        b = str(self.code[4])\n",
    "        c = str(self.code[5])\n",
    "        d = str(self.code[6])\n",
    "        \n",
    "        first = '(' + a + ' ' + self.code[1] + ' ' + b + ')'\n",
    "        second = '(' + c + ' ' + self.code[2] + ' ' + d + ')'\n",
    "        return first + ' ' + self.code[0] + ' ' + second\n",
    "        \n",
    "    def calcFitness(self):\n",
    "        value = eval(str(self))\n",
    "        # 15, 100 -> 85 -> 1/86, -85\n",
    "        # 90, 100 -> 10 -> 1/11, -10\n",
    "        # 100, 100 -> 0 -> 1/1,   0\n",
    "        error = abs(self.goal - value)\n",
    "        fitness = 1 / (1 + error)\n",
    "        return fitness\n",
    "    \n",
    "    def randomOperator(self, forbidden={}):\n",
    "        operators = {'+', '-', '*'}.difference(forbidden)\n",
    "        return random.choice(list(operators))\n",
    "    \n",
    "    def randomTerminal(self, lb=-10, ub=10):\n",
    "#         range(a,b) -> [a,b)\n",
    "        return random.randrange(lb, ub+1)"
   ]
  },
  {
   "cell_type": "code",
   "execution_count": 79,
   "metadata": {},
   "outputs": [
    {
     "name": "stdout",
     "output_type": "stream",
     "text": [
      "(6 + 9) + (4 + -8)\n"
     ]
    },
    {
     "data": {
      "text/plain": [
       "0.011111111111111112"
      ]
     },
     "execution_count": 79,
     "metadata": {},
     "output_type": "execute_result"
    }
   ],
   "source": [
    "i = Individual()\n",
    "print(i)\n",
    "i.fitness\n"
   ]
  },
  {
   "cell_type": "code",
   "execution_count": 80,
   "metadata": {},
   "outputs": [],
   "source": [
    "def selection(population):\n",
    "    TOURNAMENT_SIZE = 5\n",
    "    participants = random.sample(population, TOURNAMENT_SIZE)\n",
    "    winner = max(participants)\n",
    "    return winner"
   ]
  },
  {
   "cell_type": "code",
   "execution_count": 81,
   "metadata": {},
   "outputs": [],
   "source": [
    "def getSubtree(root_index, subtree_indices, num_nodes):\n",
    "    if root_index >= num_nodes:\n",
    "        return\n",
    "    subtree_indices.append(root_index)\n",
    "    getSubtree(root_index * 2 + 1, subtree_indices, num_nodes)\n",
    "    getSubtree(root_index * 2 + 2, subtree_indices, num_nodes)"
   ]
  },
  {
   "cell_type": "code",
   "execution_count": 82,
   "metadata": {},
   "outputs": [],
   "source": [
    "def crossover(parent1, parent2, child1, child2):\n",
    "#       0    1    2   3  4  5  6\n",
    "#     [op1, op2, op3, a, b, c, d]\n",
    "    root_index = random.randrange(1, len(parent1.code))\n",
    "    subtree_indices = []\n",
    "    getSubtree(root_index, subtree_indices, len(parent1.code))\n",
    "    for i in range(len(parent1.code)):\n",
    "        if i in subtree_indices:\n",
    "            child1.code[i] = parent2.code[i]\n",
    "            child2.code[i] = parent1.code[i]\n",
    "        else:\n",
    "            child1.code[i] = parent1.code[i]\n",
    "            child2.code[i] = parent2.code[i]"
   ]
  },
  {
   "cell_type": "code",
   "execution_count": 83,
   "metadata": {},
   "outputs": [],
   "source": [
    "def mutation(individual):\n",
    "    MUTATION_PROB = 0.05\n",
    "    for i in range(len(individual.code)):\n",
    "        if random.random() < MUTATION_PROB:\n",
    "            if i < individual.num_operators:\n",
    "                individual.code[i] = individual.randomOperator(forbidden={individual.code[i]})\n",
    "            else:\n",
    "                individual.code[i] = individual.randomTerminal(lb=individual.code[i] - 10,\n",
    "                                                               ub=individual.code[i] + 10)"
   ]
  },
  {
   "cell_type": "code",
   "execution_count": 90,
   "metadata": {},
   "outputs": [
    {
     "name": "stdout",
     "output_type": "stream",
     "text": [
      "solution: (9 * 9) * (8 + 9), fitness: 0.2\n"
     ]
    }
   ],
   "source": [
    "POP_SIZE = 1000\n",
    "NUM_GENERATIONS = 2000\n",
    "ELITISM_SIZE = POP_SIZE // 3\n",
    "if ELITISM_SIZE % 2 == 1:\n",
    "    ELITISM_SIZE -= 1\n",
    "\n",
    "population = [Individual(goal=1381) for _ in range(POP_SIZE)]\n",
    "newPopulation = [Individual(goal=1381) for _ in range(POP_SIZE)]\n",
    "\n",
    "for i in range(NUM_GENERATIONS):\n",
    "    population.sort(reverse=True)\n",
    "    if population[0].fitness == 1:\n",
    "        break\n",
    "    newPopulation[:ELITISM_SIZE] = population[:ELITISM_SIZE]\n",
    "    for j in range(ELITISM_SIZE, POP_SIZE, 2):\n",
    "        parent1 = selection(population)\n",
    "        parent2 = selection(population)\n",
    "        \n",
    "        crossover(parent1, parent2, newPopulation[j], newPopulation[j+1])\n",
    "        \n",
    "        mutation(newPopulation[j])\n",
    "        mutation(newPopulation[j+1])\n",
    "        \n",
    "        newPopulation[j].fitness = newPopulation[j].calcFitness()\n",
    "        newPopulation[j+1].fitness = newPopulation[j+1].calcFitness()\n",
    "        \n",
    "    population = newPopulation\n",
    "    \n",
    "best = max(population)\n",
    "print(f'solution: {best}, fitness: {best.fitness}')"
   ]
  },
  {
   "cell_type": "code",
   "execution_count": 74,
   "metadata": {},
   "outputs": [
    {
     "data": {
      "text/plain": [
       "1008"
      ]
     },
     "execution_count": 74,
     "metadata": {},
     "output_type": "execute_result"
    }
   ],
   "source": [
    "(-7 * 8) * (-8 - 10)"
   ]
  },
  {
   "cell_type": "code",
   "execution_count": 86,
   "metadata": {},
   "outputs": [
    {
     "data": {
      "text/plain": [
       "1001"
      ]
     },
     "execution_count": 86,
     "metadata": {},
     "output_type": "execute_result"
    }
   ],
   "source": [
    "(7 * 13) * (4 + 7)"
   ]
  },
  {
   "cell_type": "code",
   "execution_count": 91,
   "metadata": {},
   "outputs": [
    {
     "data": {
      "text/plain": [
       "1377"
      ]
     },
     "execution_count": 91,
     "metadata": {},
     "output_type": "execute_result"
    }
   ],
   "source": [
    "(9 * 9) * (8 + 9)"
   ]
  },
  {
   "cell_type": "code",
   "execution_count": null,
   "metadata": {},
   "outputs": [],
   "source": []
  }
 ],
 "metadata": {
  "kernelspec": {
   "display_name": "Python 3",
   "language": "python",
   "name": "python3"
  },
  "language_info": {
   "codemirror_mode": {
    "name": "ipython",
    "version": 3
   },
   "file_extension": ".py",
   "mimetype": "text/x-python",
   "name": "python",
   "nbconvert_exporter": "python",
   "pygments_lexer": "ipython3",
   "version": "3.7.6"
  }
 },
 "nbformat": 4,
 "nbformat_minor": 4
}
