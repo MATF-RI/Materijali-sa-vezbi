{
 "cells": [
  {
   "cell_type": "code",
   "execution_count": 1,
   "metadata": {},
   "outputs": [],
   "source": [
    "# kapacitet ranca - 5\n",
    "# 1. 5 7\n",
    "# 2. 2 4\n",
    "# 3. 2 4"
   ]
  },
  {
   "cell_type": "code",
   "execution_count": 2,
   "metadata": {},
   "outputs": [],
   "source": [
    "class Item:\n",
    "    def __init__(self, weight, value):\n",
    "        self.weight = weight\n",
    "        self.value = value"
   ]
  },
  {
   "cell_type": "code",
   "execution_count": 6,
   "metadata": {},
   "outputs": [],
   "source": [
    "class Node:\n",
    "    def __init__(self, weight, value, level):\n",
    "        self.weight = weight\n",
    "        self.value = value\n",
    "        self.level = level\n",
    "        \n",
    "        self.bound = 0"
   ]
  },
  {
   "cell_type": "code",
   "execution_count": 7,
   "metadata": {},
   "outputs": [],
   "source": [
    "import queue"
   ]
  },
  {
   "cell_type": "code",
   "execution_count": 11,
   "metadata": {},
   "outputs": [],
   "source": [
    "def bound(u, items, knapsackCapacity):\n",
    "    if u.weight >= knapsackCapacity:\n",
    "        return 0\n",
    "    totalWeight = u.weight\n",
    "    totalValue = u.value\n",
    "    level = u.level + 1\n",
    "#     while level < len(items) and totalWeight < knapsackCapacity: \n",
    "# iznad je greska sa casa, treba da se doda i tezina novog predmeta u uslov\n",
    "# da ne bismo premasili kapacitet ranca\n",
    "    while level < len(items) and totalWeight + items[level].weight <= knapsackCapacity:\n",
    "        totalValue += items[level].value\n",
    "        totalWeight += items[level].weight\n",
    "        level += 1\n",
    "    if level != len(items):\n",
    "        totalValue += items[level].value * (knapsackCapacity - totalWeight) / items[level].weight\n",
    "    return totalValue"
   ]
  },
  {
   "cell_type": "code",
   "execution_count": 12,
   "metadata": {},
   "outputs": [],
   "source": [
    "def bnb(items, knapsackCapacity):\n",
    "    items = sorted(items, key=lambda x: x.value / x.weight, reverse=True)\n",
    "    Q = queue.Queue()\n",
    "    node = Node(0, 0, -1)\n",
    "    Q.put(node)\n",
    "    maxValue = 0\n",
    "    \n",
    "    while not Q.empty():\n",
    "        u = Q.get()\n",
    "        if u.level == len(items) - 1:\n",
    "            continue\n",
    "            \n",
    "        v_level = u.level + 1\n",
    "        v = Node(level=v_level,\n",
    "                 weight=u.weight + items[v_level].weight,\n",
    "                 value=u.value + items[v_level].value)\n",
    "        \n",
    "        if v.weight <= knapsackCapacity and v.value > maxValue:\n",
    "            maxValue = v.value\n",
    "        \n",
    "        v.bound = bound(v, items, knapsackCapacity)\n",
    "        if v.bound > maxValue:\n",
    "            Q.put(v)\n",
    "        \n",
    "        v = Node(level=u.level + 1,\n",
    "                 weight=u.weight,\n",
    "                 value=u.value)\n",
    "        v.bound = bound(v, items, knapsackCapacity)\n",
    "        if v.bound > maxValue:\n",
    "            Q.put(v)\n",
    "            \n",
    "    return maxValue"
   ]
  },
  {
   "cell_type": "code",
   "execution_count": 13,
   "metadata": {},
   "outputs": [
    {
     "data": {
      "text/plain": [
       "235"
      ]
     },
     "execution_count": 13,
     "metadata": {},
     "output_type": "execute_result"
    }
   ],
   "source": [
    "items = [Item(2, 40), Item(3.14, 50), Item(1.98, 100), Item(5, 95), Item(3, 30)]\n",
    "bnb(items, knapsackCapacity=10)"
   ]
  },
  {
   "cell_type": "code",
   "execution_count": 14,
   "metadata": {},
   "outputs": [],
   "source": [
    "# Q---\n",
    "# --\n",
    "# - -\n",
    "# -  -\n",
    "# rows = [False for i in range(n)]\n",
    "# rows[i] = True\n",
    "# diag1 = [False for i in range(...)]\n",
    "# diag1[i+j] = True\n",
    "# diag2 = [False for i in range(...)]\n",
    "# diag2[?] = True"
   ]
  },
  {
   "cell_type": "code",
   "execution_count": null,
   "metadata": {},
   "outputs": [],
   "source": []
  }
 ],
 "metadata": {
  "kernelspec": {
   "display_name": "Python 3",
   "language": "python",
   "name": "python3"
  },
  "language_info": {
   "codemirror_mode": {
    "name": "ipython",
    "version": 3
   },
   "file_extension": ".py",
   "mimetype": "text/x-python",
   "name": "python",
   "nbconvert_exporter": "python",
   "pygments_lexer": "ipython3",
   "version": "3.7.6"
  }
 },
 "nbformat": 4,
 "nbformat_minor": 4
}
