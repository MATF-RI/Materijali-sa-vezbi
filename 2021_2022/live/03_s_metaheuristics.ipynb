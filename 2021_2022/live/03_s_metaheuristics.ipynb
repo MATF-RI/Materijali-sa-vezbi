{
 "cells": [
  {
   "cell_type": "markdown",
   "metadata": {},
   "source": [
    "S metaheuristike\n",
    "- lokalna pretraga\n",
    "- simulirano kaljenje\n",
    "- VNS - metoda promenljivih okolina\n",
    "- tabu pretraga\n",
    "- iterativana lokalna pretraga\n",
    "- ...\n",
    "\n",
    "P metaheuristike"
   ]
  },
  {
   "cell_type": "code",
   "execution_count": 1,
   "metadata": {},
   "outputs": [],
   "source": [
    "# UFLP\n",
    "\n",
    "# 10 korisnika\n",
    "# 5 bolnica\n",
    "# c\n",
    "# f\n",
    "\n",
    "# solution = [True, False, False, True, False]"
   ]
  },
  {
   "cell_type": "code",
   "execution_count": 2,
   "metadata": {},
   "outputs": [],
   "source": [
    "import random"
   ]
  },
  {
   "cell_type": "code",
   "execution_count": 3,
   "metadata": {},
   "outputs": [],
   "source": [
    "def isFeasible(solution):\n",
    "    for resource in solution:\n",
    "        if resource:\n",
    "            return True\n",
    "    return False"
   ]
  },
  {
   "cell_type": "code",
   "execution_count": 4,
   "metadata": {},
   "outputs": [],
   "source": [
    "def initialize(numResources):\n",
    "    solution = [random.random() < 0.25 for _ in range(numResources)]\n",
    "    if not isFeasible(solution):\n",
    "        chosenResource = random.randrange(0, numResources)\n",
    "        solution[chosenResource] = True\n",
    "    \n",
    "    return solution"
   ]
  },
  {
   "cell_type": "code",
   "execution_count": 5,
   "metadata": {},
   "outputs": [],
   "source": [
    "def calcSolutionValue(solution, cost, fixedCost):\n",
    "    value = 0\n",
    "    numUsers = len(cost)\n",
    "    numResources = len(fixedCost)\n",
    "    \n",
    "    used = [False for _ in range(numResources)]\n",
    "#     used = {}\n",
    "    \n",
    "    for i in range(numUsers):\n",
    "        minCost = float('inf')\n",
    "        resourceUsed = -1\n",
    "        for j in range(numResources):\n",
    "            if solution[j] and cost[i][j] < minCost:\n",
    "                minCost = cost[i][j]\n",
    "                resourceUsed = j\n",
    "        value += minCost\n",
    "        used[resourceUsed] = True\n",
    "#         used.add(resourceUsed)\n",
    "        \n",
    "    for i in range(numResources):\n",
    "        if used[i]:\n",
    "            value += fixedCost[i]\n",
    "    \n",
    "    solution = used\n",
    "    \n",
    "    return value"
   ]
  },
  {
   "cell_type": "code",
   "execution_count": 8,
   "metadata": {},
   "outputs": [],
   "source": [
    "# calcSolutionValue([True, False, False], cost, fixedCost)"
   ]
  },
  {
   "cell_type": "code",
   "execution_count": 9,
   "metadata": {},
   "outputs": [],
   "source": [
    "def invert(solution):\n",
    "    chosenResource = random.randrange(len(solution))\n",
    "    solution[chosenResource] = not solution[chosenResource]\n",
    "    if isFeasible(solution):\n",
    "        return chosenResource\n",
    "    else:\n",
    "        solution[chosenResource] = not solution[chosenResource]\n",
    "        return -1"
   ]
  },
  {
   "cell_type": "code",
   "execution_count": 10,
   "metadata": {},
   "outputs": [],
   "source": [
    "def localSearch(cost, fixedCost, iters):\n",
    "    solution = initialize(numResources=len(fixedCost))\n",
    "    currValue = calcSolutionValue(solution, cost, fixedCost)\n",
    "    bestValue = currValue\n",
    "    \n",
    "    for i in range(iters):\n",
    "#         newSolution = izmeni malo solution\n",
    "        resourceInverted = invert(solution)\n",
    "        if resourceInverted < 0:\n",
    "            continue\n",
    "        newValue = calcSolutionValue(solution, cost, fixedCost)\n",
    "        \n",
    "        if newValue < currValue:\n",
    "            currValue = newValue\n",
    "            if newValue < bestValue:\n",
    "                bestValue = newValue\n",
    "        else:\n",
    "#             nastavi sa starim solution\n",
    "            solution[resourceInverted] = not solution[resourceInverted]\n",
    "            \n",
    "    return bestValue"
   ]
  },
  {
   "cell_type": "code",
   "execution_count": 11,
   "metadata": {},
   "outputs": [],
   "source": [
    "def readInput(filename):\n",
    "    with open(filename, 'r') as f:\n",
    "        numUsers, numResources = [int(x) for x in f.readline().split()]\n",
    "        cost = [[int(x) for x in f.readline().split()] for _ in range(numUsers)]\n",
    "        fixedCost = [int(x) for x in f.readline().split()]\n",
    "        return cost, fixedCost"
   ]
  },
  {
   "cell_type": "code",
   "execution_count": 12,
   "metadata": {},
   "outputs": [
    {
     "data": {
      "text/plain": [
       "34"
      ]
     },
     "execution_count": 12,
     "metadata": {},
     "output_type": "execute_result"
    }
   ],
   "source": [
    "cost, fixedCost = readInput('uflp1.txt')\n",
    "localSearch(cost, fixedCost, 100)"
   ]
  },
  {
   "cell_type": "code",
   "execution_count": 13,
   "metadata": {},
   "outputs": [],
   "source": [
    "def simulatedAnnealing(cost, fixedCost, iters):\n",
    "    solution = initialize(len(fixedCost))\n",
    "    currValue = calcSolutionValue(solution, cost, fixedCost)\n",
    "    bestValue = currValue\n",
    "    \n",
    "    for i in range(iters):\n",
    "        invertedResource = invert(solution)\n",
    "        if invertedResource < 0:\n",
    "            continue\n",
    "        newValue = calcSolutionValue(solution, cost, fixedCost)\n",
    "        \n",
    "        if newValue < currValue:\n",
    "            currValue = newValue\n",
    "            if newValue < bestValue:\n",
    "                bestValue = newValue\n",
    "        else:\n",
    "            p = 1.0 / i ** 0.5\n",
    "            q = random.uniform(0, 1)\n",
    "            if p > q:\n",
    "                currValue = newValue\n",
    "            else:\n",
    "                solution[invertedResource] = not solution[invertedResource]\n",
    "    return bestValue"
   ]
  },
  {
   "cell_type": "code",
   "execution_count": 14,
   "metadata": {},
   "outputs": [
    {
     "data": {
      "text/plain": [
       "34"
      ]
     },
     "execution_count": 14,
     "metadata": {},
     "output_type": "execute_result"
    }
   ],
   "source": [
    "simulatedAnnealing(cost, fixedCost, 100)"
   ]
  },
  {
   "cell_type": "code",
   "execution_count": 15,
   "metadata": {},
   "outputs": [],
   "source": [
    "# RVNS - reduced VNS\n",
    "# solution = initialize()\n",
    "# currValue = calcSolutionValue(solution)\n",
    "# bestValue = currValue\n",
    "\n",
    "# while not stop_condition():\n",
    "#     k = 0\n",
    "#     while k <= num_neiborhoods:\n",
    "#         newSolution = getNeighbor(solution, k)\n",
    "#         newValue = calcSolutionValue(newSolution)\n",
    "#         if newValue < currValue:\n",
    "#             currValue = newValue\n",
    "#             solution = newSolution\n",
    "#             break\n",
    "#         else:\n",
    "#             k += 1\n",
    "            \n",
    "# return bestValue"
   ]
  },
  {
   "cell_type": "code",
   "execution_count": 18,
   "metadata": {},
   "outputs": [],
   "source": [
    "# BVNS - optimizuj newSolution nekom vrstom lokalnom pretrage\n",
    "# GVNS - optimizuj newSolution VNS"
   ]
  },
  {
   "cell_type": "code",
   "execution_count": null,
   "metadata": {},
   "outputs": [],
   "source": [
    "# [1,0,0,1]"
   ]
  },
  {
   "cell_type": "code",
   "execution_count": 21,
   "metadata": {},
   "outputs": [],
   "source": [
    "def getNeighbor(solution, k):\n",
    "    indices = range(len(solution))\n",
    "    toInvert = random.sample(indices, k)\n",
    "    for index in toInvert:\n",
    "        solution[index] = not solution[index]\n",
    "        \n",
    "    if isFeasible(solution):\n",
    "        return True, toInvert\n",
    "    else:\n",
    "        return False, toInvert"
   ]
  },
  {
   "cell_type": "code",
   "execution_count": 23,
   "metadata": {},
   "outputs": [],
   "source": [
    "def restore(solution, invertedIndices):\n",
    "    for resource in invertedIndices:\n",
    "        solution[resource] = not solution[resource]        "
   ]
  },
  {
   "cell_type": "code",
   "execution_count": 24,
   "metadata": {},
   "outputs": [],
   "source": [
    "def RVNS(cost, fixedCost, iters, max_k):\n",
    "    solution = initialize(len(fixedCost))\n",
    "    currValue = calcSolutionValue(solution, cost, fixedCost)\n",
    "    bestValue = currValue\n",
    "    \n",
    "    for i in range(iters):\n",
    "        k = 0\n",
    "        while k <= max_k:\n",
    "            success, invertedIndices = getNeighbor(solution, k)\n",
    "            if not success:\n",
    "                # vrati se na originalni solution\n",
    "                restore(solution, invertedIndices)\n",
    "                continue\n",
    "            newValue = calcSolutionValue(solution, cost, fixedCost)\n",
    "            if newValue < currValue:\n",
    "                currValue = newValue\n",
    "                if newValue < bestValue:\n",
    "                    bestValue = newValue\n",
    "                break\n",
    "            else:\n",
    "                k += 1\n",
    "                restore(solution, invertedIndices)\n",
    "    return bestValue            "
   ]
  },
  {
   "cell_type": "code",
   "execution_count": 28,
   "metadata": {},
   "outputs": [
    {
     "data": {
      "text/plain": [
       "34"
      ]
     },
     "execution_count": 28,
     "metadata": {},
     "output_type": "execute_result"
    }
   ],
   "source": [
    "RVNS(cost, fixedCost, 10, 2)"
   ]
  },
  {
   "cell_type": "code",
   "execution_count": null,
   "metadata": {},
   "outputs": [],
   "source": []
  }
 ],
 "metadata": {
  "kernelspec": {
   "display_name": "Python 3",
   "language": "python",
   "name": "python3"
  },
  "language_info": {
   "codemirror_mode": {
    "name": "ipython",
    "version": 3
   },
   "file_extension": ".py",
   "mimetype": "text/x-python",
   "name": "python",
   "nbconvert_exporter": "python",
   "pygments_lexer": "ipython3",
   "version": "3.7.6"
  }
 },
 "nbformat": 4,
 "nbformat_minor": 4
}
