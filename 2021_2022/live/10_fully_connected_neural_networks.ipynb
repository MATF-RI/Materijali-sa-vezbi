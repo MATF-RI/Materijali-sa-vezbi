{
 "cells": [
  {
   "cell_type": "code",
   "execution_count": 1,
   "metadata": {},
   "outputs": [],
   "source": [
    "from sklearn import datasets"
   ]
  },
  {
   "cell_type": "code",
   "execution_count": 3,
   "metadata": {},
   "outputs": [],
   "source": [
    "data = datasets.load_breast_cancer()"
   ]
  },
  {
   "cell_type": "code",
   "execution_count": 4,
   "metadata": {},
   "outputs": [],
   "source": [
    "X = data.data"
   ]
  },
  {
   "cell_type": "code",
   "execution_count": 5,
   "metadata": {},
   "outputs": [],
   "source": [
    "y = data.target"
   ]
  },
  {
   "cell_type": "code",
   "execution_count": 6,
   "metadata": {},
   "outputs": [
    {
     "data": {
      "text/plain": [
       "(569, 30)"
      ]
     },
     "execution_count": 6,
     "metadata": {},
     "output_type": "execute_result"
    }
   ],
   "source": [
    "X.shape"
   ]
  },
  {
   "cell_type": "code",
   "execution_count": 7,
   "metadata": {},
   "outputs": [
    {
     "data": {
      "text/plain": [
       "(569,)"
      ]
     },
     "execution_count": 7,
     "metadata": {},
     "output_type": "execute_result"
    }
   ],
   "source": [
    "y.shape"
   ]
  },
  {
   "cell_type": "code",
   "execution_count": 10,
   "metadata": {},
   "outputs": [],
   "source": [
    "from sklearn.model_selection import train_test_split"
   ]
  },
  {
   "cell_type": "code",
   "execution_count": 11,
   "metadata": {},
   "outputs": [],
   "source": [
    "X_train, X_test, y_train, y_test = train_test_split(X, y, test_size=0.3, random_state=456, stratify=y)"
   ]
  },
  {
   "cell_type": "code",
   "execution_count": 12,
   "metadata": {},
   "outputs": [
    {
     "data": {
      "text/plain": [
       "(398, 30)"
      ]
     },
     "execution_count": 12,
     "metadata": {},
     "output_type": "execute_result"
    }
   ],
   "source": [
    "X_train.shape"
   ]
  },
  {
   "cell_type": "code",
   "execution_count": 13,
   "metadata": {},
   "outputs": [
    {
     "data": {
      "text/plain": [
       "(171, 30)"
      ]
     },
     "execution_count": 13,
     "metadata": {},
     "output_type": "execute_result"
    }
   ],
   "source": [
    "X_test.shape"
   ]
  },
  {
   "cell_type": "code",
   "execution_count": 14,
   "metadata": {},
   "outputs": [
    {
     "data": {
      "text/plain": [
       "array([1.613e+01, 1.788e+01, 1.070e+02, 8.072e+02, 1.040e-01, 1.559e-01,\n",
       "       1.354e-01, 7.752e-02, 1.998e-01, 6.515e-02, 3.340e-01, 6.857e-01,\n",
       "       2.183e+00, 3.503e+01, 4.185e-03, 2.868e-02, 2.664e-02, 9.067e-03,\n",
       "       1.703e-02, 3.817e-03, 2.021e+01, 2.726e+01, 1.327e+02, 1.261e+03,\n",
       "       1.446e-01, 5.804e-01, 5.274e-01, 1.864e-01, 4.270e-01, 1.233e-01])"
      ]
     },
     "execution_count": 14,
     "metadata": {},
     "output_type": "execute_result"
    }
   ],
   "source": [
    "X_train[0]"
   ]
  },
  {
   "cell_type": "code",
   "execution_count": 15,
   "metadata": {},
   "outputs": [],
   "source": [
    "from sklearn.preprocessing import StandardScaler"
   ]
  },
  {
   "cell_type": "code",
   "execution_count": 16,
   "metadata": {},
   "outputs": [],
   "source": [
    "scaler = StandardScaler()\n",
    "scaler.fit(X_train)\n",
    "X_train = scaler.transform(X_train)\n",
    "\n",
    "X_test = scaler.transform(X_test)"
   ]
  },
  {
   "cell_type": "code",
   "execution_count": 18,
   "metadata": {},
   "outputs": [],
   "source": [
    "from tensorflow.keras.models import Sequential\n",
    "from tensorflow.keras.layers import Dense"
   ]
  },
  {
   "cell_type": "code",
   "execution_count": 19,
   "metadata": {},
   "outputs": [
    {
     "name": "stdout",
     "output_type": "stream",
     "text": [
      "Model: \"sequential\"\n",
      "_________________________________________________________________\n",
      "Layer (type)                 Output Shape              Param #   \n",
      "=================================================================\n",
      "dense (Dense)                (None, 100)               3100      \n",
      "_________________________________________________________________\n",
      "dense_1 (Dense)              (None, 40)                4040      \n",
      "_________________________________________________________________\n",
      "dense_2 (Dense)              (None, 1)                 41        \n",
      "=================================================================\n",
      "Total params: 7,181\n",
      "Trainable params: 7,181\n",
      "Non-trainable params: 0\n",
      "_________________________________________________________________\n"
     ]
    }
   ],
   "source": [
    "model = Sequential()\n",
    "model.add(Dense(input_dim=X_train.shape[1], units=100, activation='relu'))\n",
    "model.add(Dense(units=40, activation='relu'))\n",
    "model.add(Dense(units=1, activation='sigmoid'))\n",
    "model.summary()"
   ]
  },
  {
   "cell_type": "code",
   "execution_count": 20,
   "metadata": {},
   "outputs": [],
   "source": [
    "model.compile(optimizer='adam', loss='binary_crossentropy', metrics=['accuracy'])"
   ]
  },
  {
   "cell_type": "code",
   "execution_count": 21,
   "metadata": {},
   "outputs": [
    {
     "name": "stdout",
     "output_type": "stream",
     "text": [
      "Epoch 1/20\n",
      "5/5 [==============================] - 0s 62ms/step - loss: 0.6117 - accuracy: 0.6384 - val_loss: 0.5689 - val_accuracy: 0.8125\n",
      "Epoch 2/20\n",
      "5/5 [==============================] - 0s 9ms/step - loss: 0.4627 - accuracy: 0.9025 - val_loss: 0.4520 - val_accuracy: 0.9000\n",
      "Epoch 3/20\n",
      "5/5 [==============================] - 0s 10ms/step - loss: 0.3605 - accuracy: 0.9371 - val_loss: 0.3550 - val_accuracy: 0.9750\n",
      "Epoch 4/20\n",
      "5/5 [==============================] - 0s 11ms/step - loss: 0.2793 - accuracy: 0.9465 - val_loss: 0.2776 - val_accuracy: 0.9750\n",
      "Epoch 5/20\n",
      "5/5 [==============================] - 0s 8ms/step - loss: 0.2211 - accuracy: 0.9560 - val_loss: 0.2170 - val_accuracy: 0.9750\n",
      "Epoch 6/20\n",
      "5/5 [==============================] - 0s 10ms/step - loss: 0.1803 - accuracy: 0.9591 - val_loss: 0.1719 - val_accuracy: 0.9875\n",
      "Epoch 7/20\n",
      "5/5 [==============================] - 0s 13ms/step - loss: 0.1504 - accuracy: 0.9654 - val_loss: 0.1400 - val_accuracy: 1.0000\n",
      "Epoch 8/20\n",
      "5/5 [==============================] - 0s 9ms/step - loss: 0.1294 - accuracy: 0.9686 - val_loss: 0.1174 - val_accuracy: 1.0000\n",
      "Epoch 9/20\n",
      "5/5 [==============================] - 0s 9ms/step - loss: 0.1137 - accuracy: 0.9717 - val_loss: 0.1001 - val_accuracy: 1.0000\n",
      "Epoch 10/20\n",
      "5/5 [==============================] - 0s 10ms/step - loss: 0.1030 - accuracy: 0.9748 - val_loss: 0.0883 - val_accuracy: 1.0000\n",
      "Epoch 11/20\n",
      "5/5 [==============================] - 0s 10ms/step - loss: 0.0938 - accuracy: 0.9748 - val_loss: 0.0793 - val_accuracy: 1.0000\n",
      "Epoch 12/20\n",
      "5/5 [==============================] - 0s 8ms/step - loss: 0.0876 - accuracy: 0.9748 - val_loss: 0.0722 - val_accuracy: 1.0000\n",
      "Epoch 13/20\n",
      "5/5 [==============================] - 0s 9ms/step - loss: 0.0821 - accuracy: 0.9748 - val_loss: 0.0674 - val_accuracy: 1.0000\n",
      "Epoch 14/20\n",
      "5/5 [==============================] - 0s 10ms/step - loss: 0.0781 - accuracy: 0.9811 - val_loss: 0.0635 - val_accuracy: 1.0000\n",
      "Epoch 15/20\n",
      "5/5 [==============================] - 0s 10ms/step - loss: 0.0739 - accuracy: 0.9811 - val_loss: 0.0600 - val_accuracy: 1.0000\n",
      "Epoch 16/20\n",
      "5/5 [==============================] - 0s 9ms/step - loss: 0.0710 - accuracy: 0.9811 - val_loss: 0.0573 - val_accuracy: 1.0000\n",
      "Epoch 17/20\n",
      "5/5 [==============================] - 0s 9ms/step - loss: 0.0680 - accuracy: 0.9811 - val_loss: 0.0544 - val_accuracy: 1.0000\n",
      "Epoch 18/20\n",
      "5/5 [==============================] - 0s 12ms/step - loss: 0.0651 - accuracy: 0.9811 - val_loss: 0.0530 - val_accuracy: 0.9875\n",
      "Epoch 19/20\n",
      "5/5 [==============================] - 0s 8ms/step - loss: 0.0627 - accuracy: 0.9811 - val_loss: 0.0515 - val_accuracy: 0.9875\n",
      "Epoch 20/20\n",
      "5/5 [==============================] - 0s 9ms/step - loss: 0.0602 - accuracy: 0.9843 - val_loss: 0.0505 - val_accuracy: 0.9875\n"
     ]
    }
   ],
   "source": [
    "history = model.fit(X_train, y_train, batch_size=64, epochs=20, validation_split=0.2)"
   ]
  },
  {
   "cell_type": "code",
   "execution_count": 23,
   "metadata": {},
   "outputs": [],
   "source": [
    "from matplotlib import pyplot as plt"
   ]
  },
  {
   "cell_type": "code",
   "execution_count": 25,
   "metadata": {},
   "outputs": [
    {
     "data": {
      "text/plain": [
       "[<matplotlib.lines.Line2D at 0x7f958201d410>]"
      ]
     },
     "execution_count": 25,
     "metadata": {},
     "output_type": "execute_result"
    },
    {
     "data": {
      "image/png": "[encoded data removed]",
      "text/plain": [
       "<Figure size 432x288 with 1 Axes>"
      ]
     },
     "metadata": {
      "needs_background": "light"
     },
     "output_type": "display_data"
    }
   ],
   "source": [
    "epochs = history.epoch\n",
    "plt.plot(epochs, history.history['loss'])\n",
    "plt.plot(epochs, history.history['val_loss'])"
   ]
  },
  {
   "cell_type": "code",
   "execution_count": 27,
   "metadata": {},
   "outputs": [
    {
     "data": {
      "text/plain": [
       "[<matplotlib.lines.Line2D at 0x7f9581a3c790>]"
      ]
     },
     "execution_count": 27,
     "metadata": {},
     "output_type": "execute_result"
    },
    {
     "data": {
      "image/png": "[encoded data removed]",
      "text/plain": [
       "<Figure size 432x288 with 1 Axes>"
      ]
     },
     "metadata": {
      "needs_background": "light"
     },
     "output_type": "display_data"
    }
   ],
   "source": [
    "plt.plot(epochs, history.history['accuracy'])\n",
    "plt.plot(epochs, history.history['val_accuracy'])"
   ]
  },
  {
   "cell_type": "code",
   "execution_count": 28,
   "metadata": {},
   "outputs": [
    {
     "name": "stdout",
     "output_type": "stream",
     "text": [
      "3/3 [==============================] - 0s 4ms/step - loss: 0.0768 - accuracy: 0.9649\n"
     ]
    },
    {
     "data": {
      "text/plain": [
       "[0.07676075398921967, 0.9649122953414917]"
      ]
     },
     "execution_count": 28,
     "metadata": {},
     "output_type": "execute_result"
    }
   ],
   "source": [
    "model.evaluate(X_test, y_test, batch_size=64)"
   ]
  },
  {
   "cell_type": "code",
   "execution_count": 29,
   "metadata": {},
   "outputs": [],
   "source": [
    "import numpy as np"
   ]
  },
  {
   "cell_type": "code",
   "execution_count": 45,
   "metadata": {},
   "outputs": [
    {
     "name": "stdout",
     "output_type": "stream",
     "text": [
      "0\n"
     ]
    }
   ],
   "source": [
    "x_new = np.random.rand(X_train.shape[1])\n",
    "x_new = x_new.reshape(1,-1)\n",
    "# x_new.shape\n",
    "y_pred = model.predict(x_new)\n",
    "if y_pred < 0.5:\n",
    "    print('0')\n",
    "else:\n",
    "    print('1')"
   ]
  },
  {
   "cell_type": "code",
   "execution_count": 61,
   "metadata": {},
   "outputs": [],
   "source": [
    "from tensorflow.keras.datasets import boston_housing"
   ]
  },
  {
   "cell_type": "code",
   "execution_count": 62,
   "metadata": {},
   "outputs": [],
   "source": [
    "(X_train, y_train), (X_test, y_test) = boston_housing.load_data()"
   ]
  },
  {
   "cell_type": "code",
   "execution_count": 63,
   "metadata": {},
   "outputs": [
    {
     "data": {
      "text/plain": [
       "(404, 13)"
      ]
     },
     "execution_count": 63,
     "metadata": {},
     "output_type": "execute_result"
    }
   ],
   "source": [
    "X_train.shape"
   ]
  },
  {
   "cell_type": "code",
   "execution_count": 64,
   "metadata": {},
   "outputs": [
    {
     "data": {
      "text/plain": [
       "(102, 13)"
      ]
     },
     "execution_count": 64,
     "metadata": {},
     "output_type": "execute_result"
    }
   ],
   "source": [
    "X_test.shape"
   ]
  },
  {
   "cell_type": "code",
   "execution_count": 65,
   "metadata": {},
   "outputs": [
    {
     "data": {
      "text/plain": [
       "array([  1.23247,   0.     ,   8.14   ,   0.     ,   0.538  ,   6.142  ,\n",
       "        91.7    ,   3.9769 ,   4.     , 307.     ,  21.     , 396.9    ,\n",
       "        18.72   ])"
      ]
     },
     "execution_count": 65,
     "metadata": {},
     "output_type": "execute_result"
    }
   ],
   "source": [
    "X_train[0]"
   ]
  },
  {
   "cell_type": "code",
   "execution_count": 66,
   "metadata": {},
   "outputs": [],
   "source": [
    "from sklearn.preprocessing import StandardScaler"
   ]
  },
  {
   "cell_type": "code",
   "execution_count": 67,
   "metadata": {},
   "outputs": [],
   "source": [
    "scaler = StandardScaler()\n",
    "scaler.fit(X_train)\n",
    "X_train = scaler.transform(X_train)\n",
    "X_test = scaler.transform(X_test)"
   ]
  },
  {
   "cell_type": "code",
   "execution_count": 73,
   "metadata": {},
   "outputs": [
    {
     "name": "stdout",
     "output_type": "stream",
     "text": [
      "Model: \"sequential_4\"\n",
      "_________________________________________________________________\n",
      "Layer (type)                 Output Shape              Param #   \n",
      "=================================================================\n",
      "dense_7 (Dense)              (None, 100)               1400      \n",
      "_________________________________________________________________\n",
      "dense_8 (Dense)              (None, 1)                 101       \n",
      "=================================================================\n",
      "Total params: 1,501\n",
      "Trainable params: 1,501\n",
      "Non-trainable params: 0\n",
      "_________________________________________________________________\n"
     ]
    }
   ],
   "source": [
    "model = Sequential()\n",
    "model.add(Dense(input_dim=X_train.shape[1], units=50, activation='relu'))\n",
    "# model.add(Dense(input_dim=X_train.shape[1], units=50, activation='relu'))\n",
    "model.add(Dense(units=1))\n",
    "model.summary()"
   ]
  },
  {
   "cell_type": "code",
   "execution_count": 74,
   "metadata": {},
   "outputs": [],
   "source": [
    "model.compile(optimizer='adam', loss='mse', metrics=['mae'])"
   ]
  },
  {
   "cell_type": "code",
   "execution_count": 75,
   "metadata": {},
   "outputs": [
    {
     "name": "stdout",
     "output_type": "stream",
     "text": [
      "Epoch 1/100\n",
      "11/11 [==============================] - 0s 21ms/step - loss: 565.4792 - mae: 21.8616 - val_loss: 626.3698 - val_mae: 23.2181\n",
      "Epoch 2/100\n",
      "11/11 [==============================] - 0s 5ms/step - loss: 542.5411 - mae: 21.3783 - val_loss: 602.7205 - val_mae: 22.7345\n",
      "Epoch 3/100\n",
      "11/11 [==============================] - 0s 6ms/step - loss: 519.7443 - mae: 20.8883 - val_loss: 579.4443 - val_mae: 22.2357\n",
      "Epoch 4/100\n",
      "11/11 [==============================] - 0s 4ms/step - loss: 496.9561 - mae: 20.3636 - val_loss: 554.4185 - val_mae: 21.6909\n",
      "Epoch 5/100\n",
      "11/11 [==============================] - 0s 5ms/step - loss: 472.7896 - mae: 19.7972 - val_loss: 528.6769 - val_mae: 21.1025\n",
      "Epoch 6/100\n",
      "11/11 [==============================] - 0s 6ms/step - loss: 446.4904 - mae: 19.1703 - val_loss: 501.1586 - val_mae: 20.4539\n",
      "Epoch 7/100\n",
      "11/11 [==============================] - 0s 6ms/step - loss: 419.9653 - mae: 18.4862 - val_loss: 471.6606 - val_mae: 19.7462\n",
      "Epoch 8/100\n",
      "11/11 [==============================] - 0s 5ms/step - loss: 391.9102 - mae: 17.7594 - val_loss: 442.1133 - val_mae: 19.0192\n",
      "Epoch 9/100\n",
      "11/11 [==============================] - 0s 6ms/step - loss: 362.7577 - mae: 16.9836 - val_loss: 411.8339 - val_mae: 18.2349\n",
      "Epoch 10/100\n",
      "11/11 [==============================] - 0s 4ms/step - loss: 332.4455 - mae: 16.1268 - val_loss: 379.4006 - val_mae: 17.3521\n",
      "Epoch 11/100\n",
      "11/11 [==============================] - 0s 5ms/step - loss: 302.1477 - mae: 15.2645 - val_loss: 348.1916 - val_mae: 16.4431\n",
      "Epoch 12/100\n",
      "11/11 [==============================] - 0s 6ms/step - loss: 272.2864 - mae: 14.3593 - val_loss: 317.1606 - val_mae: 15.5069\n",
      "Epoch 13/100\n",
      "11/11 [==============================] - 0s 5ms/step - loss: 243.3799 - mae: 13.4466 - val_loss: 287.0555 - val_mae: 14.5589\n",
      "Epoch 14/100\n",
      "11/11 [==============================] - 0s 6ms/step - loss: 216.6443 - mae: 12.5384 - val_loss: 257.9054 - val_mae: 13.6157\n",
      "Epoch 15/100\n",
      "11/11 [==============================] - 0s 7ms/step - loss: 190.8842 - mae: 11.5990 - val_loss: 231.1388 - val_mae: 12.6674\n",
      "Epoch 16/100\n",
      "11/11 [==============================] - 0s 6ms/step - loss: 168.2207 - mae: 10.7145 - val_loss: 207.8233 - val_mae: 11.7700\n",
      "Epoch 17/100\n",
      "11/11 [==============================] - 0s 7ms/step - loss: 148.7798 - mae: 9.9557 - val_loss: 187.4314 - val_mae: 10.9580\n",
      "Epoch 18/100\n",
      "11/11 [==============================] - 0s 8ms/step - loss: 132.2957 - mae: 9.2713 - val_loss: 169.4635 - val_mae: 10.2201\n",
      "Epoch 19/100\n",
      "11/11 [==============================] - 0s 7ms/step - loss: 117.4996 - mae: 8.6370 - val_loss: 151.8577 - val_mae: 9.5497\n",
      "Epoch 20/100\n",
      "11/11 [==============================] - 0s 7ms/step - loss: 104.1690 - mae: 8.0631 - val_loss: 137.2607 - val_mae: 8.9604\n",
      "Epoch 21/100\n",
      "11/11 [==============================] - 0s 6ms/step - loss: 93.2069 - mae: 7.5755 - val_loss: 125.3087 - val_mae: 8.4783\n",
      "Epoch 22/100\n",
      "11/11 [==============================] - 0s 6ms/step - loss: 84.5009 - mae: 7.1599 - val_loss: 114.4657 - val_mae: 8.0551\n",
      "Epoch 23/100\n",
      "11/11 [==============================] - 0s 6ms/step - loss: 76.6793 - mae: 6.7563 - val_loss: 105.2175 - val_mae: 7.7035\n",
      "Epoch 24/100\n",
      "11/11 [==============================] - 0s 6ms/step - loss: 70.1715 - mae: 6.4109 - val_loss: 96.8833 - val_mae: 7.3546\n",
      "Epoch 25/100\n",
      "11/11 [==============================] - 0s 6ms/step - loss: 64.4284 - mae: 6.0845 - val_loss: 89.4240 - val_mae: 7.0306\n",
      "Epoch 26/100\n",
      "11/11 [==============================] - 0s 6ms/step - loss: 59.2625 - mae: 5.7880 - val_loss: 83.1826 - val_mae: 6.7370\n",
      "Epoch 27/100\n",
      "11/11 [==============================] - 0s 5ms/step - loss: 54.9745 - mae: 5.5127 - val_loss: 76.9844 - val_mae: 6.4382\n",
      "Epoch 28/100\n",
      "11/11 [==============================] - 0s 5ms/step - loss: 51.0041 - mae: 5.2512 - val_loss: 71.5739 - val_mae: 6.1646\n",
      "Epoch 29/100\n",
      "11/11 [==============================] - 0s 6ms/step - loss: 47.5657 - mae: 5.0203 - val_loss: 66.5380 - val_mae: 5.9159\n",
      "Epoch 30/100\n",
      "11/11 [==============================] - 0s 6ms/step - loss: 44.4582 - mae: 4.8149 - val_loss: 62.1242 - val_mae: 5.7068\n",
      "Epoch 31/100\n",
      "11/11 [==============================] - 0s 7ms/step - loss: 41.7649 - mae: 4.6062 - val_loss: 57.9444 - val_mae: 5.5067\n",
      "Epoch 32/100\n",
      "11/11 [==============================] - 0s 6ms/step - loss: 39.2573 - mae: 4.4141 - val_loss: 54.4575 - val_mae: 5.3188\n",
      "Epoch 33/100\n",
      "11/11 [==============================] - 0s 5ms/step - loss: 37.0508 - mae: 4.2456 - val_loss: 51.2431 - val_mae: 5.1651\n",
      "Epoch 34/100\n",
      "11/11 [==============================] - 0s 6ms/step - loss: 35.2183 - mae: 4.1214 - val_loss: 48.7176 - val_mae: 5.0397\n",
      "Epoch 35/100\n",
      "11/11 [==============================] - 0s 6ms/step - loss: 33.7299 - mae: 4.0154 - val_loss: 46.4325 - val_mae: 4.9095\n",
      "Epoch 36/100\n",
      "11/11 [==============================] - 0s 6ms/step - loss: 32.5033 - mae: 3.9239 - val_loss: 44.2363 - val_mae: 4.7758\n",
      "Epoch 37/100\n",
      "11/11 [==============================] - 0s 7ms/step - loss: 31.2061 - mae: 3.8238 - val_loss: 42.2632 - val_mae: 4.6720\n",
      "Epoch 38/100\n",
      "11/11 [==============================] - 0s 7ms/step - loss: 30.2326 - mae: 3.7448 - val_loss: 40.6370 - val_mae: 4.5900\n",
      "Epoch 39/100\n",
      "11/11 [==============================] - 0s 7ms/step - loss: 29.3622 - mae: 3.6792 - val_loss: 39.1126 - val_mae: 4.5077\n",
      "Epoch 40/100\n",
      "11/11 [==============================] - 0s 6ms/step - loss: 28.5303 - mae: 3.6116 - val_loss: 37.7060 - val_mae: 4.4363\n",
      "Epoch 41/100\n",
      "11/11 [==============================] - 0s 6ms/step - loss: 27.7885 - mae: 3.5588 - val_loss: 36.5021 - val_mae: 4.3666\n",
      "Epoch 42/100\n",
      "11/11 [==============================] - 0s 7ms/step - loss: 27.1889 - mae: 3.5182 - val_loss: 35.4577 - val_mae: 4.3187\n",
      "Epoch 43/100\n",
      "11/11 [==============================] - 0s 6ms/step - loss: 26.6600 - mae: 3.4850 - val_loss: 34.6277 - val_mae: 4.2767\n",
      "Epoch 44/100\n",
      "11/11 [==============================] - 0s 5ms/step - loss: 26.2169 - mae: 3.4586 - val_loss: 33.8514 - val_mae: 4.2472\n",
      "Epoch 45/100\n",
      "11/11 [==============================] - 0s 6ms/step - loss: 25.8068 - mae: 3.4335 - val_loss: 33.1117 - val_mae: 4.2073\n",
      "Epoch 46/100\n",
      "11/11 [==============================] - 0s 5ms/step - loss: 25.3745 - mae: 3.4082 - val_loss: 32.5258 - val_mae: 4.1773\n",
      "Epoch 47/100\n",
      "11/11 [==============================] - 0s 5ms/step - loss: 24.9800 - mae: 3.3875 - val_loss: 32.2853 - val_mae: 4.1761\n",
      "Epoch 48/100\n",
      "11/11 [==============================] - 0s 5ms/step - loss: 24.6802 - mae: 3.3739 - val_loss: 31.6605 - val_mae: 4.1520\n",
      "Epoch 49/100\n",
      "11/11 [==============================] - 0s 5ms/step - loss: 24.2844 - mae: 3.3543 - val_loss: 31.0379 - val_mae: 4.1104\n",
      "Epoch 50/100\n",
      "11/11 [==============================] - 0s 5ms/step - loss: 23.9258 - mae: 3.3231 - val_loss: 30.4349 - val_mae: 4.0562\n",
      "Epoch 51/100\n",
      "11/11 [==============================] - 0s 6ms/step - loss: 23.6052 - mae: 3.3038 - val_loss: 29.8848 - val_mae: 4.0217\n",
      "Epoch 52/100\n",
      "11/11 [==============================] - 0s 5ms/step - loss: 23.3221 - mae: 3.2865 - val_loss: 29.2829 - val_mae: 3.9808\n",
      "Epoch 53/100\n",
      "11/11 [==============================] - 0s 5ms/step - loss: 23.0050 - mae: 3.2714 - val_loss: 28.8124 - val_mae: 3.9520\n",
      "Epoch 54/100\n",
      "11/11 [==============================] - 0s 5ms/step - loss: 22.7188 - mae: 3.2559 - val_loss: 28.2100 - val_mae: 3.9156\n",
      "Epoch 55/100\n",
      "11/11 [==============================] - 0s 5ms/step - loss: 22.3129 - mae: 3.2545 - val_loss: 27.3031 - val_mae: 3.8973\n",
      "Epoch 56/100\n",
      "11/11 [==============================] - 0s 6ms/step - loss: 21.9600 - mae: 3.2593 - val_loss: 26.9851 - val_mae: 3.8852\n",
      "Epoch 57/100\n",
      "11/11 [==============================] - 0s 7ms/step - loss: 21.7099 - mae: 3.2502 - val_loss: 26.6732 - val_mae: 3.8686\n",
      "Epoch 58/100\n",
      "11/11 [==============================] - 0s 6ms/step - loss: 21.4713 - mae: 3.2374 - val_loss: 26.2569 - val_mae: 3.8279\n",
      "Epoch 59/100\n",
      "11/11 [==============================] - 0s 5ms/step - loss: 21.2017 - mae: 3.2167 - val_loss: 25.8411 - val_mae: 3.7897\n",
      "Epoch 60/100\n",
      "11/11 [==============================] - 0s 6ms/step - loss: 20.9812 - mae: 3.2022 - val_loss: 25.4569 - val_mae: 3.7512\n",
      "Epoch 61/100\n",
      "11/11 [==============================] - 0s 5ms/step - loss: 20.7867 - mae: 3.1900 - val_loss: 25.2095 - val_mae: 3.7307\n",
      "Epoch 62/100\n",
      "11/11 [==============================] - 0s 5ms/step - loss: 20.4846 - mae: 3.1708 - val_loss: 24.9263 - val_mae: 3.6890\n",
      "Epoch 63/100\n",
      "11/11 [==============================] - 0s 6ms/step - loss: 20.2231 - mae: 3.1445 - val_loss: 24.5910 - val_mae: 3.6477\n",
      "Epoch 64/100\n",
      "11/11 [==============================] - 0s 5ms/step - loss: 20.0072 - mae: 3.1208 - val_loss: 24.2029 - val_mae: 3.6138\n",
      "Epoch 65/100\n",
      "11/11 [==============================] - 0s 5ms/step - loss: 19.8246 - mae: 3.1081 - val_loss: 23.9235 - val_mae: 3.5946\n",
      "Epoch 66/100\n",
      "11/11 [==============================] - 0s 5ms/step - loss: 19.6220 - mae: 3.0972 - val_loss: 23.6432 - val_mae: 3.5815\n",
      "Epoch 67/100\n",
      "11/11 [==============================] - 0s 5ms/step - loss: 19.3610 - mae: 3.0844 - val_loss: 23.4309 - val_mae: 3.5664\n",
      "Epoch 68/100\n",
      "11/11 [==============================] - 0s 5ms/step - loss: 19.1454 - mae: 3.0738 - val_loss: 23.1925 - val_mae: 3.5560\n",
      "Epoch 69/100\n",
      "11/11 [==============================] - 0s 4ms/step - loss: 18.9442 - mae: 3.0549 - val_loss: 22.9779 - val_mae: 3.5434\n",
      "Epoch 70/100\n",
      "11/11 [==============================] - 0s 6ms/step - loss: 18.7564 - mae: 3.0403 - val_loss: 22.7705 - val_mae: 3.5242\n",
      "Epoch 71/100\n",
      "11/11 [==============================] - 0s 5ms/step - loss: 18.5797 - mae: 3.0277 - val_loss: 22.6102 - val_mae: 3.5046\n",
      "Epoch 72/100\n",
      "11/11 [==============================] - 0s 5ms/step - loss: 18.3414 - mae: 3.0138 - val_loss: 22.4398 - val_mae: 3.4979\n",
      "Epoch 73/100\n",
      "11/11 [==============================] - 0s 5ms/step - loss: 18.2167 - mae: 3.0093 - val_loss: 22.2356 - val_mae: 3.4869\n",
      "Epoch 74/100\n",
      "11/11 [==============================] - 0s 5ms/step - loss: 17.9692 - mae: 2.9898 - val_loss: 22.0359 - val_mae: 3.4768\n",
      "Epoch 75/100\n",
      "11/11 [==============================] - 0s 5ms/step - loss: 17.8233 - mae: 2.9672 - val_loss: 21.8584 - val_mae: 3.4678\n",
      "Epoch 76/100\n",
      "11/11 [==============================] - 0s 6ms/step - loss: 17.6759 - mae: 2.9516 - val_loss: 21.6438 - val_mae: 3.4608\n",
      "Epoch 77/100\n",
      "11/11 [==============================] - 0s 5ms/step - loss: 17.4555 - mae: 2.9303 - val_loss: 21.3464 - val_mae: 3.4396\n",
      "Epoch 78/100\n",
      "11/11 [==============================] - 0s 6ms/step - loss: 17.2733 - mae: 2.9160 - val_loss: 21.1564 - val_mae: 3.4197\n",
      "Epoch 79/100\n",
      "11/11 [==============================] - 0s 6ms/step - loss: 17.0614 - mae: 2.9010 - val_loss: 21.1085 - val_mae: 3.4070\n",
      "Epoch 80/100\n",
      "11/11 [==============================] - 0s 5ms/step - loss: 16.8984 - mae: 2.8846 - val_loss: 20.9748 - val_mae: 3.4019\n",
      "Epoch 81/100\n",
      "11/11 [==============================] - 0s 6ms/step - loss: 16.7415 - mae: 2.8660 - val_loss: 20.7935 - val_mae: 3.3852\n",
      "Epoch 82/100\n",
      "11/11 [==============================] - 0s 6ms/step - loss: 16.5757 - mae: 2.8509 - val_loss: 20.7359 - val_mae: 3.3896\n",
      "Epoch 83/100\n",
      "11/11 [==============================] - 0s 6ms/step - loss: 16.4066 - mae: 2.8342 - val_loss: 20.5253 - val_mae: 3.3799\n",
      "Epoch 84/100\n",
      "11/11 [==============================] - 0s 5ms/step - loss: 16.2774 - mae: 2.8199 - val_loss: 20.4466 - val_mae: 3.3796\n",
      "Epoch 85/100\n",
      "11/11 [==============================] - 0s 5ms/step - loss: 16.1014 - mae: 2.7972 - val_loss: 20.2133 - val_mae: 3.3665\n",
      "Epoch 86/100\n",
      "11/11 [==============================] - 0s 5ms/step - loss: 15.9206 - mae: 2.7849 - val_loss: 19.9195 - val_mae: 3.3354\n",
      "Epoch 87/100\n",
      "11/11 [==============================] - 0s 5ms/step - loss: 15.6978 - mae: 2.7699 - val_loss: 19.7067 - val_mae: 3.3121\n",
      "Epoch 88/100\n",
      "11/11 [==============================] - 0s 5ms/step - loss: 15.5359 - mae: 2.7580 - val_loss: 19.6056 - val_mae: 3.3014\n",
      "Epoch 89/100\n",
      "11/11 [==============================] - 0s 5ms/step - loss: 15.3896 - mae: 2.7509 - val_loss: 19.5676 - val_mae: 3.3002\n",
      "Epoch 90/100\n",
      "11/11 [==============================] - 0s 5ms/step - loss: 15.2376 - mae: 2.7370 - val_loss: 19.2791 - val_mae: 3.2736\n",
      "Epoch 91/100\n",
      "11/11 [==============================] - 0s 4ms/step - loss: 15.0895 - mae: 2.7174 - val_loss: 19.0184 - val_mae: 3.2486\n",
      "Epoch 92/100\n",
      "11/11 [==============================] - 0s 6ms/step - loss: 15.0088 - mae: 2.6939 - val_loss: 18.6873 - val_mae: 3.2133\n",
      "Epoch 93/100\n",
      "11/11 [==============================] - 0s 5ms/step - loss: 14.8345 - mae: 2.6697 - val_loss: 18.5114 - val_mae: 3.2021\n",
      "Epoch 94/100\n",
      "11/11 [==============================] - 0s 5ms/step - loss: 14.6721 - mae: 2.6545 - val_loss: 18.4088 - val_mae: 3.1965\n",
      "Epoch 95/100\n",
      "11/11 [==============================] - 0s 6ms/step - loss: 14.4993 - mae: 2.6386 - val_loss: 18.2869 - val_mae: 3.1951\n",
      "Epoch 96/100\n",
      "11/11 [==============================] - 0s 5ms/step - loss: 14.3423 - mae: 2.6247 - val_loss: 18.2779 - val_mae: 3.1957\n",
      "Epoch 97/100\n",
      "11/11 [==============================] - 0s 5ms/step - loss: 14.2132 - mae: 2.6146 - val_loss: 18.1587 - val_mae: 3.1847\n",
      "Epoch 98/100\n",
      "11/11 [==============================] - 0s 6ms/step - loss: 14.0700 - mae: 2.6002 - val_loss: 17.9070 - val_mae: 3.1602\n",
      "Epoch 99/100\n",
      "11/11 [==============================] - 0s 6ms/step - loss: 13.9065 - mae: 2.5864 - val_loss: 17.8150 - val_mae: 3.1419\n",
      "Epoch 100/100\n",
      "11/11 [==============================] - 0s 6ms/step - loss: 13.7767 - mae: 2.5791 - val_loss: 17.8034 - val_mae: 3.1515\n"
     ]
    }
   ],
   "source": [
    "history = model.fit(X_train, y_train, batch_size=32, epochs=100, validation_split=0.2)"
   ]
  },
  {
   "cell_type": "code",
   "execution_count": 76,
   "metadata": {},
   "outputs": [
    {
     "data": {
      "text/plain": [
       "[<matplotlib.lines.Line2D at 0x7f95802edb90>]"
      ]
     },
     "execution_count": 76,
     "metadata": {},
     "output_type": "execute_result"
    },
    {
     "data": {
      "image/png": "[encoded data removed]",
      "text/plain": [
       "<Figure size 432x288 with 1 Axes>"
      ]
     },
     "metadata": {
      "needs_background": "light"
     },
     "output_type": "display_data"
    }
   ],
   "source": [
    "plt.plot(history.epoch, history.history['loss'])\n",
    "plt.plot(history.epoch, history.history['val_loss'])"
   ]
  },
  {
   "cell_type": "code",
   "execution_count": 77,
   "metadata": {},
   "outputs": [
    {
     "data": {
      "text/plain": [
       "[<matplotlib.lines.Line2D at 0x7f9580364bd0>]"
      ]
     },
     "execution_count": 77,
     "metadata": {},
     "output_type": "execute_result"
    },
    {
     "data": {
      "image/png": "[encoded data removed]",
      "text/plain": [
       "<Figure size 432x288 with 1 Axes>"
      ]
     },
     "metadata": {
      "needs_background": "light"
     },
     "output_type": "display_data"
    }
   ],
   "source": [
    "plt.plot(history.epoch, history.history['mae'])\n",
    "plt.plot(history.epoch, history.history['val_mae'])"
   ]
  },
  {
   "cell_type": "code",
   "execution_count": 78,
   "metadata": {},
   "outputs": [
    {
     "name": "stdout",
     "output_type": "stream",
     "text": [
      "4/4 [==============================] - 0s 3ms/step - loss: 21.2510 - mae: 3.4532\n"
     ]
    },
    {
     "data": {
      "text/plain": [
       "[21.250991821289062, 3.453181266784668]"
      ]
     },
     "execution_count": 78,
     "metadata": {},
     "output_type": "execute_result"
    }
   ],
   "source": [
    "model.evaluate(X_test, y_test)"
   ]
  },
  {
   "cell_type": "code",
   "execution_count": 79,
   "metadata": {},
   "outputs": [],
   "source": [
    "model.save('models/boston.hdf5')"
   ]
  },
  {
   "cell_type": "code",
   "execution_count": 80,
   "metadata": {},
   "outputs": [],
   "source": [
    "from tensorflow.keras.models import load_model"
   ]
  },
  {
   "cell_type": "code",
   "execution_count": 81,
   "metadata": {},
   "outputs": [],
   "source": [
    "old_model = load_model('models/boston.hdf5')"
   ]
  },
  {
   "cell_type": "code",
   "execution_count": 82,
   "metadata": {},
   "outputs": [],
   "source": [
    "# x_new =...\n",
    "# old_model.predict()"
   ]
  },
  {
   "cell_type": "code",
   "execution_count": 51,
   "metadata": {},
   "outputs": [],
   "source": [
    "from tensorflow.keras.datasets import mnist\n",
    "from matplotlib import pyplot as plt"
   ]
  },
  {
   "cell_type": "code",
   "execution_count": 52,
   "metadata": {},
   "outputs": [],
   "source": [
    "(X_train, y_train), (X_test, y_test) = mnist.load_data()"
   ]
  },
  {
   "cell_type": "code",
   "execution_count": 53,
   "metadata": {},
   "outputs": [
    {
     "data": {
      "text/plain": [
       "(60000, 28, 28)"
      ]
     },
     "execution_count": 53,
     "metadata": {},
     "output_type": "execute_result"
    }
   ],
   "source": [
    "X_train.shape"
   ]
  },
  {
   "cell_type": "code",
   "execution_count": 54,
   "metadata": {},
   "outputs": [
    {
     "data": {
      "text/plain": [
       "(10000, 28, 28)"
      ]
     },
     "execution_count": 54,
     "metadata": {},
     "output_type": "execute_result"
    }
   ],
   "source": [
    "X_test.shape"
   ]
  },
  {
   "cell_type": "code",
   "execution_count": 55,
   "metadata": {},
   "outputs": [
    {
     "data": {
      "text/plain": [
       "<matplotlib.image.AxesImage at 0x7fe9425fc890>"
      ]
     },
     "execution_count": 55,
     "metadata": {},
     "output_type": "execute_result"
    },
    {
     "data": {
      "image/png": "[encoded data removed]",
      "text/plain": [
       "<Figure size 432x288 with 1 Axes>"
      ]
     },
     "metadata": {
      "needs_background": "light"
     },
     "output_type": "display_data"
    }
   ],
   "source": [
    "plt.title(y_train[0])\n",
    "plt.imshow(X_train[0], cmap='gray')"
   ]
  },
  {
   "cell_type": "code",
   "execution_count": 56,
   "metadata": {},
   "outputs": [
    {
     "data": {
      "text/plain": [
       "(60000, 784)"
      ]
     },
     "execution_count": 56,
     "metadata": {},
     "output_type": "execute_result"
    }
   ],
   "source": [
    "img_size = X_train.shape[1]\n",
    "X_train = X_train.reshape(X_train.shape[0], img_size * img_size)\n",
    "X_train.shape"
   ]
  },
  {
   "cell_type": "code",
   "execution_count": 57,
   "metadata": {},
   "outputs": [
    {
     "data": {
      "text/plain": [
       "(10000, 784)"
      ]
     },
     "execution_count": 57,
     "metadata": {},
     "output_type": "execute_result"
    }
   ],
   "source": [
    "X_test = X_test.reshape(X_test.shape[0], img_size * img_size)\n",
    "X_test.shape"
   ]
  },
  {
   "cell_type": "code",
   "execution_count": 58,
   "metadata": {},
   "outputs": [
    {
     "data": {
      "text/plain": [
       "5"
      ]
     },
     "execution_count": 58,
     "metadata": {},
     "output_type": "execute_result"
    }
   ],
   "source": [
    "y_train[0]"
   ]
  },
  {
   "cell_type": "code",
   "execution_count": 59,
   "metadata": {},
   "outputs": [],
   "source": [
    "# 0 - 1 0 0 0 0 0 0 0 0 0\n",
    "# 3 - 0 0 0 1 0 0 0 0 0 0"
   ]
  },
  {
   "cell_type": "code",
   "execution_count": 60,
   "metadata": {},
   "outputs": [],
   "source": [
    "from tensorflow.keras.utils import to_categorical"
   ]
  },
  {
   "cell_type": "code",
   "execution_count": 61,
   "metadata": {},
   "outputs": [],
   "source": [
    "y_train = to_categorical(y_train, 10)"
   ]
  },
  {
   "cell_type": "code",
   "execution_count": 62,
   "metadata": {},
   "outputs": [
    {
     "data": {
      "text/plain": [
       "(60000, 10)"
      ]
     },
     "execution_count": 62,
     "metadata": {},
     "output_type": "execute_result"
    }
   ],
   "source": [
    "y_train.shape"
   ]
  },
  {
   "cell_type": "code",
   "execution_count": 63,
   "metadata": {},
   "outputs": [
    {
     "data": {
      "text/plain": [
       "array([0., 0., 0., 0., 0., 1., 0., 0., 0., 0.], dtype=float32)"
      ]
     },
     "execution_count": 63,
     "metadata": {},
     "output_type": "execute_result"
    }
   ],
   "source": [
    "y_train[0]"
   ]
  },
  {
   "cell_type": "code",
   "execution_count": 64,
   "metadata": {},
   "outputs": [
    {
     "data": {
      "text/plain": [
       "array([  0,   0,   0,   0,   0,   0,   0,   0,   0,   0,   0,   0,   0,\n",
       "         0,   0,   0,   0,   0,   0,   0,   0,   0,   0,   0,   0,   0,\n",
       "         0,   0,   0,   0,   0,   0,   0,   0,   0,   0,   0,   0,   0,\n",
       "         0,   0,   0,   0,   0,   0,   0,   0,   0,   0,   0,   0,   0,\n",
       "         0,   0,   0,   0,   0,   0,   0,   0,   0,   0,   0,   0,   0,\n",
       "         0,   0,   0,   0,   0,   0,   0,   0,   0,   0,   0,   0,   0,\n",
       "         0,   0,   0,   0,   0,   0,   0,   0,   0,   0,   0,   0,   0,\n",
       "         0,   0,   0,   0,   0,   0,   0,   0,   0,   0,   0,   0,   0,\n",
       "         0,   0,   0,   0,   0,   0,   0,   0,   0,   0,   0,   0,   0,\n",
       "         0,   0,   0,   0,   0,   0,   0,   0,   0,   0,   0,   0,   0,\n",
       "         0,   0,   0,   0,   0,   0,   0,   0,   0,   0,   0,   0,   0,\n",
       "         0,   0,   0,   0,   0,   0,   0,   0,   0,   3,  18,  18,  18,\n",
       "       126, 136, 175,  26, 166, 255, 247, 127,   0,   0,   0,   0,   0,\n",
       "         0,   0,   0,   0,   0,   0,   0,  30,  36,  94, 154, 170, 253,\n",
       "       253, 253, 253, 253, 225, 172, 253, 242, 195,  64,   0,   0,   0,\n",
       "         0,   0,   0,   0,   0,   0,   0,   0,  49, 238, 253, 253, 253,\n",
       "       253, 253, 253, 253, 253, 251,  93,  82,  82,  56,  39,   0,   0,\n",
       "         0,   0,   0,   0,   0,   0,   0,   0,   0,   0,  18, 219, 253,\n",
       "       253, 253, 253, 253, 198, 182, 247, 241,   0,   0,   0,   0,   0,\n",
       "         0,   0,   0,   0,   0,   0,   0,   0,   0,   0,   0,   0,   0,\n",
       "        80, 156, 107, 253, 253, 205,  11,   0,  43, 154,   0,   0,   0,\n",
       "         0,   0,   0,   0,   0,   0,   0,   0,   0,   0,   0,   0,   0,\n",
       "         0,   0,   0,  14,   1, 154, 253,  90,   0,   0,   0,   0,   0,\n",
       "         0,   0,   0,   0,   0,   0,   0,   0,   0,   0,   0,   0,   0,\n",
       "         0,   0,   0,   0,   0,   0,   0, 139, 253, 190,   2,   0,   0,\n",
       "         0,   0,   0,   0,   0,   0,   0,   0,   0,   0,   0,   0,   0,\n",
       "         0,   0,   0,   0,   0,   0,   0,   0,   0,  11, 190, 253,  70,\n",
       "         0,   0,   0,   0,   0,   0,   0,   0,   0,   0,   0,   0,   0,\n",
       "         0,   0,   0,   0,   0,   0,   0,   0,   0,   0,   0,   0,  35,\n",
       "       241, 225, 160, 108,   1,   0,   0,   0,   0,   0,   0,   0,   0,\n",
       "         0,   0,   0,   0,   0,   0,   0,   0,   0,   0,   0,   0,   0,\n",
       "         0,   0,  81, 240, 253, 253, 119,  25,   0,   0,   0,   0,   0,\n",
       "         0,   0,   0,   0,   0,   0,   0,   0,   0,   0,   0,   0,   0,\n",
       "         0,   0,   0,   0,   0,  45, 186, 253, 253, 150,  27,   0,   0,\n",
       "         0,   0,   0,   0,   0,   0,   0,   0,   0,   0,   0,   0,   0,\n",
       "         0,   0,   0,   0,   0,   0,   0,   0,  16,  93, 252, 253, 187,\n",
       "         0,   0,   0,   0,   0,   0,   0,   0,   0,   0,   0,   0,   0,\n",
       "         0,   0,   0,   0,   0,   0,   0,   0,   0,   0,   0,   0, 249,\n",
       "       253, 249,  64,   0,   0,   0,   0,   0,   0,   0,   0,   0,   0,\n",
       "         0,   0,   0,   0,   0,   0,   0,   0,   0,   0,   0,  46, 130,\n",
       "       183, 253, 253, 207,   2,   0,   0,   0,   0,   0,   0,   0,   0,\n",
       "         0,   0,   0,   0,   0,   0,   0,   0,   0,   0,   0,  39, 148,\n",
       "       229, 253, 253, 253, 250, 182,   0,   0,   0,   0,   0,   0,   0,\n",
       "         0,   0,   0,   0,   0,   0,   0,   0,   0,   0,   0,  24, 114,\n",
       "       221, 253, 253, 253, 253, 201,  78,   0,   0,   0,   0,   0,   0,\n",
       "         0,   0,   0,   0,   0,   0,   0,   0,   0,   0,   0,  23,  66,\n",
       "       213, 253, 253, 253, 253, 198,  81,   2,   0,   0,   0,   0,   0,\n",
       "         0,   0,   0,   0,   0,   0,   0,   0,   0,   0,   0,  18, 171,\n",
       "       219, 253, 253, 253, 253, 195,  80,   9,   0,   0,   0,   0,   0,\n",
       "         0,   0,   0,   0,   0,   0,   0,   0,   0,   0,   0,  55, 172,\n",
       "       226, 253, 253, 253, 253, 244, 133,  11,   0,   0,   0,   0,   0,\n",
       "         0,   0,   0,   0,   0,   0,   0,   0,   0,   0,   0,   0,   0,\n",
       "       136, 253, 253, 253, 212, 135, 132,  16,   0,   0,   0,   0,   0,\n",
       "         0,   0,   0,   0,   0,   0,   0,   0,   0,   0,   0,   0,   0,\n",
       "         0,   0,   0,   0,   0,   0,   0,   0,   0,   0,   0,   0,   0,\n",
       "         0,   0,   0,   0,   0,   0,   0,   0,   0,   0,   0,   0,   0,\n",
       "         0,   0,   0,   0,   0,   0,   0,   0,   0,   0,   0,   0,   0,\n",
       "         0,   0,   0,   0,   0,   0,   0,   0,   0,   0,   0,   0,   0,\n",
       "         0,   0,   0,   0,   0,   0,   0,   0,   0,   0,   0,   0,   0,\n",
       "         0,   0,   0,   0,   0,   0,   0,   0,   0,   0,   0,   0,   0,\n",
       "         0,   0,   0,   0], dtype=uint8)"
      ]
     },
     "execution_count": 64,
     "metadata": {},
     "output_type": "execute_result"
    }
   ],
   "source": [
    "X_train[0]"
   ]
  },
  {
   "cell_type": "code",
   "execution_count": 65,
   "metadata": {},
   "outputs": [],
   "source": [
    "# (0,255) -> (0,1)\n",
    "# X_train.astype('float')\n",
    "X_train = X_train / 255"
   ]
  },
  {
   "cell_type": "code",
   "execution_count": 66,
   "metadata": {},
   "outputs": [
    {
     "data": {
      "text/plain": [
       "array([0.        , 0.        , 0.        , 0.        , 0.        ,\n",
       "       0.        , 0.        , 0.        , 0.        , 0.        ,\n",
       "       0.        , 0.        , 0.        , 0.        , 0.        ,\n",
       "       0.        , 0.        , 0.        , 0.        , 0.        ,\n",
       "       0.        , 0.        , 0.        , 0.        , 0.        ,\n",
       "       0.        , 0.        , 0.        , 0.        , 0.        ,\n",
       "       0.        , 0.        , 0.        , 0.        , 0.        ,\n",
       "       0.        , 0.        , 0.        , 0.        , 0.        ,\n",
       "       0.        , 0.        , 0.        , 0.        , 0.        ,\n",
       "       0.        , 0.        , 0.        , 0.        , 0.        ,\n",
       "       0.        , 0.        , 0.        , 0.        , 0.        ,\n",
       "       0.        , 0.        , 0.        , 0.        , 0.        ,\n",
       "       0.        , 0.        , 0.        , 0.        , 0.        ,\n",
       "       0.        , 0.        , 0.        , 0.        , 0.        ,\n",
       "       0.        , 0.        , 0.        , 0.        , 0.        ,\n",
       "       0.        , 0.        , 0.        , 0.        , 0.        ,\n",
       "       0.        , 0.        , 0.        , 0.        , 0.        ,\n",
       "       0.        , 0.        , 0.        , 0.        , 0.        ,\n",
       "       0.        , 0.        , 0.        , 0.        , 0.        ,\n",
       "       0.        , 0.        , 0.        , 0.        , 0.        ,\n",
       "       0.        , 0.        , 0.        , 0.        , 0.        ,\n",
       "       0.        , 0.        , 0.        , 0.        , 0.        ,\n",
       "       0.        , 0.        , 0.        , 0.        , 0.        ,\n",
       "       0.        , 0.        , 0.        , 0.        , 0.        ,\n",
       "       0.        , 0.        , 0.        , 0.        , 0.        ,\n",
       "       0.        , 0.        , 0.        , 0.        , 0.        ,\n",
       "       0.        , 0.        , 0.        , 0.        , 0.        ,\n",
       "       0.        , 0.        , 0.        , 0.        , 0.        ,\n",
       "       0.        , 0.        , 0.        , 0.        , 0.        ,\n",
       "       0.        , 0.        , 0.        , 0.        , 0.        ,\n",
       "       0.        , 0.        , 0.01176471, 0.07058824, 0.07058824,\n",
       "       0.07058824, 0.49411765, 0.53333333, 0.68627451, 0.10196078,\n",
       "       0.65098039, 1.        , 0.96862745, 0.49803922, 0.        ,\n",
       "       0.        , 0.        , 0.        , 0.        , 0.        ,\n",
       "       0.        , 0.        , 0.        , 0.        , 0.        ,\n",
       "       0.        , 0.11764706, 0.14117647, 0.36862745, 0.60392157,\n",
       "       0.66666667, 0.99215686, 0.99215686, 0.99215686, 0.99215686,\n",
       "       0.99215686, 0.88235294, 0.6745098 , 0.99215686, 0.94901961,\n",
       "       0.76470588, 0.25098039, 0.        , 0.        , 0.        ,\n",
       "       0.        , 0.        , 0.        , 0.        , 0.        ,\n",
       "       0.        , 0.        , 0.        , 0.19215686, 0.93333333,\n",
       "       0.99215686, 0.99215686, 0.99215686, 0.99215686, 0.99215686,\n",
       "       0.99215686, 0.99215686, 0.99215686, 0.98431373, 0.36470588,\n",
       "       0.32156863, 0.32156863, 0.21960784, 0.15294118, 0.        ,\n",
       "       0.        , 0.        , 0.        , 0.        , 0.        ,\n",
       "       0.        , 0.        , 0.        , 0.        , 0.        ,\n",
       "       0.        , 0.07058824, 0.85882353, 0.99215686, 0.99215686,\n",
       "       0.99215686, 0.99215686, 0.99215686, 0.77647059, 0.71372549,\n",
       "       0.96862745, 0.94509804, 0.        , 0.        , 0.        ,\n",
       "       0.        , 0.        , 0.        , 0.        , 0.        ,\n",
       "       0.        , 0.        , 0.        , 0.        , 0.        ,\n",
       "       0.        , 0.        , 0.        , 0.        , 0.        ,\n",
       "       0.31372549, 0.61176471, 0.41960784, 0.99215686, 0.99215686,\n",
       "       0.80392157, 0.04313725, 0.        , 0.16862745, 0.60392157,\n",
       "       0.        , 0.        , 0.        , 0.        , 0.        ,\n",
       "       0.        , 0.        , 0.        , 0.        , 0.        ,\n",
       "       0.        , 0.        , 0.        , 0.        , 0.        ,\n",
       "       0.        , 0.        , 0.        , 0.        , 0.05490196,\n",
       "       0.00392157, 0.60392157, 0.99215686, 0.35294118, 0.        ,\n",
       "       0.        , 0.        , 0.        , 0.        , 0.        ,\n",
       "       0.        , 0.        , 0.        , 0.        , 0.        ,\n",
       "       0.        , 0.        , 0.        , 0.        , 0.        ,\n",
       "       0.        , 0.        , 0.        , 0.        , 0.        ,\n",
       "       0.        , 0.        , 0.        , 0.        , 0.54509804,\n",
       "       0.99215686, 0.74509804, 0.00784314, 0.        , 0.        ,\n",
       "       0.        , 0.        , 0.        , 0.        , 0.        ,\n",
       "       0.        , 0.        , 0.        , 0.        , 0.        ,\n",
       "       0.        , 0.        , 0.        , 0.        , 0.        ,\n",
       "       0.        , 0.        , 0.        , 0.        , 0.        ,\n",
       "       0.        , 0.        , 0.04313725, 0.74509804, 0.99215686,\n",
       "       0.2745098 , 0.        , 0.        , 0.        , 0.        ,\n",
       "       0.        , 0.        , 0.        , 0.        , 0.        ,\n",
       "       0.        , 0.        , 0.        , 0.        , 0.        ,\n",
       "       0.        , 0.        , 0.        , 0.        , 0.        ,\n",
       "       0.        , 0.        , 0.        , 0.        , 0.        ,\n",
       "       0.        , 0.1372549 , 0.94509804, 0.88235294, 0.62745098,\n",
       "       0.42352941, 0.00392157, 0.        , 0.        , 0.        ,\n",
       "       0.        , 0.        , 0.        , 0.        , 0.        ,\n",
       "       0.        , 0.        , 0.        , 0.        , 0.        ,\n",
       "       0.        , 0.        , 0.        , 0.        , 0.        ,\n",
       "       0.        , 0.        , 0.        , 0.        , 0.        ,\n",
       "       0.31764706, 0.94117647, 0.99215686, 0.99215686, 0.46666667,\n",
       "       0.09803922, 0.        , 0.        , 0.        , 0.        ,\n",
       "       0.        , 0.        , 0.        , 0.        , 0.        ,\n",
       "       0.        , 0.        , 0.        , 0.        , 0.        ,\n",
       "       0.        , 0.        , 0.        , 0.        , 0.        ,\n",
       "       0.        , 0.        , 0.        , 0.        , 0.17647059,\n",
       "       0.72941176, 0.99215686, 0.99215686, 0.58823529, 0.10588235,\n",
       "       0.        , 0.        , 0.        , 0.        , 0.        ,\n",
       "       0.        , 0.        , 0.        , 0.        , 0.        ,\n",
       "       0.        , 0.        , 0.        , 0.        , 0.        ,\n",
       "       0.        , 0.        , 0.        , 0.        , 0.        ,\n",
       "       0.        , 0.        , 0.        , 0.0627451 , 0.36470588,\n",
       "       0.98823529, 0.99215686, 0.73333333, 0.        , 0.        ,\n",
       "       0.        , 0.        , 0.        , 0.        , 0.        ,\n",
       "       0.        , 0.        , 0.        , 0.        , 0.        ,\n",
       "       0.        , 0.        , 0.        , 0.        , 0.        ,\n",
       "       0.        , 0.        , 0.        , 0.        , 0.        ,\n",
       "       0.        , 0.        , 0.        , 0.97647059, 0.99215686,\n",
       "       0.97647059, 0.25098039, 0.        , 0.        , 0.        ,\n",
       "       0.        , 0.        , 0.        , 0.        , 0.        ,\n",
       "       0.        , 0.        , 0.        , 0.        , 0.        ,\n",
       "       0.        , 0.        , 0.        , 0.        , 0.        ,\n",
       "       0.        , 0.        , 0.        , 0.18039216, 0.50980392,\n",
       "       0.71764706, 0.99215686, 0.99215686, 0.81176471, 0.00784314,\n",
       "       0.        , 0.        , 0.        , 0.        , 0.        ,\n",
       "       0.        , 0.        , 0.        , 0.        , 0.        ,\n",
       "       0.        , 0.        , 0.        , 0.        , 0.        ,\n",
       "       0.        , 0.        , 0.        , 0.        , 0.15294118,\n",
       "       0.58039216, 0.89803922, 0.99215686, 0.99215686, 0.99215686,\n",
       "       0.98039216, 0.71372549, 0.        , 0.        , 0.        ,\n",
       "       0.        , 0.        , 0.        , 0.        , 0.        ,\n",
       "       0.        , 0.        , 0.        , 0.        , 0.        ,\n",
       "       0.        , 0.        , 0.        , 0.        , 0.        ,\n",
       "       0.09411765, 0.44705882, 0.86666667, 0.99215686, 0.99215686,\n",
       "       0.99215686, 0.99215686, 0.78823529, 0.30588235, 0.        ,\n",
       "       0.        , 0.        , 0.        , 0.        , 0.        ,\n",
       "       0.        , 0.        , 0.        , 0.        , 0.        ,\n",
       "       0.        , 0.        , 0.        , 0.        , 0.        ,\n",
       "       0.        , 0.09019608, 0.25882353, 0.83529412, 0.99215686,\n",
       "       0.99215686, 0.99215686, 0.99215686, 0.77647059, 0.31764706,\n",
       "       0.00784314, 0.        , 0.        , 0.        , 0.        ,\n",
       "       0.        , 0.        , 0.        , 0.        , 0.        ,\n",
       "       0.        , 0.        , 0.        , 0.        , 0.        ,\n",
       "       0.        , 0.        , 0.07058824, 0.67058824, 0.85882353,\n",
       "       0.99215686, 0.99215686, 0.99215686, 0.99215686, 0.76470588,\n",
       "       0.31372549, 0.03529412, 0.        , 0.        , 0.        ,\n",
       "       0.        , 0.        , 0.        , 0.        , 0.        ,\n",
       "       0.        , 0.        , 0.        , 0.        , 0.        ,\n",
       "       0.        , 0.        , 0.        , 0.21568627, 0.6745098 ,\n",
       "       0.88627451, 0.99215686, 0.99215686, 0.99215686, 0.99215686,\n",
       "       0.95686275, 0.52156863, 0.04313725, 0.        , 0.        ,\n",
       "       0.        , 0.        , 0.        , 0.        , 0.        ,\n",
       "       0.        , 0.        , 0.        , 0.        , 0.        ,\n",
       "       0.        , 0.        , 0.        , 0.        , 0.        ,\n",
       "       0.        , 0.53333333, 0.99215686, 0.99215686, 0.99215686,\n",
       "       0.83137255, 0.52941176, 0.51764706, 0.0627451 , 0.        ,\n",
       "       0.        , 0.        , 0.        , 0.        , 0.        ,\n",
       "       0.        , 0.        , 0.        , 0.        , 0.        ,\n",
       "       0.        , 0.        , 0.        , 0.        , 0.        ,\n",
       "       0.        , 0.        , 0.        , 0.        , 0.        ,\n",
       "       0.        , 0.        , 0.        , 0.        , 0.        ,\n",
       "       0.        , 0.        , 0.        , 0.        , 0.        ,\n",
       "       0.        , 0.        , 0.        , 0.        , 0.        ,\n",
       "       0.        , 0.        , 0.        , 0.        , 0.        ,\n",
       "       0.        , 0.        , 0.        , 0.        , 0.        ,\n",
       "       0.        , 0.        , 0.        , 0.        , 0.        ,\n",
       "       0.        , 0.        , 0.        , 0.        , 0.        ,\n",
       "       0.        , 0.        , 0.        , 0.        , 0.        ,\n",
       "       0.        , 0.        , 0.        , 0.        , 0.        ,\n",
       "       0.        , 0.        , 0.        , 0.        , 0.        ,\n",
       "       0.        , 0.        , 0.        , 0.        , 0.        ,\n",
       "       0.        , 0.        , 0.        , 0.        , 0.        ,\n",
       "       0.        , 0.        , 0.        , 0.        , 0.        ,\n",
       "       0.        , 0.        , 0.        , 0.        , 0.        ,\n",
       "       0.        , 0.        , 0.        , 0.        , 0.        ,\n",
       "       0.        , 0.        , 0.        , 0.        ])"
      ]
     },
     "execution_count": 66,
     "metadata": {},
     "output_type": "execute_result"
    }
   ],
   "source": [
    "X_train[0]"
   ]
  },
  {
   "cell_type": "code",
   "execution_count": 67,
   "metadata": {},
   "outputs": [
    {
     "data": {
      "text/plain": [
       "dtype('float64')"
      ]
     },
     "execution_count": 67,
     "metadata": {},
     "output_type": "execute_result"
    }
   ],
   "source": [
    "X_train[0].dtype"
   ]
  },
  {
   "cell_type": "code",
   "execution_count": 68,
   "metadata": {},
   "outputs": [
    {
     "data": {
      "text/plain": [
       "(60000, 784)"
      ]
     },
     "execution_count": 68,
     "metadata": {},
     "output_type": "execute_result"
    }
   ],
   "source": [
    "X_train.shape"
   ]
  },
  {
   "cell_type": "code",
   "execution_count": 69,
   "metadata": {},
   "outputs": [],
   "source": [
    "from tensorflow.keras.models import Sequential\n",
    "from tensorflow.keras.layers import Dense"
   ]
  },
  {
   "cell_type": "code",
   "execution_count": 70,
   "metadata": {},
   "outputs": [
    {
     "name": "stdout",
     "output_type": "stream",
     "text": [
      "Model: \"sequential_2\"\n",
      "_________________________________________________________________\n",
      "Layer (type)                 Output Shape              Param #   \n",
      "=================================================================\n",
      "dense_6 (Dense)              (None, 128)               100480    \n",
      "_________________________________________________________________\n",
      "dense_7 (Dense)              (None, 64)                8256      \n",
      "_________________________________________________________________\n",
      "dense_8 (Dense)              (None, 10)                650       \n",
      "=================================================================\n",
      "Total params: 109,386\n",
      "Trainable params: 109,386\n",
      "Non-trainable params: 0\n",
      "_________________________________________________________________\n"
     ]
    }
   ],
   "source": [
    "model = Sequential()\n",
    "model.add(Dense(input_dim=X_train.shape[1], units=128, activation='relu'))\n",
    "model.add(Dense(units=64, activation='relu'))\n",
    "model.add(Dense(units=10, activation='softmax'))\n",
    "model.summary()"
   ]
  },
  {
   "cell_type": "code",
   "execution_count": 71,
   "metadata": {},
   "outputs": [],
   "source": [
    "from tensorflow.keras.optimizers import Adam\n",
    "from tensorflow.keras.losses import CategoricalCrossentropy"
   ]
  },
  {
   "cell_type": "code",
   "execution_count": 72,
   "metadata": {},
   "outputs": [],
   "source": [
    "model.compile(optimizer=Adam(), loss='categorical_crossentropy', metrics=['accuracy'])"
   ]
  },
  {
   "cell_type": "code",
   "execution_count": 73,
   "metadata": {},
   "outputs": [
    {
     "name": "stdout",
     "output_type": "stream",
     "text": [
      "Epoch 1/10\n",
      "469/469 [==============================] - 3s 5ms/step - loss: 0.3260 - accuracy: 0.9084\n",
      "Epoch 2/10\n",
      "469/469 [==============================] - 3s 6ms/step - loss: 0.1368 - accuracy: 0.9600\n",
      "Epoch 3/10\n",
      "469/469 [==============================] - 3s 5ms/step - loss: 0.0962 - accuracy: 0.9713\n",
      "Epoch 4/10\n",
      "469/469 [==============================] - 3s 6ms/step - loss: 0.0725 - accuracy: 0.9780\n",
      "Epoch 5/10\n",
      "469/469 [==============================] - 3s 6ms/step - loss: 0.0579 - accuracy: 0.9827\n",
      "Epoch 6/10\n",
      "469/469 [==============================] - 3s 6ms/step - loss: 0.0481 - accuracy: 0.9850\n",
      "Epoch 7/10\n",
      "469/469 [==============================] - 2s 4ms/step - loss: 0.0365 - accuracy: 0.9886\n",
      "Epoch 8/10\n",
      "469/469 [==============================] - 2s 5ms/step - loss: 0.0321 - accuracy: 0.9902\n",
      "Epoch 9/10\n",
      "469/469 [==============================] - 3s 6ms/step - loss: 0.0250 - accuracy: 0.9922\n",
      "Epoch 10/10\n",
      "469/469 [==============================] - 3s 6ms/step - loss: 0.0231 - accuracy: 0.9926\n"
     ]
    }
   ],
   "source": [
    "history = model.fit(X_train, y_train, batch_size=128, epochs=10)"
   ]
  },
  {
   "cell_type": "code",
   "execution_count": 74,
   "metadata": {},
   "outputs": [
    {
     "data": {
      "text/plain": [
       "[<matplotlib.lines.Line2D at 0x7fe94248a7d0>]"
      ]
     },
     "execution_count": 74,
     "metadata": {},
     "output_type": "execute_result"
    },
    {
     "data": {
      "image/png": "[encoded data removed]",
      "text/plain": [
       "<Figure size 432x288 with 1 Axes>"
      ]
     },
     "metadata": {
      "needs_background": "light"
     },
     "output_type": "display_data"
    }
   ],
   "source": [
    "plt.plot(history.epoch, history.history['loss'])"
   ]
  },
  {
   "cell_type": "code",
   "execution_count": 75,
   "metadata": {},
   "outputs": [],
   "source": [
    "X_test  = X_test / 255"
   ]
  },
  {
   "cell_type": "code",
   "execution_count": 76,
   "metadata": {},
   "outputs": [],
   "source": [
    "y_test = to_categorical(y_test, 10)"
   ]
  },
  {
   "cell_type": "code",
   "execution_count": 77,
   "metadata": {},
   "outputs": [
    {
     "name": "stdout",
     "output_type": "stream",
     "text": [
      "313/313 [==============================] - 1s 2ms/step - loss: 0.0824 - accuracy: 0.9755\n"
     ]
    },
    {
     "data": {
      "text/plain": [
       "[0.08242037892341614, 0.9754999876022339]"
      ]
     },
     "execution_count": 77,
     "metadata": {},
     "output_type": "execute_result"
    }
   ],
   "source": [
    "model.evaluate(X_test, y_test)"
   ]
  },
  {
   "cell_type": "code",
   "execution_count": 78,
   "metadata": {},
   "outputs": [],
   "source": [
    "y_pred = model.predict(X_test)"
   ]
  },
  {
   "cell_type": "code",
   "execution_count": 79,
   "metadata": {},
   "outputs": [
    {
     "data": {
      "text/plain": [
       "(10000, 10)"
      ]
     },
     "execution_count": 79,
     "metadata": {},
     "output_type": "execute_result"
    }
   ],
   "source": [
    "y_pred.shape"
   ]
  },
  {
   "cell_type": "code",
   "execution_count": 80,
   "metadata": {},
   "outputs": [
    {
     "data": {
      "text/plain": [
       "array([8.5784153e-09, 6.5556440e-09, 5.2192183e-07, 7.5192056e-06,\n",
       "       1.9740855e-11, 6.3063292e-09, 1.7041071e-14, 9.9998653e-01,\n",
       "       9.6389066e-08, 5.3808212e-06], dtype=float32)"
      ]
     },
     "execution_count": 80,
     "metadata": {},
     "output_type": "execute_result"
    }
   ],
   "source": [
    "y_pred[0]"
   ]
  },
  {
   "cell_type": "code",
   "execution_count": 81,
   "metadata": {},
   "outputs": [
    {
     "data": {
      "text/plain": [
       "array([2.5979746e-08, 6.5945216e-08, 9.9991751e-01, 7.3376803e-05,\n",
       "       3.5569007e-12, 1.9447134e-08, 8.9302532e-08, 1.0925839e-13,\n",
       "       8.9596333e-06, 9.9484684e-14], dtype=float32)"
      ]
     },
     "execution_count": 81,
     "metadata": {},
     "output_type": "execute_result"
    }
   ],
   "source": [
    "y_pred[1]"
   ]
  },
  {
   "cell_type": "code",
   "execution_count": 82,
   "metadata": {},
   "outputs": [
    {
     "data": {
      "text/plain": [
       "7"
      ]
     },
     "execution_count": 82,
     "metadata": {},
     "output_type": "execute_result"
    }
   ],
   "source": [
    "import numpy as np\n",
    "np.argmax(y_pred[0])"
   ]
  },
  {
   "cell_type": "code",
   "execution_count": 83,
   "metadata": {},
   "outputs": [
    {
     "data": {
      "text/plain": [
       "array([0., 0., 0., 0., 0., 0., 0., 1., 0., 0.], dtype=float32)"
      ]
     },
     "execution_count": 83,
     "metadata": {},
     "output_type": "execute_result"
    }
   ],
   "source": [
    "y_test[0]"
   ]
  },
  {
   "cell_type": "code",
   "execution_count": 84,
   "metadata": {},
   "outputs": [
    {
     "data": {
      "text/plain": [
       "7"
      ]
     },
     "execution_count": 84,
     "metadata": {},
     "output_type": "execute_result"
    }
   ],
   "source": [
    "np.argmax(y_test)"
   ]
  },
  {
   "cell_type": "code",
   "execution_count": 85,
   "metadata": {},
   "outputs": [],
   "source": [
    "errors = []\n",
    "for i in range(X_test.shape[0]):\n",
    "    pred_class = np.argmax(y_pred[i])\n",
    "    true_class = np.argmax(y_test[i])\n",
    "    if pred_class != true_class:\n",
    "        errors.append(i)"
   ]
  },
  {
   "cell_type": "code",
   "execution_count": 86,
   "metadata": {},
   "outputs": [
    {
     "data": {
      "text/plain": [
       "245"
      ]
     },
     "execution_count": 86,
     "metadata": {},
     "output_type": "execute_result"
    }
   ],
   "source": [
    "len(errors)"
   ]
  },
  {
   "cell_type": "code",
   "execution_count": 87,
   "metadata": {},
   "outputs": [],
   "source": [
    "import random"
   ]
  },
  {
   "cell_type": "code",
   "execution_count": 94,
   "metadata": {},
   "outputs": [
    {
     "name": "stdout",
     "output_type": "stream",
     "text": [
      "4 9\n"
     ]
    },
    {
     "data": {
      "text/plain": [
       "<matplotlib.image.AxesImage at 0x7fe9423a6650>"
      ]
     },
     "execution_count": 94,
     "metadata": {},
     "output_type": "execute_result"
    },
    {
     "data": {
      "image/png": "[encoded data removed]",
      "text/plain": [
       "<Figure size 432x288 with 1 Axes>"
      ]
     },
     "metadata": {
      "needs_background": "light"
     },
     "output_type": "display_data"
    }
   ],
   "source": [
    "random_index = random.choice(errors)\n",
    "pred_label = np.argmax(y_pred[random_index])\n",
    "true_label = np.argmax(y_test[random_index])\n",
    "print(pred_label, true_label)\n",
    "plt.imshow(X_test[random_index].reshape(img_size, img_size), cmap='gray')"
   ]
  },
  {
   "cell_type": "code",
   "execution_count": null,
   "metadata": {},
   "outputs": [],
   "source": []
  }
 ],
 "metadata": {
  "kernelspec": {
   "display_name": "Python 3",
   "language": "python",
   "name": "python3"
  },
  "language_info": {
   "codemirror_mode": {
    "name": "ipython",
    "version": 3
   },
   "file_extension": ".py",
   "mimetype": "text/x-python",
   "name": "python",
   "nbconvert_exporter": "python",
   "pygments_lexer": "ipython3",
   "version": "3.7.6"
  }
 },
 "nbformat": 4,
 "nbformat_minor": 4
}
