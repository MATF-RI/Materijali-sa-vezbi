{
 "cells": [
  {
   "cell_type": "code",
   "execution_count": 2,
   "metadata": {},
   "outputs": [],
   "source": [
    "# swarm inteligence - inteligencija grupa\n",
    "# PSO - particle swarm optimization\n",
    "\n",
    "# swarm = [Particle() ...]\n",
    "# while not stop_condition():\n",
    "#     for particle in swarm:\n",
    "#         r_l, r_g ~ U(0,1)\n",
    "#         izracunaj novu brzinu v = c_i * v + r_l*c_l*lokalno + r_g*c_g*globalno\n",
    "#         izracunaj novu poziciju p = p + v\n",
    "# resenje = globalno"
   ]
  },
  {
   "cell_type": "code",
   "execution_count": 27,
   "metadata": {},
   "outputs": [],
   "source": [
    "import random\n",
    "import numpy as np\n",
    "from matplotlib import pyplot as plt"
   ]
  },
  {
   "cell_type": "code",
   "execution_count": 57,
   "metadata": {},
   "outputs": [],
   "source": [
    "def rastrigin(x):\n",
    "    A = 10\n",
    "    n = len(x)\n",
    "    return A*n + sum(x_i**2 - A*np.cos(2*np.pi*x_i) for x_i in x)"
   ]
  },
  {
   "cell_type": "code",
   "execution_count": 58,
   "metadata": {},
   "outputs": [],
   "source": [
    "def rosenbrock(x):\n",
    "    a = 1\n",
    "    b = 100\n",
    "    return (a - x[0]) ** 2 + b * (x[1] - x[0]**2)**2"
   ]
  },
  {
   "cell_type": "code",
   "execution_count": 59,
   "metadata": {},
   "outputs": [],
   "source": [
    "bounds = [(-5.12, 5.12), (-5.12, 5.12)]"
   ]
  },
  {
   "cell_type": "code",
   "execution_count": 67,
   "metadata": {},
   "outputs": [],
   "source": [
    "class Particle:\n",
    "    \n",
    "    globalBestPosition = None\n",
    "    globalBestValue = None\n",
    "    \n",
    "    def __init__(self, bounds, obj_func, c_i, c_l, c_g):\n",
    "        self.position = np.array([random.uniform(bound[0], bound[1]) for bound in bounds])\n",
    "        self.velocity = np.array([random.uniform(-(bound[1] - bound[0]),\n",
    "                                                 bound[1] - bound[0]) for bound in bounds])\n",
    "        self.bestPosition = np.array(self.position)\n",
    "        self.currValue = obj_func(self.position)\n",
    "        self.bestValue = self.currValue\n",
    "        if Particle.globalBestValue is None or self.currValue < Particle.globalBestValue:\n",
    "            Particle.globalBestPosition = self.position.copy()\n",
    "            Particle.globalBestValue = self.currValue\n",
    "        \n",
    "        self.bounds = bounds\n",
    "        self.obj_func = obj_func\n",
    "        self.c_i = c_i\n",
    "        self.c_l = c_l\n",
    "        self.c_g = c_g\n",
    "        \n",
    "    def updatePosition(self):\n",
    "        lower_bounds = np.array([x[0] for x in self.bounds])\n",
    "        upper_bounds = np.array([x[1] for x in self.bounds])\n",
    "        self.position = np.clip(self.position + self.velocity, lower_bounds, upper_bounds)\n",
    "#         for i in range(len(self.position)):\n",
    "#             self.position[i] = self.position[i] + self.velocity[i]\n",
    "#             if self.position[i] < self.bounds[i][0]:\n",
    "#                 self.position[i] = self.bounds[i][0]\n",
    "#             elif self.position[i] > self.bounds[i][1]:\n",
    "#                 self.position[i] = self.bounds[i][1]\n",
    "    \n",
    "        self.currValue = self.obj_func(self.position)\n",
    "        if self.bestValue > self.currValue:\n",
    "            self.bestValue = self.currValue\n",
    "            self.bestPosition = self.position.copy()\n",
    "            if Particle.globalBestValue > self.currValue:\n",
    "                Particle.globalBestValue = self.currValue\n",
    "                Particle.globalBestPosition = self.position.copy()\n",
    "        \n",
    "    def updateVelocity(self):\n",
    "#         r_l = random.random()\n",
    "#         r_g = random.random()\n",
    "        # random broj za svaku dimenziju\n",
    "        r_l = np.random.random(self.velocity.shape)\n",
    "        r_g = np.random.random(self.velocity.shape)\n",
    "        self.velocity = (self.c_i * self.velocity\n",
    "                      + r_l * self.c_l * (self.bestPosition - self.position) # cognitive velocity\n",
    "                      + r_g * self.c_g * (Particle.globalBestPosition - self.position)) # social velocity"
   ]
  },
  {
   "cell_type": "code",
   "execution_count": 70,
   "metadata": {},
   "outputs": [
    {
     "name": "stdout",
     "output_type": "stream",
     "text": [
      "Solution: [1. 1.], value: 4.6310338285984024e-26\n"
     ]
    },
    {
     "data": {
      "text/plain": [
       "[<matplotlib.lines.Line2D at 0x7f5de0533690>]"
      ]
     },
     "execution_count": 70,
     "metadata": {},
     "output_type": "execute_result"
    },
    {
     "data": {
      "image/png": "[encoded data removed]",
      "text/plain": [
       "<Figure size 432x288 with 1 Axes>"
      ]
     },
     "metadata": {
      "needs_background": "light"
     },
     "output_type": "display_data"
    }
   ],
   "source": [
    "SWARM_SIZE = 50\n",
    "MAX_ITER = 2000\n",
    "\n",
    "swarm = [Particle(bounds, rosenbrock, 0.75, 2, 2) for _ in range(SWARM_SIZE)]\n",
    "bestValues = []\n",
    "for i in range(MAX_ITER):\n",
    "    for j, particle in enumerate(swarm):\n",
    "        particle.updateVelocity()\n",
    "        particle.updatePosition()\n",
    "        \n",
    "    bestValues.append(Particle.globalBestValue)\n",
    "    \n",
    "print(f'Solution: {Particle.globalBestPosition}, value: {Particle.globalBestValue}')\n",
    "plt.plot(range(MAX_ITER), bestValues)"
   ]
  },
  {
   "cell_type": "code",
   "execution_count": null,
   "metadata": {},
   "outputs": [],
   "source": []
  }
 ],
 "metadata": {
  "kernelspec": {
   "display_name": "Python 3",
   "language": "python",
   "name": "python3"
  },
  "language_info": {
   "codemirror_mode": {
    "name": "ipython",
    "version": 3
   },
   "file_extension": ".py",
   "mimetype": "text/x-python",
   "name": "python",
   "nbconvert_exporter": "python",
   "pygments_lexer": "ipython3",
   "version": "3.7.6"
  }
 },
 "nbformat": 4,
 "nbformat_minor": 4
}
