{
 "cells": [
  {
   "cell_type": "code",
   "execution_count": 3,
   "metadata": {},
   "outputs": [],
   "source": [
    "import numpy as np"
   ]
  },
  {
   "cell_type": "code",
   "execution_count": 4,
   "metadata": {},
   "outputs": [],
   "source": [
    "# def calc_alpha(i):\n",
    "#     return 1 / i"
   ]
  },
  {
   "cell_type": "code",
   "execution_count": 5,
   "metadata": {},
   "outputs": [],
   "source": [
    "def gradient_descent(x0, f, gradient, alpha, num_iters, tol):\n",
    "    result = {}\n",
    "    \n",
    "    x = x0\n",
    "    for i in range(num_iters):\n",
    "        x_new = x - alpha * gradient(x)\n",
    "        \n",
    "        if abs(f(x_new) - f(x)) < tol:\n",
    "            result['converged'] = True\n",
    "            break\n",
    "        \n",
    "        x = x_new\n",
    "    \n",
    "    if 'converged' not in result:\n",
    "        result['converged'] = False\n",
    "    result['iter'] = i\n",
    "    result['x'] = x\n",
    "            \n",
    "    return result"
   ]
  },
  {
   "cell_type": "code",
   "execution_count": 6,
   "metadata": {},
   "outputs": [],
   "source": [
    "def f(x):\n",
    "    return 0.5*(x[0]**2 + 10*x[1]**2)"
   ]
  },
  {
   "cell_type": "code",
   "execution_count": 7,
   "metadata": {},
   "outputs": [],
   "source": [
    "def gradient(x):\n",
    "    return np.array([x[0], 10*x[1]])"
   ]
  },
  {
   "cell_type": "code",
   "execution_count": 8,
   "metadata": {},
   "outputs": [
    {
     "data": {
      "text/plain": [
       "{'converged': True, 'iter': 996, 'x': array([3.14595031e-02, 1.06561271e-43])}"
      ]
     },
     "execution_count": 8,
     "metadata": {},
     "output_type": "execute_result"
    }
   ],
   "source": [
    "x0 = np.array((700,400))\n",
    "# print(x0)\n",
    "alpha = 0.01\n",
    "num_iters = 10000\n",
    "tol = 1e-5\n",
    "\n",
    "gradient_descent(x0, f, gradient, alpha, num_iters, tol)"
   ]
  },
  {
   "cell_type": "code",
   "execution_count": 9,
   "metadata": {},
   "outputs": [],
   "source": [
    "def momentum(x0, f, gradient, alpha, num_iters, tol, beta=0.9):\n",
    "    result = {}\n",
    "    \n",
    "    x = x0\n",
    "    inertia = 0\n",
    "    for i in range(num_iters):\n",
    "        inertia = beta * inertia - alpha * gradient(x)\n",
    "        x_new = x + inertia\n",
    "        \n",
    "        if abs(f(x_new) - f(x)) < tol:\n",
    "            result['converged'] = True\n",
    "            break\n",
    "        \n",
    "        x = x_new\n",
    "    \n",
    "    if 'converged' not in result:\n",
    "        result['converged'] = False\n",
    "    result['iter'] = i\n",
    "    result['x'] = x\n",
    "            \n",
    "    return result"
   ]
  },
  {
   "cell_type": "code",
   "execution_count": 10,
   "metadata": {},
   "outputs": [
    {
     "data": {
      "text/plain": [
       "{'converged': True, 'iter': 194, 'x': array([-0.01804139,  0.01335318])}"
      ]
     },
     "execution_count": 10,
     "metadata": {},
     "output_type": "execute_result"
    }
   ],
   "source": [
    "momentum(x0, f, gradient, alpha, num_iters, tol, beta=0.9)"
   ]
  },
  {
   "cell_type": "code",
   "execution_count": 11,
   "metadata": {},
   "outputs": [],
   "source": [
    "def nesterov(x0, f, gradient, alpha, num_iters, tol, beta=0.9):\n",
    "    result = {}\n",
    "    \n",
    "    x = x0\n",
    "    inertia = 0\n",
    "    for i in range(num_iters):\n",
    "        inertia = beta * inertia - alpha * gradient(x + beta*inertia)\n",
    "#         x_2 = x + inertia\n",
    "#         x_new = x_2 - alpha*gradient(x_2)\n",
    "        x_new = x + inertia\n",
    "    \n",
    "        if abs(f(x_new) - f(x)) < tol:\n",
    "            result['converged'] = True\n",
    "            break\n",
    "        \n",
    "        x = x_new\n",
    "    \n",
    "    if 'converged' not in result:\n",
    "        result['converged'] = False\n",
    "    result['iter'] = i\n",
    "    result['x'] = x\n",
    "            \n",
    "    return result"
   ]
  },
  {
   "cell_type": "code",
   "execution_count": 12,
   "metadata": {},
   "outputs": [
    {
     "data": {
      "text/plain": [
       "{'converged': True,\n",
       " 'iter': 172,\n",
       " 'x': array([ 1.05179270e-03, -2.69569084e-06])}"
      ]
     },
     "execution_count": 12,
     "metadata": {},
     "output_type": "execute_result"
    }
   ],
   "source": [
    "nesterov(x0, f, gradient, alpha, num_iters, tol, beta=0.9)"
   ]
  },
  {
   "cell_type": "code",
   "execution_count": 33,
   "metadata": {},
   "outputs": [],
   "source": [
    "def adam(x0, f, gradient, alpha, num_iters, tol, beta1, beta2, eps):\n",
    "    result = {}\n",
    "    x = x0\n",
    "    m = 0\n",
    "    v = 0\n",
    "    for i in range(1, num_iters+1):\n",
    "        grad = gradient(x)\n",
    "        m = beta1 * m + (1 - beta1) * grad\n",
    "        v = beta2 * v + (1 - beta2) * grad**2\n",
    "        \n",
    "        m_hat = m / (1 - beta1**i)\n",
    "        v_hat = v / (1 - beta2**i)\n",
    "        \n",
    "        x_new = x - alpha * m_hat / (np.sqrt(v_hat) + eps)\n",
    "        \n",
    "        if abs(f(x_new) - f(x)) < tol:\n",
    "            result['converged'] = True\n",
    "            break\n",
    "        \n",
    "        x = x_new\n",
    "        \n",
    "    if 'converged' not in result:\n",
    "        result['converged'] = False\n",
    "    result['iter'] = i\n",
    "    result['x'] = x\n",
    "            \n",
    "    return result"
   ]
  },
  {
   "cell_type": "code",
   "execution_count": 47,
   "metadata": {},
   "outputs": [
    {
     "data": {
      "text/plain": [
       "{'converged': True, 'iter': 4117, 'x': array([4.11236404e-02, 1.14925986e-09])}"
      ]
     },
     "execution_count": 47,
     "metadata": {},
     "output_type": "execute_result"
    }
   ],
   "source": [
    "adam(x0=x0,\n",
    "     f=f,\n",
    "     gradient=gradient,\n",
    "     alpha=0.5, # u stvarnim primenama bi alpha bilo mnogo manje, npr. 0.001\n",
    "     num_iters=num_iters,\n",
    "     tol=tol,\n",
    "     beta1=0.9,\n",
    "     beta2=0.999,\n",
    "     eps=1e-6)"
   ]
  },
  {
   "cell_type": "code",
   "execution_count": null,
   "metadata": {},
   "outputs": [],
   "source": []
  }
 ],
 "metadata": {
  "kernelspec": {
   "display_name": "Python 3",
   "language": "python",
   "name": "python3"
  },
  "language_info": {
   "codemirror_mode": {
    "name": "ipython",
    "version": 3
   },
   "file_extension": ".py",
   "mimetype": "text/x-python",
   "name": "python",
   "nbconvert_exporter": "python",
   "pygments_lexer": "ipython3",
   "version": "3.7.6"
  }
 },
 "nbformat": 4,
 "nbformat_minor": 4
}
