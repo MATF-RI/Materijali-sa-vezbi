{
 "cells": [
  {
   "cell_type": "code",
   "execution_count": 2,
   "metadata": {},
   "outputs": [],
   "source": [
    "from docplex.mp.model import Model"
   ]
  },
  {
   "cell_type": "code",
   "execution_count": 3,
   "metadata": {},
   "outputs": [],
   "source": [
    "model = Model(name='phones')"
   ]
  },
  {
   "cell_type": "code",
   "execution_count": 4,
   "metadata": {},
   "outputs": [],
   "source": [
    "x = model.continuous_var(lb=100, name='x')"
   ]
  },
  {
   "cell_type": "code",
   "execution_count": 5,
   "metadata": {},
   "outputs": [],
   "source": [
    "y = model.continuous_var(lb=100, name='y')"
   ]
  },
  {
   "cell_type": "code",
   "execution_count": 6,
   "metadata": {},
   "outputs": [
    {
     "data": {
      "text/plain": [
       "docplex.mp.LinearConstraint[](0.400x+0.600y,LE,400)"
      ]
     },
     "execution_count": 6,
     "metadata": {},
     "output_type": "execute_result"
    }
   ],
   "source": [
    "model.add_constraint(0.4*x + 0.6*y <= 400)"
   ]
  },
  {
   "cell_type": "code",
   "execution_count": 7,
   "metadata": {},
   "outputs": [
    {
     "data": {
      "text/plain": [
       "docplex.mp.LinearConstraint[](0.500x+0.400y,LE,490)"
      ]
     },
     "execution_count": 7,
     "metadata": {},
     "output_type": "execute_result"
    }
   ],
   "source": [
    "model.add_constraint(0.5*x + 0.4*y <= 490)"
   ]
  },
  {
   "cell_type": "code",
   "execution_count": 8,
   "metadata": {},
   "outputs": [
    {
     "name": "stdout",
     "output_type": "stream",
     "text": [
      "Model: phones\n",
      " - number of variables: 2\n",
      "   - binary=0, integer=0, continuous=2\n",
      " - number of constraints: 2\n",
      "   - linear=2\n",
      " - parameters: defaults\n",
      " - problem type is: LP\n"
     ]
    }
   ],
   "source": [
    "model.print_information()"
   ]
  },
  {
   "cell_type": "code",
   "execution_count": 9,
   "metadata": {},
   "outputs": [],
   "source": [
    "model.maximize(12 * x + 20 * y)\n",
    "# sum(i for i in range(n))"
   ]
  },
  {
   "cell_type": "code",
   "execution_count": 10,
   "metadata": {},
   "outputs": [
    {
     "data": {
      "text/plain": [
       "docplex.mp.solution.SolveSolution(obj=13200,values={x:100,y:600})"
      ]
     },
     "execution_count": 10,
     "metadata": {},
     "output_type": "execute_result"
    }
   ],
   "source": [
    "model.solve()"
   ]
  },
  {
   "cell_type": "code",
   "execution_count": 11,
   "metadata": {},
   "outputs": [],
   "source": [
    "def read_line_of_ints(f):\n",
    "    return [int(x) for x in f.readline().split()]"
   ]
  },
  {
   "cell_type": "code",
   "execution_count": 12,
   "metadata": {},
   "outputs": [],
   "source": [
    "def read_instance(file_path: str):\n",
    "    with open(file_path, 'r') as f:\n",
    "        m, n = read_line_of_ints(f)\n",
    "        cost = [read_line_of_ints(f) for _ in range(m)]\n",
    "        facility_cost = read_line_of_ints(f)\n",
    "        return cost, facility_cost"
   ]
  },
  {
   "cell_type": "code",
   "execution_count": 13,
   "metadata": {},
   "outputs": [
    {
     "name": "stdout",
     "output_type": "stream",
     "text": [
      "3 3\n"
     ]
    }
   ],
   "source": [
    "cost, facility_cost = read_instance('uflp1.txt')\n",
    "num_users = len(cost)\n",
    "num_facilities = len(facility_cost)\n",
    "print(num_users, num_facilities)"
   ]
  },
  {
   "cell_type": "code",
   "execution_count": null,
   "metadata": {},
   "outputs": [],
   "source": []
  },
  {
   "cell_type": "code",
   "execution_count": 14,
   "metadata": {},
   "outputs": [],
   "source": [
    "model = Model('uflp')"
   ]
  },
  {
   "cell_type": "code",
   "execution_count": 15,
   "metadata": {},
   "outputs": [],
   "source": [
    "x = model.binary_var_matrix(num_users, num_facilities, name='x')"
   ]
  },
  {
   "cell_type": "code",
   "execution_count": 16,
   "metadata": {},
   "outputs": [],
   "source": [
    "y = model.binary_var_list(num_facilities, name='y')"
   ]
  },
  {
   "cell_type": "code",
   "execution_count": 17,
   "metadata": {},
   "outputs": [],
   "source": [
    "for i in range(num_users):\n",
    "    model.add_constraint(sum(x[i,j] for j in range(num_facilities)) == 1)"
   ]
  },
  {
   "cell_type": "code",
   "execution_count": 18,
   "metadata": {},
   "outputs": [],
   "source": [
    "for i in range(num_users):\n",
    "    for j in range(num_facilities):\n",
    "        model.add_constraint(x[i,j] <= y[j])"
   ]
  },
  {
   "cell_type": "code",
   "execution_count": 19,
   "metadata": {},
   "outputs": [
    {
     "name": "stdout",
     "output_type": "stream",
     "text": [
      "Model: uflp\n",
      " - number of variables: 12\n",
      "   - binary=12, integer=0, continuous=0\n",
      " - number of constraints: 12\n",
      "   - linear=12\n",
      " - parameters: defaults\n",
      " - problem type is: MILP\n"
     ]
    }
   ],
   "source": [
    "model.print_information()"
   ]
  },
  {
   "cell_type": "code",
   "execution_count": 20,
   "metadata": {},
   "outputs": [],
   "source": [
    "first_part = sum(y[j] * facility_cost[j] for j in range(num_facilities))\n",
    "second_part = sum(sum(x[i,j] * cost[i][j] for j in range(num_facilities)) for i in range(num_users))\n",
    "model.minimize(first_part + second_part)"
   ]
  },
  {
   "cell_type": "code",
   "execution_count": 21,
   "metadata": {},
   "outputs": [],
   "source": [
    "# model.objective_expr"
   ]
  },
  {
   "cell_type": "code",
   "execution_count": 22,
   "metadata": {},
   "outputs": [],
   "source": [
    "solution = model.solve()"
   ]
  },
  {
   "cell_type": "code",
   "execution_count": 23,
   "metadata": {},
   "outputs": [
    {
     "name": "stdout",
     "output_type": "stream",
     "text": [
      "objective: 34\n",
      "  x_0_0=1\n",
      "  x_1_0=1\n",
      "  x_2_0=1\n",
      "  y_0=1\n"
     ]
    }
   ],
   "source": [
    "model.print_solution()"
   ]
  },
  {
   "cell_type": "code",
   "execution_count": 24,
   "metadata": {},
   "outputs": [
    {
     "name": "stdout",
     "output_type": "stream",
     "text": [
      "solution for: uflp\n",
      "objective: 34\n",
      "x_0_0 = 1\n",
      "x_1_0 = 1\n",
      "x_2_0 = 1\n",
      "y_0 = 1\n"
     ]
    }
   ],
   "source": [
    "solution.display()"
   ]
  },
  {
   "cell_type": "code",
   "execution_count": 25,
   "metadata": {},
   "outputs": [],
   "source": [
    "def read_bk_instance(file_path: str = 'BildeKrarup/B/B1.1'):\n",
    "    with open(file_path, 'r') as f:\n",
    "        f.readline()\n",
    "        num_resources, num_users, _ = read_line_of_ints(f)\n",
    "        cost = [[None for _ in range(num_users)] for _ in range(num_resources)]\n",
    "        facility_cost = [None for _ in range(num_resources)]\n",
    "        for i in range(num_resources):\n",
    "            ints = read_line_of_ints(f)\n",
    "            cost[i] = ints[2:]\n",
    "            facility_cost[i] = ints[1]\n",
    "    return np.array(cost).transpose(), facility_cost"
   ]
  },
  {
   "cell_type": "code",
   "execution_count": 26,
   "metadata": {},
   "outputs": [],
   "source": [
    "import numpy as np"
   ]
  },
  {
   "cell_type": "code",
   "execution_count": 27,
   "metadata": {},
   "outputs": [
    {
     "name": "stdout",
     "output_type": "stream",
     "text": [
      "100 50\n"
     ]
    }
   ],
   "source": [
    "cost, facility_cost = read_bk_instance()\n",
    "num_users = len(cost)\n",
    "num_facilities = len(facility_cost)\n",
    "print(num_users, num_facilities)"
   ]
  },
  {
   "cell_type": "code",
   "execution_count": null,
   "metadata": {},
   "outputs": [],
   "source": []
  },
  {
   "cell_type": "code",
   "execution_count": 61,
   "metadata": {},
   "outputs": [],
   "source": [
    "model = Model('sscflp')"
   ]
  },
  {
   "cell_type": "code",
   "execution_count": 62,
   "metadata": {},
   "outputs": [],
   "source": [
    "x = model.binary_var_matrix(num_users, num_facilities, name='x')"
   ]
  },
  {
   "cell_type": "code",
   "execution_count": 63,
   "metadata": {},
   "outputs": [],
   "source": [
    "y = model.binary_var_list(num_facilities, name='y')"
   ]
  },
  {
   "cell_type": "code",
   "execution_count": 64,
   "metadata": {},
   "outputs": [],
   "source": [
    "for i in range(num_users):\n",
    "    model.add_constraint(sum(x[i,j] for j in range(num_facilities)) == 1)"
   ]
  },
  {
   "cell_type": "code",
   "execution_count": 65,
   "metadata": {},
   "outputs": [],
   "source": [
    "demand = [1 for i in range(num_users)]\n",
    "capacity = [num_users for _ in range(num_facilities)]"
   ]
  },
  {
   "cell_type": "code",
   "execution_count": 66,
   "metadata": {},
   "outputs": [],
   "source": [
    "for j in range(num_facilities):\n",
    "    model.add_constraint(sum(x[i,j]*demand[i] for i in range(num_users)) <= capacity[j]*y[j])"
   ]
  },
  {
   "cell_type": "code",
   "execution_count": 67,
   "metadata": {},
   "outputs": [],
   "source": [
    "first_part = sum(y[j] * facility_cost[j] for j in range(num_facilities))\n",
    "second_part = sum(sum(x[i,j] * cost[i][j] for j in range(num_facilities)) for i in range(num_users))\n",
    "model.minimize(first_part + second_part)"
   ]
  },
  {
   "cell_type": "code",
   "execution_count": 68,
   "metadata": {},
   "outputs": [
    {
     "name": "stdout",
     "output_type": "stream",
     "text": [
      "Model: sscflp\n",
      " - number of variables: 5050\n",
      "   - binary=5050, integer=0, continuous=0\n",
      " - number of constraints: 150\n",
      "   - linear=150\n",
      " - parameters: defaults\n",
      " - problem type is: MILP\n"
     ]
    }
   ],
   "source": [
    "model.print_information()"
   ]
  },
  {
   "cell_type": "code",
   "execution_count": 69,
   "metadata": {},
   "outputs": [],
   "source": [
    "solution = model.solve()"
   ]
  },
  {
   "cell_type": "code",
   "execution_count": 70,
   "metadata": {},
   "outputs": [
    {
     "data": {
      "text/plain": [
       "False"
      ]
     },
     "execution_count": 70,
     "metadata": {},
     "output_type": "execute_result"
    }
   ],
   "source": [
    "solution is None"
   ]
  },
  {
   "cell_type": "code",
   "execution_count": 71,
   "metadata": {},
   "outputs": [
    {
     "name": "stdout",
     "output_type": "stream",
     "text": [
      "objective: 23468\n",
      "  x_0_13=1\n",
      "  x_1_13=1\n",
      "  x_2_43=1\n",
      "  x_3_32=1\n",
      "  x_4_13=1\n",
      "  x_5_43=1\n",
      "  x_6_14=1\n",
      "  x_7_14=1\n",
      "  x_8_13=1\n",
      "  x_9_13=1\n",
      "  x_10_10=1\n",
      "  x_11_32=1\n",
      "  x_12_10=1\n",
      "  x_13_10=1\n",
      "  x_14_43=1\n",
      "  x_15_43=1\n",
      "  x_16_43=1\n",
      "  x_17_14=1\n",
      "  x_18_14=1\n",
      "  x_19_13=1\n",
      "  x_20_43=1\n",
      "  x_21_43=1\n",
      "  x_22_10=1\n",
      "  x_23_13=1\n",
      "  x_24_32=1\n",
      "  x_25_43=1\n",
      "  x_26_43=1\n",
      "  x_27_43=1\n",
      "  x_28_43=1\n",
      "  x_29_43=1\n",
      "  x_30_13=1\n",
      "  x_31_13=1\n",
      "  x_32_14=1\n",
      "  x_33_14=1\n",
      "  x_34_14=1\n",
      "  x_35_32=1\n",
      "  x_36_32=1\n",
      "  x_37_32=1\n",
      "  x_38_14=1\n",
      "  x_39_10=1\n",
      "  x_40_10=1\n",
      "  x_41_13=1\n",
      "  x_42_43=1\n",
      "  x_43_10=1\n",
      "  x_44_43=1\n",
      "  x_45_13=1\n",
      "  x_46_32=1\n",
      "  x_47_14=1\n",
      "  x_48_32=1\n",
      "  x_49_10=1\n",
      "  x_50_32=1\n",
      "  x_51_10=1\n",
      "  x_52_13=1\n",
      "  x_53_32=1\n",
      "  x_54_13=1\n",
      "  x_55_14=1\n",
      "  x_56_32=1\n",
      "  x_57_43=1\n",
      "  x_58_14=1\n",
      "  x_59_13=1\n",
      "  x_60_10=1\n",
      "  x_61_32=1\n",
      "  x_62_14=1\n",
      "  x_63_10=1\n",
      "  x_64_43=1\n",
      "  x_65_10=1\n",
      "  x_66_13=1\n",
      "  x_67_10=1\n",
      "  x_68_10=1\n",
      "  x_69_43=1\n",
      "  x_70_32=1\n",
      "  x_71_13=1\n",
      "  x_72_10=1\n",
      "  x_73_10=1\n",
      "  x_74_13=1\n",
      "  x_75_32=1\n",
      "  x_76_14=1\n",
      "  x_77_14=1\n",
      "  x_78_10=1\n",
      "  x_79_43=1\n",
      "  x_80_10=1\n",
      "  x_81_14=1\n",
      "  x_82_10=1\n",
      "  x_83_13=1\n",
      "  x_84_14=1\n",
      "  x_85_10=1\n",
      "  x_86_43=1\n",
      "  x_87_14=1\n",
      "  x_88_13=1\n",
      "  x_89_32=1\n",
      "  x_90_32=1\n",
      "  x_91_10=1\n",
      "  x_92_13=1\n",
      "  x_93_14=1\n",
      "  x_94_32=1\n",
      "  x_95_43=1\n",
      "  x_96_14=1\n",
      "  x_97_43=1\n",
      "  x_98_32=1\n",
      "  x_99_43=1\n",
      "  y_10=1\n",
      "  y_13=1\n",
      "  y_14=1\n",
      "  y_32=1\n",
      "  y_43=1\n"
     ]
    }
   ],
   "source": [
    "model.print_solution()"
   ]
  },
  {
   "cell_type": "code",
   "execution_count": 82,
   "metadata": {},
   "outputs": [],
   "source": [
    "model = Model('mscflp')"
   ]
  },
  {
   "cell_type": "code",
   "execution_count": 83,
   "metadata": {},
   "outputs": [],
   "source": [
    "x = model.continuous_var_matrix(num_users, num_facilities, name='x')"
   ]
  },
  {
   "cell_type": "code",
   "execution_count": 84,
   "metadata": {},
   "outputs": [],
   "source": [
    "y = model.binary_var_list(num_facilities, name='y')"
   ]
  },
  {
   "cell_type": "code",
   "execution_count": 85,
   "metadata": {},
   "outputs": [],
   "source": [
    "for i in range(num_users):\n",
    "    model.add_constraint(sum(x[i,j] for j in range(num_facilities)) == 1)"
   ]
  },
  {
   "cell_type": "code",
   "execution_count": 86,
   "metadata": {},
   "outputs": [],
   "source": [
    "demand = [1 for i in range(num_users)]\n",
    "capacity = [num_users for _ in range(num_facilities)]"
   ]
  },
  {
   "cell_type": "code",
   "execution_count": 87,
   "metadata": {},
   "outputs": [],
   "source": [
    "for j in range(num_facilities):\n",
    "    model.add_constraint(sum(x[i,j]*demand[i] for i in range(num_users)) <= capacity[j]*y[j])"
   ]
  },
  {
   "cell_type": "code",
   "execution_count": 88,
   "metadata": {},
   "outputs": [],
   "source": [
    "first_part = sum(y[j] * facility_cost[j] for j in range(num_facilities))\n",
    "second_part = sum(sum(x[i,j] * cost[i][j] for j in range(num_facilities)) for i in range(num_users))\n",
    "model.minimize(first_part + second_part)"
   ]
  },
  {
   "cell_type": "code",
   "execution_count": 89,
   "metadata": {},
   "outputs": [
    {
     "name": "stdout",
     "output_type": "stream",
     "text": [
      "Model: mscflp\n",
      " - number of variables: 5050\n",
      "   - binary=50, integer=0, continuous=5000\n",
      " - number of constraints: 150\n",
      "   - linear=150\n",
      " - parameters: defaults\n",
      " - problem type is: MILP\n"
     ]
    }
   ],
   "source": [
    "model.print_information()"
   ]
  },
  {
   "cell_type": "code",
   "execution_count": 90,
   "metadata": {},
   "outputs": [],
   "source": [
    "solution = model.solve()"
   ]
  },
  {
   "cell_type": "code",
   "execution_count": 91,
   "metadata": {},
   "outputs": [
    {
     "data": {
      "text/plain": [
       "False"
      ]
     },
     "execution_count": 91,
     "metadata": {},
     "output_type": "execute_result"
    }
   ],
   "source": [
    "solution is None"
   ]
  },
  {
   "cell_type": "code",
   "execution_count": 92,
   "metadata": {},
   "outputs": [
    {
     "name": "stdout",
     "output_type": "stream",
     "text": [
      "objective: 23468.000\n",
      "  x_0_13=1.000\n",
      "  x_1_13=1.000\n",
      "  x_2_43=1.000\n",
      "  x_3_32=1.000\n",
      "  x_4_13=1.000\n",
      "  x_5_43=1.000\n",
      "  x_6_14=1.000\n",
      "  x_7_14=1.000\n",
      "  x_8_13=1.000\n",
      "  x_9_13=1.000\n",
      "  x_10_10=1.000\n",
      "  x_11_32=1.000\n",
      "  x_12_10=1.000\n",
      "  x_13_10=1.000\n",
      "  x_14_43=1.000\n",
      "  x_15_43=1.000\n",
      "  x_16_43=1.000\n",
      "  x_17_14=1.000\n",
      "  x_18_14=1.000\n",
      "  x_19_13=1.000\n",
      "  x_20_43=1.000\n",
      "  x_21_43=1.000\n",
      "  x_22_10=1.000\n",
      "  x_23_13=1.000\n",
      "  x_24_32=1.000\n",
      "  x_25_43=1.000\n",
      "  x_26_43=1.000\n",
      "  x_27_43=1.000\n",
      "  x_28_43=1.000\n",
      "  x_29_43=1.000\n",
      "  x_30_13=1.000\n",
      "  x_31_13=1.000\n",
      "  x_32_14=1.000\n",
      "  x_33_14=1.000\n",
      "  x_34_14=1.000\n",
      "  x_35_32=1.000\n",
      "  x_36_32=1.000\n",
      "  x_37_32=1.000\n",
      "  x_38_14=1.000\n",
      "  x_39_10=1.000\n",
      "  x_40_10=1.000\n",
      "  x_41_13=1.000\n",
      "  x_42_43=1.000\n",
      "  x_43_10=1.000\n",
      "  x_44_43=1.000\n",
      "  x_45_13=1.000\n",
      "  x_46_32=1.000\n",
      "  x_47_14=1.000\n",
      "  x_48_32=1.000\n",
      "  x_49_10=1.000\n",
      "  x_50_32=1.000\n",
      "  x_51_10=1.000\n",
      "  x_52_13=1.000\n",
      "  x_53_32=1.000\n",
      "  x_54_13=1.000\n",
      "  x_55_14=1.000\n",
      "  x_56_32=1.000\n",
      "  x_57_43=1.000\n",
      "  x_58_14=1.000\n",
      "  x_59_13=1.000\n",
      "  x_60_10=1.000\n",
      "  x_61_32=1.000\n",
      "  x_62_14=1.000\n",
      "  x_63_10=1.000\n",
      "  x_64_43=1.000\n",
      "  x_65_10=1.000\n",
      "  x_66_13=1.000\n",
      "  x_67_10=1.000\n",
      "  x_68_10=1.000\n",
      "  x_69_43=1.000\n",
      "  x_70_32=1.000\n",
      "  x_71_13=1.000\n",
      "  x_72_10=1.000\n",
      "  x_73_10=1.000\n",
      "  x_74_13=1.000\n",
      "  x_75_32=1.000\n",
      "  x_76_14=1.000\n",
      "  x_77_14=1.000\n",
      "  x_78_10=1.000\n",
      "  x_79_43=1.000\n",
      "  x_80_10=1.000\n",
      "  x_81_14=1.000\n",
      "  x_82_10=1.000\n",
      "  x_83_13=1.000\n",
      "  x_84_14=1.000\n",
      "  x_85_10=1.000\n",
      "  x_86_43=1.000\n",
      "  x_87_14=1.000\n",
      "  x_88_13=1.000\n",
      "  x_89_32=1.000\n",
      "  x_90_32=1.000\n",
      "  x_91_10=1.000\n",
      "  x_92_13=1.000\n",
      "  x_93_14=1.000\n",
      "  x_94_32=1.000\n",
      "  x_95_43=1.000\n",
      "  x_96_14=1.000\n",
      "  x_97_43=1.000\n",
      "  x_98_32=1.000\n",
      "  x_99_43=1.000\n",
      "  y_10=1\n",
      "  y_13=1\n",
      "  y_14=1\n",
      "  y_32=1\n",
      "  y_43=1\n"
     ]
    }
   ],
   "source": [
    "model.print_solution()"
   ]
  },
  {
   "cell_type": "code",
   "execution_count": null,
   "metadata": {},
   "outputs": [],
   "source": []
  },
  {
   "cell_type": "code",
   "execution_count": 93,
   "metadata": {},
   "outputs": [],
   "source": [
    "from scipy import optimize as opt"
   ]
  },
  {
   "cell_type": "code",
   "execution_count": 94,
   "metadata": {},
   "outputs": [
    {
     "data": {
      "text/plain": [
       "     con: array([], dtype=float64)\n",
       "     fun: 1.1899886551486421e-10\n",
       " message: 'Optimization terminated successfully.'\n",
       "     nit: 4\n",
       "   slack: array([12.,  5.])\n",
       "  status: 0\n",
       " success: True\n",
       "       x: array([1.12682747e-11, 2.12985103e-11])"
      ]
     },
     "execution_count": 94,
     "metadata": {},
     "output_type": "execute_result"
    }
   ],
   "source": [
    "c = np.array([3,4])\n",
    "A_ub = np.array([[5, 0],\n",
    "                 [-2, -3]])\n",
    "b_ub = np.array([12, 5])\n",
    "\n",
    "opt.linprog(c, A_ub, b_ub)"
   ]
  },
  {
   "cell_type": "code",
   "execution_count": null,
   "metadata": {},
   "outputs": [],
   "source": [
    "# opt.minimize()"
   ]
  }
 ],
 "metadata": {
  "kernelspec": {
   "display_name": "Python 3",
   "language": "python",
   "name": "python3"
  },
  "language_info": {
   "codemirror_mode": {
    "name": "ipython",
    "version": 3
   },
   "file_extension": ".py",
   "mimetype": "text/x-python",
   "name": "python",
   "nbconvert_exporter": "python",
   "pygments_lexer": "ipython3",
   "version": "3.7.6"
  }
 },
 "nbformat": 4,
 "nbformat_minor": 4
}
