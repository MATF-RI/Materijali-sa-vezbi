{
 "cells": [
  {
   "cell_type": "code",
   "execution_count": 1,
   "metadata": {},
   "outputs": [],
   "source": [
    "from typing import List\n",
    "import random"
   ]
  },
  {
   "cell_type": "code",
   "execution_count": 2,
   "metadata": {},
   "outputs": [],
   "source": [
    "def is_feasible(solution: List[bool]):\n",
    "    return any(solution)"
   ]
  },
  {
   "cell_type": "code",
   "execution_count": 47,
   "metadata": {},
   "outputs": [],
   "source": [
    "def calc_solution_value(\n",
    "    solution: List[bool],\n",
    "    cost: List[List[int]],\n",
    "    facility_cost: List[int],\n",
    ") -> int:\n",
    "    \n",
    "    if not is_feasible(solution):\n",
    "        return float('inf') # moze suma svih cost i facility_cost\n",
    "    \n",
    "    value = 0\n",
    "    for i, s in enumerate(solution):\n",
    "        if s:\n",
    "            value += facility_cost[i]\n",
    "            \n",
    "    for i in range(len(cost)):\n",
    "        min_cost = float('inf')\n",
    "        for j in range(len(cost[i])):\n",
    "            if solution[j] and cost[i][j] < min_cost:\n",
    "                min_cost = cost[i][j]\n",
    "        value += min_cost\n",
    "    \n",
    "    return value"
   ]
  },
  {
   "cell_type": "code",
   "execution_count": 53,
   "metadata": {},
   "outputs": [],
   "source": [
    "def local_search_invert_first_improvement(\n",
    "    solution: List[bool],\n",
    "    value: int,\n",
    "    cost: List[List[int]],\n",
    "    facility_cost: List[int],\n",
    "):\n",
    "    new_solution = deepcopy(solution)\n",
    "    improved = True\n",
    "    while improved:\n",
    "        improved = False\n",
    "        unbiased_order = list(range(len(solution)))\n",
    "        random.shuffle(unbiased_order)\n",
    "        for i in unbiased_order:\n",
    "            new_solution[i] = not new_solution[i]\n",
    "            new_value = calc_solution_value(new_solution, cost, facility_cost)\n",
    "            if new_value < value:\n",
    "                value = new_value\n",
    "                improved = True\n",
    "                break\n",
    "            else:\n",
    "                new_solution[i] = not new_solution[i]\n",
    "    return new_solution, value"
   ]
  },
  {
   "cell_type": "code",
   "execution_count": 5,
   "metadata": {},
   "outputs": [],
   "source": [
    "def local_search_invert_best_improvement(\n",
    "    solution: List[bool],\n",
    "    value: int,\n",
    "    cost: List[List[int]],\n",
    "    facility_cost: List[int],\n",
    "):\n",
    "    improved = True\n",
    "    while improved:\n",
    "        improved = False\n",
    "        best_i = None\n",
    "        best_value = value\n",
    "        for i in range(len(solution)):\n",
    "            solution[i] = not solution[i]\n",
    "            new_value = calc_solution_value(solution, cost, facility_cost)\n",
    "            if new_value < best_value:\n",
    "                best_value = new_value\n",
    "                improved = True\n",
    "                best_i = i\n",
    "            solution[i] = not solution[i]\n",
    "        if improved:\n",
    "            solution[best_i] = not solution[best_i]\n",
    "            print(solution)\n",
    "            value = best_value\n",
    "    return solution, value"
   ]
  },
  {
   "cell_type": "code",
   "execution_count": 6,
   "metadata": {},
   "outputs": [],
   "source": [
    "# TODO LS swap"
   ]
  },
  {
   "cell_type": "code",
   "execution_count": 7,
   "metadata": {},
   "outputs": [],
   "source": [
    "def read_line_of_ints(f):\n",
    "    return [int(x) for x in f.readline().split()]"
   ]
  },
  {
   "cell_type": "code",
   "execution_count": 8,
   "metadata": {},
   "outputs": [],
   "source": [
    "def read_instance(file_path: str):\n",
    "    with open(file_path, 'r') as f:\n",
    "        m, n = read_line_of_ints(f)\n",
    "        cost = [read_line_of_ints(f) for _ in range(m)]\n",
    "        facility_cost = read_line_of_ints(f)\n",
    "        return cost, facility_cost"
   ]
  },
  {
   "cell_type": "code",
   "execution_count": 10,
   "metadata": {},
   "outputs": [],
   "source": [
    "cost, facility_cost = read_instance('03/uflp1.txt')"
   ]
  },
  {
   "cell_type": "code",
   "execution_count": 11,
   "metadata": {},
   "outputs": [
    {
     "data": {
      "text/plain": [
       "[[1, 12, 3], [2, 7, 41], [19, 21, 7]]"
      ]
     },
     "execution_count": 11,
     "metadata": {},
     "output_type": "execute_result"
    }
   ],
   "source": [
    "cost"
   ]
  },
  {
   "cell_type": "code",
   "execution_count": 12,
   "metadata": {},
   "outputs": [
    {
     "data": {
      "text/plain": [
       "[12, 11, 13]"
      ]
     },
     "execution_count": 12,
     "metadata": {},
     "output_type": "execute_result"
    }
   ],
   "source": [
    "facility_cost"
   ]
  },
  {
   "cell_type": "code",
   "execution_count": 13,
   "metadata": {},
   "outputs": [],
   "source": [
    "def initialize(num_facilities):\n",
    "    return [random.random() < 0.25 for _ in range(num_facilities)]"
   ]
  },
  {
   "cell_type": "code",
   "execution_count": 14,
   "metadata": {},
   "outputs": [
    {
     "name": "stdout",
     "output_type": "stream",
     "text": [
      "[False, False, False]\n",
      "inf\n",
      "[True, False, False]\n"
     ]
    },
    {
     "data": {
      "text/plain": [
       "([True, False, False], 34)"
      ]
     },
     "execution_count": 14,
     "metadata": {},
     "output_type": "execute_result"
    }
   ],
   "source": [
    "solution = initialize(len(facility_cost))\n",
    "value = calc_solution_value(solution, cost, facility_cost)\n",
    "print(solution)\n",
    "print(value)\n",
    "local_search_invert_best_improvement(solution, value, cost, facility_cost)"
   ]
  },
  {
   "cell_type": "code",
   "execution_count": 17,
   "metadata": {},
   "outputs": [],
   "source": [
    "from copy import deepcopy"
   ]
  },
  {
   "cell_type": "code",
   "execution_count": 19,
   "metadata": {},
   "outputs": [],
   "source": [
    "def make_small_change(solution: List[bool]):\n",
    "    new_solution = deepcopy(solution)\n",
    "    random_idx = random.randrange(len(solution))\n",
    "    new_solution[random_idx] = not new_solution[random_idx]\n",
    "    return new_solution"
   ]
  },
  {
   "cell_type": "code",
   "execution_count": 30,
   "metadata": {},
   "outputs": [],
   "source": [
    "from matplotlib import pyplot as plt"
   ]
  },
  {
   "cell_type": "code",
   "execution_count": 33,
   "metadata": {},
   "outputs": [],
   "source": [
    "def simulated_annealing(cost, facility_cost, num_iters):\n",
    "    solution = initialize(len(facility_cost))\n",
    "    value = calc_solution_value(solution, cost, facility_cost)\n",
    "    best_solution = deepcopy(solution)\n",
    "    best_value = value\n",
    "    \n",
    "    values = [None for _ in range(num_iters)]\n",
    "    for i in range(1, num_iters + 1):\n",
    "        new_solution = make_small_change(solution)\n",
    "        new_value = calc_solution_value(new_solution, cost, facility_cost)\n",
    "        \n",
    "        if new_value < value:\n",
    "            value = new_value\n",
    "            solution = deepcopy(new_solution)\n",
    "            if new_value < best_value:\n",
    "                best_value = new_value\n",
    "                best_solution = deepcopy(new_solution)\n",
    "        else:\n",
    "            if random.random() < 1 / i:\n",
    "                value = new_value\n",
    "                solution = deepcopy(new_solution)\n",
    "        \n",
    "        values[i - 1] = value\n",
    "        \n",
    "    plt.plot(range(num_iters), values)\n",
    "    return best_solution, best_value"
   ]
  },
  {
   "cell_type": "code",
   "execution_count": 34,
   "metadata": {},
   "outputs": [
    {
     "data": {
      "text/plain": [
       "([True, False, False], 34)"
      ]
     },
     "execution_count": 34,
     "metadata": {},
     "output_type": "execute_result"
    },
    {
     "data": {
      "image/png": "[encoded data removed]",
      "text/plain": [
       "<Figure size 432x288 with 1 Axes>"
      ]
     },
     "metadata": {
      "needs_background": "light"
     },
     "output_type": "display_data"
    }
   ],
   "source": [
    "simulated_annealing(cost, facility_cost, num_iters=10)"
   ]
  },
  {
   "cell_type": "code",
   "execution_count": 35,
   "metadata": {},
   "outputs": [],
   "source": [
    "def shaking(solution, k):\n",
    "    new_solution = deepcopy(solution)\n",
    "    chosen_indices = random.sample(range(len(solution)), k)\n",
    "    for idx in chosen_indices:\n",
    "        new_solution[idx] = not new_solution[idx]\n",
    "    return new_solution"
   ]
  },
  {
   "cell_type": "code",
   "execution_count": 36,
   "metadata": {},
   "outputs": [],
   "source": [
    "from time import perf_counter"
   ]
  },
  {
   "cell_type": "code",
   "execution_count": 64,
   "metadata": {},
   "outputs": [],
   "source": [
    "def vns(cost: List[List[int]], facility_cost: List[int], vns_params: dict):\n",
    "    start_time = perf_counter()\n",
    "    solution = initialize(len(facility_cost))\n",
    "    value = calc_solution_value(solution, cost, facility_cost)\n",
    "    while perf_counter() - start_time < vns_params['time_limit']:\n",
    "        for k in range(vns_params['k_min'], vns_params['k_max']):\n",
    "            new_solution = shaking(solution, k) # diverzifikacija\n",
    "            new_value = calc_solution_value(new_solution, cost, facility_cost)\n",
    "            new_solution, new_value = local_search_invert_first_improvement(\n",
    "                new_solution,\n",
    "                new_value,\n",
    "                cost,\n",
    "                facility_cost\n",
    "            ) # intenzifikacija\n",
    "#             print(new_solution)\n",
    "            if new_value < value or (new_value == value and random.random() < vns_params['move_prob']):\n",
    "                value = new_value\n",
    "                solution = deepcopy(new_solution)\n",
    "#             print(solution)\n",
    "    return solution, value"
   ]
  },
  {
   "cell_type": "code",
   "execution_count": 65,
   "metadata": {},
   "outputs": [
    {
     "data": {
      "text/plain": [
       "([True, False, False], 34)"
      ]
     },
     "execution_count": 65,
     "metadata": {},
     "output_type": "execute_result"
    }
   ],
   "source": [
    "vns_params = {\n",
    "    'time_limit': 2,\n",
    "    'k_min': 1,\n",
    "    'k_max': 2,\n",
    "    'move_prob': 0.5,\n",
    "}\n",
    "vns(cost, facility_cost, vns_params)"
   ]
  },
  {
   "cell_type": "code",
   "execution_count": 73,
   "metadata": {},
   "outputs": [],
   "source": [
    "def read_bk_instance(file_path: str = 'BildeKrarup/B/B1.1'):\n",
    "    with open(file_path, 'r') as f:\n",
    "        f.readline()\n",
    "        num_resources, num_users, _ = read_line_of_ints(f)\n",
    "        cost = [[None for _ in range(num_users)] for _ in range(num_resources)]\n",
    "        facility_cost = [None for _ in range(num_resources)]\n",
    "        for i in range(num_resources):\n",
    "            ints = read_line_of_ints(f)\n",
    "            cost[i] = ints[2:]\n",
    "            facility_cost[i] = ints[1]\n",
    "    return np.array(cost).transpose(), facility_cost"
   ]
  },
  {
   "cell_type": "code",
   "execution_count": 74,
   "metadata": {},
   "outputs": [],
   "source": [
    "cost, facility_cost = read_bk_instance()"
   ]
  },
  {
   "cell_type": "code",
   "execution_count": 77,
   "metadata": {},
   "outputs": [],
   "source": [
    "import numpy as np"
   ]
  },
  {
   "cell_type": "code",
   "execution_count": 81,
   "metadata": {},
   "outputs": [
    {
     "data": {
      "text/plain": [
       "([False,\n",
       "  False,\n",
       "  False,\n",
       "  False,\n",
       "  False,\n",
       "  False,\n",
       "  False,\n",
       "  False,\n",
       "  False,\n",
       "  False,\n",
       "  True,\n",
       "  False,\n",
       "  False,\n",
       "  True,\n",
       "  True,\n",
       "  False,\n",
       "  False,\n",
       "  False,\n",
       "  False,\n",
       "  False,\n",
       "  False,\n",
       "  False,\n",
       "  False,\n",
       "  False,\n",
       "  False,\n",
       "  False,\n",
       "  False,\n",
       "  False,\n",
       "  False,\n",
       "  False,\n",
       "  False,\n",
       "  False,\n",
       "  True,\n",
       "  False,\n",
       "  False,\n",
       "  False,\n",
       "  False,\n",
       "  False,\n",
       "  False,\n",
       "  False,\n",
       "  False,\n",
       "  False,\n",
       "  False,\n",
       "  True,\n",
       "  False,\n",
       "  False,\n",
       "  False,\n",
       "  False,\n",
       "  False,\n",
       "  False],\n",
       " 23468)"
      ]
     },
     "execution_count": 81,
     "metadata": {},
     "output_type": "execute_result"
    }
   ],
   "source": [
    "vns(cost, facility_cost, vns_params)"
   ]
  },
  {
   "cell_type": "code",
   "execution_count": 83,
   "metadata": {},
   "outputs": [
    {
     "data": {
      "text/plain": [
       "([False,\n",
       "  False,\n",
       "  False,\n",
       "  False,\n",
       "  False,\n",
       "  False,\n",
       "  False,\n",
       "  False,\n",
       "  False,\n",
       "  False,\n",
       "  True,\n",
       "  False,\n",
       "  False,\n",
       "  True,\n",
       "  False,\n",
       "  False,\n",
       "  False,\n",
       "  False,\n",
       "  False,\n",
       "  False,\n",
       "  False,\n",
       "  False,\n",
       "  False,\n",
       "  False,\n",
       "  False,\n",
       "  True,\n",
       "  False,\n",
       "  False,\n",
       "  False,\n",
       "  False,\n",
       "  False,\n",
       "  True,\n",
       "  False,\n",
       "  False,\n",
       "  False,\n",
       "  False,\n",
       "  False,\n",
       "  False,\n",
       "  False,\n",
       "  False,\n",
       "  False,\n",
       "  False,\n",
       "  False,\n",
       "  True,\n",
       "  False,\n",
       "  False,\n",
       "  False,\n",
       "  False,\n",
       "  False,\n",
       "  False],\n",
       " 23932)"
      ]
     },
     "execution_count": 83,
     "metadata": {},
     "output_type": "execute_result"
    },
    {
     "data": {
      "image/png": "[encoded data removed]",
      "text/plain": [
       "<Figure size 432x288 with 1 Axes>"
      ]
     },
     "metadata": {
      "needs_background": "light"
     },
     "output_type": "display_data"
    }
   ],
   "source": [
    "simulated_annealing(cost, facility_cost, num_iters=1000)"
   ]
  },
  {
   "cell_type": "code",
   "execution_count": null,
   "metadata": {},
   "outputs": [],
   "source": []
  }
 ],
 "metadata": {
  "kernelspec": {
   "display_name": "Python 3",
   "language": "python",
   "name": "python3"
  },
  "language_info": {
   "codemirror_mode": {
    "name": "ipython",
    "version": 3
   },
   "file_extension": ".py",
   "mimetype": "text/x-python",
   "name": "python",
   "nbconvert_exporter": "python",
   "pygments_lexer": "ipython3",
   "version": "3.7.6"
  }
 },
 "nbformat": 4,
 "nbformat_minor": 4
}
