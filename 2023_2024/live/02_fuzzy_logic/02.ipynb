{
 "cells": [
  {
   "cell_type": "code",
   "execution_count": 1,
   "metadata": {},
   "outputs": [],
   "source": [
    "class FuzzyInput:\n",
    "    def __init__(self, name, xs, ys, x0):\n",
    "        self.name = name\n",
    "        self.xs = xs\n",
    "        self.ys = ys\n",
    "        self.mu = self.calcMu(x0)\n",
    "        \n",
    "    def calcMu(self, x0):\n",
    "        if x0 < self.xs[0]:\n",
    "            return self.ys[0]\n",
    "        elif x0 > self.xs[-1]:\n",
    "            return self.ys[-1]\n",
    "        \n",
    "        for i, (x1, x2) in enumerate(zip(self.xs[:-1], self.xs[1:])):\n",
    "            if x0 >= x1 and x0 < x2:\n",
    "                return FuzzyInput.line_through_two_points(x1, self.ys[i], x2, self.ys[i+1])(x0)\n",
    "    \n",
    "    @staticmethod\n",
    "    def line_through_two_points(x1, y1, x2, y2):\n",
    "        return lambda x: y1 + (y2 - y1)/(x2 - x1) * (x - x1)"
   ]
  },
  {
   "cell_type": "code",
   "execution_count": 2,
   "metadata": {},
   "outputs": [],
   "source": [
    "class FuzzyOutput:\n",
    "    def __init__(self, name, xs, ys):\n",
    "        self.name = name\n",
    "        self.xs = xs\n",
    "        self.ys = ys\n",
    "        self.mu = 0\n",
    "        cs = [x for x, y in zip(xs, ys) if y == 1]\n",
    "        self.c = sum(cs) / len(cs)"
   ]
  },
  {
   "cell_type": "code",
   "execution_count": 5,
   "metadata": {},
   "outputs": [],
   "source": [
    "import enum\n",
    "\n",
    "class LogicOperator(enum.Enum):\n",
    "    AND = enum.auto()\n",
    "    OR = enum.auto()"
   ]
  },
  {
   "cell_type": "code",
   "execution_count": 17,
   "metadata": {},
   "outputs": [],
   "source": [
    "class Rule:\n",
    "    def __init__(\n",
    "        self,\n",
    "        operand1: FuzzyInput,\n",
    "        operand2: FuzzyInput,\n",
    "        output: FuzzyOutput,\n",
    "        operator: LogicOperator\n",
    "    ):\n",
    "        \n",
    "        if operator == LogicOperator.AND:\n",
    "            output.mu = max(output.mu, min(operand1.mu, operand2.mu))\n",
    "        elif operator == LogicOperator.OR:\n",
    "            output.mu = max(output.mu, max(operand1.mu, operand2.mu))"
   ]
  },
  {
   "cell_type": "code",
   "execution_count": 18,
   "metadata": {},
   "outputs": [],
   "source": [
    "potrosnja = []\n",
    "potrosnja.append(FuzzyInput('mala', [3,10],[1,0],9))\n",
    "potrosnja.append(FuzzyInput('srednja', [7,10,12,15],[0,1,1,0],9))\n",
    "potrosnja.append(FuzzyInput('velika', [12,15],[0,1],9))\n",
    "\n",
    "pouzdanost = []\n",
    "pouzdanost.append(FuzzyInput('visoka', [5,10],[1,0], 8))\n",
    "pouzdanost.append(FuzzyInput('niska', [8,15],[0,1], 8))\n",
    "\n",
    "vrednost = []\n",
    "vrednost.append(FuzzyOutput('mala', [7,15],[1,0]))\n",
    "vrednost.append(FuzzyOutput('srednja', [7,15,25,40],[0,1,1,0]))\n",
    "vrednost.append(FuzzyOutput('velika', [25,40],[0,1]))\n",
    "\n",
    "rules = []\n",
    "rules.append(Rule(potrosnja[0], pouzdanost[0], vrednost[2], LogicOperator.AND))\n",
    "rules.append(Rule(potrosnja[0], pouzdanost[1], vrednost[1], LogicOperator.AND))\n",
    "rules.append(Rule(potrosnja[1], pouzdanost[0], vrednost[1], LogicOperator.AND))\n",
    "rules.append(Rule(potrosnja[1], pouzdanost[1], vrednost[1], LogicOperator.AND))\n",
    "rules.append(Rule(potrosnja[2], pouzdanost[0], vrednost[1], LogicOperator.AND))\n",
    "rules.append(Rule(potrosnja[2], pouzdanost[1], vrednost[0], LogicOperator.AND))"
   ]
  },
  {
   "cell_type": "code",
   "execution_count": 19,
   "metadata": {},
   "outputs": [
    {
     "name": "stdout",
     "output_type": "stream",
     "text": [
      "0\n",
      "0.3999999999999999\n",
      "0.1428571428571429\n"
     ]
    }
   ],
   "source": [
    "for i in range(len(vrednost)):\n",
    "    print(vrednost[i].mu)"
   ]
  },
  {
   "cell_type": "code",
   "execution_count": 22,
   "metadata": {},
   "outputs": [],
   "source": [
    "import numpy as np"
   ]
  },
  {
   "cell_type": "code",
   "execution_count": 23,
   "metadata": {},
   "outputs": [],
   "source": [
    "def defuzzify():\n",
    "    cs = np.array([v.c for v in vrednost])\n",
    "    mus = np.array([v.mu for v in vrednost])\n",
    "    \n",
    "    return cs.dot(mus) / mus.sum()"
   ]
  },
  {
   "cell_type": "code",
   "execution_count": 24,
   "metadata": {},
   "outputs": [
    {
     "data": {
      "text/plain": [
       "25.263157894736846"
      ]
     },
     "execution_count": 24,
     "metadata": {},
     "output_type": "execute_result"
    }
   ],
   "source": [
    "defuzzify()"
   ]
  },
  {
   "cell_type": "code",
   "execution_count": null,
   "metadata": {},
   "outputs": [],
   "source": []
  }
 ],
 "metadata": {
  "kernelspec": {
   "display_name": "Python 3",
   "language": "python",
   "name": "python3"
  },
  "language_info": {
   "codemirror_mode": {
    "name": "ipython",
    "version": 3
   },
   "file_extension": ".py",
   "mimetype": "text/x-python",
   "name": "python",
   "nbconvert_exporter": "python",
   "pygments_lexer": "ipython3",
   "version": "3.7.6"
  }
 },
 "nbformat": 4,
 "nbformat_minor": 4
}
