{
 "cells": [
  {
   "cell_type": "code",
   "execution_count": 1,
   "metadata": {},
   "outputs": [],
   "source": [
    "# genetsko programiranje"
   ]
  },
  {
   "cell_type": "code",
   "execution_count": 2,
   "metadata": {},
   "outputs": [
    {
     "data": {
      "text/plain": [
       "'total = 0\\nfor i in range(n):\\n    if i % 2 == 0:\\n        total += i'"
      ]
     },
     "execution_count": 2,
     "metadata": {},
     "output_type": "execute_result"
    }
   ],
   "source": [
    "'''total = 0\n",
    "for i in range(n):\n",
    "    if i % 2 == 0:\n",
    "        total += i'''"
   ]
  },
  {
   "cell_type": "code",
   "execution_count": 2,
   "metadata": {},
   "outputs": [],
   "source": [
    "import random"
   ]
  },
  {
   "cell_type": "code",
   "execution_count": 3,
   "metadata": {},
   "outputs": [
    {
     "data": {
      "text/plain": [
       "3"
      ]
     },
     "execution_count": 3,
     "metadata": {},
     "output_type": "execute_result"
    }
   ],
   "source": [
    "eval('1+2')"
   ]
  },
  {
   "cell_type": "code",
   "execution_count": 43,
   "metadata": {},
   "outputs": [],
   "source": [
    "class Individual:\n",
    "    def __init__(self, goal, num_operators, num_operands):\n",
    "        self.code = []\n",
    "        self.num_operators = num_operators\n",
    "        self.num_operands = num_operands\n",
    "        for i in range(num_operators):\n",
    "            self.code.append(self.random_operator())\n",
    "        for i in range(num_operands):\n",
    "            self.code.append(self.random_terminal(x=5))\n",
    "        \n",
    "        self.goal = goal\n",
    "        self.fitness = self.calc_fitness()\n",
    "        \n",
    "    def random_operator(self):\n",
    "        return random.choice(['+', '-', '*']) # TODO parni operandi nenula ako je '/'\n",
    "    \n",
    "    def random_terminal(self, x=5):\n",
    "#         TODO biraj iz multiskupa datih brojeva - slagalica\n",
    "        return random.randrange(-x, x)\n",
    "\n",
    "    def __str__(self):\n",
    "        return f'({self.code[3]} {self.code[1]} {self.code[4]}) {self.code[0]} ({self.code[5]} {self.code[2]} {self.code[6]})'\n",
    "\n",
    "    def calc_fitness(self):\n",
    "        return -abs(eval(str(self)) - self.goal)"
   ]
  },
  {
   "cell_type": "code",
   "execution_count": 44,
   "metadata": {},
   "outputs": [
    {
     "name": "stdout",
     "output_type": "stream",
     "text": [
      "(-2 * -5) * (4 - -5)\n",
      "-10\n"
     ]
    }
   ],
   "source": [
    "i = Individual(100, 3, 4)\n",
    "print(i)\n",
    "print(i.fitness)"
   ]
  },
  {
   "cell_type": "code",
   "execution_count": 45,
   "metadata": {},
   "outputs": [],
   "source": [
    "def selection(population, tournament_size):\n",
    "#     TODO roulette and rang roulette\n",
    "    chosen = random.sample(population, tournament_size)\n",
    "    return max(chosen, key=lambda x: x.fitness)"
   ]
  },
  {
   "cell_type": "code",
   "execution_count": 46,
   "metadata": {},
   "outputs": [],
   "source": [
    "def mutation(child, prob):\n",
    "#     menjamo samo jedan cvor\n",
    "    for i in range(len(child.code)):\n",
    "        if random.random() < prob:\n",
    "            if i < child.num_operators:\n",
    "                child.code[i] = child.random_operator()\n",
    "            else:\n",
    "                child.code[i] = child.random_terminal()"
   ]
  },
  {
   "cell_type": "code",
   "execution_count": 47,
   "metadata": {},
   "outputs": [],
   "source": [
    "def get_subtree(node_idx, subtree, n):\n",
    "    if node_idx < n:\n",
    "        subtree.add(node_idx)\n",
    "        get_subtree(2 * node_idx + 1, subtree, n)\n",
    "        get_subtree(2 * node_idx + 2, subtree, n)"
   ]
  },
  {
   "cell_type": "code",
   "execution_count": 48,
   "metadata": {},
   "outputs": [
    {
     "data": {
      "text/plain": [
       "{2, 5, 6, 11, 12, 13, 14}"
      ]
     },
     "execution_count": 48,
     "metadata": {},
     "output_type": "execute_result"
    }
   ],
   "source": [
    "s = set()\n",
    "get_subtree(2, s,15)\n",
    "s"
   ]
  },
  {
   "cell_type": "code",
   "execution_count": 62,
   "metadata": {},
   "outputs": [],
   "source": [
    "def crossover(parent1, parent2, child1, child2):\n",
    "    n = len(parent1.code)\n",
    "    random_node = random.randrange(1, n)\n",
    "    subtree = set()\n",
    "    get_subtree(random_node, subtree, n)\n",
    "    \n",
    "    for i in range(n):\n",
    "        if i in subtree:\n",
    "            child1.code[i] = parent2.code[i]\n",
    "            child2.code[i] = parent1.code[i]\n",
    "        else:\n",
    "            child1.code[i] = parent1.code[i]\n",
    "            child2.code[i] = parent2.code[i]"
   ]
  },
  {
   "cell_type": "code",
   "execution_count": 66,
   "metadata": {},
   "outputs": [],
   "source": [
    "def gp(population_size, num_generations, elitism_size, tournament_size, mutation_prob):\n",
    "\n",
    "    population = [Individual(num_operators=3, num_operands=4, goal=100) for _ in range(population_size)]\n",
    "    new_population = population.copy()\n",
    "\n",
    "    for i in range(num_generations):\n",
    "        population.sort(key=lambda x: x.fitness, reverse=True)\n",
    "        new_population[:elitism_size] = population[:elitism_size]\n",
    "        for j in range(elitism_size, population_size, 2):\n",
    "            parent1 = selection(population, tournament_size)\n",
    "            parent2 = selection(population, tournament_size) # TODO razlikuju se\n",
    "\n",
    "            crossover(parent1, parent2, child1=new_population[j], child2=new_population[j+1])\n",
    "\n",
    "            mutation(new_population[j], mutation_prob)\n",
    "            mutation(new_population[j+1], mutation_prob)\n",
    "\n",
    "            new_population[j].fitness = new_population[j].calc_fitness()\n",
    "            new_population[j+1].fitness = new_population[j+1].calc_fitness()\n",
    "\n",
    "        population = new_population.copy()\n",
    "    return max(population, key=lambda x: x.fitness)"
   ]
  },
  {
   "cell_type": "code",
   "execution_count": 70,
   "metadata": {},
   "outputs": [
    {
     "name": "stdout",
     "output_type": "stream",
     "text": [
      "(-5 * -4) * (1 - -4)\n",
      "0\n"
     ]
    }
   ],
   "source": [
    "s = gp(100, 100, 20, 7, 0.1)\n",
    "print(s)\n",
    "print(s.fitness)"
   ]
  },
  {
   "cell_type": "code",
   "execution_count": null,
   "metadata": {},
   "outputs": [],
   "source": []
  },
  {
   "cell_type": "code",
   "execution_count": null,
   "metadata": {},
   "outputs": [],
   "source": []
  }
 ],
 "metadata": {
  "kernelspec": {
   "display_name": "Python 3",
   "language": "python",
   "name": "python3"
  },
  "language_info": {
   "codemirror_mode": {
    "name": "ipython",
    "version": 3
   },
   "file_extension": ".py",
   "mimetype": "text/x-python",
   "name": "python",
   "nbconvert_exporter": "python",
   "pygments_lexer": "ipython3",
   "version": "3.7.6"
  }
 },
 "nbformat": 4,
 "nbformat_minor": 4
}
