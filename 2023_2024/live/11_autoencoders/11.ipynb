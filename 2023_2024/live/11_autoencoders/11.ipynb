{
  "nbformat": 4,
  "nbformat_minor": 0,
  "metadata": {
    "colab": {
      "provenance": [],
      "gpuType": "T4"
    },
    "kernelspec": {
      "name": "python3",
      "display_name": "Python 3"
    },
    "language_info": {
      "name": "python"
    },
    "accelerator": "GPU"
  },
  "cells": [
    {
      "cell_type": "code",
      "execution_count": 13,
      "metadata": {
        "id": "pgpGz3ZY7Fk8"
      },
      "outputs": [],
      "source": [
        "import torch\n",
        "from torch import nn\n",
        "from torchvision import datasets, transforms"
      ]
    },
    {
      "cell_type": "code",
      "source": [
        "class Autoencoder(nn.Module):\n",
        "    def __init__(self):\n",
        "        super().__init__()\n",
        "\n",
        "        self.encoder = nn.Sequential(\n",
        "            nn.Flatten(),\n",
        "            nn.Linear(28*28, 64),\n",
        "            nn.ReLU(),\n",
        "            nn.Linear(64, 10),\n",
        "            nn.ReLU()\n",
        "        )\n",
        "        self.decoder = nn.Sequential(\n",
        "            nn.Linear(10, 63),\n",
        "            nn.ReLU(),\n",
        "            nn.Linear(63, 28*28),\n",
        "            nn.Sigmoid()\n",
        "        )\n",
        "\n",
        "    def forward(self, x):\n",
        "        code = self.encoder(x)\n",
        "        return self.decoder(code)"
      ],
      "metadata": {
        "id": "-bPsHKBhWrfU"
      },
      "execution_count": 14,
      "outputs": []
    },
    {
      "cell_type": "code",
      "source": [
        "class ConvAutoencoder(nn.Module):\n",
        "    def __init__(self):\n",
        "        super().__init__()\n",
        "\n",
        "        self.encoder = nn.Sequential(\n",
        "            nn.Conv2d(1, 32, 3),\n",
        "            nn.ReLU(),\n",
        "            nn.Conv2d(32, 64, 3),\n",
        "            nn.ReLU()\n",
        "        )\n",
        "        self.decoder = nn.Sequential(\n",
        "            nn.ConvTranspose2d(64, 32, 3),\n",
        "            nn.ReLU(),\n",
        "            nn.ConvTranspose2d(32, 1, 3),\n",
        "            nn.Sigmoid()\n",
        "        )\n",
        "\n",
        "    def forward(self, x):\n",
        "        # print(x.shape)\n",
        "        code = self.encoder(x)\n",
        "        # print(code.shape)\n",
        "        return self.decoder(code)"
      ],
      "metadata": {
        "id": "obUOfa8MdAP-"
      },
      "execution_count": 36,
      "outputs": []
    },
    {
      "cell_type": "code",
      "source": [
        "train_dataset = datasets.MNIST(root='./data', train=True, download=True, transform=transforms.ToTensor())\n",
        "test_dataset = datasets.MNIST(root='./data', train=False, download=True, transform=transforms.ToTensor())"
      ],
      "metadata": {
        "id": "i7AfXemwXSiP"
      },
      "execution_count": 37,
      "outputs": []
    },
    {
      "cell_type": "code",
      "source": [
        "from torch.utils.data import DataLoader\n",
        "from torch import optim"
      ],
      "metadata": {
        "id": "RFEoRxUdXV63"
      },
      "execution_count": 38,
      "outputs": []
    },
    {
      "cell_type": "code",
      "source": [
        "train_loader = DataLoader(train_dataset, batch_size=128)\n",
        "test_loader = DataLoader(test_dataset, batch_size=128)"
      ],
      "metadata": {
        "id": "FLJXza2TXpfT"
      },
      "execution_count": 39,
      "outputs": []
    },
    {
      "cell_type": "code",
      "source": [
        "device = 'cuda'\n",
        "# model = Autoencoder().to(device)\n",
        "model = ConvAutoencoder().to(device)\n",
        "loss_fn = nn.MSELoss()\n",
        "optimizer = optim.Adam(model.parameters(), lr=0.01)\n",
        "# optimizer = optim.SGD(model.parameters(), lr=1e-3)"
      ],
      "metadata": {
        "id": "ihPV1uORYSyp"
      },
      "execution_count": 40,
      "outputs": []
    },
    {
      "cell_type": "code",
      "source": [
        "count = 0\n",
        "for param in model.parameters():\n",
        "    count += param.numel()\n",
        "print(count)"
      ],
      "metadata": {
        "colab": {
          "base_uri": "https://localhost:8080/"
        },
        "id": "Bo1Y2_RX5uRX",
        "outputId": "4811ec08-a8ca-4e0a-a8bb-57b58a77fa0a"
      },
      "execution_count": 41,
      "outputs": [
        {
          "output_type": "stream",
          "name": "stdout",
          "text": [
            "37569\n"
          ]
        }
      ]
    },
    {
      "cell_type": "code",
      "source": [
        "def train_loop(model, loader, loss_fn, optimizer, device):\n",
        "    model.train()\n",
        "    total_loss = 0\n",
        "    for X, _ in loader:\n",
        "        X = X.to(device)\n",
        "        reconstructed = model(X)\n",
        "        # loss = loss_fn(reconstructed, X.reshape(X.shape[0], -1))\n",
        "        loss = loss_fn(reconstructed, X)\n",
        "        loss.backward()\n",
        "        total_loss += loss.item()\n",
        "\n",
        "        optimizer.step()\n",
        "        optimizer.zero_grad()\n",
        "    print(total_loss / len(loader))"
      ],
      "metadata": {
        "id": "_MrU5z1JYkpL"
      },
      "execution_count": 42,
      "outputs": []
    },
    {
      "cell_type": "code",
      "source": [
        "def test_loop(model, loader, loss_fn, device):\n",
        "    model.eval()\n",
        "    with torch.no_grad():\n",
        "        total_loss = 0\n",
        "        for X, _ in loader:\n",
        "            X = X.to(device)\n",
        "            reconstructed = model(X)\n",
        "            # loss = loss_fn(reconstructed, X.reshape(X.shape[0], -1))\n",
        "            loss = loss_fn(reconstructed, X)\n",
        "            total_loss += loss.item()\n",
        "        print(total_loss / len(loader))"
      ],
      "metadata": {
        "id": "qARjf6EiZW9W"
      },
      "execution_count": 43,
      "outputs": []
    },
    {
      "cell_type": "code",
      "source": [
        "for epoch in range(10):\n",
        "    train_loop(model, train_loader, loss_fn, optimizer, device)\n",
        "    test_loop(model, test_loader, loss_fn, device)"
      ],
      "metadata": {
        "colab": {
          "base_uri": "https://localhost:8080/"
        },
        "id": "pWZq9N_MX025",
        "outputId": "ec3ee441-3a76-41a3-ae8a-8b978894f043"
      },
      "execution_count": 44,
      "outputs": [
        {
          "output_type": "stream",
          "name": "stdout",
          "text": [
            "0.0015719444801632404\n",
            "0.00022184063055658641\n",
            "7.668720972006902e-05\n",
            "4.474595242512966e-05\n",
            "4.677808308514204e-05\n",
            "2.6713990924299304e-05\n",
            "3.2886679256024e-05\n",
            "7.848035537894179e-05\n",
            "0.0002890859814331572\n",
            "6.025836184470549e-05\n",
            "4.948164133820062e-05\n",
            "0.00012202628015443282\n",
            "3.6517994176043616e-05\n",
            "3.1968407757297345e-05\n",
            "2.9410115900872793e-05\n",
            "0.0001934554718532069\n",
            "2.747228786468194e-05\n",
            "3.571078393835268e-05\n",
            "2.5155838952712672e-05\n",
            "0.00016398226626400094\n"
          ]
        }
      ]
    },
    {
      "cell_type": "code",
      "source": [
        "model.eval()\n",
        "X, _ = test_dataset[0]\n",
        "encoded = model.encoder(X.to(device).view(1, 1, 28, 28))\n",
        "encoded"
      ],
      "metadata": {
        "colab": {
          "base_uri": "https://localhost:8080/"
        },
        "id": "IyvjSwafZ75B",
        "outputId": "ac929488-ddb6-4fef-ba30-f76c78a2f81f"
      },
      "execution_count": 45,
      "outputs": [
        {
          "output_type": "execute_result",
          "data": {
            "text/plain": [
              "tensor([[[[0.2473, 0.2473, 0.2473,  ..., 0.2473, 0.2473, 0.2473],\n",
              "          [0.2473, 0.2473, 0.2473,  ..., 0.2473, 0.2473, 0.2473],\n",
              "          [0.2473, 0.2473, 0.2473,  ..., 0.2473, 0.2473, 0.2473],\n",
              "          ...,\n",
              "          [0.2473, 0.2473, 0.2473,  ..., 0.2473, 0.2473, 0.2473],\n",
              "          [0.2473, 0.2473, 0.2473,  ..., 0.2473, 0.2473, 0.2473],\n",
              "          [0.2473, 0.2473, 0.2473,  ..., 0.2473, 0.2473, 0.2473]],\n",
              "\n",
              "         [[0.0000, 0.0000, 0.0000,  ..., 0.0000, 0.0000, 0.0000],\n",
              "          [0.0000, 0.0000, 0.0000,  ..., 0.0000, 0.0000, 0.0000],\n",
              "          [0.0000, 0.0000, 0.0000,  ..., 0.0000, 0.0000, 0.0000],\n",
              "          ...,\n",
              "          [0.0000, 0.0000, 0.0000,  ..., 0.0000, 0.0000, 0.0000],\n",
              "          [0.0000, 0.0000, 0.0000,  ..., 0.0000, 0.0000, 0.0000],\n",
              "          [0.0000, 0.0000, 0.0000,  ..., 0.0000, 0.0000, 0.0000]],\n",
              "\n",
              "         [[0.0000, 0.0000, 0.0000,  ..., 0.0000, 0.0000, 0.0000],\n",
              "          [0.0000, 0.0000, 0.0000,  ..., 0.0000, 0.0000, 0.0000],\n",
              "          [0.0000, 0.0000, 0.0000,  ..., 0.0000, 0.0000, 0.0000],\n",
              "          ...,\n",
              "          [0.0000, 0.0000, 0.0000,  ..., 0.0000, 0.0000, 0.0000],\n",
              "          [0.0000, 0.0000, 0.0000,  ..., 0.0000, 0.0000, 0.0000],\n",
              "          [0.0000, 0.0000, 0.0000,  ..., 0.0000, 0.0000, 0.0000]],\n",
              "\n",
              "         ...,\n",
              "\n",
              "         [[0.0000, 0.0000, 0.0000,  ..., 0.0000, 0.0000, 0.0000],\n",
              "          [0.0000, 0.0000, 0.0000,  ..., 0.0000, 0.0000, 0.0000],\n",
              "          [0.0000, 0.0000, 0.0000,  ..., 0.0000, 0.0000, 0.0000],\n",
              "          ...,\n",
              "          [0.0000, 0.0000, 0.0000,  ..., 0.0000, 0.0000, 0.0000],\n",
              "          [0.0000, 0.0000, 0.0000,  ..., 0.0000, 0.0000, 0.0000],\n",
              "          [0.0000, 0.0000, 0.0000,  ..., 0.0000, 0.0000, 0.0000]],\n",
              "\n",
              "         [[0.3492, 0.3492, 0.3492,  ..., 0.3492, 0.3492, 0.3492],\n",
              "          [0.3492, 0.3492, 0.3492,  ..., 0.3492, 0.3492, 0.3492],\n",
              "          [0.3492, 0.3492, 0.3492,  ..., 0.3492, 0.3492, 0.3492],\n",
              "          ...,\n",
              "          [0.3492, 0.3492, 0.3492,  ..., 0.3492, 0.3492, 0.3492],\n",
              "          [0.3492, 0.3492, 0.3492,  ..., 0.3492, 0.3492, 0.3492],\n",
              "          [0.3492, 0.3492, 0.3492,  ..., 0.3492, 0.3492, 0.3492]],\n",
              "\n",
              "         [[0.4178, 0.4178, 0.4178,  ..., 0.4178, 0.4178, 0.4178],\n",
              "          [0.4178, 0.4178, 0.4178,  ..., 0.4178, 0.4178, 0.4178],\n",
              "          [0.4178, 0.4178, 0.4178,  ..., 0.4178, 0.4178, 0.4178],\n",
              "          ...,\n",
              "          [0.4178, 0.4178, 0.4178,  ..., 0.4178, 0.4178, 0.4178],\n",
              "          [0.4178, 0.4178, 0.4178,  ..., 0.4178, 0.4178, 0.4178],\n",
              "          [0.4178, 0.4178, 0.4178,  ..., 0.4178, 0.4178, 0.4178]]]],\n",
              "       device='cuda:0', grad_fn=<ReluBackward0>)"
            ]
          },
          "metadata": {},
          "execution_count": 45
        }
      ]
    },
    {
      "cell_type": "code",
      "source": [
        "# new_random = encoded + torch.randn(encoded.shape())\n",
        "# new_random"
      ],
      "metadata": {
        "id": "vLVvy8EPcXTf"
      },
      "execution_count": 46,
      "outputs": []
    },
    {
      "cell_type": "code",
      "source": [
        "decoded = model.decoder(encoded)\n",
        "# decoded = model.decoder(new_random)"
      ],
      "metadata": {
        "id": "Lw4KoiJlbmOy"
      },
      "execution_count": 47,
      "outputs": []
    },
    {
      "cell_type": "code",
      "source": [
        "from matplotlib import pyplot as plt"
      ],
      "metadata": {
        "id": "Fjm5C7oAbwtV"
      },
      "execution_count": 48,
      "outputs": []
    },
    {
      "cell_type": "code",
      "source": [
        "plt.imshow(decoded.reshape(28,28).cpu().detach().numpy(), cmap='gray')"
      ],
      "metadata": {
        "colab": {
          "base_uri": "https://localhost:8080/",
          "height": 447
        },
        "id": "XjA1eCtObze4",
        "outputId": "28f817aa-1910-430d-ae57-ecf62f24aa3a"
      },
      "execution_count": 49,
      "outputs": [
        {
          "output_type": "execute_result",
          "data": {
            "text/plain": [
              "<matplotlib.image.AxesImage at 0x784d90cf6440>"
            ]
          },
          "metadata": {},
          "execution_count": 49
        },
        {
          "output_type": "display_data",
          "data": {
            "text/plain": [
              "<Figure size 640x480 with 1 Axes>"
            ],
            "image/png": "[encoded data removed]"
          },
          "metadata": {}
        }
      ]
    },
    {
      "cell_type": "code",
      "source": [
        "plt.imshow(X.reshape(28,28), cmap='gray')"
      ],
      "metadata": {
        "colab": {
          "base_uri": "https://localhost:8080/",
          "height": 447
        },
        "id": "1_1oztcWb31B",
        "outputId": "7dd4a283-196d-45c6-c7cd-28c744de28b0"
      },
      "execution_count": 50,
      "outputs": [
        {
          "output_type": "execute_result",
          "data": {
            "text/plain": [
              "<matplotlib.image.AxesImage at 0x784d9045ff10>"
            ]
          },
          "metadata": {},
          "execution_count": 50
        },
        {
          "output_type": "display_data",
          "data": {
            "text/plain": [
              "<Figure size 640x480 with 1 Axes>"
            ],
            "image/png": "[encoded data removed]"
          },
          "metadata": {}
        }
      ]
    },
    {
      "cell_type": "code",
      "source": [],
      "metadata": {
        "id": "zLdufBGTcIJR"
      },
      "execution_count": null,
      "outputs": []
    }
  ]
}