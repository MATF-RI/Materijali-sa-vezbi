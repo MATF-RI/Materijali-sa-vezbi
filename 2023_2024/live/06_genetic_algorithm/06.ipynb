{
 "cells": [
  {
   "cell_type": "code",
   "execution_count": 1,
   "metadata": {},
   "outputs": [],
   "source": [
    "import random"
   ]
  },
  {
   "cell_type": "code",
   "execution_count": 2,
   "metadata": {},
   "outputs": [],
   "source": [
    "def is_feasible(solution):\n",
    "    return any(solution)"
   ]
  },
  {
   "cell_type": "code",
   "execution_count": 3,
   "metadata": {},
   "outputs": [],
   "source": [
    "class Individual:\n",
    "    def __init__(self, cost, facility_cost):\n",
    "        num_resources = len(facility_cost)\n",
    "        self.code = [random.random() < 0.5 for _ in range(num_resources)]\n",
    "        self.fitness = self.calc_fitness(facility_cost, cost)\n",
    "        \n",
    "    def calc_fitness(self, facility_cost, cost):\n",
    "        if not is_feasible(self.code):\n",
    "            return float('-inf') # moze suma svih cost i facility_cost\n",
    "\n",
    "        value = 0\n",
    "        for i, s in enumerate(self.code):\n",
    "            if s:\n",
    "                value += facility_cost[i]\n",
    "\n",
    "        for i in range(len(cost)):\n",
    "            min_cost = float('inf')\n",
    "            for j in range(len(cost[i])):\n",
    "                if self.code[j] and cost[i][j] < min_cost:\n",
    "                    min_cost = cost[i][j]\n",
    "            value += min_cost\n",
    "\n",
    "        return -value"
   ]
  },
  {
   "cell_type": "code",
   "execution_count": 4,
   "metadata": {},
   "outputs": [],
   "source": [
    "def selection(population, tournament_size):\n",
    "#     TODO roulette and rang roulette\n",
    "    chosen = random.sample(population, tournament_size)\n",
    "    return max(chosen, key=lambda x: x.fitness)"
   ]
  },
  {
   "cell_type": "code",
   "execution_count": 5,
   "metadata": {},
   "outputs": [],
   "source": [
    "def crossover(parent1, parent2, child1, child2):\n",
    "    random_pos = random.randrange(0, len(parent1.code))\n",
    "    \n",
    "    child1.code[:random_pos] = parent1.code[:random_pos]\n",
    "    child1.code[random_pos:] = parent2.code[random_pos:]\n",
    "    \n",
    "    child2.code[:random_pos] = parent2.code[:random_pos]\n",
    "    child2.code[random_pos:] = parent1.code[random_pos:]"
   ]
  },
  {
   "cell_type": "code",
   "execution_count": 6,
   "metadata": {},
   "outputs": [],
   "source": [
    "def mutation(individual, mutation_prob):\n",
    "    for i in range(len(individual.code)):\n",
    "        if random.random() < mutation_prob:\n",
    "            individual.code[i] = not individual.code[i]"
   ]
  },
  {
   "cell_type": "code",
   "execution_count": 19,
   "metadata": {},
   "outputs": [],
   "source": [
    "def ga(cost, facility_cost, population_size, num_generations, tournament_size, elitism_size, mutation_prob):\n",
    "    population = [Individual(cost, facility_cost) for _ in range(population_size)]\n",
    "    new_population = population.copy()\n",
    "    \n",
    "#     dva nacina za neponavljanje roditelja - za domaci dodati u selection\n",
    "#     xs = [1,2,3,4,5]\n",
    "#     p1 = random.choice(xs)\n",
    "# #     p2 = random.choice(xs.difference({p1}))\n",
    "#     while True:\n",
    "#         p2 = random.choice(xs)\n",
    "#         if p1 != p2:\n",
    "#             break\n",
    "    \n",
    "    for i in range(num_generations):\n",
    "        population.sort(key=lambda x: x.fitness, reverse=True)\n",
    "        new_population[:elitism_size] = population[:elitism_size]\n",
    "        for j in range(elitism_size, population_size, 2):\n",
    "            parent1 = selection(population, tournament_size)\n",
    "            parent2 = selection(population, tournament_size) # TODO razlikuju se\n",
    "            \n",
    "            crossover(parent1, parent2, child1=new_population[j], child2=new_population[j+1])\n",
    "\n",
    "            mutation(new_population[j], mutation_prob)\n",
    "            mutation(new_population[j+1], mutation_prob)\n",
    "            \n",
    "            new_population[j].fitness = new_population[j].calc_fitness(facility_cost, cost)\n",
    "            new_population[j+1].fitness = new_population[j+1].calc_fitness(facility_cost, cost)\n",
    "        \n",
    "        population = new_population.copy()\n",
    "    return max(population, key=lambda x: x.fitness)"
   ]
  },
  {
   "cell_type": "code",
   "execution_count": 20,
   "metadata": {},
   "outputs": [],
   "source": [
    "def read_line_of_ints(f):\n",
    "    return [int(x) for x in f.readline().split()]"
   ]
  },
  {
   "cell_type": "code",
   "execution_count": 21,
   "metadata": {},
   "outputs": [],
   "source": [
    "def read_instance(file_path: str):\n",
    "    with open(file_path, 'r') as f:\n",
    "        m, n = read_line_of_ints(f)\n",
    "        cost = [read_line_of_ints(f) for _ in range(m)]\n",
    "        facility_cost = read_line_of_ints(f)\n",
    "        return cost, facility_cost"
   ]
  },
  {
   "cell_type": "code",
   "execution_count": 22,
   "metadata": {},
   "outputs": [],
   "source": [
    "cost, facility_cost = read_instance('uflp1.txt')"
   ]
  },
  {
   "cell_type": "code",
   "execution_count": 23,
   "metadata": {},
   "outputs": [],
   "source": [
    "best_individual = ga(\n",
    "    cost=cost,\n",
    "    facility_cost=facility_cost,\n",
    "    population_size=100,\n",
    "    num_generations=10,\n",
    "    tournament_size=7,\n",
    "    elitism_size=10,\n",
    "    mutation_prob=0.05,\n",
    "  )"
   ]
  },
  {
   "cell_type": "code",
   "execution_count": 24,
   "metadata": {},
   "outputs": [
    {
     "data": {
      "text/plain": [
       "[True, False, False]"
      ]
     },
     "execution_count": 24,
     "metadata": {},
     "output_type": "execute_result"
    }
   ],
   "source": [
    "best_individual.code"
   ]
  },
  {
   "cell_type": "code",
   "execution_count": 25,
   "metadata": {},
   "outputs": [
    {
     "data": {
      "text/plain": [
       "-34"
      ]
     },
     "execution_count": 25,
     "metadata": {},
     "output_type": "execute_result"
    }
   ],
   "source": [
    "best_individual.fitness"
   ]
  },
  {
   "cell_type": "code",
   "execution_count": 26,
   "metadata": {},
   "outputs": [],
   "source": [
    "import numpy as np"
   ]
  },
  {
   "cell_type": "code",
   "execution_count": 27,
   "metadata": {},
   "outputs": [],
   "source": [
    "def read_bk_instance(file_path: str = 'BildeKrarup/B/B1.1'):\n",
    "    with open(file_path, 'r') as f:\n",
    "        f.readline()\n",
    "        num_resources, num_users, _ = read_line_of_ints(f)\n",
    "        cost = [[None for _ in range(num_users)] for _ in range(num_resources)]\n",
    "        facility_cost = [None for _ in range(num_resources)]\n",
    "        for i in range(num_resources):\n",
    "            ints = read_line_of_ints(f)\n",
    "            cost[i] = ints[2:]\n",
    "            facility_cost[i] = ints[1]\n",
    "    return np.array(cost).transpose(), facility_cost"
   ]
  },
  {
   "cell_type": "code",
   "execution_count": 28,
   "metadata": {},
   "outputs": [],
   "source": [
    "cost, facility_cost = read_bk_instance()"
   ]
  },
  {
   "cell_type": "code",
   "execution_count": 32,
   "metadata": {},
   "outputs": [],
   "source": [
    "best_individual = ga(\n",
    "    cost=cost,\n",
    "    facility_cost=facility_cost,\n",
    "    population_size=100,\n",
    "    num_generations=100,\n",
    "    tournament_size=7,\n",
    "    elitism_size=10,\n",
    "    mutation_prob=0.05,\n",
    "  )"
   ]
  },
  {
   "cell_type": "code",
   "execution_count": 33,
   "metadata": {},
   "outputs": [
    {
     "data": {
      "text/plain": [
       "-24922"
      ]
     },
     "execution_count": 33,
     "metadata": {},
     "output_type": "execute_result"
    }
   ],
   "source": [
    "best_individual.fitness"
   ]
  },
  {
   "cell_type": "code",
   "execution_count": null,
   "metadata": {},
   "outputs": [],
   "source": []
  },
  {
   "cell_type": "code",
   "execution_count": null,
   "metadata": {},
   "outputs": [],
   "source": []
  }
 ],
 "metadata": {
  "kernelspec": {
   "display_name": "Python 3",
   "language": "python",
   "name": "python3"
  },
  "language_info": {
   "codemirror_mode": {
    "name": "ipython",
    "version": 3
   },
   "file_extension": ".py",
   "mimetype": "text/x-python",
   "name": "python",
   "nbconvert_exporter": "python",
   "pygments_lexer": "ipython3",
   "version": "3.7.6"
  }
 },
 "nbformat": 4,
 "nbformat_minor": 4
}
