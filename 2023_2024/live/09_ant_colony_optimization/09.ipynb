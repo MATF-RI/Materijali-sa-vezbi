{
 "cells": [
  {
   "cell_type": "code",
   "execution_count": 1,
   "metadata": {},
   "outputs": [],
   "source": [
    "# ACO - ant colony optimization"
   ]
  },
  {
   "cell_type": "code",
   "execution_count": 1,
   "metadata": {},
   "outputs": [],
   "source": [
    "import networkx as nx\n",
    "import math"
   ]
  },
  {
   "cell_type": "code",
   "execution_count": 2,
   "metadata": {},
   "outputs": [],
   "source": [
    "def euclid_distance(u_x: float,\n",
    "                    u_y: float,\n",
    "                    v_x: float,\n",
    "                    v_y: float) -> float:\n",
    "    return math.sqrt((u_x - v_x)**2 + (u_y - v_y)**2)"
   ]
  },
  {
   "cell_type": "code",
   "execution_count": 3,
   "metadata": {},
   "outputs": [],
   "source": [
    "def read_instance(file_path: str) -> nx.Graph:\n",
    "    with open(file_path, 'r') as f:\n",
    "        g = nx.Graph()\n",
    "        for line in f:\n",
    "            if line[0].isdigit():\n",
    "                node_id, x, y = [float(a) for a in line.split()]\n",
    "                g.add_node(int(node_id) - 1, x=x, y=y)\n",
    "        \n",
    "        for u in range(len(g.nodes)):\n",
    "            for v in range(u + 1, len(g.nodes)):\n",
    "                weight = euclid_distance(g.nodes[u]['x'],\n",
    "                                        g.nodes[u]['y'],\n",
    "                                        g.nodes[v]['x'],\n",
    "                                        g.nodes[v]['y'])\n",
    "                g.add_edge(u, v,\n",
    "                           weight=weight,\n",
    "                           pheromones=0.1)\n",
    "#                            pheromones=random.uniform(1e-3, 1e-2))\n",
    "        \n",
    "        return g"
   ]
  },
  {
   "cell_type": "code",
   "execution_count": 20,
   "metadata": {},
   "outputs": [],
   "source": [
    "g = read_instance(file_path='dj38.tsp')"
   ]
  },
  {
   "cell_type": "code",
   "execution_count": 21,
   "metadata": {},
   "outputs": [
    {
     "data": {
      "text/plain": [
       "AtlasView({1: {'weight': 290.99301545433866, 'pheromones': 0.1}, 2: {'weight': 794.0018312710164, 'pheromones': 0.1}, 3: {'weight': 628.7062892741252, 'pheromones': 0.1}, 4: {'weight': 850.0494347752532, 'pheromones': 0.1}, 5: {'weight': 806.3010169484456, 'pheromones': 0.1}, 6: {'weight': 881.9759098638978, 'pheromones': 0.1}, 7: {'weight': 972.873183452112, 'pheromones': 0.1}, 8: {'weight': 991.2811948915838, 'pheromones': 0.1}, 9: {'weight': 437.07375847296123, 'pheromones': 0.1}, 10: {'weight': 1237.9197337359349, 'pheromones': 0.1}, 11: {'weight': 1186.9678817276742, 'pheromones': 0.1}, 12: {'weight': 903.3931728506114, 'pheromones': 0.1}, 13: {'weight': 507.7926916725464, 'pheromones': 0.1}, 14: {'weight': 903.1807647058093, 'pheromones': 0.1}, 15: {'weight': 1178.8418412907574, 'pheromones': 0.1}, 16: {'weight': 1197.2193112261596, 'pheromones': 0.1}, 17: {'weight': 1201.2191072966534, 'pheromones': 0.1}, 18: {'weight': 1205.3779366004712, 'pheromones': 0.1}, 19: {'weight': 901.7446864102617, 'pheromones': 0.1}, 20: {'weight': 760.410092131903, 'pheromones': 0.1}, 21: {'weight': 1032.2892417783694, 'pheromones': 0.1}, 22: {'weight': 943.2215951621602, 'pheromones': 0.1}, 23: {'weight': 1105.6400293858078, 'pheromones': 0.1}, 24: {'weight': 998.6000054737141, 'pheromones': 0.1}, 25: {'weight': 1011.2552138704898, 'pheromones': 0.1}, 26: {'weight': 1527.0919609740627, 'pheromones': 0.1}, 27: {'weight': 1338.9847283010597, 'pheromones': 0.1}, 28: {'weight': 1058.8192781887758, 'pheromones': 0.1}, 29: {'weight': 1205.6363263392866, 'pheromones': 0.1}, 30: {'weight': 1793.625572849654, 'pheromones': 0.1}, 31: {'weight': 1337.936789400792, 'pheromones': 0.1}, 32: {'weight': 1714.40563803204, 'pheromones': 0.1}, 33: {'weight': 1740.6001775427158, 'pheromones': 0.1}, 34: {'weight': 1498.45358451041, 'pheromones': 0.1}, 35: {'weight': 1852.3537304910717, 'pheromones': 0.1}, 36: {'weight': 1624.7519408767353, 'pheromones': 0.1}, 37: {'weight': 1858.0926127166258, 'pheromones': 0.1}})"
      ]
     },
     "execution_count": 21,
     "metadata": {},
     "output_type": "execute_result"
    }
   ],
   "source": [
    "g[0]"
   ]
  },
  {
   "cell_type": "code",
   "execution_count": 5,
   "metadata": {},
   "outputs": [],
   "source": [
    "import random"
   ]
  },
  {
   "cell_type": "code",
   "execution_count": 6,
   "metadata": {},
   "outputs": [],
   "source": [
    "def traverse(\n",
    "    g: nx.Graph,\n",
    "    start_node: int,\n",
    "    alpha: float,\n",
    "    beta: float,\n",
    "):\n",
    "    \n",
    "    cycle = [start_node]\n",
    "    cycle_weight = 0\n",
    "    visited = {start_node}\n",
    "    u = start_node\n",
    "    while len(visited) != len(g.nodes):\n",
    "        neighbors = [v for v in g[u] if v not in visited]\n",
    "        values = [g[u][v]['pheromones']**alpha / g[u][v]['weight']**beta for v in neighbors]\n",
    "        chosen_neighbor = random.choices(neighbors, weights=values, k=1)[0]\n",
    "        cycle.append(chosen_neighbor)\n",
    "        visited.add(chosen_neighbor)\n",
    "        cycle_weight += g[u][chosen_neighbor]['weight']\n",
    "        u = chosen_neighbor\n",
    "        \n",
    "    cycle_weight += g[start_node][cycle[-1]]['weight']\n",
    "    return cycle, cycle_weight"
   ]
  },
  {
   "cell_type": "code",
   "execution_count": 25,
   "metadata": {},
   "outputs": [],
   "source": [
    "from matplotlib import pyplot as plt\n",
    "from copy import deepcopy"
   ]
  },
  {
   "cell_type": "code",
   "execution_count": 26,
   "metadata": {},
   "outputs": [],
   "source": [
    "def aco(\n",
    "    g: nx.Graph,\n",
    "    num_ants: int,\n",
    "    rho: float,\n",
    "    num_iters: int,\n",
    "    theta: float,\n",
    "    alpha: float,\n",
    "    beta:float,\n",
    "):\n",
    "    \n",
    "    best_cycle_lens = []\n",
    "    final_cycle = None\n",
    "    for i in range(num_iters):\n",
    "        cycles = [traverse(g, start_node=0, alpha=alpha, beta=beta) for _ in range(num_ants)]\n",
    "        \n",
    "#       smanjivanje feromona - \"isparavanje\"\n",
    "        for u in range(len(g.nodes)):\n",
    "            for v in range(u + 1, len(g.nodes)):\n",
    "                g[u][v]['pheromones'] *= rho\n",
    "\n",
    "#       dodavanje feromona\n",
    "        for cycle, cycle_weight in cycles:\n",
    "            delta = theta / cycle_weight # TODO za domaci theta se smanjuje kroz iteracije\n",
    "            for u, v in zip(cycle[:-1], cycle[1:]):\n",
    "                g[u][v]['pheromones'] += delta\n",
    "            g[cycle[0]][cycle[-1]]['pheromones'] += delta\n",
    "            \n",
    "        best_cycle = min(cycles, key=lambda c: c[1])\n",
    "        best_cycle_lens.append(best_cycle[1])\n",
    "        if final_cycle is None or best_cycle[1] < final_cycle[1]:\n",
    "            final_cycle = deepcopy(best_cycle)\n",
    "    \n",
    "    plt.plot(range(num_iters), best_cycle_lens)\n",
    "    print(final_cycle[0])\n",
    "    print(final_cycle[1])"
   ]
  },
  {
   "cell_type": "code",
   "execution_count": 27,
   "metadata": {},
   "outputs": [
    {
     "name": "stdout",
     "output_type": "stream",
     "text": [
      "[0, 1, 3, 2, 4, 5, 6, 7, 8, 11, 10, 18, 17, 16, 15, 14, 12, 19, 22, 24, 25, 21, 23, 27, 26, 30, 35, 32, 33, 37, 36, 34, 31, 29, 28, 20, 13, 9]\n",
      "6741.04344654918\n"
     ]
    },
    {
     "data": {
      "image/png": "[encoded data removed]",
      "text/plain": [
       "<Figure size 432x288 with 1 Axes>"
      ]
     },
     "metadata": {
      "needs_background": "light"
     },
     "output_type": "display_data"
    }
   ],
   "source": [
    "g = read_instance(file_path='dj38.tsp')\n",
    "aco(g=g, num_ants=10, rho=0.9, num_iters=100, alpha=0.9, beta=1.5, theta=100.0)"
   ]
  },
  {
   "cell_type": "code",
   "execution_count": null,
   "metadata": {},
   "outputs": [],
   "source": []
  },
  {
   "cell_type": "code",
   "execution_count": null,
   "metadata": {},
   "outputs": [],
   "source": []
  }
 ],
 "metadata": {
  "kernelspec": {
   "display_name": "Python 3",
   "language": "python",
   "name": "python3"
  },
  "language_info": {
   "codemirror_mode": {
    "name": "ipython",
    "version": 3
   },
   "file_extension": ".py",
   "mimetype": "text/x-python",
   "name": "python",
   "nbconvert_exporter": "python",
   "pygments_lexer": "ipython3",
   "version": "3.7.6"
  }
 },
 "nbformat": 4,
 "nbformat_minor": 4
}
