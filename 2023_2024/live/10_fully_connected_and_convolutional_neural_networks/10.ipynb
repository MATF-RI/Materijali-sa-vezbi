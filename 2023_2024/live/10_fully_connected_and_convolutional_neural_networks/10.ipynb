{
  "nbformat": 4,
  "nbformat_minor": 0,
  "metadata": {
    "colab": {
      "provenance": [],
      "gpuType": "T4"
    },
    "kernelspec": {
      "name": "python3",
      "display_name": "Python 3"
    },
    "language_info": {
      "name": "python"
    },
    "accelerator": "GPU"
  },
  "cells": [
    {
      "cell_type": "code",
      "execution_count": 173,
      "metadata": {
        "id": "tuLbDLjQF8wv"
      },
      "outputs": [],
      "source": [
        "import torch\n",
        "from torch.nn import BCEWithLogitsLoss\n",
        "from torch.optim import SGD"
      ]
    },
    {
      "cell_type": "code",
      "source": [
        "x = torch.tensor([[1,2],[3,4]], dtype=torch.float32, requires_grad=True)\n",
        "x"
      ],
      "metadata": {
        "colab": {
          "base_uri": "https://localhost:8080/"
        },
        "id": "mbSK1VytGCLZ",
        "outputId": "f1cfc3b6-4ece-41ee-9bcd-a709b6c19b15"
      },
      "execution_count": 174,
      "outputs": [
        {
          "output_type": "execute_result",
          "data": {
            "text/plain": [
              "tensor([[1., 2.],\n",
              "        [3., 4.]], requires_grad=True)"
            ]
          },
          "metadata": {},
          "execution_count": 174
        }
      ]
    },
    {
      "cell_type": "code",
      "source": [
        "w = torch.randn(5, requires_grad=True)"
      ],
      "metadata": {
        "id": "CNtQk-MnHQDi"
      },
      "execution_count": 175,
      "outputs": []
    },
    {
      "cell_type": "code",
      "source": [
        "w"
      ],
      "metadata": {
        "colab": {
          "base_uri": "https://localhost:8080/"
        },
        "id": "kNAc4qScIilH",
        "outputId": "4445a3fc-b73a-40c6-eadb-7f9690e72902"
      },
      "execution_count": 176,
      "outputs": [
        {
          "output_type": "execute_result",
          "data": {
            "text/plain": [
              "tensor([-0.1100, -0.4355,  0.2145, -0.8164, -0.4578], requires_grad=True)"
            ]
          },
          "metadata": {},
          "execution_count": 176
        }
      ]
    },
    {
      "cell_type": "code",
      "source": [
        "x = torch.ones(3, 5)\n",
        "x"
      ],
      "metadata": {
        "colab": {
          "base_uri": "https://localhost:8080/"
        },
        "id": "ZFjtea-TIi-2",
        "outputId": "c641b12f-fabd-4cbf-9355-2ec23dec85f6"
      },
      "execution_count": 177,
      "outputs": [
        {
          "output_type": "execute_result",
          "data": {
            "text/plain": [
              "tensor([[1., 1., 1., 1., 1.],\n",
              "        [1., 1., 1., 1., 1.],\n",
              "        [1., 1., 1., 1., 1.]])"
            ]
          },
          "metadata": {},
          "execution_count": 177
        }
      ]
    },
    {
      "cell_type": "code",
      "source": [
        "y = torch.zeros(3)\n",
        "y"
      ],
      "metadata": {
        "colab": {
          "base_uri": "https://localhost:8080/"
        },
        "id": "Bf4TwB6FI8DH",
        "outputId": "f99e2f09-2150-4202-e700-813e2d94227d"
      },
      "execution_count": 178,
      "outputs": [
        {
          "output_type": "execute_result",
          "data": {
            "text/plain": [
              "tensor([0., 0., 0.])"
            ]
          },
          "metadata": {},
          "execution_count": 178
        }
      ]
    },
    {
      "cell_type": "code",
      "source": [
        "h = x @ w"
      ],
      "metadata": {
        "id": "KoMzyZvwI9oi"
      },
      "execution_count": 179,
      "outputs": []
    },
    {
      "cell_type": "code",
      "source": [
        "loss_fn = BCEWithLogitsLoss()\n",
        "loss = loss_fn(h, y)"
      ],
      "metadata": {
        "id": "APESF-8FJFob"
      },
      "execution_count": 180,
      "outputs": []
    },
    {
      "cell_type": "code",
      "source": [
        "loss"
      ],
      "metadata": {
        "colab": {
          "base_uri": "https://localhost:8080/"
        },
        "id": "doYFd0ISJZF5",
        "outputId": "a8174ed4-04f0-44da-a7f7-bc437da352da"
      },
      "execution_count": 181,
      "outputs": [
        {
          "output_type": "execute_result",
          "data": {
            "text/plain": [
              "tensor(0.1830, grad_fn=<BinaryCrossEntropyWithLogitsBackward0>)"
            ]
          },
          "metadata": {},
          "execution_count": 181
        }
      ]
    },
    {
      "cell_type": "code",
      "source": [
        "loss.backward()"
      ],
      "metadata": {
        "id": "6KT8MDsqJbcf"
      },
      "execution_count": 182,
      "outputs": []
    },
    {
      "cell_type": "code",
      "source": [
        "w.grad"
      ],
      "metadata": {
        "colab": {
          "base_uri": "https://localhost:8080/"
        },
        "id": "yQKc3_3IKlm3",
        "outputId": "00914c2c-29d1-4597-b99f-8da6c995d658"
      },
      "execution_count": 183,
      "outputs": [
        {
          "output_type": "execute_result",
          "data": {
            "text/plain": [
              "tensor([0.1673, 0.1673, 0.1673, 0.1673, 0.1673])"
            ]
          },
          "metadata": {},
          "execution_count": 183
        }
      ]
    },
    {
      "cell_type": "code",
      "source": [
        "optimizer = SGD([w], lr=0.1)"
      ],
      "metadata": {
        "id": "-FKsuR4NKnv7"
      },
      "execution_count": 184,
      "outputs": []
    },
    {
      "cell_type": "code",
      "source": [
        "optimizer.step()"
      ],
      "metadata": {
        "id": "vVVTwVx5LEZn"
      },
      "execution_count": 185,
      "outputs": []
    },
    {
      "cell_type": "code",
      "source": [
        "w"
      ],
      "metadata": {
        "colab": {
          "base_uri": "https://localhost:8080/"
        },
        "id": "pyHZe369LMId",
        "outputId": "d46ce10f-2c15-4237-d3c9-5357d41ac268"
      },
      "execution_count": 186,
      "outputs": [
        {
          "output_type": "execute_result",
          "data": {
            "text/plain": [
              "tensor([-0.1267, -0.4523,  0.1978, -0.8331, -0.4745], requires_grad=True)"
            ]
          },
          "metadata": {},
          "execution_count": 186
        }
      ]
    },
    {
      "cell_type": "code",
      "source": [
        "# ne zelimo da sabiramo sve gradijente\n",
        "optimizer.zero_grad()"
      ],
      "metadata": {
        "id": "taFV-MvuLN0v"
      },
      "execution_count": 187,
      "outputs": []
    },
    {
      "cell_type": "code",
      "source": [
        "from sklearn.datasets import load_breast_cancer"
      ],
      "metadata": {
        "id": "BzJ2M9ktLUkd"
      },
      "execution_count": 188,
      "outputs": []
    },
    {
      "cell_type": "code",
      "source": [
        "X, y = load_breast_cancer(return_X_y=True)"
      ],
      "metadata": {
        "id": "UNomCQIJQA4I"
      },
      "execution_count": 189,
      "outputs": []
    },
    {
      "cell_type": "code",
      "source": [
        "X.shape"
      ],
      "metadata": {
        "colab": {
          "base_uri": "https://localhost:8080/"
        },
        "id": "Z8wY0DWeQKbu",
        "outputId": "efb196ec-1ee0-42b0-a7c1-3057137cd2fe"
      },
      "execution_count": 190,
      "outputs": [
        {
          "output_type": "execute_result",
          "data": {
            "text/plain": [
              "(569, 30)"
            ]
          },
          "metadata": {},
          "execution_count": 190
        }
      ]
    },
    {
      "cell_type": "code",
      "source": [
        "y.shape"
      ],
      "metadata": {
        "colab": {
          "base_uri": "https://localhost:8080/"
        },
        "id": "XHh6M1FTQLGC",
        "outputId": "20a8f995-3f46-4af2-d47f-d6c58e521d0c"
      },
      "execution_count": 191,
      "outputs": [
        {
          "output_type": "execute_result",
          "data": {
            "text/plain": [
              "(569,)"
            ]
          },
          "metadata": {},
          "execution_count": 191
        }
      ]
    },
    {
      "cell_type": "code",
      "source": [
        "y"
      ],
      "metadata": {
        "colab": {
          "base_uri": "https://localhost:8080/"
        },
        "id": "zgrX_NfT8Csn",
        "outputId": "c2b26e52-ed94-49af-9149-80391286a5ef"
      },
      "execution_count": 192,
      "outputs": [
        {
          "output_type": "execute_result",
          "data": {
            "text/plain": [
              "array([0, 0, 0, 0, 0, 0, 0, 0, 0, 0, 0, 0, 0, 0, 0, 0, 0, 0, 0, 1, 1, 1,\n",
              "       0, 0, 0, 0, 0, 0, 0, 0, 0, 0, 0, 0, 0, 0, 0, 1, 0, 0, 0, 0, 0, 0,\n",
              "       0, 0, 1, 0, 1, 1, 1, 1, 1, 0, 0, 1, 0, 0, 1, 1, 1, 1, 0, 1, 0, 0,\n",
              "       1, 1, 1, 1, 0, 1, 0, 0, 1, 0, 1, 0, 0, 1, 1, 1, 0, 0, 1, 0, 0, 0,\n",
              "       1, 1, 1, 0, 1, 1, 0, 0, 1, 1, 1, 0, 0, 1, 1, 1, 1, 0, 1, 1, 0, 1,\n",
              "       1, 1, 1, 1, 1, 1, 1, 0, 0, 0, 1, 0, 0, 1, 1, 1, 0, 0, 1, 0, 1, 0,\n",
              "       0, 1, 0, 0, 1, 1, 0, 1, 1, 0, 1, 1, 1, 1, 0, 1, 1, 1, 1, 1, 1, 1,\n",
              "       1, 1, 0, 1, 1, 1, 1, 0, 0, 1, 0, 1, 1, 0, 0, 1, 1, 0, 0, 1, 1, 1,\n",
              "       1, 0, 1, 1, 0, 0, 0, 1, 0, 1, 0, 1, 1, 1, 0, 1, 1, 0, 0, 1, 0, 0,\n",
              "       0, 0, 1, 0, 0, 0, 1, 0, 1, 0, 1, 1, 0, 1, 0, 0, 0, 0, 1, 1, 0, 0,\n",
              "       1, 1, 1, 0, 1, 1, 1, 1, 1, 0, 0, 1, 1, 0, 1, 1, 0, 0, 1, 0, 1, 1,\n",
              "       1, 1, 0, 1, 1, 1, 1, 1, 0, 1, 0, 0, 0, 0, 0, 0, 0, 0, 0, 0, 0, 0,\n",
              "       0, 0, 1, 1, 1, 1, 1, 1, 0, 1, 0, 1, 1, 0, 1, 1, 0, 1, 0, 0, 1, 1,\n",
              "       1, 1, 1, 1, 1, 1, 1, 1, 1, 1, 1, 0, 1, 1, 0, 1, 0, 1, 1, 1, 1, 1,\n",
              "       1, 1, 1, 1, 1, 1, 1, 1, 1, 0, 1, 1, 1, 0, 1, 0, 1, 1, 1, 1, 0, 0,\n",
              "       0, 1, 1, 1, 1, 0, 1, 0, 1, 0, 1, 1, 1, 0, 1, 1, 1, 1, 1, 1, 1, 0,\n",
              "       0, 0, 1, 1, 1, 1, 1, 1, 1, 1, 1, 1, 1, 0, 0, 1, 0, 0, 0, 1, 0, 0,\n",
              "       1, 1, 1, 1, 1, 0, 1, 1, 1, 1, 1, 0, 1, 1, 1, 0, 1, 1, 0, 0, 1, 1,\n",
              "       1, 1, 1, 1, 0, 1, 1, 1, 1, 1, 1, 1, 0, 1, 1, 1, 1, 1, 0, 1, 1, 0,\n",
              "       1, 1, 1, 1, 1, 1, 1, 1, 1, 1, 1, 1, 0, 1, 0, 0, 1, 0, 1, 1, 1, 1,\n",
              "       1, 0, 1, 1, 0, 1, 0, 1, 1, 0, 1, 0, 1, 1, 1, 1, 1, 1, 1, 1, 0, 0,\n",
              "       1, 1, 1, 1, 1, 1, 0, 1, 1, 1, 1, 1, 1, 1, 1, 1, 1, 0, 1, 1, 1, 1,\n",
              "       1, 1, 1, 0, 1, 0, 1, 1, 0, 1, 1, 1, 1, 1, 0, 0, 1, 0, 1, 0, 1, 1,\n",
              "       1, 1, 1, 0, 1, 1, 0, 1, 0, 1, 0, 0, 1, 1, 1, 0, 1, 1, 1, 1, 1, 1,\n",
              "       1, 1, 1, 1, 1, 0, 1, 0, 0, 1, 1, 1, 1, 1, 1, 1, 1, 1, 1, 1, 1, 1,\n",
              "       1, 1, 1, 1, 1, 1, 1, 1, 1, 1, 1, 1, 0, 0, 0, 0, 0, 0, 1])"
            ]
          },
          "metadata": {},
          "execution_count": 192
        }
      ]
    },
    {
      "cell_type": "code",
      "source": [
        "from sklearn.model_selection import train_test_split"
      ],
      "metadata": {
        "id": "5FJ2sJE4QNqR"
      },
      "execution_count": 193,
      "outputs": []
    },
    {
      "cell_type": "code",
      "source": [
        "X_train, X_test, y_train, y_test = train_test_split(X, y, train_size=0.8)"
      ],
      "metadata": {
        "id": "fgeQRDbdQT98"
      },
      "execution_count": 194,
      "outputs": []
    },
    {
      "cell_type": "code",
      "source": [
        "X_train.shape"
      ],
      "metadata": {
        "colab": {
          "base_uri": "https://localhost:8080/"
        },
        "id": "JnUGIQIKQZBD",
        "outputId": "be214e14-fa13-45b2-f842-abcbd36b09c6"
      },
      "execution_count": 195,
      "outputs": [
        {
          "output_type": "execute_result",
          "data": {
            "text/plain": [
              "(455, 30)"
            ]
          },
          "metadata": {},
          "execution_count": 195
        }
      ]
    },
    {
      "cell_type": "code",
      "source": [
        "X_test.shape"
      ],
      "metadata": {
        "colab": {
          "base_uri": "https://localhost:8080/"
        },
        "id": "227VSnW6QaU8",
        "outputId": "f3518b01-a455-44ff-8707-f80e0c52e73f"
      },
      "execution_count": 196,
      "outputs": [
        {
          "output_type": "execute_result",
          "data": {
            "text/plain": [
              "(114, 30)"
            ]
          },
          "metadata": {},
          "execution_count": 196
        }
      ]
    },
    {
      "cell_type": "code",
      "source": [
        "X_train[0]"
      ],
      "metadata": {
        "colab": {
          "base_uri": "https://localhost:8080/"
        },
        "id": "MvG1ST_pQa7n",
        "outputId": "e8aa1879-80f5-42b1-9215-0dcd411ff57f"
      },
      "execution_count": 197,
      "outputs": [
        {
          "output_type": "execute_result",
          "data": {
            "text/plain": [
              "array([1.171e+01, 1.719e+01, 7.468e+01, 4.203e+02, 9.774e-02, 6.141e-02,\n",
              "       3.809e-02, 3.239e-02, 1.516e-01, 6.095e-02, 2.451e-01, 7.655e-01,\n",
              "       1.742e+00, 1.786e+01, 6.905e-03, 8.704e-03, 1.978e-02, 1.185e-02,\n",
              "       1.897e-02, 1.671e-03, 1.301e+01, 2.139e+01, 8.442e+01, 5.215e+02,\n",
              "       1.323e-01, 1.040e-01, 1.521e-01, 1.099e-01, 2.572e-01, 7.097e-02])"
            ]
          },
          "metadata": {},
          "execution_count": 197
        }
      ]
    },
    {
      "cell_type": "code",
      "source": [
        "from sklearn.preprocessing import StandardScaler"
      ],
      "metadata": {
        "id": "uqXtPo6yQdra"
      },
      "execution_count": 198,
      "outputs": []
    },
    {
      "cell_type": "code",
      "source": [
        "scaler = StandardScaler()\n",
        "X_train = scaler.fit_transform(X_train)\n",
        "X_test = scaler.transform(X_test)"
      ],
      "metadata": {
        "id": "kZYb_KHyQkX_"
      },
      "execution_count": 199,
      "outputs": []
    },
    {
      "cell_type": "code",
      "source": [
        "X_train[0]"
      ],
      "metadata": {
        "colab": {
          "base_uri": "https://localhost:8080/"
        },
        "id": "knVFOeSMQwaL",
        "outputId": "e792413c-ed43-41a2-b34c-dc5fd0d8aba7"
      },
      "execution_count": 200,
      "outputs": [
        {
          "output_type": "execute_result",
          "data": {
            "text/plain": [
              "array([-0.70762788, -0.48635109, -0.731951  , -0.6835778 ,  0.09131195,\n",
              "       -0.82278265, -0.65542332, -0.45274578, -1.06319373, -0.23837463,\n",
              "       -0.56629102, -0.83023657, -0.54732194, -0.48916433, -0.03535761,\n",
              "       -0.93876866, -0.44161995,  0.01544505, -0.14847102, -0.87841131,\n",
              "       -0.6942112 , -0.69199558, -0.69907981, -0.64722072, -0.02799527,\n",
              "       -0.97441893, -0.59678424, -0.11208945, -0.55401189, -0.72220145])"
            ]
          },
          "metadata": {},
          "execution_count": 200
        }
      ]
    },
    {
      "cell_type": "code",
      "source": [
        "import torch\n",
        "from torch.utils.data import Dataset, DataLoader"
      ],
      "metadata": {
        "id": "hVwoIZzpQ3_u"
      },
      "execution_count": 201,
      "outputs": []
    },
    {
      "cell_type": "code",
      "source": [
        "class OurDataset(Dataset):\n",
        "    def __init__(self, X, y):\n",
        "        self.X = torch.tensor(X, dtype=torch.float32)\n",
        "        self.y = torch.tensor(y, dtype=torch.float32)\n",
        "\n",
        "    def __len__(self):\n",
        "        return len(self.X)\n",
        "\n",
        "    def __getitem__(self, i):\n",
        "        return self.X[i], self.y[i]"
      ],
      "metadata": {
        "id": "zR6pchjgQzFI"
      },
      "execution_count": 202,
      "outputs": []
    },
    {
      "cell_type": "code",
      "source": [
        "train_dataset = OurDataset(X_train, y_train)\n",
        "len(train_dataset)"
      ],
      "metadata": {
        "colab": {
          "base_uri": "https://localhost:8080/"
        },
        "id": "BV1IVWoEROMA",
        "outputId": "69b7d45b-fd61-4f76-d7f8-7a9f13e0cd49"
      },
      "execution_count": 203,
      "outputs": [
        {
          "output_type": "execute_result",
          "data": {
            "text/plain": [
              "455"
            ]
          },
          "metadata": {},
          "execution_count": 203
        }
      ]
    },
    {
      "cell_type": "code",
      "source": [
        "train_dataset[0]"
      ],
      "metadata": {
        "colab": {
          "base_uri": "https://localhost:8080/"
        },
        "id": "lKZvvhi1Rcxd",
        "outputId": "04c099c5-392d-44dd-d7de-f4d78cb4ba43"
      },
      "execution_count": 204,
      "outputs": [
        {
          "output_type": "execute_result",
          "data": {
            "text/plain": [
              "(tensor([-0.7076, -0.4864, -0.7320, -0.6836,  0.0913, -0.8228, -0.6554, -0.4527,\n",
              "         -1.0632, -0.2384, -0.5663, -0.8302, -0.5473, -0.4892, -0.0354, -0.9388,\n",
              "         -0.4416,  0.0154, -0.1485, -0.8784, -0.6942, -0.6920, -0.6991, -0.6472,\n",
              "         -0.0280, -0.9744, -0.5968, -0.1121, -0.5540, -0.7222]),\n",
              " tensor(1.))"
            ]
          },
          "metadata": {},
          "execution_count": 204
        }
      ]
    },
    {
      "cell_type": "code",
      "source": [
        "test_dataset = OurDataset(X_test, y_test)\n",
        "test_dataloader = DataLoader(test_dataset, batch_size=16)"
      ],
      "metadata": {
        "id": "G7vMJ-JSRep-"
      },
      "execution_count": 205,
      "outputs": []
    },
    {
      "cell_type": "code",
      "source": [
        "train_dataloader = DataLoader(train_dataset, batch_size=16)\n",
        "for batch_x, batch_y in train_dataloader:\n",
        "    print(batch_x.shape)\n",
        "    print(batch_y.shape)\n",
        "    break"
      ],
      "metadata": {
        "colab": {
          "base_uri": "https://localhost:8080/"
        },
        "id": "WLavFDb7RlD8",
        "outputId": "3e2055e9-1cbb-4b27-8428-97c40ab237fd"
      },
      "execution_count": 206,
      "outputs": [
        {
          "output_type": "stream",
          "name": "stdout",
          "text": [
            "torch.Size([16, 30])\n",
            "torch.Size([16])\n"
          ]
        }
      ]
    },
    {
      "cell_type": "code",
      "source": [
        "from torch import nn"
      ],
      "metadata": {
        "id": "eBTVkLVSTQ27"
      },
      "execution_count": 207,
      "outputs": []
    },
    {
      "cell_type": "code",
      "source": [
        "class Net(nn.Module):\n",
        "    def __init__(self):\n",
        "\n",
        "        super().__init__()\n",
        "\n",
        "        # self.net = nn.Sequential([layer1, layer2])\n",
        "\n",
        "        self.layer1 = nn.Linear(30, 10)\n",
        "        self.layer2 = nn.Linear(10, 1)\n",
        "        self.activation = nn.ReLU()\n",
        "\n",
        "    def forward(self, x):\n",
        "        # g(Wx+b)\n",
        "        h1 = self.activation(self.layer1(x))\n",
        "        h2 = self.layer2(h1)\n",
        "        return h2"
      ],
      "metadata": {
        "id": "H97es22LRvGC"
      },
      "execution_count": 208,
      "outputs": []
    },
    {
      "cell_type": "code",
      "source": [
        "loss_fn = BCEWithLogitsLoss()\n",
        "model = Net()\n",
        "optimizer = SGD(model.parameters(), lr=0.1)"
      ],
      "metadata": {
        "id": "YYQ89RI8Vlgw"
      },
      "execution_count": 209,
      "outputs": []
    },
    {
      "cell_type": "code",
      "source": [
        "def train_loop(dataloader, model, loss_fn, optimizer, device):\n",
        "    model.train()\n",
        "    for X, y in dataloader:\n",
        "        X, y = X.to(device), y.to(device)\n",
        "        preds = model(X)\n",
        "        loss = loss_fn(preds, y)\n",
        "\n",
        "        # backpropagation - racunanje gradijenta\n",
        "        loss.backward()\n",
        "        # x_new = x - lr * grad\n",
        "        optimizer.step()\n",
        "        # necemo da sabiramo sve gradijente\n",
        "        optimizer.zero_grad()"
      ],
      "metadata": {
        "id": "ZxGqcn0OWMpV"
      },
      "execution_count": 237,
      "outputs": []
    },
    {
      "cell_type": "code",
      "source": [
        "def test_loop(dataloader, model, loss_fn, device):\n",
        "    model.eval()\n",
        "    with torch.no_grad():\n",
        "        total_loss = 0\n",
        "        num_same = 0\n",
        "        for X, y in dataloader:\n",
        "            X, y = X.to(device), y.to(device)\n",
        "            outputs = model(X)\n",
        "            loss = loss_fn(outputs, y)\n",
        "            total_loss += loss.item()\n",
        "            # accuracy\n",
        "            # preds = outputs > 0 # dve klase\n",
        "            _, indices = torch.max(outputs, 1) # vise klasa - maks po dimenziji 1\n",
        "                                               # jer je outputs.shape = (batch_size, num_classes)\n",
        "            num_same += sum(indices == y).item()\n",
        "        print(total_loss)\n",
        "        print(num_same / len(dataloader.dataset))"
      ],
      "metadata": {
        "id": "V35ZA-JKWocb"
      },
      "execution_count": 238,
      "outputs": []
    },
    {
      "cell_type": "code",
      "source": [
        "device = 'cuda' if torch.cuda.is_available() else 'cpu'\n",
        "model.to(device)\n",
        "num_epochs = 1\n",
        "for epoch in range(num_epochs):\n",
        "    train_loop(train_dataloader, model, loss_fn, optimizer, device)\n",
        "    test_loop(test_dataloader, model, loss_fn, device)"
      ],
      "metadata": {
        "id": "mPXb37_-VykV",
        "colab": {
          "base_uri": "https://localhost:8080/"
        },
        "outputId": "54ff09a1-e7d9-4fc0-dad6-a5d6663f2b89"
      },
      "execution_count": 239,
      "outputs": [
        {
          "output_type": "stream",
          "name": "stdout",
          "text": [
            "2365.6479723641078\n",
            "0.9302\n"
          ]
        }
      ]
    },
    {
      "cell_type": "code",
      "source": [
        "from torchvision import datasets, transforms"
      ],
      "metadata": {
        "id": "hN9vPCB5Hemq"
      },
      "execution_count": 213,
      "outputs": []
    },
    {
      "cell_type": "code",
      "source": [
        "train_dataset = datasets.MNIST(root='./data', train=True, download=True, transform=transforms.ToTensor())\n",
        "test_dataset = datasets.MNIST(root='./data', train=False, download=True, transform=transforms.ToTensor())"
      ],
      "metadata": {
        "id": "3Qi29wf6Hgy6"
      },
      "execution_count": 214,
      "outputs": []
    },
    {
      "cell_type": "code",
      "source": [
        "from matplotlib import pyplot as plt"
      ],
      "metadata": {
        "id": "e1ASwPRRHu2R"
      },
      "execution_count": 215,
      "outputs": []
    },
    {
      "cell_type": "code",
      "source": [
        "img, label = train_dataset[0]\n",
        "# print(img)\n",
        "plt.imshow(img.numpy().reshape(28,28), cmap='gray')"
      ],
      "metadata": {
        "colab": {
          "base_uri": "https://localhost:8080/",
          "height": 447
        },
        "id": "QWqgB55rH1hm",
        "outputId": "8d5486e3-8fd5-4412-b009-ede33f8b766c"
      },
      "execution_count": 216,
      "outputs": [
        {
          "output_type": "execute_result",
          "data": {
            "text/plain": [
              "<matplotlib.image.AxesImage at 0x7953cd90cd00>"
            ]
          },
          "metadata": {},
          "execution_count": 216
        },
        {
          "output_type": "display_data",
          "data": {
            "text/plain": [
              "<Figure size 640x480 with 1 Axes>"
            ],
            "image/png": "[encoded data removed]"
          },
          "metadata": {}
        }
      ]
    },
    {
      "cell_type": "code",
      "source": [
        "class Net(nn.Module):\n",
        "\n",
        "    def __init__(self):\n",
        "        super().__init__()\n",
        "\n",
        "        self.fc1 = nn.Linear(28*28, 32)\n",
        "        self.fc2 = nn.Linear(32, 64)\n",
        "        # self.dropout = nn.Dropout(p=0.3)\n",
        "        # self.norm = nn.BatchNorm1d() # (x - m) / s\n",
        "        self.fc3 = nn.Linear(64, 10)\n",
        "        self.activation = nn.ReLU()\n",
        "\n",
        "    def forward(self, x):\n",
        "        x = nn.Flatten()(x)\n",
        "        for layer in [self.fc1, self.fc2]:\n",
        "            x = self.activation(layer(x))\n",
        "            x = self.dropout(x)\n",
        "        return (self.fc3(x))"
      ],
      "metadata": {
        "id": "JIwTKq1mDb5M"
      },
      "execution_count": 232,
      "outputs": []
    },
    {
      "cell_type": "code",
      "source": [
        "device = 'cuda' if torch.cuda.is_available() else 'cpu'\n",
        "model = Net().to(device)"
      ],
      "metadata": {
        "id": "C7MxCNirKzZf"
      },
      "execution_count": 233,
      "outputs": []
    },
    {
      "cell_type": "code",
      "source": [
        "from torch import optim"
      ],
      "metadata": {
        "id": "hTZ4r0KHLfjj"
      },
      "execution_count": 234,
      "outputs": []
    },
    {
      "cell_type": "code",
      "source": [
        "loss_fn = nn.CrossEntropyLoss()\n",
        "optimizer = optim.SGD(params=model.parameters(), lr=0.01, momentum=0.9, nesterov=True)\n",
        "# optim.Adam()"
      ],
      "metadata": {
        "id": "kxPQcBK0K2V8"
      },
      "execution_count": 235,
      "outputs": []
    },
    {
      "cell_type": "code",
      "source": [
        "train_loader = DataLoader(train_dataset, batch_size=17)\n",
        "test_loader = DataLoader(test_dataset, batch_size=17)"
      ],
      "metadata": {
        "id": "Og4hQUmMLxuU"
      },
      "execution_count": 236,
      "outputs": []
    },
    {
      "cell_type": "code",
      "source": [
        "epochs = 1\n",
        "for epoch in range(epochs):\n",
        "    train_loop(train_loader, model, loss_fn, optimizer, device)\n",
        "    test_loop(test_loader, model, loss_fn, device)"
      ],
      "metadata": {
        "colab": {
          "base_uri": "https://localhost:8080/"
        },
        "id": "IuoUr4LjKQBz",
        "outputId": "099b9c6d-e7b9-409d-8887-3dd93b393f17"
      },
      "execution_count": 222,
      "outputs": [
        {
          "output_type": "stream",
          "name": "stdout",
          "text": [
            "117.25367748353165\n",
            "0.9384\n"
          ]
        }
      ]
    },
    {
      "cell_type": "code",
      "source": [
        "import torch.nn.functional as F"
      ],
      "metadata": {
        "id": "49ZN0JLW-t-l"
      },
      "execution_count": 223,
      "outputs": []
    },
    {
      "cell_type": "code",
      "source": [
        "class ConvNet(nn.Module):\n",
        "\n",
        "    def __init__(self):\n",
        "        super().__init__()\n",
        "\n",
        "        self.layer1 = nn.Conv2d(1, 16, 3)\n",
        "        self.layer2 = nn.Conv2d(16, 32, 3)\n",
        "        self.pool = nn.MaxPool2d(2)\n",
        "        self.flatten = nn.Flatten(start_dim=1)\n",
        "        self.fc = nn.Linear(800, 10)\n",
        "        # nn.LazyLinear(10)\n",
        "\n",
        "    def forward(self, x):\n",
        "        # print(x.shape)\n",
        "        x = F.relu(self.layer1(x))\n",
        "        # print(x.shape)\n",
        "        x = self.pool(x)\n",
        "        # print(x.shape)\n",
        "        x = F.relu(self.layer2(x))\n",
        "        # print(x.shape)\n",
        "        x = self.pool(x)\n",
        "        # print(x.shape)\n",
        "        x = self.flatten(x)\n",
        "        # print(x.shape)\n",
        "        return self.fc(x)"
      ],
      "metadata": {
        "id": "X_kijMMnMLXI"
      },
      "execution_count": 224,
      "outputs": []
    },
    {
      "cell_type": "code",
      "source": [
        "model = ConvNet()"
      ],
      "metadata": {
        "id": "Cc9C6N2Z7kon"
      },
      "execution_count": 225,
      "outputs": []
    },
    {
      "cell_type": "code",
      "source": [
        "img, label = train_dataset[0]\n",
        "img.shape"
      ],
      "metadata": {
        "colab": {
          "base_uri": "https://localhost:8080/"
        },
        "id": "I5dx0kLX_Xly",
        "outputId": "aec05c78-067b-4397-8731-49db2b3a2c98"
      },
      "execution_count": 226,
      "outputs": [
        {
          "output_type": "execute_result",
          "data": {
            "text/plain": [
              "torch.Size([1, 28, 28])"
            ]
          },
          "metadata": {},
          "execution_count": 226
        }
      ]
    },
    {
      "cell_type": "code",
      "source": [
        "model(img.reshape(1,1,28,28))"
      ],
      "metadata": {
        "colab": {
          "base_uri": "https://localhost:8080/"
        },
        "id": "nEE9Pv9YCRK8",
        "outputId": "16f13e03-d74f-433b-e1e6-7391a9f7a714"
      },
      "execution_count": 227,
      "outputs": [
        {
          "output_type": "execute_result",
          "data": {
            "text/plain": [
              "tensor([[-0.1086,  0.0031, -0.0154, -0.0821,  0.1234,  0.0187, -0.1030,  0.0312,\n",
              "         -0.1553, -0.0221]], grad_fn=<AddmmBackward0>)"
            ]
          },
          "metadata": {},
          "execution_count": 227
        }
      ]
    },
    {
      "cell_type": "code",
      "source": [
        "train_dataloader = DataLoader(train_dataset, batch_size=32, shuffle=True)\n",
        "test_dataloader = DataLoader(test_dataset, batch_size=32, shuffle=True)"
      ],
      "metadata": {
        "id": "QovHltYVA3Ff"
      },
      "execution_count": 228,
      "outputs": []
    },
    {
      "cell_type": "code",
      "source": [
        "loss_fn = nn.CrossEntropyLoss()\n",
        "optimizer = optim.Adam(model.parameters())\n",
        "model.to(device)\n",
        "num_epochs = 1\n",
        "for epoch in range(num_epochs):\n",
        "    train_loop(train_dataloader, model, loss_fn, optimizer, device)\n",
        "    test_loop(test_dataloader, model, loss_fn, device)"
      ],
      "metadata": {
        "colab": {
          "base_uri": "https://localhost:8080/"
        },
        "id": "DSoAKUoZ_YdQ",
        "outputId": "9458709c-61a6-4216-833c-9670a07378ee"
      },
      "execution_count": 229,
      "outputs": [
        {
          "output_type": "stream",
          "name": "stdout",
          "text": [
            "25.794946392066777\n",
            "0.9732\n"
          ]
        }
      ]
    },
    {
      "cell_type": "code",
      "source": [
        "model.to(device)"
      ],
      "metadata": {
        "colab": {
          "base_uri": "https://localhost:8080/"
        },
        "id": "BWpN26eeIydt",
        "outputId": "ee0f78f8-7754-40e0-9403-6d4eda6f4d00"
      },
      "execution_count": 230,
      "outputs": [
        {
          "output_type": "execute_result",
          "data": {
            "text/plain": [
              "ConvNet(\n",
              "  (layer1): Conv2d(1, 16, kernel_size=(3, 3), stride=(1, 1))\n",
              "  (layer2): Conv2d(16, 32, kernel_size=(3, 3), stride=(1, 1))\n",
              "  (pool): MaxPool2d(kernel_size=2, stride=2, padding=0, dilation=1, ceil_mode=False)\n",
              "  (flatten): Flatten(start_dim=1, end_dim=-1)\n",
              "  (fc): Linear(in_features=800, out_features=10, bias=True)\n",
              ")"
            ]
          },
          "metadata": {},
          "execution_count": 230
        }
      ]
    },
    {
      "cell_type": "code",
      "source": [
        "test_dataloader = DataLoader(test_dataset, batch_size=1)\n",
        "\n",
        "for i, (X, y) in enumerate(test_dataloader):\n",
        "    print(X.shape)\n",
        "    X, y = X.to(device), y.to(device)\n",
        "    preds = model(X)\n",
        "    print(f'Predicted class: {torch.argmax(preds)}')\n",
        "    print(preds)\n",
        "    print(f'Real class: {y}')\n",
        "    plt.imshow(X.cpu().numpy().reshape(28,28), cmap='gray')\n",
        "    if i == 20:\n",
        "        break"
      ],
      "metadata": {
        "colab": {
          "base_uri": "https://localhost:8080/",
          "height": 1000
        },
        "id": "DS-nxv7R_eMK",
        "outputId": "b9de6a65-ea82-4e4d-eba7-e2f4644c7a1d"
      },
      "execution_count": 231,
      "outputs": [
        {
          "output_type": "stream",
          "name": "stdout",
          "text": [
            "torch.Size([1, 1, 28, 28])\n",
            "Predicted class: 7\n",
            "tensor([[ -4.9580,  -7.2806,   2.7286,   1.4263, -12.8983,  -6.3123, -16.1764,\n",
            "          13.4022,  -5.5099,  -0.9677]], device='cuda:0',\n",
            "       grad_fn=<AddmmBackward0>)\n",
            "Real class: tensor([7], device='cuda:0')\n",
            "torch.Size([1, 1, 28, 28])\n",
            "Predicted class: 2\n",
            "tensor([[ -2.5502,   0.2747,  10.5296,  -2.7403, -16.3968,  -6.7950,   0.0309,\n",
            "         -15.1809,  -3.1931, -12.5885]], device='cuda:0',\n",
            "       grad_fn=<AddmmBackward0>)\n",
            "Real class: tensor([2], device='cuda:0')\n",
            "torch.Size([1, 1, 28, 28])\n",
            "Predicted class: 1\n",
            "tensor([[-4.3287,  6.7255, -1.8440, -3.1755,  0.8300, -4.3594, -1.3136, -0.5137,\n",
            "         -2.0135, -3.4589]], device='cuda:0', grad_fn=<AddmmBackward0>)\n",
            "Real class: tensor([1], device='cuda:0')\n",
            "torch.Size([1, 1, 28, 28])\n",
            "Predicted class: 0\n",
            "tensor([[  8.0465, -16.0109,  -1.9482,  -7.3972,  -8.8423,  -4.0007,  -0.2864,\n",
            "          -7.0427,  -6.5692,  -2.0072]], device='cuda:0',\n",
            "       grad_fn=<AddmmBackward0>)\n",
            "Real class: tensor([0], device='cuda:0')\n",
            "torch.Size([1, 1, 28, 28])\n",
            "Predicted class: 4\n",
            "tensor([[-8.0496, -7.0913, -4.5333, -4.6426,  7.5983, -6.1259, -4.8039, -3.4352,\n",
            "         -6.9284,  2.3258]], device='cuda:0', grad_fn=<AddmmBackward0>)\n",
            "Real class: tensor([4], device='cuda:0')\n",
            "torch.Size([1, 1, 28, 28])\n",
            "Predicted class: 1\n",
            "tensor([[-4.1679,  7.6981, -2.6731, -3.1444,  0.8306, -6.4657, -3.1488,  0.0852,\n",
            "         -2.1603, -2.9836]], device='cuda:0', grad_fn=<AddmmBackward0>)\n",
            "Real class: tensor([1], device='cuda:0')\n",
            "torch.Size([1, 1, 28, 28])\n",
            "Predicted class: 4\n",
            "tensor([[-16.6412,  -2.9526,  -5.2600,  -6.2740,   4.9239,  -3.2317,  -9.3938,\n",
            "          -3.0586,  -0.5147,   0.7639]], device='cuda:0',\n",
            "       grad_fn=<AddmmBackward0>)\n",
            "Real class: tensor([4], device='cuda:0')\n",
            "torch.Size([1, 1, 28, 28])\n",
            "Predicted class: 9\n",
            "tensor([[-16.0491,  -2.9832,  -2.1399,  -2.8414,  -0.5672,  -0.8271, -10.6566,\n",
            "          -5.6184,  -2.4095,   4.8257]], device='cuda:0',\n",
            "       grad_fn=<AddmmBackward0>)\n",
            "Real class: tensor([9], device='cuda:0')\n",
            "torch.Size([1, 1, 28, 28])\n",
            "Predicted class: 5\n",
            "tensor([[ -9.9996, -16.8634,  -4.6284,  -6.6947, -10.2982,   7.1743,  -2.2379,\n",
            "          -7.6318,  -3.7624,  -3.4947]], device='cuda:0',\n",
            "       grad_fn=<AddmmBackward0>)\n",
            "Real class: tensor([5], device='cuda:0')\n",
            "torch.Size([1, 1, 28, 28])\n",
            "Predicted class: 9\n",
            "tensor([[ -6.8079, -11.5488,  -3.1161,  -3.3114,  -4.5554,  -4.6693, -12.1040,\n",
            "           1.4279,  -1.8271,   5.2983]], device='cuda:0',\n",
            "       grad_fn=<AddmmBackward0>)\n",
            "Real class: tensor([9], device='cuda:0')\n",
            "torch.Size([1, 1, 28, 28])\n",
            "Predicted class: 0\n",
            "tensor([[ 10.5427, -16.9824,   0.4198,  -7.5591, -20.9845,  -3.7980,  -1.2083,\n",
            "         -11.6765,  -2.0357,  -2.3410]], device='cuda:0',\n",
            "       grad_fn=<AddmmBackward0>)\n",
            "Real class: tensor([0], device='cuda:0')\n",
            "torch.Size([1, 1, 28, 28])\n",
            "Predicted class: 6\n",
            "tensor([[  0.3528,  -9.8190,  -4.3849,  -6.2085,  -9.6822,  -1.4205,  10.1494,\n",
            "         -11.3839,  -1.3503,  -7.9292]], device='cuda:0',\n",
            "       grad_fn=<AddmmBackward0>)\n",
            "Real class: tensor([6], device='cuda:0')\n",
            "torch.Size([1, 1, 28, 28])\n",
            "Predicted class: 9\n",
            "tensor([[ -9.2334, -11.6038,  -4.5120,  -1.7288,  -1.2153,  -2.7000, -11.7369,\n",
            "           0.8880,  -3.1905,   6.7953]], device='cuda:0',\n",
            "       grad_fn=<AddmmBackward0>)\n",
            "Real class: tensor([9], device='cuda:0')\n",
            "torch.Size([1, 1, 28, 28])\n",
            "Predicted class: 0\n",
            "tensor([[ 10.1521, -19.1453,  -3.4399,  -8.3438, -15.0508,  -4.4993,  -1.5826,\n",
            "          -6.5974,  -2.0495,   2.0095]], device='cuda:0',\n",
            "       grad_fn=<AddmmBackward0>)\n",
            "Real class: tensor([0], device='cuda:0')\n",
            "torch.Size([1, 1, 28, 28])\n",
            "Predicted class: 1\n",
            "tensor([[-6.7878,  7.0561, -2.0575, -0.6135, -1.5577, -4.1046, -5.3783, -3.2200,\n",
            "         -1.1754, -3.1717]], device='cuda:0', grad_fn=<AddmmBackward0>)\n",
            "Real class: tensor([1], device='cuda:0')\n",
            "torch.Size([1, 1, 28, 28])\n",
            "Predicted class: 5\n",
            "tensor([[-13.1232,  -9.0740,  -2.8511,  -0.4879, -16.6214,   8.4617,  -7.0328,\n",
            "          -8.3543,  -4.0618,  -7.2861]], device='cuda:0',\n",
            "       grad_fn=<AddmmBackward0>)\n",
            "Real class: tensor([5], device='cuda:0')\n",
            "torch.Size([1, 1, 28, 28])\n",
            "Predicted class: 9\n",
            "tensor([[ -8.0353, -15.3918,  -4.5720,  -3.9444,  -3.0834,  -4.4621, -11.1595,\n",
            "           1.5929,  -5.3224,   7.5650]], device='cuda:0',\n",
            "       grad_fn=<AddmmBackward0>)\n",
            "Real class: tensor([9], device='cuda:0')\n",
            "torch.Size([1, 1, 28, 28])\n",
            "Predicted class: 7\n",
            "tensor([[ -3.5945, -11.1430,   2.8686,   2.6451, -16.8760,  -5.7543, -17.8378,\n",
            "          14.4471,  -7.4878,  -2.6358]], device='cuda:0',\n",
            "       grad_fn=<AddmmBackward0>)\n",
            "Real class: tensor([7], device='cuda:0')\n",
            "torch.Size([1, 1, 28, 28])\n",
            "Predicted class: 3\n",
            "tensor([[-11.6117, -11.0561,   0.3576,   1.0831, -15.7846,  -1.1914,  -5.4011,\n",
            "         -13.4275,  -2.9604,  -5.5792]], device='cuda:0',\n",
            "       grad_fn=<AddmmBackward0>)\n",
            "Real class: tensor([3], device='cuda:0')\n",
            "torch.Size([1, 1, 28, 28])\n",
            "Predicted class: 4\n",
            "tensor([[-11.6022,  -4.3074,  -2.5868,  -3.2328,   6.7856,  -5.0369,  -5.8827,\n",
            "          -1.7414,  -3.7772,   0.3375]], device='cuda:0',\n",
            "       grad_fn=<AddmmBackward0>)\n",
            "Real class: tensor([4], device='cuda:0')\n",
            "torch.Size([1, 1, 28, 28])\n",
            "Predicted class: 9\n",
            "tensor([[ -6.6014,  -5.6449,  -5.1395,  -1.5530,  -0.3009,  -3.6542, -13.7933,\n",
            "           2.7235,  -4.7463,   5.9434]], device='cuda:0',\n",
            "       grad_fn=<AddmmBackward0>)\n",
            "Real class: tensor([9], device='cuda:0')\n"
          ]
        },
        {
          "output_type": "display_data",
          "data": {
            "text/plain": [
              "<Figure size 640x480 with 1 Axes>"
            ],
            "image/png": "[encoded data removed]"
          },
          "metadata": {}
        }
      ]
    },
    {
      "cell_type": "code",
      "source": [],
      "metadata": {
        "id": "7gBtjOTNIa1C"
      },
      "execution_count": 231,
      "outputs": []
    }
  ]
}